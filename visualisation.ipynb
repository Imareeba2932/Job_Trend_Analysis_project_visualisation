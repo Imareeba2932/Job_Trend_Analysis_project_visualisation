{
 "cells": [
  {
   "cell_type": "code",
   "execution_count": 3,
   "metadata": {},
   "outputs": [],
   "source": [
    "import numpy as np\n",
    "import pandas as pd \n",
    "import seaborn as sns\n",
    "import matplotlib.pyplot as plt\n",
    "import plotly.express as px\n",
    "import plotly.graph_objects as go\n"
   ]
  },
  {
   "cell_type": "code",
   "execution_count": 4,
   "metadata": {},
   "outputs": [
    {
     "data": {
      "text/html": [
       "<div>\n",
       "<style scoped>\n",
       "    .dataframe tbody tr th:only-of-type {\n",
       "        vertical-align: middle;\n",
       "    }\n",
       "\n",
       "    .dataframe tbody tr th {\n",
       "        vertical-align: top;\n",
       "    }\n",
       "\n",
       "    .dataframe thead th {\n",
       "        text-align: right;\n",
       "    }\n",
       "</style>\n",
       "<table border=\"1\" class=\"dataframe\">\n",
       "  <thead>\n",
       "    <tr style=\"text-align: right;\">\n",
       "      <th></th>\n",
       "      <th>company</th>\n",
       "      <th>education</th>\n",
       "      <th>experience</th>\n",
       "      <th>industry</th>\n",
       "      <th>jobdescription</th>\n",
       "      <th>jobid</th>\n",
       "      <th>joblocation_address</th>\n",
       "      <th>jobtitle</th>\n",
       "      <th>numberofpositions</th>\n",
       "      <th>payrate</th>\n",
       "      <th>postdate</th>\n",
       "      <th>site_name</th>\n",
       "      <th>skills</th>\n",
       "      <th>uniq_id</th>\n",
       "    </tr>\n",
       "  </thead>\n",
       "  <tbody>\n",
       "    <tr>\n",
       "      <th>0</th>\n",
       "      <td>MM Media Pvt Ltd</td>\n",
       "      <td>UG: B.Tech/B.E. - Any Specialization PG:Any Po...</td>\n",
       "      <td>0 - 1 yrs</td>\n",
       "      <td>Media / Entertainment / Internet</td>\n",
       "      <td>Job Description   Send me Jobs like this Quali...</td>\n",
       "      <td>210516002263</td>\n",
       "      <td>Chennai</td>\n",
       "      <td>Walkin Data Entry Operator (night Shift)</td>\n",
       "      <td>NaN</td>\n",
       "      <td>1,50,000 - 2,25,000 P.A</td>\n",
       "      <td>2016-05-21 19:30:00 +0000</td>\n",
       "      <td>NaN</td>\n",
       "      <td>ITES</td>\n",
       "      <td>43b19632647068535437c774b6ca6cf8</td>\n",
       "    </tr>\n",
       "    <tr>\n",
       "      <th>1</th>\n",
       "      <td>find live infotech</td>\n",
       "      <td>UG: B.Tech/B.E. - Any Specialization PG:MBA/PG...</td>\n",
       "      <td>0 - 0 yrs</td>\n",
       "      <td>Advertising / PR / MR / Event Management</td>\n",
       "      <td>Job Description   Send me Jobs like this Quali...</td>\n",
       "      <td>210516002391</td>\n",
       "      <td>Chennai</td>\n",
       "      <td>Work Based Onhome Based Part Time.</td>\n",
       "      <td>60.0</td>\n",
       "      <td>1,50,000 - 2,50,000 P.A. 20000</td>\n",
       "      <td>2016-05-21 19:30:00 +0000</td>\n",
       "      <td>NaN</td>\n",
       "      <td>Marketing</td>\n",
       "      <td>d4c72325e57f89f364812b5ed5a795f0</td>\n",
       "    </tr>\n",
       "    <tr>\n",
       "      <th>2</th>\n",
       "      <td>Softtech Career Infosystem Pvt. Ltd</td>\n",
       "      <td>UG: Any Graduate - Any Specialization PG:Any P...</td>\n",
       "      <td>4 - 8 yrs</td>\n",
       "      <td>IT-Software / Software Services</td>\n",
       "      <td>Job Description   Send me Jobs like this - as ...</td>\n",
       "      <td>101016900534</td>\n",
       "      <td>Bengaluru</td>\n",
       "      <td>Pl/sql Developer - SQL</td>\n",
       "      <td>NaN</td>\n",
       "      <td>Not Disclosed by Recruiter</td>\n",
       "      <td>2016-10-13 16:20:55 +0000</td>\n",
       "      <td>NaN</td>\n",
       "      <td>IT Software - Application Programming</td>\n",
       "      <td>c47df6f4cfdf5b46f1fd713ba61b9eba</td>\n",
       "    </tr>\n",
       "    <tr>\n",
       "      <th>3</th>\n",
       "      <td>Onboard HRServices LLP</td>\n",
       "      <td>UG: Any Graduate - Any Specialization PG:CA Do...</td>\n",
       "      <td>11 - 15 yrs</td>\n",
       "      <td>Banking / Financial Services / Broking</td>\n",
       "      <td>Job Description   Send me Jobs like this - Inv...</td>\n",
       "      <td>81016900536</td>\n",
       "      <td>Mumbai, Bengaluru, Kolkata, Chennai, Coimbator...</td>\n",
       "      <td>Manager/ad/partner - Indirect Tax - CA</td>\n",
       "      <td>NaN</td>\n",
       "      <td>Not Disclosed by Recruiter</td>\n",
       "      <td>2016-10-13 16:20:55 +0000</td>\n",
       "      <td>NaN</td>\n",
       "      <td>Accounts</td>\n",
       "      <td>115d28f140f694dd1cc61c53d03c66ae</td>\n",
       "    </tr>\n",
       "    <tr>\n",
       "      <th>4</th>\n",
       "      <td>Spire Technologies and Solutions Pvt. Ltd.</td>\n",
       "      <td>UG: B.Tech/B.E. - Any Specialization PG:Any Po...</td>\n",
       "      <td>6 - 8 yrs</td>\n",
       "      <td>IT-Software / Software Services</td>\n",
       "      <td>Job Description   Send me Jobs like this Pleas...</td>\n",
       "      <td>120916002122</td>\n",
       "      <td>Bengaluru</td>\n",
       "      <td>JAVA Technical Lead (6-8 yrs) -</td>\n",
       "      <td>4.0</td>\n",
       "      <td>Not Disclosed by Recruiter</td>\n",
       "      <td>2016-10-13 16:20:55 +0000</td>\n",
       "      <td>NaN</td>\n",
       "      <td>IT Software - Application Programming</td>\n",
       "      <td>a12553fc03bc7bcced8b1bb8963f97b4</td>\n",
       "    </tr>\n",
       "    <tr>\n",
       "      <th>...</th>\n",
       "      <td>...</td>\n",
       "      <td>...</td>\n",
       "      <td>...</td>\n",
       "      <td>...</td>\n",
       "      <td>...</td>\n",
       "      <td>...</td>\n",
       "      <td>...</td>\n",
       "      <td>...</td>\n",
       "      <td>...</td>\n",
       "      <td>...</td>\n",
       "      <td>...</td>\n",
       "      <td>...</td>\n",
       "      <td>...</td>\n",
       "      <td>...</td>\n",
       "    </tr>\n",
       "    <tr>\n",
       "      <th>495</th>\n",
       "      <td>Confidential</td>\n",
       "      <td>UG: Any Graduate - Any Specialization PG:Any P...</td>\n",
       "      <td>3 - 6 yrs</td>\n",
       "      <td>Recruitment / Staffing</td>\n",
       "      <td>Job Description   Send me Jobs like this Warm ...</td>\n",
       "      <td>51015003094</td>\n",
       "      <td>Bengaluru</td>\n",
       "      <td>Immediate Openings for Non IT Recruiter (engin...</td>\n",
       "      <td>NaN</td>\n",
       "      <td>Not Disclosed by Recruiter</td>\n",
       "      <td>2016-10-10 16:21:08 +0000</td>\n",
       "      <td>NaN</td>\n",
       "      <td>HR</td>\n",
       "      <td>a27332cc1aa133d86b1df6ef328d96ba</td>\n",
       "    </tr>\n",
       "    <tr>\n",
       "      <th>496</th>\n",
       "      <td>Career Trackers and Consulting hiring for A ve...</td>\n",
       "      <td>NaN</td>\n",
       "      <td>4 - 9 yrs</td>\n",
       "      <td>IT-Software / Software Services</td>\n",
       "      <td>Job Description   Send me Jobs like this We ha...</td>\n",
       "      <td>101016003895</td>\n",
       "      <td>Bengaluru</td>\n",
       "      <td>Oracle Fusion HCM Consultants / Oracle Fusion ...</td>\n",
       "      <td>8.0</td>\n",
       "      <td>Best In The Industry</td>\n",
       "      <td>2016-10-10 16:21:08 +0000</td>\n",
       "      <td>NaN</td>\n",
       "      <td>IT Software - Application Programming</td>\n",
       "      <td>52ed8535ac9beb4e19558e8a10bdf20a</td>\n",
       "    </tr>\n",
       "    <tr>\n",
       "      <th>497</th>\n",
       "      <td>Spectrum HR Services hiring for A Reputed Phar...</td>\n",
       "      <td>UG: B.Sc - Any Specialization, B.Pharma - Phar...</td>\n",
       "      <td>4 - 9 yrs</td>\n",
       "      <td>Pharma / Biotech / Clinical Research</td>\n",
       "      <td>Job Description   Send me Jobs like this B.Sc/...</td>\n",
       "      <td>101016004453</td>\n",
       "      <td>Ahmedabad, Bengaluru, Hyderabad</td>\n",
       "      <td>Product Manager / GPM - Cardio, CNS, Gastro, D...</td>\n",
       "      <td>6.0</td>\n",
       "      <td>Excellent Working Environment and Growth Oppor...</td>\n",
       "      <td>2016-10-10 16:21:08 +0000</td>\n",
       "      <td>NaN</td>\n",
       "      <td>Marketing</td>\n",
       "      <td>2e833caef4156de04736864dc939c486</td>\n",
       "    </tr>\n",
       "    <tr>\n",
       "      <th>498</th>\n",
       "      <td>Namdhari Seeds Private Ltd.</td>\n",
       "      <td>UG: B.Tech/B.E. - Computers, Diploma - Compute...</td>\n",
       "      <td>2 - 4 yrs</td>\n",
       "      <td>Agriculture / Dairy</td>\n",
       "      <td>Job Description   Send me Jobs like this -Mana...</td>\n",
       "      <td>120816000584</td>\n",
       "      <td>Bengaluru</td>\n",
       "      <td>Senior Hardware/network Engg</td>\n",
       "      <td>NaN</td>\n",
       "      <td>3,00,000 - 3,50,000 P.A</td>\n",
       "      <td>2016-10-10 16:21:08 +0000</td>\n",
       "      <td>NaN</td>\n",
       "      <td>NaN</td>\n",
       "      <td>0fa10304ef59566c6e79f8e493489755</td>\n",
       "    </tr>\n",
       "    <tr>\n",
       "      <th>499</th>\n",
       "      <td>IZEE MANPOWER CONSULTANCY PRIVATE LIMITED</td>\n",
       "      <td>UG: Other Graduate, B.Tech/B.E. - Any Speciali...</td>\n",
       "      <td>1 - 6 yrs</td>\n",
       "      <td>BPO / Call Centre / ITES</td>\n",
       "      <td>Job Description   Send me Jobs like this Warm ...</td>\n",
       "      <td>101016000469</td>\n",
       "      <td>Bengaluru</td>\n",
       "      <td>Trouble Shooting/tsr/call Center sal up to 5.5...</td>\n",
       "      <td>NaN</td>\n",
       "      <td>2,00,000 - 5,50,000 P.A. + Incentives</td>\n",
       "      <td>2016-10-10 16:21:08 +0000</td>\n",
       "      <td>NaN</td>\n",
       "      <td>ITES</td>\n",
       "      <td>7189d594304721eb8a070405735adc86</td>\n",
       "    </tr>\n",
       "  </tbody>\n",
       "</table>\n",
       "<p>500 rows × 14 columns</p>\n",
       "</div>"
      ],
      "text/plain": [
       "                                               company  \\\n",
       "0                                     MM Media Pvt Ltd   \n",
       "1                                   find live infotech   \n",
       "2                  Softtech Career Infosystem Pvt. Ltd   \n",
       "3                               Onboard HRServices LLP   \n",
       "4           Spire Technologies and Solutions Pvt. Ltd.   \n",
       "..                                                 ...   \n",
       "495                                       Confidential   \n",
       "496  Career Trackers and Consulting hiring for A ve...   \n",
       "497  Spectrum HR Services hiring for A Reputed Phar...   \n",
       "498                        Namdhari Seeds Private Ltd.   \n",
       "499          IZEE MANPOWER CONSULTANCY PRIVATE LIMITED   \n",
       "\n",
       "                                             education   experience  \\\n",
       "0    UG: B.Tech/B.E. - Any Specialization PG:Any Po...    0 - 1 yrs   \n",
       "1    UG: B.Tech/B.E. - Any Specialization PG:MBA/PG...    0 - 0 yrs   \n",
       "2    UG: Any Graduate - Any Specialization PG:Any P...    4 - 8 yrs   \n",
       "3    UG: Any Graduate - Any Specialization PG:CA Do...  11 - 15 yrs   \n",
       "4    UG: B.Tech/B.E. - Any Specialization PG:Any Po...    6 - 8 yrs   \n",
       "..                                                 ...          ...   \n",
       "495  UG: Any Graduate - Any Specialization PG:Any P...    3 - 6 yrs   \n",
       "496                                                NaN    4 - 9 yrs   \n",
       "497  UG: B.Sc - Any Specialization, B.Pharma - Phar...    4 - 9 yrs   \n",
       "498  UG: B.Tech/B.E. - Computers, Diploma - Compute...    2 - 4 yrs   \n",
       "499  UG: Other Graduate, B.Tech/B.E. - Any Speciali...    1 - 6 yrs   \n",
       "\n",
       "                                     industry  \\\n",
       "0            Media / Entertainment / Internet   \n",
       "1    Advertising / PR / MR / Event Management   \n",
       "2             IT-Software / Software Services   \n",
       "3      Banking / Financial Services / Broking   \n",
       "4             IT-Software / Software Services   \n",
       "..                                        ...   \n",
       "495                    Recruitment / Staffing   \n",
       "496           IT-Software / Software Services   \n",
       "497      Pharma / Biotech / Clinical Research   \n",
       "498                       Agriculture / Dairy   \n",
       "499                  BPO / Call Centre / ITES   \n",
       "\n",
       "                                        jobdescription         jobid  \\\n",
       "0    Job Description   Send me Jobs like this Quali...  210516002263   \n",
       "1    Job Description   Send me Jobs like this Quali...  210516002391   \n",
       "2    Job Description   Send me Jobs like this - as ...  101016900534   \n",
       "3    Job Description   Send me Jobs like this - Inv...   81016900536   \n",
       "4    Job Description   Send me Jobs like this Pleas...  120916002122   \n",
       "..                                                 ...           ...   \n",
       "495  Job Description   Send me Jobs like this Warm ...   51015003094   \n",
       "496  Job Description   Send me Jobs like this We ha...  101016003895   \n",
       "497  Job Description   Send me Jobs like this B.Sc/...  101016004453   \n",
       "498  Job Description   Send me Jobs like this -Mana...  120816000584   \n",
       "499  Job Description   Send me Jobs like this Warm ...  101016000469   \n",
       "\n",
       "                                   joblocation_address  \\\n",
       "0                                              Chennai   \n",
       "1                                              Chennai   \n",
       "2                                            Bengaluru   \n",
       "3    Mumbai, Bengaluru, Kolkata, Chennai, Coimbator...   \n",
       "4                                            Bengaluru   \n",
       "..                                                 ...   \n",
       "495                                          Bengaluru   \n",
       "496                                          Bengaluru   \n",
       "497                    Ahmedabad, Bengaluru, Hyderabad   \n",
       "498                                          Bengaluru   \n",
       "499                                          Bengaluru   \n",
       "\n",
       "                                              jobtitle  numberofpositions  \\\n",
       "0             Walkin Data Entry Operator (night Shift)                NaN   \n",
       "1                   Work Based Onhome Based Part Time.               60.0   \n",
       "2                               Pl/sql Developer - SQL                NaN   \n",
       "3               Manager/ad/partner - Indirect Tax - CA                NaN   \n",
       "4                      JAVA Technical Lead (6-8 yrs) -                4.0   \n",
       "..                                                 ...                ...   \n",
       "495  Immediate Openings for Non IT Recruiter (engin...                NaN   \n",
       "496  Oracle Fusion HCM Consultants / Oracle Fusion ...                8.0   \n",
       "497  Product Manager / GPM - Cardio, CNS, Gastro, D...                6.0   \n",
       "498                       Senior Hardware/network Engg                NaN   \n",
       "499  Trouble Shooting/tsr/call Center sal up to 5.5...                NaN   \n",
       "\n",
       "                                               payrate  \\\n",
       "0                              1,50,000 - 2,25,000 P.A   \n",
       "1                       1,50,000 - 2,50,000 P.A. 20000   \n",
       "2                           Not Disclosed by Recruiter   \n",
       "3                           Not Disclosed by Recruiter   \n",
       "4                           Not Disclosed by Recruiter   \n",
       "..                                                 ...   \n",
       "495                         Not Disclosed by Recruiter   \n",
       "496                               Best In The Industry   \n",
       "497  Excellent Working Environment and Growth Oppor...   \n",
       "498                            3,00,000 - 3,50,000 P.A   \n",
       "499              2,00,000 - 5,50,000 P.A. + Incentives   \n",
       "\n",
       "                      postdate  site_name  \\\n",
       "0    2016-05-21 19:30:00 +0000        NaN   \n",
       "1    2016-05-21 19:30:00 +0000        NaN   \n",
       "2    2016-10-13 16:20:55 +0000        NaN   \n",
       "3    2016-10-13 16:20:55 +0000        NaN   \n",
       "4    2016-10-13 16:20:55 +0000        NaN   \n",
       "..                         ...        ...   \n",
       "495  2016-10-10 16:21:08 +0000        NaN   \n",
       "496  2016-10-10 16:21:08 +0000        NaN   \n",
       "497  2016-10-10 16:21:08 +0000        NaN   \n",
       "498  2016-10-10 16:21:08 +0000        NaN   \n",
       "499  2016-10-10 16:21:08 +0000        NaN   \n",
       "\n",
       "                                    skills                           uniq_id  \n",
       "0                                     ITES  43b19632647068535437c774b6ca6cf8  \n",
       "1                                Marketing  d4c72325e57f89f364812b5ed5a795f0  \n",
       "2    IT Software - Application Programming  c47df6f4cfdf5b46f1fd713ba61b9eba  \n",
       "3                                 Accounts  115d28f140f694dd1cc61c53d03c66ae  \n",
       "4    IT Software - Application Programming  a12553fc03bc7bcced8b1bb8963f97b4  \n",
       "..                                     ...                               ...  \n",
       "495                                     HR  a27332cc1aa133d86b1df6ef328d96ba  \n",
       "496  IT Software - Application Programming  52ed8535ac9beb4e19558e8a10bdf20a  \n",
       "497                              Marketing  2e833caef4156de04736864dc939c486  \n",
       "498                                    NaN  0fa10304ef59566c6e79f8e493489755  \n",
       "499                                   ITES  7189d594304721eb8a070405735adc86  \n",
       "\n",
       "[500 rows x 14 columns]"
      ]
     },
     "execution_count": 4,
     "metadata": {},
     "output_type": "execute_result"
    }
   ],
   "source": [
    "df=pd.read_csv('naukri_com-job_sample.csv', nrows=500)\n",
    "df"
   ]
  },
  {
   "cell_type": "code",
   "execution_count": 5,
   "metadata": {},
   "outputs": [
    {
     "data": {
      "text/html": [
       "<div>\n",
       "<style scoped>\n",
       "    .dataframe tbody tr th:only-of-type {\n",
       "        vertical-align: middle;\n",
       "    }\n",
       "\n",
       "    .dataframe tbody tr th {\n",
       "        vertical-align: top;\n",
       "    }\n",
       "\n",
       "    .dataframe thead th {\n",
       "        text-align: right;\n",
       "    }\n",
       "</style>\n",
       "<table border=\"1\" class=\"dataframe\">\n",
       "  <thead>\n",
       "    <tr style=\"text-align: right;\">\n",
       "      <th></th>\n",
       "      <th>company</th>\n",
       "      <th>education</th>\n",
       "      <th>experience</th>\n",
       "      <th>industry</th>\n",
       "      <th>jobdescription</th>\n",
       "      <th>jobid</th>\n",
       "      <th>joblocation_address</th>\n",
       "      <th>jobtitle</th>\n",
       "      <th>numberofpositions</th>\n",
       "      <th>payrate</th>\n",
       "      <th>postdate</th>\n",
       "      <th>site_name</th>\n",
       "      <th>skills</th>\n",
       "      <th>uniq_id</th>\n",
       "    </tr>\n",
       "  </thead>\n",
       "  <tbody>\n",
       "    <tr>\n",
       "      <th>0</th>\n",
       "      <td>MM Media Pvt Ltd</td>\n",
       "      <td>UG: B.Tech/B.E. - Any Specialization PG:Any Po...</td>\n",
       "      <td>0 - 1 yrs</td>\n",
       "      <td>Media / Entertainment / Internet</td>\n",
       "      <td>Job Description   Send me Jobs like this Quali...</td>\n",
       "      <td>210516002263</td>\n",
       "      <td>Chennai</td>\n",
       "      <td>Walkin Data Entry Operator (night Shift)</td>\n",
       "      <td>NaN</td>\n",
       "      <td>1,50,000 - 2,25,000 P.A</td>\n",
       "      <td>2016-05-21 19:30:00 +0000</td>\n",
       "      <td>NaN</td>\n",
       "      <td>ITES</td>\n",
       "      <td>43b19632647068535437c774b6ca6cf8</td>\n",
       "    </tr>\n",
       "    <tr>\n",
       "      <th>1</th>\n",
       "      <td>find live infotech</td>\n",
       "      <td>UG: B.Tech/B.E. - Any Specialization PG:MBA/PG...</td>\n",
       "      <td>0 - 0 yrs</td>\n",
       "      <td>Advertising / PR / MR / Event Management</td>\n",
       "      <td>Job Description   Send me Jobs like this Quali...</td>\n",
       "      <td>210516002391</td>\n",
       "      <td>Chennai</td>\n",
       "      <td>Work Based Onhome Based Part Time.</td>\n",
       "      <td>60.0</td>\n",
       "      <td>1,50,000 - 2,50,000 P.A. 20000</td>\n",
       "      <td>2016-05-21 19:30:00 +0000</td>\n",
       "      <td>NaN</td>\n",
       "      <td>Marketing</td>\n",
       "      <td>d4c72325e57f89f364812b5ed5a795f0</td>\n",
       "    </tr>\n",
       "    <tr>\n",
       "      <th>2</th>\n",
       "      <td>Softtech Career Infosystem Pvt. Ltd</td>\n",
       "      <td>UG: Any Graduate - Any Specialization PG:Any P...</td>\n",
       "      <td>4 - 8 yrs</td>\n",
       "      <td>IT-Software / Software Services</td>\n",
       "      <td>Job Description   Send me Jobs like this - as ...</td>\n",
       "      <td>101016900534</td>\n",
       "      <td>Bengaluru</td>\n",
       "      <td>Pl/sql Developer - SQL</td>\n",
       "      <td>NaN</td>\n",
       "      <td>Not Disclosed by Recruiter</td>\n",
       "      <td>2016-10-13 16:20:55 +0000</td>\n",
       "      <td>NaN</td>\n",
       "      <td>IT Software - Application Programming</td>\n",
       "      <td>c47df6f4cfdf5b46f1fd713ba61b9eba</td>\n",
       "    </tr>\n",
       "    <tr>\n",
       "      <th>3</th>\n",
       "      <td>Onboard HRServices LLP</td>\n",
       "      <td>UG: Any Graduate - Any Specialization PG:CA Do...</td>\n",
       "      <td>11 - 15 yrs</td>\n",
       "      <td>Banking / Financial Services / Broking</td>\n",
       "      <td>Job Description   Send me Jobs like this - Inv...</td>\n",
       "      <td>81016900536</td>\n",
       "      <td>Mumbai, Bengaluru, Kolkata, Chennai, Coimbator...</td>\n",
       "      <td>Manager/ad/partner - Indirect Tax - CA</td>\n",
       "      <td>NaN</td>\n",
       "      <td>Not Disclosed by Recruiter</td>\n",
       "      <td>2016-10-13 16:20:55 +0000</td>\n",
       "      <td>NaN</td>\n",
       "      <td>Accounts</td>\n",
       "      <td>115d28f140f694dd1cc61c53d03c66ae</td>\n",
       "    </tr>\n",
       "    <tr>\n",
       "      <th>4</th>\n",
       "      <td>Spire Technologies and Solutions Pvt. Ltd.</td>\n",
       "      <td>UG: B.Tech/B.E. - Any Specialization PG:Any Po...</td>\n",
       "      <td>6 - 8 yrs</td>\n",
       "      <td>IT-Software / Software Services</td>\n",
       "      <td>Job Description   Send me Jobs like this Pleas...</td>\n",
       "      <td>120916002122</td>\n",
       "      <td>Bengaluru</td>\n",
       "      <td>JAVA Technical Lead (6-8 yrs) -</td>\n",
       "      <td>4.0</td>\n",
       "      <td>Not Disclosed by Recruiter</td>\n",
       "      <td>2016-10-13 16:20:55 +0000</td>\n",
       "      <td>NaN</td>\n",
       "      <td>IT Software - Application Programming</td>\n",
       "      <td>a12553fc03bc7bcced8b1bb8963f97b4</td>\n",
       "    </tr>\n",
       "  </tbody>\n",
       "</table>\n",
       "</div>"
      ],
      "text/plain": [
       "                                      company  \\\n",
       "0                            MM Media Pvt Ltd   \n",
       "1                          find live infotech   \n",
       "2         Softtech Career Infosystem Pvt. Ltd   \n",
       "3                      Onboard HRServices LLP   \n",
       "4  Spire Technologies and Solutions Pvt. Ltd.   \n",
       "\n",
       "                                           education   experience  \\\n",
       "0  UG: B.Tech/B.E. - Any Specialization PG:Any Po...    0 - 1 yrs   \n",
       "1  UG: B.Tech/B.E. - Any Specialization PG:MBA/PG...    0 - 0 yrs   \n",
       "2  UG: Any Graduate - Any Specialization PG:Any P...    4 - 8 yrs   \n",
       "3  UG: Any Graduate - Any Specialization PG:CA Do...  11 - 15 yrs   \n",
       "4  UG: B.Tech/B.E. - Any Specialization PG:Any Po...    6 - 8 yrs   \n",
       "\n",
       "                                   industry  \\\n",
       "0          Media / Entertainment / Internet   \n",
       "1  Advertising / PR / MR / Event Management   \n",
       "2           IT-Software / Software Services   \n",
       "3    Banking / Financial Services / Broking   \n",
       "4           IT-Software / Software Services   \n",
       "\n",
       "                                      jobdescription         jobid  \\\n",
       "0  Job Description   Send me Jobs like this Quali...  210516002263   \n",
       "1  Job Description   Send me Jobs like this Quali...  210516002391   \n",
       "2  Job Description   Send me Jobs like this - as ...  101016900534   \n",
       "3  Job Description   Send me Jobs like this - Inv...   81016900536   \n",
       "4  Job Description   Send me Jobs like this Pleas...  120916002122   \n",
       "\n",
       "                                 joblocation_address  \\\n",
       "0                                            Chennai   \n",
       "1                                            Chennai   \n",
       "2                                          Bengaluru   \n",
       "3  Mumbai, Bengaluru, Kolkata, Chennai, Coimbator...   \n",
       "4                                          Bengaluru   \n",
       "\n",
       "                                   jobtitle  numberofpositions  \\\n",
       "0  Walkin Data Entry Operator (night Shift)                NaN   \n",
       "1        Work Based Onhome Based Part Time.               60.0   \n",
       "2                    Pl/sql Developer - SQL                NaN   \n",
       "3    Manager/ad/partner - Indirect Tax - CA                NaN   \n",
       "4           JAVA Technical Lead (6-8 yrs) -                4.0   \n",
       "\n",
       "                          payrate                   postdate  site_name  \\\n",
       "0         1,50,000 - 2,25,000 P.A  2016-05-21 19:30:00 +0000        NaN   \n",
       "1  1,50,000 - 2,50,000 P.A. 20000  2016-05-21 19:30:00 +0000        NaN   \n",
       "2      Not Disclosed by Recruiter  2016-10-13 16:20:55 +0000        NaN   \n",
       "3      Not Disclosed by Recruiter  2016-10-13 16:20:55 +0000        NaN   \n",
       "4      Not Disclosed by Recruiter  2016-10-13 16:20:55 +0000        NaN   \n",
       "\n",
       "                                  skills                           uniq_id  \n",
       "0                                   ITES  43b19632647068535437c774b6ca6cf8  \n",
       "1                              Marketing  d4c72325e57f89f364812b5ed5a795f0  \n",
       "2  IT Software - Application Programming  c47df6f4cfdf5b46f1fd713ba61b9eba  \n",
       "3                               Accounts  115d28f140f694dd1cc61c53d03c66ae  \n",
       "4  IT Software - Application Programming  a12553fc03bc7bcced8b1bb8963f97b4  "
      ]
     },
     "execution_count": 5,
     "metadata": {},
     "output_type": "execute_result"
    }
   ],
   "source": [
    "df.head()    "
   ]
  },
  {
   "attachments": {},
   "cell_type": "markdown",
   "metadata": {},
   "source": [
    "Company Based Analysis"
   ]
  },
  {
   "cell_type": "code",
   "execution_count": 6,
   "metadata": {},
   "outputs": [
    {
     "data": {
      "text/plain": [
       "Confidential                                   79\n",
       "InstaCar Technologies Pvt. Ltd.                10\n",
       "Manzil Placement                                7\n",
       "Softtech Career Infosystem Pvt. Ltd             7\n",
       "Take Wings hiring for http://takewing.co.in     7\n",
       "Bob Technologies                                7\n",
       "Bharat Recruitment hiring for US Based MNC      6\n",
       "Local Job Search                                6\n",
       "Altisource Business Solutions Pvt Ltd           5\n",
       "Kinesis Management Consultant Pvt. Ltd          5\n",
       "Name: company, dtype: int64"
      ]
     },
     "execution_count": 6,
     "metadata": {},
     "output_type": "execute_result"
    }
   ],
   "source": [
    "df['company'].value_counts().head(10)"
   ]
  },
  {
   "cell_type": "code",
   "execution_count": 7,
   "metadata": {},
   "outputs": [
    {
     "data": {
      "application/vnd.plotly.v1+json": {
       "config": {
        "plotlyServerURL": "https://plot.ly"
       },
       "data": [
        {
         "fillpattern": {
          "shape": ""
         },
         "hovertemplate": "variable=company<br>Company=%{x}<br>Number of jobs=%{y}<extra></extra>",
         "legendgroup": "company",
         "line": {
          "color": "rgb(103,0,31)"
         },
         "marker": {
          "symbol": "circle"
         },
         "mode": "lines",
         "name": "company",
         "orientation": "v",
         "showlegend": true,
         "stackgroup": "1",
         "type": "scatter",
         "x": [
          "Confidential",
          "InstaCar Technologies Pvt. Ltd.",
          "Manzil Placement",
          "Softtech Career Infosystem Pvt. Ltd",
          "Take Wings hiring for http://takewing.co.in",
          "Bob Technologies",
          "Bharat Recruitment hiring for US Based MNC",
          "Local Job Search",
          "Altisource Business Solutions Pvt Ltd",
          "Kinesis Management Consultant Pvt. Ltd"
         ],
         "xaxis": "x",
         "y": [
          79,
          10,
          7,
          7,
          7,
          7,
          6,
          6,
          5,
          5
         ],
         "yaxis": "y"
        }
       ],
       "layout": {
        "height": 500,
        "legend": {
         "title": {
          "text": "variable"
         },
         "tracegroupgap": 0
        },
        "template": {
         "data": {
          "bar": [
           {
            "error_x": {
             "color": "#2a3f5f"
            },
            "error_y": {
             "color": "#2a3f5f"
            },
            "marker": {
             "line": {
              "color": "#E5ECF6",
              "width": 0.5
             },
             "pattern": {
              "fillmode": "overlay",
              "size": 10,
              "solidity": 0.2
             }
            },
            "type": "bar"
           }
          ],
          "barpolar": [
           {
            "marker": {
             "line": {
              "color": "#E5ECF6",
              "width": 0.5
             },
             "pattern": {
              "fillmode": "overlay",
              "size": 10,
              "solidity": 0.2
             }
            },
            "type": "barpolar"
           }
          ],
          "carpet": [
           {
            "aaxis": {
             "endlinecolor": "#2a3f5f",
             "gridcolor": "white",
             "linecolor": "white",
             "minorgridcolor": "white",
             "startlinecolor": "#2a3f5f"
            },
            "baxis": {
             "endlinecolor": "#2a3f5f",
             "gridcolor": "white",
             "linecolor": "white",
             "minorgridcolor": "white",
             "startlinecolor": "#2a3f5f"
            },
            "type": "carpet"
           }
          ],
          "choropleth": [
           {
            "colorbar": {
             "outlinewidth": 0,
             "ticks": ""
            },
            "type": "choropleth"
           }
          ],
          "contour": [
           {
            "colorbar": {
             "outlinewidth": 0,
             "ticks": ""
            },
            "colorscale": [
             [
              0,
              "#0d0887"
             ],
             [
              0.1111111111111111,
              "#46039f"
             ],
             [
              0.2222222222222222,
              "#7201a8"
             ],
             [
              0.3333333333333333,
              "#9c179e"
             ],
             [
              0.4444444444444444,
              "#bd3786"
             ],
             [
              0.5555555555555556,
              "#d8576b"
             ],
             [
              0.6666666666666666,
              "#ed7953"
             ],
             [
              0.7777777777777778,
              "#fb9f3a"
             ],
             [
              0.8888888888888888,
              "#fdca26"
             ],
             [
              1,
              "#f0f921"
             ]
            ],
            "type": "contour"
           }
          ],
          "contourcarpet": [
           {
            "colorbar": {
             "outlinewidth": 0,
             "ticks": ""
            },
            "type": "contourcarpet"
           }
          ],
          "heatmap": [
           {
            "colorbar": {
             "outlinewidth": 0,
             "ticks": ""
            },
            "colorscale": [
             [
              0,
              "#0d0887"
             ],
             [
              0.1111111111111111,
              "#46039f"
             ],
             [
              0.2222222222222222,
              "#7201a8"
             ],
             [
              0.3333333333333333,
              "#9c179e"
             ],
             [
              0.4444444444444444,
              "#bd3786"
             ],
             [
              0.5555555555555556,
              "#d8576b"
             ],
             [
              0.6666666666666666,
              "#ed7953"
             ],
             [
              0.7777777777777778,
              "#fb9f3a"
             ],
             [
              0.8888888888888888,
              "#fdca26"
             ],
             [
              1,
              "#f0f921"
             ]
            ],
            "type": "heatmap"
           }
          ],
          "heatmapgl": [
           {
            "colorbar": {
             "outlinewidth": 0,
             "ticks": ""
            },
            "colorscale": [
             [
              0,
              "#0d0887"
             ],
             [
              0.1111111111111111,
              "#46039f"
             ],
             [
              0.2222222222222222,
              "#7201a8"
             ],
             [
              0.3333333333333333,
              "#9c179e"
             ],
             [
              0.4444444444444444,
              "#bd3786"
             ],
             [
              0.5555555555555556,
              "#d8576b"
             ],
             [
              0.6666666666666666,
              "#ed7953"
             ],
             [
              0.7777777777777778,
              "#fb9f3a"
             ],
             [
              0.8888888888888888,
              "#fdca26"
             ],
             [
              1,
              "#f0f921"
             ]
            ],
            "type": "heatmapgl"
           }
          ],
          "histogram": [
           {
            "marker": {
             "pattern": {
              "fillmode": "overlay",
              "size": 10,
              "solidity": 0.2
             }
            },
            "type": "histogram"
           }
          ],
          "histogram2d": [
           {
            "colorbar": {
             "outlinewidth": 0,
             "ticks": ""
            },
            "colorscale": [
             [
              0,
              "#0d0887"
             ],
             [
              0.1111111111111111,
              "#46039f"
             ],
             [
              0.2222222222222222,
              "#7201a8"
             ],
             [
              0.3333333333333333,
              "#9c179e"
             ],
             [
              0.4444444444444444,
              "#bd3786"
             ],
             [
              0.5555555555555556,
              "#d8576b"
             ],
             [
              0.6666666666666666,
              "#ed7953"
             ],
             [
              0.7777777777777778,
              "#fb9f3a"
             ],
             [
              0.8888888888888888,
              "#fdca26"
             ],
             [
              1,
              "#f0f921"
             ]
            ],
            "type": "histogram2d"
           }
          ],
          "histogram2dcontour": [
           {
            "colorbar": {
             "outlinewidth": 0,
             "ticks": ""
            },
            "colorscale": [
             [
              0,
              "#0d0887"
             ],
             [
              0.1111111111111111,
              "#46039f"
             ],
             [
              0.2222222222222222,
              "#7201a8"
             ],
             [
              0.3333333333333333,
              "#9c179e"
             ],
             [
              0.4444444444444444,
              "#bd3786"
             ],
             [
              0.5555555555555556,
              "#d8576b"
             ],
             [
              0.6666666666666666,
              "#ed7953"
             ],
             [
              0.7777777777777778,
              "#fb9f3a"
             ],
             [
              0.8888888888888888,
              "#fdca26"
             ],
             [
              1,
              "#f0f921"
             ]
            ],
            "type": "histogram2dcontour"
           }
          ],
          "mesh3d": [
           {
            "colorbar": {
             "outlinewidth": 0,
             "ticks": ""
            },
            "type": "mesh3d"
           }
          ],
          "parcoords": [
           {
            "line": {
             "colorbar": {
              "outlinewidth": 0,
              "ticks": ""
             }
            },
            "type": "parcoords"
           }
          ],
          "pie": [
           {
            "automargin": true,
            "type": "pie"
           }
          ],
          "scatter": [
           {
            "fillpattern": {
             "fillmode": "overlay",
             "size": 10,
             "solidity": 0.2
            },
            "type": "scatter"
           }
          ],
          "scatter3d": [
           {
            "line": {
             "colorbar": {
              "outlinewidth": 0,
              "ticks": ""
             }
            },
            "marker": {
             "colorbar": {
              "outlinewidth": 0,
              "ticks": ""
             }
            },
            "type": "scatter3d"
           }
          ],
          "scattercarpet": [
           {
            "marker": {
             "colorbar": {
              "outlinewidth": 0,
              "ticks": ""
             }
            },
            "type": "scattercarpet"
           }
          ],
          "scattergeo": [
           {
            "marker": {
             "colorbar": {
              "outlinewidth": 0,
              "ticks": ""
             }
            },
            "type": "scattergeo"
           }
          ],
          "scattergl": [
           {
            "marker": {
             "colorbar": {
              "outlinewidth": 0,
              "ticks": ""
             }
            },
            "type": "scattergl"
           }
          ],
          "scattermapbox": [
           {
            "marker": {
             "colorbar": {
              "outlinewidth": 0,
              "ticks": ""
             }
            },
            "type": "scattermapbox"
           }
          ],
          "scatterpolar": [
           {
            "marker": {
             "colorbar": {
              "outlinewidth": 0,
              "ticks": ""
             }
            },
            "type": "scatterpolar"
           }
          ],
          "scatterpolargl": [
           {
            "marker": {
             "colorbar": {
              "outlinewidth": 0,
              "ticks": ""
             }
            },
            "type": "scatterpolargl"
           }
          ],
          "scatterternary": [
           {
            "marker": {
             "colorbar": {
              "outlinewidth": 0,
              "ticks": ""
             }
            },
            "type": "scatterternary"
           }
          ],
          "surface": [
           {
            "colorbar": {
             "outlinewidth": 0,
             "ticks": ""
            },
            "colorscale": [
             [
              0,
              "#0d0887"
             ],
             [
              0.1111111111111111,
              "#46039f"
             ],
             [
              0.2222222222222222,
              "#7201a8"
             ],
             [
              0.3333333333333333,
              "#9c179e"
             ],
             [
              0.4444444444444444,
              "#bd3786"
             ],
             [
              0.5555555555555556,
              "#d8576b"
             ],
             [
              0.6666666666666666,
              "#ed7953"
             ],
             [
              0.7777777777777778,
              "#fb9f3a"
             ],
             [
              0.8888888888888888,
              "#fdca26"
             ],
             [
              1,
              "#f0f921"
             ]
            ],
            "type": "surface"
           }
          ],
          "table": [
           {
            "cells": {
             "fill": {
              "color": "#EBF0F8"
             },
             "line": {
              "color": "white"
             }
            },
            "header": {
             "fill": {
              "color": "#C8D4E3"
             },
             "line": {
              "color": "white"
             }
            },
            "type": "table"
           }
          ]
         },
         "layout": {
          "annotationdefaults": {
           "arrowcolor": "#2a3f5f",
           "arrowhead": 0,
           "arrowwidth": 1
          },
          "autotypenumbers": "strict",
          "coloraxis": {
           "colorbar": {
            "outlinewidth": 0,
            "ticks": ""
           }
          },
          "colorscale": {
           "diverging": [
            [
             0,
             "#8e0152"
            ],
            [
             0.1,
             "#c51b7d"
            ],
            [
             0.2,
             "#de77ae"
            ],
            [
             0.3,
             "#f1b6da"
            ],
            [
             0.4,
             "#fde0ef"
            ],
            [
             0.5,
             "#f7f7f7"
            ],
            [
             0.6,
             "#e6f5d0"
            ],
            [
             0.7,
             "#b8e186"
            ],
            [
             0.8,
             "#7fbc41"
            ],
            [
             0.9,
             "#4d9221"
            ],
            [
             1,
             "#276419"
            ]
           ],
           "sequential": [
            [
             0,
             "#0d0887"
            ],
            [
             0.1111111111111111,
             "#46039f"
            ],
            [
             0.2222222222222222,
             "#7201a8"
            ],
            [
             0.3333333333333333,
             "#9c179e"
            ],
            [
             0.4444444444444444,
             "#bd3786"
            ],
            [
             0.5555555555555556,
             "#d8576b"
            ],
            [
             0.6666666666666666,
             "#ed7953"
            ],
            [
             0.7777777777777778,
             "#fb9f3a"
            ],
            [
             0.8888888888888888,
             "#fdca26"
            ],
            [
             1,
             "#f0f921"
            ]
           ],
           "sequentialminus": [
            [
             0,
             "#0d0887"
            ],
            [
             0.1111111111111111,
             "#46039f"
            ],
            [
             0.2222222222222222,
             "#7201a8"
            ],
            [
             0.3333333333333333,
             "#9c179e"
            ],
            [
             0.4444444444444444,
             "#bd3786"
            ],
            [
             0.5555555555555556,
             "#d8576b"
            ],
            [
             0.6666666666666666,
             "#ed7953"
            ],
            [
             0.7777777777777778,
             "#fb9f3a"
            ],
            [
             0.8888888888888888,
             "#fdca26"
            ],
            [
             1,
             "#f0f921"
            ]
           ]
          },
          "colorway": [
           "#636efa",
           "#EF553B",
           "#00cc96",
           "#ab63fa",
           "#FFA15A",
           "#19d3f3",
           "#FF6692",
           "#B6E880",
           "#FF97FF",
           "#FECB52"
          ],
          "font": {
           "color": "#2a3f5f"
          },
          "geo": {
           "bgcolor": "white",
           "lakecolor": "white",
           "landcolor": "#E5ECF6",
           "showlakes": true,
           "showland": true,
           "subunitcolor": "white"
          },
          "hoverlabel": {
           "align": "left"
          },
          "hovermode": "closest",
          "mapbox": {
           "style": "light"
          },
          "paper_bgcolor": "white",
          "plot_bgcolor": "#E5ECF6",
          "polar": {
           "angularaxis": {
            "gridcolor": "white",
            "linecolor": "white",
            "ticks": ""
           },
           "bgcolor": "#E5ECF6",
           "radialaxis": {
            "gridcolor": "white",
            "linecolor": "white",
            "ticks": ""
           }
          },
          "scene": {
           "xaxis": {
            "backgroundcolor": "#E5ECF6",
            "gridcolor": "white",
            "gridwidth": 2,
            "linecolor": "white",
            "showbackground": true,
            "ticks": "",
            "zerolinecolor": "white"
           },
           "yaxis": {
            "backgroundcolor": "#E5ECF6",
            "gridcolor": "white",
            "gridwidth": 2,
            "linecolor": "white",
            "showbackground": true,
            "ticks": "",
            "zerolinecolor": "white"
           },
           "zaxis": {
            "backgroundcolor": "#E5ECF6",
            "gridcolor": "white",
            "gridwidth": 2,
            "linecolor": "white",
            "showbackground": true,
            "ticks": "",
            "zerolinecolor": "white"
           }
          },
          "shapedefaults": {
           "line": {
            "color": "#2a3f5f"
           }
          },
          "ternary": {
           "aaxis": {
            "gridcolor": "white",
            "linecolor": "white",
            "ticks": ""
           },
           "baxis": {
            "gridcolor": "white",
            "linecolor": "white",
            "ticks": ""
           },
           "bgcolor": "#E5ECF6",
           "caxis": {
            "gridcolor": "white",
            "linecolor": "white",
            "ticks": ""
           }
          },
          "title": {
           "x": 0.05
          },
          "xaxis": {
           "automargin": true,
           "gridcolor": "white",
           "linecolor": "white",
           "ticks": "",
           "title": {
            "standoff": 15
           },
           "zerolinecolor": "white",
           "zerolinewidth": 2
          },
          "yaxis": {
           "automargin": true,
           "gridcolor": "white",
           "linecolor": "white",
           "ticks": "",
           "title": {
            "standoff": 15
           },
           "zerolinecolor": "white",
           "zerolinewidth": 2
          }
         }
        },
        "title": {
         "text": "Top 10 companies"
        },
        "width": 800,
        "xaxis": {
         "anchor": "y",
         "domain": [
          0,
          1
         ],
         "title": {
          "text": "Company"
         }
        },
        "yaxis": {
         "anchor": "x",
         "domain": [
          0,
          1
         ],
         "title": {
          "text": "Number of jobs"
         }
        }
       }
      }
     },
     "metadata": {},
     "output_type": "display_data"
    }
   ],
   "source": [
    "df['company'].value_counts().head(10)\n",
    "px.area(df['company'].value_counts().head(10),title='Top 10 companies',labels={'index':'Company','value':'Number of jobs'},\n",
    "        color_discrete_sequence=px.colors.sequential.RdBu,width=800,height=500)\n"
   ]
  },
  {
   "attachments": {},
   "cell_type": "markdown",
   "metadata": {},
   "source": [
    "The comapny name Confidential are Recruiting Agency"
   ]
  },
  {
   "attachments": {},
   "cell_type": "markdown",
   "metadata": {},
   "source": [
    "Industry Based Analysis"
   ]
  },
  {
   "cell_type": "code",
   "execution_count": 8,
   "metadata": {},
   "outputs": [
    {
     "data": {
      "text/plain": [
       "IT-Software / Software Services                        187\n",
       "Recruitment / Staffing                                  51\n",
       "BPO / Call Centre / ITES                                39\n",
       "Banking / Financial Services / Broking                  29\n",
       "Education / Teaching / Training                         16\n",
       "Medical / Healthcare / Hospitals                        16\n",
       "Internet / Ecommerce                                    13\n",
       "Pharma / Biotech / Clinical Research                    13\n",
       "Telecom/ISP                                             11\n",
       "Travel / Hotels / Restaurants / Airlines / Railways     10\n",
       "Name: industry, dtype: int64"
      ]
     },
     "execution_count": 8,
     "metadata": {},
     "output_type": "execute_result"
    }
   ],
   "source": [
    "df['industry'].value_counts().head(10)"
   ]
  },
  {
   "cell_type": "code",
   "execution_count": 55,
   "metadata": {},
   "outputs": [
    {
     "data": {
      "application/vnd.plotly.v1+json": {
       "config": {
        "plotlyServerURL": "https://plot.ly"
       },
       "data": [
        {
         "alignmentgroup": "True",
         "hovertemplate": "variable=industry<br>Industry=%{x}<br>Number of jobs=%{y}<extra></extra>",
         "legendgroup": "industry",
         "marker": {
          "color": "#636efa",
          "pattern": {
           "shape": ""
          }
         },
         "name": "industry",
         "offsetgroup": "industry",
         "orientation": "v",
         "showlegend": true,
         "textposition": "auto",
         "type": "bar",
         "x": [
          "IT-Software / Software Services",
          "Recruitment / Staffing",
          "BPO / Call Centre / ITES",
          "Banking / Financial Services / Broking",
          "Education / Teaching / Training",
          "Medical / Healthcare / Hospitals",
          "Internet / Ecommerce",
          "Pharma / Biotech / Clinical Research",
          "Telecom/ISP",
          "Travel / Hotels / Restaurants / Airlines / Railways"
         ],
         "xaxis": "x",
         "y": [
          187,
          51,
          39,
          29,
          16,
          16,
          13,
          13,
          11,
          10
         ],
         "yaxis": "y"
        }
       ],
       "layout": {
        "barmode": "relative",
        "legend": {
         "title": {
          "text": "variable"
         },
         "tracegroupgap": 0
        },
        "template": {
         "data": {
          "bar": [
           {
            "error_x": {
             "color": "#2a3f5f"
            },
            "error_y": {
             "color": "#2a3f5f"
            },
            "marker": {
             "line": {
              "color": "#E5ECF6",
              "width": 0.5
             },
             "pattern": {
              "fillmode": "overlay",
              "size": 10,
              "solidity": 0.2
             }
            },
            "type": "bar"
           }
          ],
          "barpolar": [
           {
            "marker": {
             "line": {
              "color": "#E5ECF6",
              "width": 0.5
             },
             "pattern": {
              "fillmode": "overlay",
              "size": 10,
              "solidity": 0.2
             }
            },
            "type": "barpolar"
           }
          ],
          "carpet": [
           {
            "aaxis": {
             "endlinecolor": "#2a3f5f",
             "gridcolor": "white",
             "linecolor": "white",
             "minorgridcolor": "white",
             "startlinecolor": "#2a3f5f"
            },
            "baxis": {
             "endlinecolor": "#2a3f5f",
             "gridcolor": "white",
             "linecolor": "white",
             "minorgridcolor": "white",
             "startlinecolor": "#2a3f5f"
            },
            "type": "carpet"
           }
          ],
          "choropleth": [
           {
            "colorbar": {
             "outlinewidth": 0,
             "ticks": ""
            },
            "type": "choropleth"
           }
          ],
          "contour": [
           {
            "colorbar": {
             "outlinewidth": 0,
             "ticks": ""
            },
            "colorscale": [
             [
              0,
              "#0d0887"
             ],
             [
              0.1111111111111111,
              "#46039f"
             ],
             [
              0.2222222222222222,
              "#7201a8"
             ],
             [
              0.3333333333333333,
              "#9c179e"
             ],
             [
              0.4444444444444444,
              "#bd3786"
             ],
             [
              0.5555555555555556,
              "#d8576b"
             ],
             [
              0.6666666666666666,
              "#ed7953"
             ],
             [
              0.7777777777777778,
              "#fb9f3a"
             ],
             [
              0.8888888888888888,
              "#fdca26"
             ],
             [
              1,
              "#f0f921"
             ]
            ],
            "type": "contour"
           }
          ],
          "contourcarpet": [
           {
            "colorbar": {
             "outlinewidth": 0,
             "ticks": ""
            },
            "type": "contourcarpet"
           }
          ],
          "heatmap": [
           {
            "colorbar": {
             "outlinewidth": 0,
             "ticks": ""
            },
            "colorscale": [
             [
              0,
              "#0d0887"
             ],
             [
              0.1111111111111111,
              "#46039f"
             ],
             [
              0.2222222222222222,
              "#7201a8"
             ],
             [
              0.3333333333333333,
              "#9c179e"
             ],
             [
              0.4444444444444444,
              "#bd3786"
             ],
             [
              0.5555555555555556,
              "#d8576b"
             ],
             [
              0.6666666666666666,
              "#ed7953"
             ],
             [
              0.7777777777777778,
              "#fb9f3a"
             ],
             [
              0.8888888888888888,
              "#fdca26"
             ],
             [
              1,
              "#f0f921"
             ]
            ],
            "type": "heatmap"
           }
          ],
          "heatmapgl": [
           {
            "colorbar": {
             "outlinewidth": 0,
             "ticks": ""
            },
            "colorscale": [
             [
              0,
              "#0d0887"
             ],
             [
              0.1111111111111111,
              "#46039f"
             ],
             [
              0.2222222222222222,
              "#7201a8"
             ],
             [
              0.3333333333333333,
              "#9c179e"
             ],
             [
              0.4444444444444444,
              "#bd3786"
             ],
             [
              0.5555555555555556,
              "#d8576b"
             ],
             [
              0.6666666666666666,
              "#ed7953"
             ],
             [
              0.7777777777777778,
              "#fb9f3a"
             ],
             [
              0.8888888888888888,
              "#fdca26"
             ],
             [
              1,
              "#f0f921"
             ]
            ],
            "type": "heatmapgl"
           }
          ],
          "histogram": [
           {
            "marker": {
             "pattern": {
              "fillmode": "overlay",
              "size": 10,
              "solidity": 0.2
             }
            },
            "type": "histogram"
           }
          ],
          "histogram2d": [
           {
            "colorbar": {
             "outlinewidth": 0,
             "ticks": ""
            },
            "colorscale": [
             [
              0,
              "#0d0887"
             ],
             [
              0.1111111111111111,
              "#46039f"
             ],
             [
              0.2222222222222222,
              "#7201a8"
             ],
             [
              0.3333333333333333,
              "#9c179e"
             ],
             [
              0.4444444444444444,
              "#bd3786"
             ],
             [
              0.5555555555555556,
              "#d8576b"
             ],
             [
              0.6666666666666666,
              "#ed7953"
             ],
             [
              0.7777777777777778,
              "#fb9f3a"
             ],
             [
              0.8888888888888888,
              "#fdca26"
             ],
             [
              1,
              "#f0f921"
             ]
            ],
            "type": "histogram2d"
           }
          ],
          "histogram2dcontour": [
           {
            "colorbar": {
             "outlinewidth": 0,
             "ticks": ""
            },
            "colorscale": [
             [
              0,
              "#0d0887"
             ],
             [
              0.1111111111111111,
              "#46039f"
             ],
             [
              0.2222222222222222,
              "#7201a8"
             ],
             [
              0.3333333333333333,
              "#9c179e"
             ],
             [
              0.4444444444444444,
              "#bd3786"
             ],
             [
              0.5555555555555556,
              "#d8576b"
             ],
             [
              0.6666666666666666,
              "#ed7953"
             ],
             [
              0.7777777777777778,
              "#fb9f3a"
             ],
             [
              0.8888888888888888,
              "#fdca26"
             ],
             [
              1,
              "#f0f921"
             ]
            ],
            "type": "histogram2dcontour"
           }
          ],
          "mesh3d": [
           {
            "colorbar": {
             "outlinewidth": 0,
             "ticks": ""
            },
            "type": "mesh3d"
           }
          ],
          "parcoords": [
           {
            "line": {
             "colorbar": {
              "outlinewidth": 0,
              "ticks": ""
             }
            },
            "type": "parcoords"
           }
          ],
          "pie": [
           {
            "automargin": true,
            "type": "pie"
           }
          ],
          "scatter": [
           {
            "fillpattern": {
             "fillmode": "overlay",
             "size": 10,
             "solidity": 0.2
            },
            "type": "scatter"
           }
          ],
          "scatter3d": [
           {
            "line": {
             "colorbar": {
              "outlinewidth": 0,
              "ticks": ""
             }
            },
            "marker": {
             "colorbar": {
              "outlinewidth": 0,
              "ticks": ""
             }
            },
            "type": "scatter3d"
           }
          ],
          "scattercarpet": [
           {
            "marker": {
             "colorbar": {
              "outlinewidth": 0,
              "ticks": ""
             }
            },
            "type": "scattercarpet"
           }
          ],
          "scattergeo": [
           {
            "marker": {
             "colorbar": {
              "outlinewidth": 0,
              "ticks": ""
             }
            },
            "type": "scattergeo"
           }
          ],
          "scattergl": [
           {
            "marker": {
             "colorbar": {
              "outlinewidth": 0,
              "ticks": ""
             }
            },
            "type": "scattergl"
           }
          ],
          "scattermapbox": [
           {
            "marker": {
             "colorbar": {
              "outlinewidth": 0,
              "ticks": ""
             }
            },
            "type": "scattermapbox"
           }
          ],
          "scatterpolar": [
           {
            "marker": {
             "colorbar": {
              "outlinewidth": 0,
              "ticks": ""
             }
            },
            "type": "scatterpolar"
           }
          ],
          "scatterpolargl": [
           {
            "marker": {
             "colorbar": {
              "outlinewidth": 0,
              "ticks": ""
             }
            },
            "type": "scatterpolargl"
           }
          ],
          "scatterternary": [
           {
            "marker": {
             "colorbar": {
              "outlinewidth": 0,
              "ticks": ""
             }
            },
            "type": "scatterternary"
           }
          ],
          "surface": [
           {
            "colorbar": {
             "outlinewidth": 0,
             "ticks": ""
            },
            "colorscale": [
             [
              0,
              "#0d0887"
             ],
             [
              0.1111111111111111,
              "#46039f"
             ],
             [
              0.2222222222222222,
              "#7201a8"
             ],
             [
              0.3333333333333333,
              "#9c179e"
             ],
             [
              0.4444444444444444,
              "#bd3786"
             ],
             [
              0.5555555555555556,
              "#d8576b"
             ],
             [
              0.6666666666666666,
              "#ed7953"
             ],
             [
              0.7777777777777778,
              "#fb9f3a"
             ],
             [
              0.8888888888888888,
              "#fdca26"
             ],
             [
              1,
              "#f0f921"
             ]
            ],
            "type": "surface"
           }
          ],
          "table": [
           {
            "cells": {
             "fill": {
              "color": "#EBF0F8"
             },
             "line": {
              "color": "white"
             }
            },
            "header": {
             "fill": {
              "color": "#C8D4E3"
             },
             "line": {
              "color": "white"
             }
            },
            "type": "table"
           }
          ]
         },
         "layout": {
          "annotationdefaults": {
           "arrowcolor": "#2a3f5f",
           "arrowhead": 0,
           "arrowwidth": 1
          },
          "autotypenumbers": "strict",
          "coloraxis": {
           "colorbar": {
            "outlinewidth": 0,
            "ticks": ""
           }
          },
          "colorscale": {
           "diverging": [
            [
             0,
             "#8e0152"
            ],
            [
             0.1,
             "#c51b7d"
            ],
            [
             0.2,
             "#de77ae"
            ],
            [
             0.3,
             "#f1b6da"
            ],
            [
             0.4,
             "#fde0ef"
            ],
            [
             0.5,
             "#f7f7f7"
            ],
            [
             0.6,
             "#e6f5d0"
            ],
            [
             0.7,
             "#b8e186"
            ],
            [
             0.8,
             "#7fbc41"
            ],
            [
             0.9,
             "#4d9221"
            ],
            [
             1,
             "#276419"
            ]
           ],
           "sequential": [
            [
             0,
             "#0d0887"
            ],
            [
             0.1111111111111111,
             "#46039f"
            ],
            [
             0.2222222222222222,
             "#7201a8"
            ],
            [
             0.3333333333333333,
             "#9c179e"
            ],
            [
             0.4444444444444444,
             "#bd3786"
            ],
            [
             0.5555555555555556,
             "#d8576b"
            ],
            [
             0.6666666666666666,
             "#ed7953"
            ],
            [
             0.7777777777777778,
             "#fb9f3a"
            ],
            [
             0.8888888888888888,
             "#fdca26"
            ],
            [
             1,
             "#f0f921"
            ]
           ],
           "sequentialminus": [
            [
             0,
             "#0d0887"
            ],
            [
             0.1111111111111111,
             "#46039f"
            ],
            [
             0.2222222222222222,
             "#7201a8"
            ],
            [
             0.3333333333333333,
             "#9c179e"
            ],
            [
             0.4444444444444444,
             "#bd3786"
            ],
            [
             0.5555555555555556,
             "#d8576b"
            ],
            [
             0.6666666666666666,
             "#ed7953"
            ],
            [
             0.7777777777777778,
             "#fb9f3a"
            ],
            [
             0.8888888888888888,
             "#fdca26"
            ],
            [
             1,
             "#f0f921"
            ]
           ]
          },
          "colorway": [
           "#636efa",
           "#EF553B",
           "#00cc96",
           "#ab63fa",
           "#FFA15A",
           "#19d3f3",
           "#FF6692",
           "#B6E880",
           "#FF97FF",
           "#FECB52"
          ],
          "font": {
           "color": "#2a3f5f"
          },
          "geo": {
           "bgcolor": "white",
           "lakecolor": "white",
           "landcolor": "#E5ECF6",
           "showlakes": true,
           "showland": true,
           "subunitcolor": "white"
          },
          "hoverlabel": {
           "align": "left"
          },
          "hovermode": "closest",
          "mapbox": {
           "style": "light"
          },
          "paper_bgcolor": "white",
          "plot_bgcolor": "#E5ECF6",
          "polar": {
           "angularaxis": {
            "gridcolor": "white",
            "linecolor": "white",
            "ticks": ""
           },
           "bgcolor": "#E5ECF6",
           "radialaxis": {
            "gridcolor": "white",
            "linecolor": "white",
            "ticks": ""
           }
          },
          "scene": {
           "xaxis": {
            "backgroundcolor": "#E5ECF6",
            "gridcolor": "white",
            "gridwidth": 2,
            "linecolor": "white",
            "showbackground": true,
            "ticks": "",
            "zerolinecolor": "white"
           },
           "yaxis": {
            "backgroundcolor": "#E5ECF6",
            "gridcolor": "white",
            "gridwidth": 2,
            "linecolor": "white",
            "showbackground": true,
            "ticks": "",
            "zerolinecolor": "white"
           },
           "zaxis": {
            "backgroundcolor": "#E5ECF6",
            "gridcolor": "white",
            "gridwidth": 2,
            "linecolor": "white",
            "showbackground": true,
            "ticks": "",
            "zerolinecolor": "white"
           }
          },
          "shapedefaults": {
           "line": {
            "color": "#2a3f5f"
           }
          },
          "ternary": {
           "aaxis": {
            "gridcolor": "white",
            "linecolor": "white",
            "ticks": ""
           },
           "baxis": {
            "gridcolor": "white",
            "linecolor": "white",
            "ticks": ""
           },
           "bgcolor": "#E5ECF6",
           "caxis": {
            "gridcolor": "white",
            "linecolor": "white",
            "ticks": ""
           }
          },
          "title": {
           "x": 0.05
          },
          "xaxis": {
           "automargin": true,
           "gridcolor": "white",
           "linecolor": "white",
           "ticks": "",
           "title": {
            "standoff": 15
           },
           "zerolinecolor": "white",
           "zerolinewidth": 2
          },
          "yaxis": {
           "automargin": true,
           "gridcolor": "white",
           "linecolor": "white",
           "ticks": "",
           "title": {
            "standoff": 15
           },
           "zerolinecolor": "white",
           "zerolinewidth": 2
          }
         }
        },
        "title": {
         "text": "Top 10 industries"
        },
        "xaxis": {
         "anchor": "y",
         "domain": [
          0,
          1
         ],
         "title": {
          "text": "Industry"
         }
        },
        "yaxis": {
         "anchor": "x",
         "domain": [
          0,
          1
         ],
         "title": {
          "text": "Number of jobs"
         }
        }
       }
      }
     },
     "metadata": {},
     "output_type": "display_data"
    }
   ],
   "source": [
    "df['industry'].value_counts().head(10)\n",
    "px.bar(df['industry'].value_counts().head(10),title='Top 10 industries',labels={'index':'Industry','value':'Number of jobs'})"
   ]
  },
  {
   "attachments": {},
   "cell_type": "markdown",
   "metadata": {},
   "source": [
    "Jobtitle Analysis"
   ]
  },
  {
   "cell_type": "code",
   "execution_count": 10,
   "metadata": {},
   "outputs": [
    {
     "data": {
      "text/plain": [
       "Hr-assistant-/hr Officer,msw-hr Leading Manufacturing Firm,9686288924    2\n",
       "Enterprise Application Advisor                                           2\n",
       "Devops Engineer                                                          2\n",
       "Duty Manager                                                             2\n",
       "Optical Testing Engineer                                                 2\n",
       "Software Engineer                                                        2\n",
       "Business Development Manager                                             2\n",
       "Mechanical Engineer                                                      2\n",
       "PHP Developer                                                            2\n",
       "International BPO, Domestic BPO, Contact Gayathri                        1\n",
       "Name: jobtitle, dtype: int64"
      ]
     },
     "execution_count": 10,
     "metadata": {},
     "output_type": "execute_result"
    }
   ],
   "source": [
    "df['jobtitle'].value_counts().head(10)"
   ]
  },
  {
   "cell_type": "code",
   "execution_count": 77,
   "metadata": {},
   "outputs": [
    {
     "data": {
      "application/vnd.plotly.v1+json": {
       "config": {
        "plotlyServerURL": "https://plot.ly"
       },
       "data": [
        {
         "alignmentgroup": "True",
         "hovertemplate": "variable=jobtitle<br>Job title=%{x}<br>Number of jobs=%{y}<extra></extra>",
         "legendgroup": "jobtitle",
         "marker": {
          "color": "#636efa",
          "pattern": {
           "shape": ""
          }
         },
         "name": "jobtitle",
         "offsetgroup": "jobtitle",
         "orientation": "v",
         "showlegend": true,
         "textposition": "auto",
         "type": "bar",
         "x": [
          "Hr-assistant-/hr Officer,msw-hr Leading Manufacturing Firm,9686288924",
          "Enterprise Application Advisor",
          "Devops Engineer",
          "Duty Manager",
          "Optical Testing Engineer",
          "Software Engineer",
          "Business Development Manager",
          "Mechanical Engineer",
          "PHP Developer",
          "International BPO, Domestic BPO, Contact Gayathri"
         ],
         "xaxis": "x",
         "y": [
          2,
          2,
          2,
          2,
          2,
          2,
          2,
          2,
          2,
          1
         ],
         "yaxis": "y"
        }
       ],
       "layout": {
        "barmode": "relative",
        "legend": {
         "title": {
          "text": "variable"
         },
         "tracegroupgap": 0
        },
        "template": {
         "data": {
          "bar": [
           {
            "error_x": {
             "color": "#2a3f5f"
            },
            "error_y": {
             "color": "#2a3f5f"
            },
            "marker": {
             "line": {
              "color": "#E5ECF6",
              "width": 0.5
             },
             "pattern": {
              "fillmode": "overlay",
              "size": 10,
              "solidity": 0.2
             }
            },
            "type": "bar"
           }
          ],
          "barpolar": [
           {
            "marker": {
             "line": {
              "color": "#E5ECF6",
              "width": 0.5
             },
             "pattern": {
              "fillmode": "overlay",
              "size": 10,
              "solidity": 0.2
             }
            },
            "type": "barpolar"
           }
          ],
          "carpet": [
           {
            "aaxis": {
             "endlinecolor": "#2a3f5f",
             "gridcolor": "white",
             "linecolor": "white",
             "minorgridcolor": "white",
             "startlinecolor": "#2a3f5f"
            },
            "baxis": {
             "endlinecolor": "#2a3f5f",
             "gridcolor": "white",
             "linecolor": "white",
             "minorgridcolor": "white",
             "startlinecolor": "#2a3f5f"
            },
            "type": "carpet"
           }
          ],
          "choropleth": [
           {
            "colorbar": {
             "outlinewidth": 0,
             "ticks": ""
            },
            "type": "choropleth"
           }
          ],
          "contour": [
           {
            "colorbar": {
             "outlinewidth": 0,
             "ticks": ""
            },
            "colorscale": [
             [
              0,
              "#0d0887"
             ],
             [
              0.1111111111111111,
              "#46039f"
             ],
             [
              0.2222222222222222,
              "#7201a8"
             ],
             [
              0.3333333333333333,
              "#9c179e"
             ],
             [
              0.4444444444444444,
              "#bd3786"
             ],
             [
              0.5555555555555556,
              "#d8576b"
             ],
             [
              0.6666666666666666,
              "#ed7953"
             ],
             [
              0.7777777777777778,
              "#fb9f3a"
             ],
             [
              0.8888888888888888,
              "#fdca26"
             ],
             [
              1,
              "#f0f921"
             ]
            ],
            "type": "contour"
           }
          ],
          "contourcarpet": [
           {
            "colorbar": {
             "outlinewidth": 0,
             "ticks": ""
            },
            "type": "contourcarpet"
           }
          ],
          "heatmap": [
           {
            "colorbar": {
             "outlinewidth": 0,
             "ticks": ""
            },
            "colorscale": [
             [
              0,
              "#0d0887"
             ],
             [
              0.1111111111111111,
              "#46039f"
             ],
             [
              0.2222222222222222,
              "#7201a8"
             ],
             [
              0.3333333333333333,
              "#9c179e"
             ],
             [
              0.4444444444444444,
              "#bd3786"
             ],
             [
              0.5555555555555556,
              "#d8576b"
             ],
             [
              0.6666666666666666,
              "#ed7953"
             ],
             [
              0.7777777777777778,
              "#fb9f3a"
             ],
             [
              0.8888888888888888,
              "#fdca26"
             ],
             [
              1,
              "#f0f921"
             ]
            ],
            "type": "heatmap"
           }
          ],
          "heatmapgl": [
           {
            "colorbar": {
             "outlinewidth": 0,
             "ticks": ""
            },
            "colorscale": [
             [
              0,
              "#0d0887"
             ],
             [
              0.1111111111111111,
              "#46039f"
             ],
             [
              0.2222222222222222,
              "#7201a8"
             ],
             [
              0.3333333333333333,
              "#9c179e"
             ],
             [
              0.4444444444444444,
              "#bd3786"
             ],
             [
              0.5555555555555556,
              "#d8576b"
             ],
             [
              0.6666666666666666,
              "#ed7953"
             ],
             [
              0.7777777777777778,
              "#fb9f3a"
             ],
             [
              0.8888888888888888,
              "#fdca26"
             ],
             [
              1,
              "#f0f921"
             ]
            ],
            "type": "heatmapgl"
           }
          ],
          "histogram": [
           {
            "marker": {
             "pattern": {
              "fillmode": "overlay",
              "size": 10,
              "solidity": 0.2
             }
            },
            "type": "histogram"
           }
          ],
          "histogram2d": [
           {
            "colorbar": {
             "outlinewidth": 0,
             "ticks": ""
            },
            "colorscale": [
             [
              0,
              "#0d0887"
             ],
             [
              0.1111111111111111,
              "#46039f"
             ],
             [
              0.2222222222222222,
              "#7201a8"
             ],
             [
              0.3333333333333333,
              "#9c179e"
             ],
             [
              0.4444444444444444,
              "#bd3786"
             ],
             [
              0.5555555555555556,
              "#d8576b"
             ],
             [
              0.6666666666666666,
              "#ed7953"
             ],
             [
              0.7777777777777778,
              "#fb9f3a"
             ],
             [
              0.8888888888888888,
              "#fdca26"
             ],
             [
              1,
              "#f0f921"
             ]
            ],
            "type": "histogram2d"
           }
          ],
          "histogram2dcontour": [
           {
            "colorbar": {
             "outlinewidth": 0,
             "ticks": ""
            },
            "colorscale": [
             [
              0,
              "#0d0887"
             ],
             [
              0.1111111111111111,
              "#46039f"
             ],
             [
              0.2222222222222222,
              "#7201a8"
             ],
             [
              0.3333333333333333,
              "#9c179e"
             ],
             [
              0.4444444444444444,
              "#bd3786"
             ],
             [
              0.5555555555555556,
              "#d8576b"
             ],
             [
              0.6666666666666666,
              "#ed7953"
             ],
             [
              0.7777777777777778,
              "#fb9f3a"
             ],
             [
              0.8888888888888888,
              "#fdca26"
             ],
             [
              1,
              "#f0f921"
             ]
            ],
            "type": "histogram2dcontour"
           }
          ],
          "mesh3d": [
           {
            "colorbar": {
             "outlinewidth": 0,
             "ticks": ""
            },
            "type": "mesh3d"
           }
          ],
          "parcoords": [
           {
            "line": {
             "colorbar": {
              "outlinewidth": 0,
              "ticks": ""
             }
            },
            "type": "parcoords"
           }
          ],
          "pie": [
           {
            "automargin": true,
            "type": "pie"
           }
          ],
          "scatter": [
           {
            "fillpattern": {
             "fillmode": "overlay",
             "size": 10,
             "solidity": 0.2
            },
            "type": "scatter"
           }
          ],
          "scatter3d": [
           {
            "line": {
             "colorbar": {
              "outlinewidth": 0,
              "ticks": ""
             }
            },
            "marker": {
             "colorbar": {
              "outlinewidth": 0,
              "ticks": ""
             }
            },
            "type": "scatter3d"
           }
          ],
          "scattercarpet": [
           {
            "marker": {
             "colorbar": {
              "outlinewidth": 0,
              "ticks": ""
             }
            },
            "type": "scattercarpet"
           }
          ],
          "scattergeo": [
           {
            "marker": {
             "colorbar": {
              "outlinewidth": 0,
              "ticks": ""
             }
            },
            "type": "scattergeo"
           }
          ],
          "scattergl": [
           {
            "marker": {
             "colorbar": {
              "outlinewidth": 0,
              "ticks": ""
             }
            },
            "type": "scattergl"
           }
          ],
          "scattermapbox": [
           {
            "marker": {
             "colorbar": {
              "outlinewidth": 0,
              "ticks": ""
             }
            },
            "type": "scattermapbox"
           }
          ],
          "scatterpolar": [
           {
            "marker": {
             "colorbar": {
              "outlinewidth": 0,
              "ticks": ""
             }
            },
            "type": "scatterpolar"
           }
          ],
          "scatterpolargl": [
           {
            "marker": {
             "colorbar": {
              "outlinewidth": 0,
              "ticks": ""
             }
            },
            "type": "scatterpolargl"
           }
          ],
          "scatterternary": [
           {
            "marker": {
             "colorbar": {
              "outlinewidth": 0,
              "ticks": ""
             }
            },
            "type": "scatterternary"
           }
          ],
          "surface": [
           {
            "colorbar": {
             "outlinewidth": 0,
             "ticks": ""
            },
            "colorscale": [
             [
              0,
              "#0d0887"
             ],
             [
              0.1111111111111111,
              "#46039f"
             ],
             [
              0.2222222222222222,
              "#7201a8"
             ],
             [
              0.3333333333333333,
              "#9c179e"
             ],
             [
              0.4444444444444444,
              "#bd3786"
             ],
             [
              0.5555555555555556,
              "#d8576b"
             ],
             [
              0.6666666666666666,
              "#ed7953"
             ],
             [
              0.7777777777777778,
              "#fb9f3a"
             ],
             [
              0.8888888888888888,
              "#fdca26"
             ],
             [
              1,
              "#f0f921"
             ]
            ],
            "type": "surface"
           }
          ],
          "table": [
           {
            "cells": {
             "fill": {
              "color": "#EBF0F8"
             },
             "line": {
              "color": "white"
             }
            },
            "header": {
             "fill": {
              "color": "#C8D4E3"
             },
             "line": {
              "color": "white"
             }
            },
            "type": "table"
           }
          ]
         },
         "layout": {
          "annotationdefaults": {
           "arrowcolor": "#2a3f5f",
           "arrowhead": 0,
           "arrowwidth": 1
          },
          "autotypenumbers": "strict",
          "coloraxis": {
           "colorbar": {
            "outlinewidth": 0,
            "ticks": ""
           }
          },
          "colorscale": {
           "diverging": [
            [
             0,
             "#8e0152"
            ],
            [
             0.1,
             "#c51b7d"
            ],
            [
             0.2,
             "#de77ae"
            ],
            [
             0.3,
             "#f1b6da"
            ],
            [
             0.4,
             "#fde0ef"
            ],
            [
             0.5,
             "#f7f7f7"
            ],
            [
             0.6,
             "#e6f5d0"
            ],
            [
             0.7,
             "#b8e186"
            ],
            [
             0.8,
             "#7fbc41"
            ],
            [
             0.9,
             "#4d9221"
            ],
            [
             1,
             "#276419"
            ]
           ],
           "sequential": [
            [
             0,
             "#0d0887"
            ],
            [
             0.1111111111111111,
             "#46039f"
            ],
            [
             0.2222222222222222,
             "#7201a8"
            ],
            [
             0.3333333333333333,
             "#9c179e"
            ],
            [
             0.4444444444444444,
             "#bd3786"
            ],
            [
             0.5555555555555556,
             "#d8576b"
            ],
            [
             0.6666666666666666,
             "#ed7953"
            ],
            [
             0.7777777777777778,
             "#fb9f3a"
            ],
            [
             0.8888888888888888,
             "#fdca26"
            ],
            [
             1,
             "#f0f921"
            ]
           ],
           "sequentialminus": [
            [
             0,
             "#0d0887"
            ],
            [
             0.1111111111111111,
             "#46039f"
            ],
            [
             0.2222222222222222,
             "#7201a8"
            ],
            [
             0.3333333333333333,
             "#9c179e"
            ],
            [
             0.4444444444444444,
             "#bd3786"
            ],
            [
             0.5555555555555556,
             "#d8576b"
            ],
            [
             0.6666666666666666,
             "#ed7953"
            ],
            [
             0.7777777777777778,
             "#fb9f3a"
            ],
            [
             0.8888888888888888,
             "#fdca26"
            ],
            [
             1,
             "#f0f921"
            ]
           ]
          },
          "colorway": [
           "#636efa",
           "#EF553B",
           "#00cc96",
           "#ab63fa",
           "#FFA15A",
           "#19d3f3",
           "#FF6692",
           "#B6E880",
           "#FF97FF",
           "#FECB52"
          ],
          "font": {
           "color": "#2a3f5f"
          },
          "geo": {
           "bgcolor": "white",
           "lakecolor": "white",
           "landcolor": "#E5ECF6",
           "showlakes": true,
           "showland": true,
           "subunitcolor": "white"
          },
          "hoverlabel": {
           "align": "left"
          },
          "hovermode": "closest",
          "mapbox": {
           "style": "light"
          },
          "paper_bgcolor": "white",
          "plot_bgcolor": "#E5ECF6",
          "polar": {
           "angularaxis": {
            "gridcolor": "white",
            "linecolor": "white",
            "ticks": ""
           },
           "bgcolor": "#E5ECF6",
           "radialaxis": {
            "gridcolor": "white",
            "linecolor": "white",
            "ticks": ""
           }
          },
          "scene": {
           "xaxis": {
            "backgroundcolor": "#E5ECF6",
            "gridcolor": "white",
            "gridwidth": 2,
            "linecolor": "white",
            "showbackground": true,
            "ticks": "",
            "zerolinecolor": "white"
           },
           "yaxis": {
            "backgroundcolor": "#E5ECF6",
            "gridcolor": "white",
            "gridwidth": 2,
            "linecolor": "white",
            "showbackground": true,
            "ticks": "",
            "zerolinecolor": "white"
           },
           "zaxis": {
            "backgroundcolor": "#E5ECF6",
            "gridcolor": "white",
            "gridwidth": 2,
            "linecolor": "white",
            "showbackground": true,
            "ticks": "",
            "zerolinecolor": "white"
           }
          },
          "shapedefaults": {
           "line": {
            "color": "#2a3f5f"
           }
          },
          "ternary": {
           "aaxis": {
            "gridcolor": "white",
            "linecolor": "white",
            "ticks": ""
           },
           "baxis": {
            "gridcolor": "white",
            "linecolor": "white",
            "ticks": ""
           },
           "bgcolor": "#E5ECF6",
           "caxis": {
            "gridcolor": "white",
            "linecolor": "white",
            "ticks": ""
           }
          },
          "title": {
           "x": 0.05
          },
          "xaxis": {
           "automargin": true,
           "gridcolor": "white",
           "linecolor": "white",
           "ticks": "",
           "title": {
            "standoff": 15
           },
           "zerolinecolor": "white",
           "zerolinewidth": 2
          },
          "yaxis": {
           "automargin": true,
           "gridcolor": "white",
           "linecolor": "white",
           "ticks": "",
           "title": {
            "standoff": 15
           },
           "zerolinecolor": "white",
           "zerolinewidth": 2
          }
         }
        },
        "title": {
         "text": "Top 10 job titles"
        },
        "xaxis": {
         "anchor": "y",
         "domain": [
          0,
          1
         ],
         "title": {
          "text": "Job title"
         }
        },
        "yaxis": {
         "anchor": "x",
         "domain": [
          0,
          1
         ],
         "title": {
          "text": "Number of jobs"
         }
        }
       }
      }
     },
     "metadata": {},
     "output_type": "display_data"
    }
   ],
   "source": [
    "df['jobtitle'].value_counts().head(10)\n",
    "px.bar(df['jobtitle'].value_counts().head(10),title='Top 10 job titles',labels={'index':'Job title','value':'Number of jobs'})"
   ]
  },
  {
   "attachments": {},
   "cell_type": "markdown",
   "metadata": {},
   "source": [
    "Business Development and Software Engineer are the higest occurring jobtitle"
   ]
  },
  {
   "attachments": {},
   "cell_type": "markdown",
   "metadata": {},
   "source": [
    "Skills Analysis"
   ]
  },
  {
   "cell_type": "code",
   "execution_count": 12,
   "metadata": {},
   "outputs": [
    {
     "data": {
      "text/plain": [
       "IT Software - Application Programming    128\n",
       "Sales                                     65\n",
       "ITES                                      56\n",
       "HR                                        55\n",
       "Marketing                                 14\n",
       "Production                                13\n",
       "Medical                                   12\n",
       "Teaching                                  11\n",
       "Accounts                                  11\n",
       "Financial Services                        10\n",
       "Name: skills, dtype: int64"
      ]
     },
     "execution_count": 12,
     "metadata": {},
     "output_type": "execute_result"
    }
   ],
   "source": [
    "df['skills'].value_counts().head(10)"
   ]
  },
  {
   "cell_type": "code",
   "execution_count": 88,
   "metadata": {},
   "outputs": [
    {
     "data": {
      "application/vnd.plotly.v1+json": {
       "config": {
        "plotlyServerURL": "https://plot.ly"
       },
       "data": [
        {
         "domain": {
          "x": [
           0,
           1
          ],
          "y": [
           0,
           1
          ]
         },
         "hovertemplate": "<extra></extra>",
         "name": "",
         "type": "sunburst"
        }
       ],
       "layout": {
        "legend": {
         "tracegroupgap": 0
        },
        "template": {
         "data": {
          "bar": [
           {
            "error_x": {
             "color": "#2a3f5f"
            },
            "error_y": {
             "color": "#2a3f5f"
            },
            "marker": {
             "line": {
              "color": "#E5ECF6",
              "width": 0.5
             },
             "pattern": {
              "fillmode": "overlay",
              "size": 10,
              "solidity": 0.2
             }
            },
            "type": "bar"
           }
          ],
          "barpolar": [
           {
            "marker": {
             "line": {
              "color": "#E5ECF6",
              "width": 0.5
             },
             "pattern": {
              "fillmode": "overlay",
              "size": 10,
              "solidity": 0.2
             }
            },
            "type": "barpolar"
           }
          ],
          "carpet": [
           {
            "aaxis": {
             "endlinecolor": "#2a3f5f",
             "gridcolor": "white",
             "linecolor": "white",
             "minorgridcolor": "white",
             "startlinecolor": "#2a3f5f"
            },
            "baxis": {
             "endlinecolor": "#2a3f5f",
             "gridcolor": "white",
             "linecolor": "white",
             "minorgridcolor": "white",
             "startlinecolor": "#2a3f5f"
            },
            "type": "carpet"
           }
          ],
          "choropleth": [
           {
            "colorbar": {
             "outlinewidth": 0,
             "ticks": ""
            },
            "type": "choropleth"
           }
          ],
          "contour": [
           {
            "colorbar": {
             "outlinewidth": 0,
             "ticks": ""
            },
            "colorscale": [
             [
              0,
              "#0d0887"
             ],
             [
              0.1111111111111111,
              "#46039f"
             ],
             [
              0.2222222222222222,
              "#7201a8"
             ],
             [
              0.3333333333333333,
              "#9c179e"
             ],
             [
              0.4444444444444444,
              "#bd3786"
             ],
             [
              0.5555555555555556,
              "#d8576b"
             ],
             [
              0.6666666666666666,
              "#ed7953"
             ],
             [
              0.7777777777777778,
              "#fb9f3a"
             ],
             [
              0.8888888888888888,
              "#fdca26"
             ],
             [
              1,
              "#f0f921"
             ]
            ],
            "type": "contour"
           }
          ],
          "contourcarpet": [
           {
            "colorbar": {
             "outlinewidth": 0,
             "ticks": ""
            },
            "type": "contourcarpet"
           }
          ],
          "heatmap": [
           {
            "colorbar": {
             "outlinewidth": 0,
             "ticks": ""
            },
            "colorscale": [
             [
              0,
              "#0d0887"
             ],
             [
              0.1111111111111111,
              "#46039f"
             ],
             [
              0.2222222222222222,
              "#7201a8"
             ],
             [
              0.3333333333333333,
              "#9c179e"
             ],
             [
              0.4444444444444444,
              "#bd3786"
             ],
             [
              0.5555555555555556,
              "#d8576b"
             ],
             [
              0.6666666666666666,
              "#ed7953"
             ],
             [
              0.7777777777777778,
              "#fb9f3a"
             ],
             [
              0.8888888888888888,
              "#fdca26"
             ],
             [
              1,
              "#f0f921"
             ]
            ],
            "type": "heatmap"
           }
          ],
          "heatmapgl": [
           {
            "colorbar": {
             "outlinewidth": 0,
             "ticks": ""
            },
            "colorscale": [
             [
              0,
              "#0d0887"
             ],
             [
              0.1111111111111111,
              "#46039f"
             ],
             [
              0.2222222222222222,
              "#7201a8"
             ],
             [
              0.3333333333333333,
              "#9c179e"
             ],
             [
              0.4444444444444444,
              "#bd3786"
             ],
             [
              0.5555555555555556,
              "#d8576b"
             ],
             [
              0.6666666666666666,
              "#ed7953"
             ],
             [
              0.7777777777777778,
              "#fb9f3a"
             ],
             [
              0.8888888888888888,
              "#fdca26"
             ],
             [
              1,
              "#f0f921"
             ]
            ],
            "type": "heatmapgl"
           }
          ],
          "histogram": [
           {
            "marker": {
             "pattern": {
              "fillmode": "overlay",
              "size": 10,
              "solidity": 0.2
             }
            },
            "type": "histogram"
           }
          ],
          "histogram2d": [
           {
            "colorbar": {
             "outlinewidth": 0,
             "ticks": ""
            },
            "colorscale": [
             [
              0,
              "#0d0887"
             ],
             [
              0.1111111111111111,
              "#46039f"
             ],
             [
              0.2222222222222222,
              "#7201a8"
             ],
             [
              0.3333333333333333,
              "#9c179e"
             ],
             [
              0.4444444444444444,
              "#bd3786"
             ],
             [
              0.5555555555555556,
              "#d8576b"
             ],
             [
              0.6666666666666666,
              "#ed7953"
             ],
             [
              0.7777777777777778,
              "#fb9f3a"
             ],
             [
              0.8888888888888888,
              "#fdca26"
             ],
             [
              1,
              "#f0f921"
             ]
            ],
            "type": "histogram2d"
           }
          ],
          "histogram2dcontour": [
           {
            "colorbar": {
             "outlinewidth": 0,
             "ticks": ""
            },
            "colorscale": [
             [
              0,
              "#0d0887"
             ],
             [
              0.1111111111111111,
              "#46039f"
             ],
             [
              0.2222222222222222,
              "#7201a8"
             ],
             [
              0.3333333333333333,
              "#9c179e"
             ],
             [
              0.4444444444444444,
              "#bd3786"
             ],
             [
              0.5555555555555556,
              "#d8576b"
             ],
             [
              0.6666666666666666,
              "#ed7953"
             ],
             [
              0.7777777777777778,
              "#fb9f3a"
             ],
             [
              0.8888888888888888,
              "#fdca26"
             ],
             [
              1,
              "#f0f921"
             ]
            ],
            "type": "histogram2dcontour"
           }
          ],
          "mesh3d": [
           {
            "colorbar": {
             "outlinewidth": 0,
             "ticks": ""
            },
            "type": "mesh3d"
           }
          ],
          "parcoords": [
           {
            "line": {
             "colorbar": {
              "outlinewidth": 0,
              "ticks": ""
             }
            },
            "type": "parcoords"
           }
          ],
          "pie": [
           {
            "automargin": true,
            "type": "pie"
           }
          ],
          "scatter": [
           {
            "fillpattern": {
             "fillmode": "overlay",
             "size": 10,
             "solidity": 0.2
            },
            "type": "scatter"
           }
          ],
          "scatter3d": [
           {
            "line": {
             "colorbar": {
              "outlinewidth": 0,
              "ticks": ""
             }
            },
            "marker": {
             "colorbar": {
              "outlinewidth": 0,
              "ticks": ""
             }
            },
            "type": "scatter3d"
           }
          ],
          "scattercarpet": [
           {
            "marker": {
             "colorbar": {
              "outlinewidth": 0,
              "ticks": ""
             }
            },
            "type": "scattercarpet"
           }
          ],
          "scattergeo": [
           {
            "marker": {
             "colorbar": {
              "outlinewidth": 0,
              "ticks": ""
             }
            },
            "type": "scattergeo"
           }
          ],
          "scattergl": [
           {
            "marker": {
             "colorbar": {
              "outlinewidth": 0,
              "ticks": ""
             }
            },
            "type": "scattergl"
           }
          ],
          "scattermapbox": [
           {
            "marker": {
             "colorbar": {
              "outlinewidth": 0,
              "ticks": ""
             }
            },
            "type": "scattermapbox"
           }
          ],
          "scatterpolar": [
           {
            "marker": {
             "colorbar": {
              "outlinewidth": 0,
              "ticks": ""
             }
            },
            "type": "scatterpolar"
           }
          ],
          "scatterpolargl": [
           {
            "marker": {
             "colorbar": {
              "outlinewidth": 0,
              "ticks": ""
             }
            },
            "type": "scatterpolargl"
           }
          ],
          "scatterternary": [
           {
            "marker": {
             "colorbar": {
              "outlinewidth": 0,
              "ticks": ""
             }
            },
            "type": "scatterternary"
           }
          ],
          "surface": [
           {
            "colorbar": {
             "outlinewidth": 0,
             "ticks": ""
            },
            "colorscale": [
             [
              0,
              "#0d0887"
             ],
             [
              0.1111111111111111,
              "#46039f"
             ],
             [
              0.2222222222222222,
              "#7201a8"
             ],
             [
              0.3333333333333333,
              "#9c179e"
             ],
             [
              0.4444444444444444,
              "#bd3786"
             ],
             [
              0.5555555555555556,
              "#d8576b"
             ],
             [
              0.6666666666666666,
              "#ed7953"
             ],
             [
              0.7777777777777778,
              "#fb9f3a"
             ],
             [
              0.8888888888888888,
              "#fdca26"
             ],
             [
              1,
              "#f0f921"
             ]
            ],
            "type": "surface"
           }
          ],
          "table": [
           {
            "cells": {
             "fill": {
              "color": "#EBF0F8"
             },
             "line": {
              "color": "white"
             }
            },
            "header": {
             "fill": {
              "color": "#C8D4E3"
             },
             "line": {
              "color": "white"
             }
            },
            "type": "table"
           }
          ]
         },
         "layout": {
          "annotationdefaults": {
           "arrowcolor": "#2a3f5f",
           "arrowhead": 0,
           "arrowwidth": 1
          },
          "autotypenumbers": "strict",
          "coloraxis": {
           "colorbar": {
            "outlinewidth": 0,
            "ticks": ""
           }
          },
          "colorscale": {
           "diverging": [
            [
             0,
             "#8e0152"
            ],
            [
             0.1,
             "#c51b7d"
            ],
            [
             0.2,
             "#de77ae"
            ],
            [
             0.3,
             "#f1b6da"
            ],
            [
             0.4,
             "#fde0ef"
            ],
            [
             0.5,
             "#f7f7f7"
            ],
            [
             0.6,
             "#e6f5d0"
            ],
            [
             0.7,
             "#b8e186"
            ],
            [
             0.8,
             "#7fbc41"
            ],
            [
             0.9,
             "#4d9221"
            ],
            [
             1,
             "#276419"
            ]
           ],
           "sequential": [
            [
             0,
             "#0d0887"
            ],
            [
             0.1111111111111111,
             "#46039f"
            ],
            [
             0.2222222222222222,
             "#7201a8"
            ],
            [
             0.3333333333333333,
             "#9c179e"
            ],
            [
             0.4444444444444444,
             "#bd3786"
            ],
            [
             0.5555555555555556,
             "#d8576b"
            ],
            [
             0.6666666666666666,
             "#ed7953"
            ],
            [
             0.7777777777777778,
             "#fb9f3a"
            ],
            [
             0.8888888888888888,
             "#fdca26"
            ],
            [
             1,
             "#f0f921"
            ]
           ],
           "sequentialminus": [
            [
             0,
             "#0d0887"
            ],
            [
             0.1111111111111111,
             "#46039f"
            ],
            [
             0.2222222222222222,
             "#7201a8"
            ],
            [
             0.3333333333333333,
             "#9c179e"
            ],
            [
             0.4444444444444444,
             "#bd3786"
            ],
            [
             0.5555555555555556,
             "#d8576b"
            ],
            [
             0.6666666666666666,
             "#ed7953"
            ],
            [
             0.7777777777777778,
             "#fb9f3a"
            ],
            [
             0.8888888888888888,
             "#fdca26"
            ],
            [
             1,
             "#f0f921"
            ]
           ]
          },
          "colorway": [
           "#636efa",
           "#EF553B",
           "#00cc96",
           "#ab63fa",
           "#FFA15A",
           "#19d3f3",
           "#FF6692",
           "#B6E880",
           "#FF97FF",
           "#FECB52"
          ],
          "font": {
           "color": "#2a3f5f"
          },
          "geo": {
           "bgcolor": "white",
           "lakecolor": "white",
           "landcolor": "#E5ECF6",
           "showlakes": true,
           "showland": true,
           "subunitcolor": "white"
          },
          "hoverlabel": {
           "align": "left"
          },
          "hovermode": "closest",
          "mapbox": {
           "style": "light"
          },
          "paper_bgcolor": "white",
          "plot_bgcolor": "#E5ECF6",
          "polar": {
           "angularaxis": {
            "gridcolor": "white",
            "linecolor": "white",
            "ticks": ""
           },
           "bgcolor": "#E5ECF6",
           "radialaxis": {
            "gridcolor": "white",
            "linecolor": "white",
            "ticks": ""
           }
          },
          "scene": {
           "xaxis": {
            "backgroundcolor": "#E5ECF6",
            "gridcolor": "white",
            "gridwidth": 2,
            "linecolor": "white",
            "showbackground": true,
            "ticks": "",
            "zerolinecolor": "white"
           },
           "yaxis": {
            "backgroundcolor": "#E5ECF6",
            "gridcolor": "white",
            "gridwidth": 2,
            "linecolor": "white",
            "showbackground": true,
            "ticks": "",
            "zerolinecolor": "white"
           },
           "zaxis": {
            "backgroundcolor": "#E5ECF6",
            "gridcolor": "white",
            "gridwidth": 2,
            "linecolor": "white",
            "showbackground": true,
            "ticks": "",
            "zerolinecolor": "white"
           }
          },
          "shapedefaults": {
           "line": {
            "color": "#2a3f5f"
           }
          },
          "ternary": {
           "aaxis": {
            "gridcolor": "white",
            "linecolor": "white",
            "ticks": ""
           },
           "baxis": {
            "gridcolor": "white",
            "linecolor": "white",
            "ticks": ""
           },
           "bgcolor": "#E5ECF6",
           "caxis": {
            "gridcolor": "white",
            "linecolor": "white",
            "ticks": ""
           }
          },
          "title": {
           "x": 0.05
          },
          "xaxis": {
           "automargin": true,
           "gridcolor": "white",
           "linecolor": "white",
           "ticks": "",
           "title": {
            "standoff": 15
           },
           "zerolinecolor": "white",
           "zerolinewidth": 2
          },
          "yaxis": {
           "automargin": true,
           "gridcolor": "white",
           "linecolor": "white",
           "ticks": "",
           "title": {
            "standoff": 15
           },
           "zerolinecolor": "white",
           "zerolinewidth": 2
          }
         }
        },
        "title": {
         "text": "Top 10 skills"
        }
       }
      }
     },
     "metadata": {},
     "output_type": "display_data"
    }
   ],
   "source": [
    "\n",
    "df['skills'].value_counts().head(10)\n",
    "px.sunburst()"
   ]
  },
  {
   "attachments": {},
   "cell_type": "markdown",
   "metadata": {},
   "source": [
    "IT Software - Application Programming is highly demanded skill"
   ]
  },
  {
   "cell_type": "code",
   "execution_count": 14,
   "metadata": {},
   "outputs": [],
   "source": [
    "replacements = {\n",
    "   'joblocation_address': {\n",
    "      r'(Bengaluru/Bangalore)': 'Bangalore',\n",
    "      r'Bengaluru': 'Bangalore',\n",
    "      r'Hyderabad / Secunderabad': 'Hyderabad',\n",
    "      r'Mumbai , Mumbai': 'Mumbai',\n",
    "      r'Noida': 'NCR',\n",
    "      r'Delhi': 'NCR',\n",
    "      r'Gurgaon': 'NCR', \n",
    "      r'Delhi/NCR(National Capital Region)': 'NCR',\n",
    "      r'Delhi , Delhi': 'NCR',\n",
    "      r'Noida , Noida/Greater Noida': 'NCR',\n",
    "      r'Ghaziabad': 'NCR',\n",
    "      r'Delhi/NCR(National Capital Region) , Gurgaon': 'NCR',\n",
    "      r'NCR , NCR': 'NCR',\n",
    "      r'NCR/NCR(National Capital Region)': 'NCR',\n",
    "      r'NCR , NCR/Greater NCR': 'NCR',\n",
    "      r'NCR/NCR(National Capital Region) , NCR': 'NCR', \n",
    "      r'NCR , NCR/NCR(National Capital Region)': 'NCR', \n",
    "      r'Bangalore , Bangalore / Bangalore': 'Bangalore',\n",
    "      r'Bangalore , karnataka': 'Bangalore',\n",
    "      r'NCR/NCR(National Capital Region)': 'NCR',\n",
    "      r'NCR/Greater NCR': 'NCR',\n",
    "      r'NCR/NCR(National Capital Region) , NCR': 'NCR'\n",
    "       \n",
    "   }\n",
    "}\n",
    "\n",
    "df.replace(replacements, regex=True, inplace=True)\n",
    "y = df['joblocation_address'].value_counts()"
   ]
  },
  {
   "cell_type": "code",
   "execution_count": 15,
   "metadata": {},
   "outputs": [
    {
     "data": {
      "text/plain": [
       "<AxesSubplot:>"
      ]
     },
     "execution_count": 15,
     "metadata": {},
     "output_type": "execute_result"
    },
    {
     "data": {
      "image/png": "[encoded data removed]",
      "text/plain": [
       "<Figure size 1080x360 with 1 Axes>"
      ]
     },
     "metadata": {
      "needs_background": "light"
     },
     "output_type": "display_data"
    }
   ],
   "source": [
    "most_job_posting_city=df['joblocation_address'].value_counts().head()\n",
    "fax=plt.subplots(figsize=(15,5))\n",
    "most_job_posting_city.plot(kind = 'bar')"
   ]
  },
  {
   "attachments": {},
   "cell_type": "markdown",
   "metadata": {},
   "source": [
    "Bangalore have higest job posting and it is th IT capital of India"
   ]
  },
  {
   "attachments": {},
   "cell_type": "markdown",
   "metadata": {},
   "source": [
    "Spliting payrate into min_pay and max_pay"
   ]
  },
  {
   "cell_type": "code",
   "execution_count": 16,
   "metadata": {},
   "outputs": [
    {
     "data": {
      "text/html": [
       "<div>\n",
       "<style scoped>\n",
       "    .dataframe tbody tr th:only-of-type {\n",
       "        vertical-align: middle;\n",
       "    }\n",
       "\n",
       "    .dataframe tbody tr th {\n",
       "        vertical-align: top;\n",
       "    }\n",
       "\n",
       "    .dataframe thead th {\n",
       "        text-align: right;\n",
       "    }\n",
       "</style>\n",
       "<table border=\"1\" class=\"dataframe\">\n",
       "  <thead>\n",
       "    <tr style=\"text-align: right;\">\n",
       "      <th></th>\n",
       "      <th>0</th>\n",
       "      <th>1</th>\n",
       "      <th>2</th>\n",
       "    </tr>\n",
       "  </thead>\n",
       "  <tbody>\n",
       "    <tr>\n",
       "      <th>0</th>\n",
       "      <td>,50,000</td>\n",
       "      <td>2,25,000 P.</td>\n",
       "      <td>None</td>\n",
       "    </tr>\n",
       "    <tr>\n",
       "      <th>1</th>\n",
       "      <td>,50,000</td>\n",
       "      <td>2,50,000 P.A. 2000</td>\n",
       "      <td>None</td>\n",
       "    </tr>\n",
       "    <tr>\n",
       "      <th>2</th>\n",
       "      <td>ot Disclosed by Recruite</td>\n",
       "      <td>None</td>\n",
       "      <td>None</td>\n",
       "    </tr>\n",
       "    <tr>\n",
       "      <th>3</th>\n",
       "      <td>ot Disclosed by Recruite</td>\n",
       "      <td>None</td>\n",
       "      <td>None</td>\n",
       "    </tr>\n",
       "    <tr>\n",
       "      <th>4</th>\n",
       "      <td>ot Disclosed by Recruite</td>\n",
       "      <td>None</td>\n",
       "      <td>None</td>\n",
       "    </tr>\n",
       "  </tbody>\n",
       "</table>\n",
       "</div>"
      ],
      "text/plain": [
       "                          0                    1     2\n",
       "0                  ,50,000           2,25,000 P.  None\n",
       "1                  ,50,000    2,50,000 P.A. 2000  None\n",
       "2  ot Disclosed by Recruite                 None  None\n",
       "3  ot Disclosed by Recruite                 None  None\n",
       "4  ot Disclosed by Recruite                 None  None"
      ]
     },
     "execution_count": 16,
     "metadata": {},
     "output_type": "execute_result"
    }
   ],
   "source": [
    "pay_split = df['payrate'].str[1:-1].str.split('-', expand=True)\n",
    "pay_split.head()"
   ]
  },
  {
   "cell_type": "code",
   "execution_count": 17,
   "metadata": {},
   "outputs": [
    {
     "name": "stderr",
     "output_type": "stream",
     "text": [
      "C:\\Users\\LENOVO\\AppData\\Local\\Temp\\ipykernel_29184\\2713586634.py:8: FutureWarning:\n",
      "\n",
      "The default value of regex will change from True to False in a future version.\n",
      "\n"
     ]
    },
    {
     "data": {
      "text/plain": [
       "0    50000\n",
       "1    50000\n",
       "2         \n",
       "3         \n",
       "4         \n",
       "Name: 0, dtype: object"
      ]
     },
     "execution_count": 17,
     "metadata": {},
     "output_type": "execute_result"
    }
   ],
   "source": [
    "#remove space in left and right \n",
    "pay_split[0] =  pay_split[0].str.strip()\n",
    "#remove comma \n",
    "pay_split[0] = pay_split[0].str.replace(',', '')\n",
    "#remove all character in two condition\n",
    "# 1 remove if only character\n",
    "# 2 if start in number remove after all character\n",
    "pay_split[0] = pay_split[0].str.replace(r'\\D.*', '')\n",
    "#display \n",
    "pay_split[0].head()"
   ]
  },
  {
   "cell_type": "code",
   "execution_count": 18,
   "metadata": {},
   "outputs": [
    {
     "name": "stderr",
     "output_type": "stream",
     "text": [
      "C:\\Users\\LENOVO\\AppData\\Local\\Temp\\ipykernel_29184\\1111073453.py:8: FutureWarning:\n",
      "\n",
      "The default value of regex will change from True to False in a future version.\n",
      "\n"
     ]
    },
    {
     "data": {
      "text/plain": [
       "0    225000\n",
       "1    250000\n",
       "2      None\n",
       "3      None\n",
       "4      None\n",
       "Name: 1, dtype: object"
      ]
     },
     "execution_count": 18,
     "metadata": {},
     "output_type": "execute_result"
    }
   ],
   "source": [
    "#remove space in left and right \n",
    "pay_split[1] =  pay_split[1].str.strip()\n",
    "#remove comma \n",
    "pay_split[1] = pay_split[1].str.replace(',', '')\n",
    "#remove all character in two condition\n",
    "# 1 remove if only character\n",
    "# 2 if start in number remove after all character\n",
    "pay_split[1] = pay_split[1].str.replace(r'\\D.*', '')\n",
    "#display \n",
    "pay_split[1].head()"
   ]
  },
  {
   "cell_type": "code",
   "execution_count": 19,
   "metadata": {},
   "outputs": [],
   "source": [
    "pay_split[0] = pd.to_numeric(pay_split[0], errors='coerce')\n",
    "pay_split[1] = pd.to_numeric(pay_split[1], errors='coerce')"
   ]
  },
  {
   "cell_type": "code",
   "execution_count": 20,
   "metadata": {},
   "outputs": [],
   "source": [
    "pay=pd.concat([pay_split[0], pay_split[1]], axis=1, sort=False)"
   ]
  },
  {
   "cell_type": "code",
   "execution_count": 21,
   "metadata": {},
   "outputs": [
    {
     "data": {
      "text/html": [
       "<div>\n",
       "<style scoped>\n",
       "    .dataframe tbody tr th:only-of-type {\n",
       "        vertical-align: middle;\n",
       "    }\n",
       "\n",
       "    .dataframe tbody tr th {\n",
       "        vertical-align: top;\n",
       "    }\n",
       "\n",
       "    .dataframe thead th {\n",
       "        text-align: right;\n",
       "    }\n",
       "</style>\n",
       "<table border=\"1\" class=\"dataframe\">\n",
       "  <thead>\n",
       "    <tr style=\"text-align: right;\">\n",
       "      <th></th>\n",
       "      <th>min_pay</th>\n",
       "      <th>max_pay</th>\n",
       "    </tr>\n",
       "  </thead>\n",
       "  <tbody>\n",
       "    <tr>\n",
       "      <th>0</th>\n",
       "      <td>50000.0</td>\n",
       "      <td>225000.0</td>\n",
       "    </tr>\n",
       "    <tr>\n",
       "      <th>1</th>\n",
       "      <td>50000.0</td>\n",
       "      <td>250000.0</td>\n",
       "    </tr>\n",
       "    <tr>\n",
       "      <th>2</th>\n",
       "      <td>NaN</td>\n",
       "      <td>NaN</td>\n",
       "    </tr>\n",
       "    <tr>\n",
       "      <th>3</th>\n",
       "      <td>NaN</td>\n",
       "      <td>NaN</td>\n",
       "    </tr>\n",
       "    <tr>\n",
       "      <th>4</th>\n",
       "      <td>NaN</td>\n",
       "      <td>NaN</td>\n",
       "    </tr>\n",
       "  </tbody>\n",
       "</table>\n",
       "</div>"
      ],
      "text/plain": [
       "   min_pay   max_pay\n",
       "0  50000.0  225000.0\n",
       "1  50000.0  250000.0\n",
       "2      NaN       NaN\n",
       "3      NaN       NaN\n",
       "4      NaN       NaN"
      ]
     },
     "execution_count": 21,
     "metadata": {},
     "output_type": "execute_result"
    }
   ],
   "source": [
    "pay.rename(columns={0:'min_pay', 1:'max_pay'}, inplace=True)\n",
    "pay.head()"
   ]
  },
  {
   "cell_type": "code",
   "execution_count": 22,
   "metadata": {},
   "outputs": [],
   "source": [
    "df=pd.concat([df, pay], axis=1, sort=False)"
   ]
  },
  {
   "cell_type": "code",
   "execution_count": 23,
   "metadata": {},
   "outputs": [
    {
     "data": {
      "text/html": [
       "<div>\n",
       "<style scoped>\n",
       "    .dataframe tbody tr th:only-of-type {\n",
       "        vertical-align: middle;\n",
       "    }\n",
       "\n",
       "    .dataframe tbody tr th {\n",
       "        vertical-align: top;\n",
       "    }\n",
       "\n",
       "    .dataframe thead th {\n",
       "        text-align: right;\n",
       "    }\n",
       "</style>\n",
       "<table border=\"1\" class=\"dataframe\">\n",
       "  <thead>\n",
       "    <tr style=\"text-align: right;\">\n",
       "      <th></th>\n",
       "      <th>company</th>\n",
       "      <th>education</th>\n",
       "      <th>experience</th>\n",
       "      <th>industry</th>\n",
       "      <th>jobdescription</th>\n",
       "      <th>jobid</th>\n",
       "      <th>joblocation_address</th>\n",
       "      <th>jobtitle</th>\n",
       "      <th>numberofpositions</th>\n",
       "      <th>payrate</th>\n",
       "      <th>postdate</th>\n",
       "      <th>site_name</th>\n",
       "      <th>skills</th>\n",
       "      <th>uniq_id</th>\n",
       "      <th>min_pay</th>\n",
       "      <th>max_pay</th>\n",
       "    </tr>\n",
       "  </thead>\n",
       "  <tbody>\n",
       "    <tr>\n",
       "      <th>0</th>\n",
       "      <td>MM Media Pvt Ltd</td>\n",
       "      <td>UG: B.Tech/B.E. - Any Specialization PG:Any Po...</td>\n",
       "      <td>0 - 1 yrs</td>\n",
       "      <td>Media / Entertainment / Internet</td>\n",
       "      <td>Job Description   Send me Jobs like this Quali...</td>\n",
       "      <td>210516002263</td>\n",
       "      <td>Chennai</td>\n",
       "      <td>Walkin Data Entry Operator (night Shift)</td>\n",
       "      <td>NaN</td>\n",
       "      <td>1,50,000 - 2,25,000 P.A</td>\n",
       "      <td>2016-05-21 19:30:00 +0000</td>\n",
       "      <td>NaN</td>\n",
       "      <td>ITES</td>\n",
       "      <td>43b19632647068535437c774b6ca6cf8</td>\n",
       "      <td>50000.0</td>\n",
       "      <td>225000.0</td>\n",
       "    </tr>\n",
       "    <tr>\n",
       "      <th>1</th>\n",
       "      <td>find live infotech</td>\n",
       "      <td>UG: B.Tech/B.E. - Any Specialization PG:MBA/PG...</td>\n",
       "      <td>0 - 0 yrs</td>\n",
       "      <td>Advertising / PR / MR / Event Management</td>\n",
       "      <td>Job Description   Send me Jobs like this Quali...</td>\n",
       "      <td>210516002391</td>\n",
       "      <td>Chennai</td>\n",
       "      <td>Work Based Onhome Based Part Time.</td>\n",
       "      <td>60.0</td>\n",
       "      <td>1,50,000 - 2,50,000 P.A. 20000</td>\n",
       "      <td>2016-05-21 19:30:00 +0000</td>\n",
       "      <td>NaN</td>\n",
       "      <td>Marketing</td>\n",
       "      <td>d4c72325e57f89f364812b5ed5a795f0</td>\n",
       "      <td>50000.0</td>\n",
       "      <td>250000.0</td>\n",
       "    </tr>\n",
       "    <tr>\n",
       "      <th>2</th>\n",
       "      <td>Softtech Career Infosystem Pvt. Ltd</td>\n",
       "      <td>UG: Any Graduate - Any Specialization PG:Any P...</td>\n",
       "      <td>4 - 8 yrs</td>\n",
       "      <td>IT-Software / Software Services</td>\n",
       "      <td>Job Description   Send me Jobs like this - as ...</td>\n",
       "      <td>101016900534</td>\n",
       "      <td>Bangalore</td>\n",
       "      <td>Pl/sql Developer - SQL</td>\n",
       "      <td>NaN</td>\n",
       "      <td>Not Disclosed by Recruiter</td>\n",
       "      <td>2016-10-13 16:20:55 +0000</td>\n",
       "      <td>NaN</td>\n",
       "      <td>IT Software - Application Programming</td>\n",
       "      <td>c47df6f4cfdf5b46f1fd713ba61b9eba</td>\n",
       "      <td>NaN</td>\n",
       "      <td>NaN</td>\n",
       "    </tr>\n",
       "    <tr>\n",
       "      <th>3</th>\n",
       "      <td>Onboard HRServices LLP</td>\n",
       "      <td>UG: Any Graduate - Any Specialization PG:CA Do...</td>\n",
       "      <td>11 - 15 yrs</td>\n",
       "      <td>Banking / Financial Services / Broking</td>\n",
       "      <td>Job Description   Send me Jobs like this - Inv...</td>\n",
       "      <td>81016900536</td>\n",
       "      <td>Mumbai, Bangalore, Kolkata, Chennai, Coimbator...</td>\n",
       "      <td>Manager/ad/partner - Indirect Tax - CA</td>\n",
       "      <td>NaN</td>\n",
       "      <td>Not Disclosed by Recruiter</td>\n",
       "      <td>2016-10-13 16:20:55 +0000</td>\n",
       "      <td>NaN</td>\n",
       "      <td>Accounts</td>\n",
       "      <td>115d28f140f694dd1cc61c53d03c66ae</td>\n",
       "      <td>NaN</td>\n",
       "      <td>NaN</td>\n",
       "    </tr>\n",
       "    <tr>\n",
       "      <th>4</th>\n",
       "      <td>Spire Technologies and Solutions Pvt. Ltd.</td>\n",
       "      <td>UG: B.Tech/B.E. - Any Specialization PG:Any Po...</td>\n",
       "      <td>6 - 8 yrs</td>\n",
       "      <td>IT-Software / Software Services</td>\n",
       "      <td>Job Description   Send me Jobs like this Pleas...</td>\n",
       "      <td>120916002122</td>\n",
       "      <td>Bangalore</td>\n",
       "      <td>JAVA Technical Lead (6-8 yrs) -</td>\n",
       "      <td>4.0</td>\n",
       "      <td>Not Disclosed by Recruiter</td>\n",
       "      <td>2016-10-13 16:20:55 +0000</td>\n",
       "      <td>NaN</td>\n",
       "      <td>IT Software - Application Programming</td>\n",
       "      <td>a12553fc03bc7bcced8b1bb8963f97b4</td>\n",
       "      <td>NaN</td>\n",
       "      <td>NaN</td>\n",
       "    </tr>\n",
       "  </tbody>\n",
       "</table>\n",
       "</div>"
      ],
      "text/plain": [
       "                                      company  \\\n",
       "0                            MM Media Pvt Ltd   \n",
       "1                          find live infotech   \n",
       "2         Softtech Career Infosystem Pvt. Ltd   \n",
       "3                      Onboard HRServices LLP   \n",
       "4  Spire Technologies and Solutions Pvt. Ltd.   \n",
       "\n",
       "                                           education   experience  \\\n",
       "0  UG: B.Tech/B.E. - Any Specialization PG:Any Po...    0 - 1 yrs   \n",
       "1  UG: B.Tech/B.E. - Any Specialization PG:MBA/PG...    0 - 0 yrs   \n",
       "2  UG: Any Graduate - Any Specialization PG:Any P...    4 - 8 yrs   \n",
       "3  UG: Any Graduate - Any Specialization PG:CA Do...  11 - 15 yrs   \n",
       "4  UG: B.Tech/B.E. - Any Specialization PG:Any Po...    6 - 8 yrs   \n",
       "\n",
       "                                   industry  \\\n",
       "0          Media / Entertainment / Internet   \n",
       "1  Advertising / PR / MR / Event Management   \n",
       "2           IT-Software / Software Services   \n",
       "3    Banking / Financial Services / Broking   \n",
       "4           IT-Software / Software Services   \n",
       "\n",
       "                                      jobdescription         jobid  \\\n",
       "0  Job Description   Send me Jobs like this Quali...  210516002263   \n",
       "1  Job Description   Send me Jobs like this Quali...  210516002391   \n",
       "2  Job Description   Send me Jobs like this - as ...  101016900534   \n",
       "3  Job Description   Send me Jobs like this - Inv...   81016900536   \n",
       "4  Job Description   Send me Jobs like this Pleas...  120916002122   \n",
       "\n",
       "                                 joblocation_address  \\\n",
       "0                                            Chennai   \n",
       "1                                            Chennai   \n",
       "2                                          Bangalore   \n",
       "3  Mumbai, Bangalore, Kolkata, Chennai, Coimbator...   \n",
       "4                                          Bangalore   \n",
       "\n",
       "                                   jobtitle  numberofpositions  \\\n",
       "0  Walkin Data Entry Operator (night Shift)                NaN   \n",
       "1        Work Based Onhome Based Part Time.               60.0   \n",
       "2                    Pl/sql Developer - SQL                NaN   \n",
       "3    Manager/ad/partner - Indirect Tax - CA                NaN   \n",
       "4           JAVA Technical Lead (6-8 yrs) -                4.0   \n",
       "\n",
       "                          payrate                   postdate  site_name  \\\n",
       "0         1,50,000 - 2,25,000 P.A  2016-05-21 19:30:00 +0000        NaN   \n",
       "1  1,50,000 - 2,50,000 P.A. 20000  2016-05-21 19:30:00 +0000        NaN   \n",
       "2      Not Disclosed by Recruiter  2016-10-13 16:20:55 +0000        NaN   \n",
       "3      Not Disclosed by Recruiter  2016-10-13 16:20:55 +0000        NaN   \n",
       "4      Not Disclosed by Recruiter  2016-10-13 16:20:55 +0000        NaN   \n",
       "\n",
       "                                  skills                           uniq_id  \\\n",
       "0                                   ITES  43b19632647068535437c774b6ca6cf8   \n",
       "1                              Marketing  d4c72325e57f89f364812b5ed5a795f0   \n",
       "2  IT Software - Application Programming  c47df6f4cfdf5b46f1fd713ba61b9eba   \n",
       "3                               Accounts  115d28f140f694dd1cc61c53d03c66ae   \n",
       "4  IT Software - Application Programming  a12553fc03bc7bcced8b1bb8963f97b4   \n",
       "\n",
       "   min_pay   max_pay  \n",
       "0  50000.0  225000.0  \n",
       "1  50000.0  250000.0  \n",
       "2      NaN       NaN  \n",
       "3      NaN       NaN  \n",
       "4      NaN       NaN  "
      ]
     },
     "execution_count": 23,
     "metadata": {},
     "output_type": "execute_result"
    }
   ],
   "source": [
    "df.head()"
   ]
  },
  {
   "attachments": {},
   "cell_type": "markdown",
   "metadata": {},
   "source": [
    "Spliting experience into min_experience and max_experience"
   ]
  },
  {
   "cell_type": "code",
   "execution_count": 24,
   "metadata": {},
   "outputs": [
    {
     "data": {
      "text/html": [
       "<div>\n",
       "<style scoped>\n",
       "    .dataframe tbody tr th:only-of-type {\n",
       "        vertical-align: middle;\n",
       "    }\n",
       "\n",
       "    .dataframe tbody tr th {\n",
       "        vertical-align: top;\n",
       "    }\n",
       "\n",
       "    .dataframe thead th {\n",
       "        text-align: right;\n",
       "    }\n",
       "</style>\n",
       "<table border=\"1\" class=\"dataframe\">\n",
       "  <thead>\n",
       "    <tr style=\"text-align: right;\">\n",
       "      <th></th>\n",
       "      <th>0</th>\n",
       "      <th>1</th>\n",
       "    </tr>\n",
       "  </thead>\n",
       "  <tbody>\n",
       "    <tr>\n",
       "      <th>0</th>\n",
       "      <td>0</td>\n",
       "      <td>1 yr</td>\n",
       "    </tr>\n",
       "    <tr>\n",
       "      <th>1</th>\n",
       "      <td>0</td>\n",
       "      <td>0 yr</td>\n",
       "    </tr>\n",
       "    <tr>\n",
       "      <th>2</th>\n",
       "      <td>4</td>\n",
       "      <td>8 yr</td>\n",
       "    </tr>\n",
       "    <tr>\n",
       "      <th>3</th>\n",
       "      <td>11</td>\n",
       "      <td>15 yr</td>\n",
       "    </tr>\n",
       "    <tr>\n",
       "      <th>4</th>\n",
       "      <td>6</td>\n",
       "      <td>8 yr</td>\n",
       "    </tr>\n",
       "  </tbody>\n",
       "</table>\n",
       "</div>"
      ],
      "text/plain": [
       "     0       1\n",
       "0   0     1 yr\n",
       "1   0     0 yr\n",
       "2   4     8 yr\n",
       "3  11    15 yr\n",
       "4   6     8 yr"
      ]
     },
     "execution_count": 24,
     "metadata": {},
     "output_type": "execute_result"
    }
   ],
   "source": [
    "experience_split = df['experience'].str[0:-1].str.split('-', expand=True)\n",
    "experience_split.head()"
   ]
  },
  {
   "cell_type": "code",
   "execution_count": 25,
   "metadata": {},
   "outputs": [
    {
     "data": {
      "text/plain": [
       "0     1 \n",
       "1     0 \n",
       "2     8 \n",
       "3    15 \n",
       "4     8 \n",
       "Name: 1, dtype: object"
      ]
     },
     "execution_count": 25,
     "metadata": {},
     "output_type": "execute_result"
    }
   ],
   "source": [
    "#remove space in left and right \n",
    "experience_split[1] =  experience_split[1].str.strip()\n",
    "#remove comma \n",
    "experience_split[1] = experience_split[1].str.replace('yr', '')\n",
    "#remove all character in two condition\n",
    "# 1 remove if only character\n",
    "# 2 if start in number remove after all character\n",
    "experience_split[1] = experience_split[1].str.replace(r'yr', '')\n",
    "#display \n",
    "experience_split[1].head()"
   ]
  },
  {
   "cell_type": "code",
   "execution_count": 26,
   "metadata": {},
   "outputs": [],
   "source": [
    "experience_split[0] = pd.to_numeric(experience_split[0], errors='coerce')\n",
    "experience_split[1] = pd.to_numeric(experience_split[1], errors='coerce')"
   ]
  },
  {
   "cell_type": "code",
   "execution_count": 27,
   "metadata": {},
   "outputs": [],
   "source": [
    "experience=pd.concat([experience_split[0], experience_split[1]], axis=1, sort=False)"
   ]
  },
  {
   "cell_type": "code",
   "execution_count": 28,
   "metadata": {},
   "outputs": [
    {
     "data": {
      "text/html": [
       "<div>\n",
       "<style scoped>\n",
       "    .dataframe tbody tr th:only-of-type {\n",
       "        vertical-align: middle;\n",
       "    }\n",
       "\n",
       "    .dataframe tbody tr th {\n",
       "        vertical-align: top;\n",
       "    }\n",
       "\n",
       "    .dataframe thead th {\n",
       "        text-align: right;\n",
       "    }\n",
       "</style>\n",
       "<table border=\"1\" class=\"dataframe\">\n",
       "  <thead>\n",
       "    <tr style=\"text-align: right;\">\n",
       "      <th></th>\n",
       "      <th>min_experience</th>\n",
       "      <th>max_experience</th>\n",
       "    </tr>\n",
       "  </thead>\n",
       "  <tbody>\n",
       "    <tr>\n",
       "      <th>0</th>\n",
       "      <td>0</td>\n",
       "      <td>1</td>\n",
       "    </tr>\n",
       "    <tr>\n",
       "      <th>1</th>\n",
       "      <td>0</td>\n",
       "      <td>0</td>\n",
       "    </tr>\n",
       "    <tr>\n",
       "      <th>2</th>\n",
       "      <td>4</td>\n",
       "      <td>8</td>\n",
       "    </tr>\n",
       "    <tr>\n",
       "      <th>3</th>\n",
       "      <td>11</td>\n",
       "      <td>15</td>\n",
       "    </tr>\n",
       "    <tr>\n",
       "      <th>4</th>\n",
       "      <td>6</td>\n",
       "      <td>8</td>\n",
       "    </tr>\n",
       "  </tbody>\n",
       "</table>\n",
       "</div>"
      ],
      "text/plain": [
       "   min_experience  max_experience\n",
       "0               0               1\n",
       "1               0               0\n",
       "2               4               8\n",
       "3              11              15\n",
       "4               6               8"
      ]
     },
     "execution_count": 28,
     "metadata": {},
     "output_type": "execute_result"
    }
   ],
   "source": [
    "experience.rename(columns={0:'min_experience', 1:'max_experience'}, inplace=True)\n",
    "experience.head()"
   ]
  },
  {
   "cell_type": "code",
   "execution_count": 29,
   "metadata": {},
   "outputs": [
    {
     "data": {
      "text/html": [
       "<div>\n",
       "<style scoped>\n",
       "    .dataframe tbody tr th:only-of-type {\n",
       "        vertical-align: middle;\n",
       "    }\n",
       "\n",
       "    .dataframe tbody tr th {\n",
       "        vertical-align: top;\n",
       "    }\n",
       "\n",
       "    .dataframe thead th {\n",
       "        text-align: right;\n",
       "    }\n",
       "</style>\n",
       "<table border=\"1\" class=\"dataframe\">\n",
       "  <thead>\n",
       "    <tr style=\"text-align: right;\">\n",
       "      <th></th>\n",
       "      <th>company</th>\n",
       "      <th>education</th>\n",
       "      <th>experience</th>\n",
       "      <th>industry</th>\n",
       "      <th>jobdescription</th>\n",
       "      <th>jobid</th>\n",
       "      <th>joblocation_address</th>\n",
       "      <th>jobtitle</th>\n",
       "      <th>numberofpositions</th>\n",
       "      <th>payrate</th>\n",
       "      <th>postdate</th>\n",
       "      <th>site_name</th>\n",
       "      <th>skills</th>\n",
       "      <th>uniq_id</th>\n",
       "      <th>min_pay</th>\n",
       "      <th>max_pay</th>\n",
       "      <th>min_experience</th>\n",
       "      <th>max_experience</th>\n",
       "    </tr>\n",
       "  </thead>\n",
       "  <tbody>\n",
       "    <tr>\n",
       "      <th>0</th>\n",
       "      <td>MM Media Pvt Ltd</td>\n",
       "      <td>UG: B.Tech/B.E. - Any Specialization PG:Any Po...</td>\n",
       "      <td>0 - 1 yrs</td>\n",
       "      <td>Media / Entertainment / Internet</td>\n",
       "      <td>Job Description   Send me Jobs like this Quali...</td>\n",
       "      <td>210516002263</td>\n",
       "      <td>Chennai</td>\n",
       "      <td>Walkin Data Entry Operator (night Shift)</td>\n",
       "      <td>NaN</td>\n",
       "      <td>1,50,000 - 2,25,000 P.A</td>\n",
       "      <td>2016-05-21 19:30:00 +0000</td>\n",
       "      <td>NaN</td>\n",
       "      <td>ITES</td>\n",
       "      <td>43b19632647068535437c774b6ca6cf8</td>\n",
       "      <td>50000.0</td>\n",
       "      <td>225000.0</td>\n",
       "      <td>0</td>\n",
       "      <td>1</td>\n",
       "    </tr>\n",
       "    <tr>\n",
       "      <th>1</th>\n",
       "      <td>find live infotech</td>\n",
       "      <td>UG: B.Tech/B.E. - Any Specialization PG:MBA/PG...</td>\n",
       "      <td>0 - 0 yrs</td>\n",
       "      <td>Advertising / PR / MR / Event Management</td>\n",
       "      <td>Job Description   Send me Jobs like this Quali...</td>\n",
       "      <td>210516002391</td>\n",
       "      <td>Chennai</td>\n",
       "      <td>Work Based Onhome Based Part Time.</td>\n",
       "      <td>60.0</td>\n",
       "      <td>1,50,000 - 2,50,000 P.A. 20000</td>\n",
       "      <td>2016-05-21 19:30:00 +0000</td>\n",
       "      <td>NaN</td>\n",
       "      <td>Marketing</td>\n",
       "      <td>d4c72325e57f89f364812b5ed5a795f0</td>\n",
       "      <td>50000.0</td>\n",
       "      <td>250000.0</td>\n",
       "      <td>0</td>\n",
       "      <td>0</td>\n",
       "    </tr>\n",
       "    <tr>\n",
       "      <th>2</th>\n",
       "      <td>Softtech Career Infosystem Pvt. Ltd</td>\n",
       "      <td>UG: Any Graduate - Any Specialization PG:Any P...</td>\n",
       "      <td>4 - 8 yrs</td>\n",
       "      <td>IT-Software / Software Services</td>\n",
       "      <td>Job Description   Send me Jobs like this - as ...</td>\n",
       "      <td>101016900534</td>\n",
       "      <td>Bangalore</td>\n",
       "      <td>Pl/sql Developer - SQL</td>\n",
       "      <td>NaN</td>\n",
       "      <td>Not Disclosed by Recruiter</td>\n",
       "      <td>2016-10-13 16:20:55 +0000</td>\n",
       "      <td>NaN</td>\n",
       "      <td>IT Software - Application Programming</td>\n",
       "      <td>c47df6f4cfdf5b46f1fd713ba61b9eba</td>\n",
       "      <td>NaN</td>\n",
       "      <td>NaN</td>\n",
       "      <td>4</td>\n",
       "      <td>8</td>\n",
       "    </tr>\n",
       "    <tr>\n",
       "      <th>3</th>\n",
       "      <td>Onboard HRServices LLP</td>\n",
       "      <td>UG: Any Graduate - Any Specialization PG:CA Do...</td>\n",
       "      <td>11 - 15 yrs</td>\n",
       "      <td>Banking / Financial Services / Broking</td>\n",
       "      <td>Job Description   Send me Jobs like this - Inv...</td>\n",
       "      <td>81016900536</td>\n",
       "      <td>Mumbai, Bangalore, Kolkata, Chennai, Coimbator...</td>\n",
       "      <td>Manager/ad/partner - Indirect Tax - CA</td>\n",
       "      <td>NaN</td>\n",
       "      <td>Not Disclosed by Recruiter</td>\n",
       "      <td>2016-10-13 16:20:55 +0000</td>\n",
       "      <td>NaN</td>\n",
       "      <td>Accounts</td>\n",
       "      <td>115d28f140f694dd1cc61c53d03c66ae</td>\n",
       "      <td>NaN</td>\n",
       "      <td>NaN</td>\n",
       "      <td>11</td>\n",
       "      <td>15</td>\n",
       "    </tr>\n",
       "    <tr>\n",
       "      <th>4</th>\n",
       "      <td>Spire Technologies and Solutions Pvt. Ltd.</td>\n",
       "      <td>UG: B.Tech/B.E. - Any Specialization PG:Any Po...</td>\n",
       "      <td>6 - 8 yrs</td>\n",
       "      <td>IT-Software / Software Services</td>\n",
       "      <td>Job Description   Send me Jobs like this Pleas...</td>\n",
       "      <td>120916002122</td>\n",
       "      <td>Bangalore</td>\n",
       "      <td>JAVA Technical Lead (6-8 yrs) -</td>\n",
       "      <td>4.0</td>\n",
       "      <td>Not Disclosed by Recruiter</td>\n",
       "      <td>2016-10-13 16:20:55 +0000</td>\n",
       "      <td>NaN</td>\n",
       "      <td>IT Software - Application Programming</td>\n",
       "      <td>a12553fc03bc7bcced8b1bb8963f97b4</td>\n",
       "      <td>NaN</td>\n",
       "      <td>NaN</td>\n",
       "      <td>6</td>\n",
       "      <td>8</td>\n",
       "    </tr>\n",
       "  </tbody>\n",
       "</table>\n",
       "</div>"
      ],
      "text/plain": [
       "                                      company  \\\n",
       "0                            MM Media Pvt Ltd   \n",
       "1                          find live infotech   \n",
       "2         Softtech Career Infosystem Pvt. Ltd   \n",
       "3                      Onboard HRServices LLP   \n",
       "4  Spire Technologies and Solutions Pvt. Ltd.   \n",
       "\n",
       "                                           education   experience  \\\n",
       "0  UG: B.Tech/B.E. - Any Specialization PG:Any Po...    0 - 1 yrs   \n",
       "1  UG: B.Tech/B.E. - Any Specialization PG:MBA/PG...    0 - 0 yrs   \n",
       "2  UG: Any Graduate - Any Specialization PG:Any P...    4 - 8 yrs   \n",
       "3  UG: Any Graduate - Any Specialization PG:CA Do...  11 - 15 yrs   \n",
       "4  UG: B.Tech/B.E. - Any Specialization PG:Any Po...    6 - 8 yrs   \n",
       "\n",
       "                                   industry  \\\n",
       "0          Media / Entertainment / Internet   \n",
       "1  Advertising / PR / MR / Event Management   \n",
       "2           IT-Software / Software Services   \n",
       "3    Banking / Financial Services / Broking   \n",
       "4           IT-Software / Software Services   \n",
       "\n",
       "                                      jobdescription         jobid  \\\n",
       "0  Job Description   Send me Jobs like this Quali...  210516002263   \n",
       "1  Job Description   Send me Jobs like this Quali...  210516002391   \n",
       "2  Job Description   Send me Jobs like this - as ...  101016900534   \n",
       "3  Job Description   Send me Jobs like this - Inv...   81016900536   \n",
       "4  Job Description   Send me Jobs like this Pleas...  120916002122   \n",
       "\n",
       "                                 joblocation_address  \\\n",
       "0                                            Chennai   \n",
       "1                                            Chennai   \n",
       "2                                          Bangalore   \n",
       "3  Mumbai, Bangalore, Kolkata, Chennai, Coimbator...   \n",
       "4                                          Bangalore   \n",
       "\n",
       "                                   jobtitle  numberofpositions  \\\n",
       "0  Walkin Data Entry Operator (night Shift)                NaN   \n",
       "1        Work Based Onhome Based Part Time.               60.0   \n",
       "2                    Pl/sql Developer - SQL                NaN   \n",
       "3    Manager/ad/partner - Indirect Tax - CA                NaN   \n",
       "4           JAVA Technical Lead (6-8 yrs) -                4.0   \n",
       "\n",
       "                          payrate                   postdate  site_name  \\\n",
       "0         1,50,000 - 2,25,000 P.A  2016-05-21 19:30:00 +0000        NaN   \n",
       "1  1,50,000 - 2,50,000 P.A. 20000  2016-05-21 19:30:00 +0000        NaN   \n",
       "2      Not Disclosed by Recruiter  2016-10-13 16:20:55 +0000        NaN   \n",
       "3      Not Disclosed by Recruiter  2016-10-13 16:20:55 +0000        NaN   \n",
       "4      Not Disclosed by Recruiter  2016-10-13 16:20:55 +0000        NaN   \n",
       "\n",
       "                                  skills                           uniq_id  \\\n",
       "0                                   ITES  43b19632647068535437c774b6ca6cf8   \n",
       "1                              Marketing  d4c72325e57f89f364812b5ed5a795f0   \n",
       "2  IT Software - Application Programming  c47df6f4cfdf5b46f1fd713ba61b9eba   \n",
       "3                               Accounts  115d28f140f694dd1cc61c53d03c66ae   \n",
       "4  IT Software - Application Programming  a12553fc03bc7bcced8b1bb8963f97b4   \n",
       "\n",
       "   min_pay   max_pay  min_experience  max_experience  \n",
       "0  50000.0  225000.0               0               1  \n",
       "1  50000.0  250000.0               0               0  \n",
       "2      NaN       NaN               4               8  \n",
       "3      NaN       NaN              11              15  \n",
       "4      NaN       NaN               6               8  "
      ]
     },
     "execution_count": 29,
     "metadata": {},
     "output_type": "execute_result"
    }
   ],
   "source": [
    "df=pd.concat([df, experience], axis=1, sort=False)\n",
    "df.head()"
   ]
  },
  {
   "cell_type": "code",
   "execution_count": 30,
   "metadata": {},
   "outputs": [],
   "source": [
    "df['avg_pay']=(df['min_pay'].values + df['max_pay'].values)/2\n",
    "df['avg_experience']=(df['min_experience'].values + df['max_experience'].values)/2"
   ]
  },
  {
   "cell_type": "code",
   "execution_count": 31,
   "metadata": {},
   "outputs": [
    {
     "data": {
      "text/html": [
       "<div>\n",
       "<style scoped>\n",
       "    .dataframe tbody tr th:only-of-type {\n",
       "        vertical-align: middle;\n",
       "    }\n",
       "\n",
       "    .dataframe tbody tr th {\n",
       "        vertical-align: top;\n",
       "    }\n",
       "\n",
       "    .dataframe thead th {\n",
       "        text-align: right;\n",
       "    }\n",
       "</style>\n",
       "<table border=\"1\" class=\"dataframe\">\n",
       "  <thead>\n",
       "    <tr style=\"text-align: right;\">\n",
       "      <th></th>\n",
       "      <th>company</th>\n",
       "      <th>education</th>\n",
       "      <th>experience</th>\n",
       "      <th>industry</th>\n",
       "      <th>jobdescription</th>\n",
       "      <th>jobid</th>\n",
       "      <th>joblocation_address</th>\n",
       "      <th>jobtitle</th>\n",
       "      <th>numberofpositions</th>\n",
       "      <th>payrate</th>\n",
       "      <th>postdate</th>\n",
       "      <th>site_name</th>\n",
       "      <th>skills</th>\n",
       "      <th>uniq_id</th>\n",
       "      <th>min_pay</th>\n",
       "      <th>max_pay</th>\n",
       "      <th>min_experience</th>\n",
       "      <th>max_experience</th>\n",
       "      <th>avg_pay</th>\n",
       "      <th>avg_experience</th>\n",
       "    </tr>\n",
       "  </thead>\n",
       "  <tbody>\n",
       "    <tr>\n",
       "      <th>0</th>\n",
       "      <td>MM Media Pvt Ltd</td>\n",
       "      <td>UG: B.Tech/B.E. - Any Specialization PG:Any Po...</td>\n",
       "      <td>0 - 1 yrs</td>\n",
       "      <td>Media / Entertainment / Internet</td>\n",
       "      <td>Job Description   Send me Jobs like this Quali...</td>\n",
       "      <td>210516002263</td>\n",
       "      <td>Chennai</td>\n",
       "      <td>Walkin Data Entry Operator (night Shift)</td>\n",
       "      <td>NaN</td>\n",
       "      <td>1,50,000 - 2,25,000 P.A</td>\n",
       "      <td>2016-05-21 19:30:00 +0000</td>\n",
       "      <td>NaN</td>\n",
       "      <td>ITES</td>\n",
       "      <td>43b19632647068535437c774b6ca6cf8</td>\n",
       "      <td>50000.0</td>\n",
       "      <td>225000.0</td>\n",
       "      <td>0</td>\n",
       "      <td>1</td>\n",
       "      <td>137500.0</td>\n",
       "      <td>0.5</td>\n",
       "    </tr>\n",
       "    <tr>\n",
       "      <th>1</th>\n",
       "      <td>find live infotech</td>\n",
       "      <td>UG: B.Tech/B.E. - Any Specialization PG:MBA/PG...</td>\n",
       "      <td>0 - 0 yrs</td>\n",
       "      <td>Advertising / PR / MR / Event Management</td>\n",
       "      <td>Job Description   Send me Jobs like this Quali...</td>\n",
       "      <td>210516002391</td>\n",
       "      <td>Chennai</td>\n",
       "      <td>Work Based Onhome Based Part Time.</td>\n",
       "      <td>60.0</td>\n",
       "      <td>1,50,000 - 2,50,000 P.A. 20000</td>\n",
       "      <td>2016-05-21 19:30:00 +0000</td>\n",
       "      <td>NaN</td>\n",
       "      <td>Marketing</td>\n",
       "      <td>d4c72325e57f89f364812b5ed5a795f0</td>\n",
       "      <td>50000.0</td>\n",
       "      <td>250000.0</td>\n",
       "      <td>0</td>\n",
       "      <td>0</td>\n",
       "      <td>150000.0</td>\n",
       "      <td>0.0</td>\n",
       "    </tr>\n",
       "    <tr>\n",
       "      <th>2</th>\n",
       "      <td>Softtech Career Infosystem Pvt. Ltd</td>\n",
       "      <td>UG: Any Graduate - Any Specialization PG:Any P...</td>\n",
       "      <td>4 - 8 yrs</td>\n",
       "      <td>IT-Software / Software Services</td>\n",
       "      <td>Job Description   Send me Jobs like this - as ...</td>\n",
       "      <td>101016900534</td>\n",
       "      <td>Bangalore</td>\n",
       "      <td>Pl/sql Developer - SQL</td>\n",
       "      <td>NaN</td>\n",
       "      <td>Not Disclosed by Recruiter</td>\n",
       "      <td>2016-10-13 16:20:55 +0000</td>\n",
       "      <td>NaN</td>\n",
       "      <td>IT Software - Application Programming</td>\n",
       "      <td>c47df6f4cfdf5b46f1fd713ba61b9eba</td>\n",
       "      <td>NaN</td>\n",
       "      <td>NaN</td>\n",
       "      <td>4</td>\n",
       "      <td>8</td>\n",
       "      <td>NaN</td>\n",
       "      <td>6.0</td>\n",
       "    </tr>\n",
       "    <tr>\n",
       "      <th>3</th>\n",
       "      <td>Onboard HRServices LLP</td>\n",
       "      <td>UG: Any Graduate - Any Specialization PG:CA Do...</td>\n",
       "      <td>11 - 15 yrs</td>\n",
       "      <td>Banking / Financial Services / Broking</td>\n",
       "      <td>Job Description   Send me Jobs like this - Inv...</td>\n",
       "      <td>81016900536</td>\n",
       "      <td>Mumbai, Bangalore, Kolkata, Chennai, Coimbator...</td>\n",
       "      <td>Manager/ad/partner - Indirect Tax - CA</td>\n",
       "      <td>NaN</td>\n",
       "      <td>Not Disclosed by Recruiter</td>\n",
       "      <td>2016-10-13 16:20:55 +0000</td>\n",
       "      <td>NaN</td>\n",
       "      <td>Accounts</td>\n",
       "      <td>115d28f140f694dd1cc61c53d03c66ae</td>\n",
       "      <td>NaN</td>\n",
       "      <td>NaN</td>\n",
       "      <td>11</td>\n",
       "      <td>15</td>\n",
       "      <td>NaN</td>\n",
       "      <td>13.0</td>\n",
       "    </tr>\n",
       "    <tr>\n",
       "      <th>4</th>\n",
       "      <td>Spire Technologies and Solutions Pvt. Ltd.</td>\n",
       "      <td>UG: B.Tech/B.E. - Any Specialization PG:Any Po...</td>\n",
       "      <td>6 - 8 yrs</td>\n",
       "      <td>IT-Software / Software Services</td>\n",
       "      <td>Job Description   Send me Jobs like this Pleas...</td>\n",
       "      <td>120916002122</td>\n",
       "      <td>Bangalore</td>\n",
       "      <td>JAVA Technical Lead (6-8 yrs) -</td>\n",
       "      <td>4.0</td>\n",
       "      <td>Not Disclosed by Recruiter</td>\n",
       "      <td>2016-10-13 16:20:55 +0000</td>\n",
       "      <td>NaN</td>\n",
       "      <td>IT Software - Application Programming</td>\n",
       "      <td>a12553fc03bc7bcced8b1bb8963f97b4</td>\n",
       "      <td>NaN</td>\n",
       "      <td>NaN</td>\n",
       "      <td>6</td>\n",
       "      <td>8</td>\n",
       "      <td>NaN</td>\n",
       "      <td>7.0</td>\n",
       "    </tr>\n",
       "    <tr>\n",
       "      <th>...</th>\n",
       "      <td>...</td>\n",
       "      <td>...</td>\n",
       "      <td>...</td>\n",
       "      <td>...</td>\n",
       "      <td>...</td>\n",
       "      <td>...</td>\n",
       "      <td>...</td>\n",
       "      <td>...</td>\n",
       "      <td>...</td>\n",
       "      <td>...</td>\n",
       "      <td>...</td>\n",
       "      <td>...</td>\n",
       "      <td>...</td>\n",
       "      <td>...</td>\n",
       "      <td>...</td>\n",
       "      <td>...</td>\n",
       "      <td>...</td>\n",
       "      <td>...</td>\n",
       "      <td>...</td>\n",
       "      <td>...</td>\n",
       "    </tr>\n",
       "    <tr>\n",
       "      <th>495</th>\n",
       "      <td>Confidential</td>\n",
       "      <td>UG: Any Graduate - Any Specialization PG:Any P...</td>\n",
       "      <td>3 - 6 yrs</td>\n",
       "      <td>Recruitment / Staffing</td>\n",
       "      <td>Job Description   Send me Jobs like this Warm ...</td>\n",
       "      <td>51015003094</td>\n",
       "      <td>Bangalore</td>\n",
       "      <td>Immediate Openings for Non IT Recruiter (engin...</td>\n",
       "      <td>NaN</td>\n",
       "      <td>Not Disclosed by Recruiter</td>\n",
       "      <td>2016-10-10 16:21:08 +0000</td>\n",
       "      <td>NaN</td>\n",
       "      <td>HR</td>\n",
       "      <td>a27332cc1aa133d86b1df6ef328d96ba</td>\n",
       "      <td>NaN</td>\n",
       "      <td>NaN</td>\n",
       "      <td>3</td>\n",
       "      <td>6</td>\n",
       "      <td>NaN</td>\n",
       "      <td>4.5</td>\n",
       "    </tr>\n",
       "    <tr>\n",
       "      <th>496</th>\n",
       "      <td>Career Trackers and Consulting hiring for A ve...</td>\n",
       "      <td>NaN</td>\n",
       "      <td>4 - 9 yrs</td>\n",
       "      <td>IT-Software / Software Services</td>\n",
       "      <td>Job Description   Send me Jobs like this We ha...</td>\n",
       "      <td>101016003895</td>\n",
       "      <td>Bangalore</td>\n",
       "      <td>Oracle Fusion HCM Consultants / Oracle Fusion ...</td>\n",
       "      <td>8.0</td>\n",
       "      <td>Best In The Industry</td>\n",
       "      <td>2016-10-10 16:21:08 +0000</td>\n",
       "      <td>NaN</td>\n",
       "      <td>IT Software - Application Programming</td>\n",
       "      <td>52ed8535ac9beb4e19558e8a10bdf20a</td>\n",
       "      <td>NaN</td>\n",
       "      <td>NaN</td>\n",
       "      <td>4</td>\n",
       "      <td>9</td>\n",
       "      <td>NaN</td>\n",
       "      <td>6.5</td>\n",
       "    </tr>\n",
       "    <tr>\n",
       "      <th>497</th>\n",
       "      <td>Spectrum HR Services hiring for A Reputed Phar...</td>\n",
       "      <td>UG: B.Sc - Any Specialization, B.Pharma - Phar...</td>\n",
       "      <td>4 - 9 yrs</td>\n",
       "      <td>Pharma / Biotech / Clinical Research</td>\n",
       "      <td>Job Description   Send me Jobs like this B.Sc/...</td>\n",
       "      <td>101016004453</td>\n",
       "      <td>Ahmedabad, Bangalore, Hyderabad</td>\n",
       "      <td>Product Manager / GPM - Cardio, CNS, Gastro, D...</td>\n",
       "      <td>6.0</td>\n",
       "      <td>Excellent Working Environment and Growth Oppor...</td>\n",
       "      <td>2016-10-10 16:21:08 +0000</td>\n",
       "      <td>NaN</td>\n",
       "      <td>Marketing</td>\n",
       "      <td>2e833caef4156de04736864dc939c486</td>\n",
       "      <td>NaN</td>\n",
       "      <td>NaN</td>\n",
       "      <td>4</td>\n",
       "      <td>9</td>\n",
       "      <td>NaN</td>\n",
       "      <td>6.5</td>\n",
       "    </tr>\n",
       "    <tr>\n",
       "      <th>498</th>\n",
       "      <td>Namdhari Seeds Private Ltd.</td>\n",
       "      <td>UG: B.Tech/B.E. - Computers, Diploma - Compute...</td>\n",
       "      <td>2 - 4 yrs</td>\n",
       "      <td>Agriculture / Dairy</td>\n",
       "      <td>Job Description   Send me Jobs like this -Mana...</td>\n",
       "      <td>120816000584</td>\n",
       "      <td>Bangalore</td>\n",
       "      <td>Senior Hardware/network Engg</td>\n",
       "      <td>NaN</td>\n",
       "      <td>3,00,000 - 3,50,000 P.A</td>\n",
       "      <td>2016-10-10 16:21:08 +0000</td>\n",
       "      <td>NaN</td>\n",
       "      <td>NaN</td>\n",
       "      <td>0fa10304ef59566c6e79f8e493489755</td>\n",
       "      <td>0.0</td>\n",
       "      <td>350000.0</td>\n",
       "      <td>2</td>\n",
       "      <td>4</td>\n",
       "      <td>175000.0</td>\n",
       "      <td>3.0</td>\n",
       "    </tr>\n",
       "    <tr>\n",
       "      <th>499</th>\n",
       "      <td>IZEE MANPOWER CONSULTANCY PRIVATE LIMITED</td>\n",
       "      <td>UG: Other Graduate, B.Tech/B.E. - Any Speciali...</td>\n",
       "      <td>1 - 6 yrs</td>\n",
       "      <td>BPO / Call Centre / ITES</td>\n",
       "      <td>Job Description   Send me Jobs like this Warm ...</td>\n",
       "      <td>101016000469</td>\n",
       "      <td>Bangalore</td>\n",
       "      <td>Trouble Shooting/tsr/call Center sal up to 5.5...</td>\n",
       "      <td>NaN</td>\n",
       "      <td>2,00,000 - 5,50,000 P.A. + Incentives</td>\n",
       "      <td>2016-10-10 16:21:08 +0000</td>\n",
       "      <td>NaN</td>\n",
       "      <td>ITES</td>\n",
       "      <td>7189d594304721eb8a070405735adc86</td>\n",
       "      <td>0.0</td>\n",
       "      <td>550000.0</td>\n",
       "      <td>1</td>\n",
       "      <td>6</td>\n",
       "      <td>275000.0</td>\n",
       "      <td>3.5</td>\n",
       "    </tr>\n",
       "  </tbody>\n",
       "</table>\n",
       "<p>500 rows × 20 columns</p>\n",
       "</div>"
      ],
      "text/plain": [
       "                                               company  \\\n",
       "0                                     MM Media Pvt Ltd   \n",
       "1                                   find live infotech   \n",
       "2                  Softtech Career Infosystem Pvt. Ltd   \n",
       "3                               Onboard HRServices LLP   \n",
       "4           Spire Technologies and Solutions Pvt. Ltd.   \n",
       "..                                                 ...   \n",
       "495                                       Confidential   \n",
       "496  Career Trackers and Consulting hiring for A ve...   \n",
       "497  Spectrum HR Services hiring for A Reputed Phar...   \n",
       "498                        Namdhari Seeds Private Ltd.   \n",
       "499          IZEE MANPOWER CONSULTANCY PRIVATE LIMITED   \n",
       "\n",
       "                                             education   experience  \\\n",
       "0    UG: B.Tech/B.E. - Any Specialization PG:Any Po...    0 - 1 yrs   \n",
       "1    UG: B.Tech/B.E. - Any Specialization PG:MBA/PG...    0 - 0 yrs   \n",
       "2    UG: Any Graduate - Any Specialization PG:Any P...    4 - 8 yrs   \n",
       "3    UG: Any Graduate - Any Specialization PG:CA Do...  11 - 15 yrs   \n",
       "4    UG: B.Tech/B.E. - Any Specialization PG:Any Po...    6 - 8 yrs   \n",
       "..                                                 ...          ...   \n",
       "495  UG: Any Graduate - Any Specialization PG:Any P...    3 - 6 yrs   \n",
       "496                                                NaN    4 - 9 yrs   \n",
       "497  UG: B.Sc - Any Specialization, B.Pharma - Phar...    4 - 9 yrs   \n",
       "498  UG: B.Tech/B.E. - Computers, Diploma - Compute...    2 - 4 yrs   \n",
       "499  UG: Other Graduate, B.Tech/B.E. - Any Speciali...    1 - 6 yrs   \n",
       "\n",
       "                                     industry  \\\n",
       "0            Media / Entertainment / Internet   \n",
       "1    Advertising / PR / MR / Event Management   \n",
       "2             IT-Software / Software Services   \n",
       "3      Banking / Financial Services / Broking   \n",
       "4             IT-Software / Software Services   \n",
       "..                                        ...   \n",
       "495                    Recruitment / Staffing   \n",
       "496           IT-Software / Software Services   \n",
       "497      Pharma / Biotech / Clinical Research   \n",
       "498                       Agriculture / Dairy   \n",
       "499                  BPO / Call Centre / ITES   \n",
       "\n",
       "                                        jobdescription         jobid  \\\n",
       "0    Job Description   Send me Jobs like this Quali...  210516002263   \n",
       "1    Job Description   Send me Jobs like this Quali...  210516002391   \n",
       "2    Job Description   Send me Jobs like this - as ...  101016900534   \n",
       "3    Job Description   Send me Jobs like this - Inv...   81016900536   \n",
       "4    Job Description   Send me Jobs like this Pleas...  120916002122   \n",
       "..                                                 ...           ...   \n",
       "495  Job Description   Send me Jobs like this Warm ...   51015003094   \n",
       "496  Job Description   Send me Jobs like this We ha...  101016003895   \n",
       "497  Job Description   Send me Jobs like this B.Sc/...  101016004453   \n",
       "498  Job Description   Send me Jobs like this -Mana...  120816000584   \n",
       "499  Job Description   Send me Jobs like this Warm ...  101016000469   \n",
       "\n",
       "                                   joblocation_address  \\\n",
       "0                                              Chennai   \n",
       "1                                              Chennai   \n",
       "2                                            Bangalore   \n",
       "3    Mumbai, Bangalore, Kolkata, Chennai, Coimbator...   \n",
       "4                                            Bangalore   \n",
       "..                                                 ...   \n",
       "495                                          Bangalore   \n",
       "496                                          Bangalore   \n",
       "497                    Ahmedabad, Bangalore, Hyderabad   \n",
       "498                                          Bangalore   \n",
       "499                                          Bangalore   \n",
       "\n",
       "                                              jobtitle  numberofpositions  \\\n",
       "0             Walkin Data Entry Operator (night Shift)                NaN   \n",
       "1                   Work Based Onhome Based Part Time.               60.0   \n",
       "2                               Pl/sql Developer - SQL                NaN   \n",
       "3               Manager/ad/partner - Indirect Tax - CA                NaN   \n",
       "4                      JAVA Technical Lead (6-8 yrs) -                4.0   \n",
       "..                                                 ...                ...   \n",
       "495  Immediate Openings for Non IT Recruiter (engin...                NaN   \n",
       "496  Oracle Fusion HCM Consultants / Oracle Fusion ...                8.0   \n",
       "497  Product Manager / GPM - Cardio, CNS, Gastro, D...                6.0   \n",
       "498                       Senior Hardware/network Engg                NaN   \n",
       "499  Trouble Shooting/tsr/call Center sal up to 5.5...                NaN   \n",
       "\n",
       "                                               payrate  \\\n",
       "0                              1,50,000 - 2,25,000 P.A   \n",
       "1                       1,50,000 - 2,50,000 P.A. 20000   \n",
       "2                           Not Disclosed by Recruiter   \n",
       "3                           Not Disclosed by Recruiter   \n",
       "4                           Not Disclosed by Recruiter   \n",
       "..                                                 ...   \n",
       "495                         Not Disclosed by Recruiter   \n",
       "496                               Best In The Industry   \n",
       "497  Excellent Working Environment and Growth Oppor...   \n",
       "498                            3,00,000 - 3,50,000 P.A   \n",
       "499              2,00,000 - 5,50,000 P.A. + Incentives   \n",
       "\n",
       "                      postdate  site_name  \\\n",
       "0    2016-05-21 19:30:00 +0000        NaN   \n",
       "1    2016-05-21 19:30:00 +0000        NaN   \n",
       "2    2016-10-13 16:20:55 +0000        NaN   \n",
       "3    2016-10-13 16:20:55 +0000        NaN   \n",
       "4    2016-10-13 16:20:55 +0000        NaN   \n",
       "..                         ...        ...   \n",
       "495  2016-10-10 16:21:08 +0000        NaN   \n",
       "496  2016-10-10 16:21:08 +0000        NaN   \n",
       "497  2016-10-10 16:21:08 +0000        NaN   \n",
       "498  2016-10-10 16:21:08 +0000        NaN   \n",
       "499  2016-10-10 16:21:08 +0000        NaN   \n",
       "\n",
       "                                    skills                           uniq_id  \\\n",
       "0                                     ITES  43b19632647068535437c774b6ca6cf8   \n",
       "1                                Marketing  d4c72325e57f89f364812b5ed5a795f0   \n",
       "2    IT Software - Application Programming  c47df6f4cfdf5b46f1fd713ba61b9eba   \n",
       "3                                 Accounts  115d28f140f694dd1cc61c53d03c66ae   \n",
       "4    IT Software - Application Programming  a12553fc03bc7bcced8b1bb8963f97b4   \n",
       "..                                     ...                               ...   \n",
       "495                                     HR  a27332cc1aa133d86b1df6ef328d96ba   \n",
       "496  IT Software - Application Programming  52ed8535ac9beb4e19558e8a10bdf20a   \n",
       "497                              Marketing  2e833caef4156de04736864dc939c486   \n",
       "498                                    NaN  0fa10304ef59566c6e79f8e493489755   \n",
       "499                                   ITES  7189d594304721eb8a070405735adc86   \n",
       "\n",
       "     min_pay   max_pay  min_experience  max_experience   avg_pay  \\\n",
       "0    50000.0  225000.0               0               1  137500.0   \n",
       "1    50000.0  250000.0               0               0  150000.0   \n",
       "2        NaN       NaN               4               8       NaN   \n",
       "3        NaN       NaN              11              15       NaN   \n",
       "4        NaN       NaN               6               8       NaN   \n",
       "..       ...       ...             ...             ...       ...   \n",
       "495      NaN       NaN               3               6       NaN   \n",
       "496      NaN       NaN               4               9       NaN   \n",
       "497      NaN       NaN               4               9       NaN   \n",
       "498      0.0  350000.0               2               4  175000.0   \n",
       "499      0.0  550000.0               1               6  275000.0   \n",
       "\n",
       "     avg_experience  \n",
       "0               0.5  \n",
       "1               0.0  \n",
       "2               6.0  \n",
       "3              13.0  \n",
       "4               7.0  \n",
       "..              ...  \n",
       "495             4.5  \n",
       "496             6.5  \n",
       "497             6.5  \n",
       "498             3.0  \n",
       "499             3.5  \n",
       "\n",
       "[500 rows x 20 columns]"
      ]
     },
     "execution_count": 31,
     "metadata": {},
     "output_type": "execute_result"
    }
   ],
   "source": [
    "df"
   ]
  },
  {
   "cell_type": "code",
   "execution_count": 32,
   "metadata": {},
   "outputs": [
    {
     "data": {
      "application/vnd.plotly.v1+json": {
       "config": {
        "plotlyServerURL": "https://plot.ly"
       },
       "data": [
        {
         "hovertemplate": "jobid=210516002263<br>min_experience=%{x}<br>min_pay=%{y}<extra></extra>",
         "legendgroup": "210516002263",
         "marker": {
          "color": "#636efa"
         },
         "name": "210516002263",
         "orientation": "v",
         "showlegend": true,
         "type": "funnel",
         "x": [
          0
         ],
         "xaxis": "x",
         "y": [
          50000
         ],
         "yaxis": "y"
        },
        {
         "hovertemplate": "jobid=210516002391<br>min_experience=%{x}<br>min_pay=%{y}<extra></extra>",
         "legendgroup": "210516002391",
         "marker": {
          "color": "#EF553B"
         },
         "name": "210516002391",
         "orientation": "v",
         "showlegend": true,
         "type": "funnel",
         "x": [
          0
         ],
         "xaxis": "x",
         "y": [
          50000
         ],
         "yaxis": "y"
        },
        {
         "hovertemplate": "jobid=101016900534<br>min_experience=%{x}<br>min_pay=%{y}<extra></extra>",
         "legendgroup": "101016900534",
         "marker": {
          "color": "#00cc96"
         },
         "name": "101016900534",
         "orientation": "v",
         "showlegend": true,
         "type": "funnel",
         "x": [
          4
         ],
         "xaxis": "x",
         "y": [
          null
         ],
         "yaxis": "y"
        },
        {
         "hovertemplate": "jobid=81016900536<br>min_experience=%{x}<br>min_pay=%{y}<extra></extra>",
         "legendgroup": "81016900536",
         "marker": {
          "color": "#ab63fa"
         },
         "name": "81016900536",
         "orientation": "v",
         "showlegend": true,
         "type": "funnel",
         "x": [
          11
         ],
         "xaxis": "x",
         "y": [
          null
         ],
         "yaxis": "y"
        },
        {
         "hovertemplate": "jobid=120916002122<br>min_experience=%{x}<br>min_pay=%{y}<extra></extra>",
         "legendgroup": "120916002122",
         "marker": {
          "color": "#FFA15A"
         },
         "name": "120916002122",
         "orientation": "v",
         "showlegend": true,
         "type": "funnel",
         "x": [
          6
         ],
         "xaxis": "x",
         "y": [
          null
         ],
         "yaxis": "y"
        },
        {
         "hovertemplate": "jobid=131016005070<br>min_experience=%{x}<br>min_pay=%{y}<extra></extra>",
         "legendgroup": "131016005070",
         "marker": {
          "color": "#19d3f3"
         },
         "name": "131016005070",
         "orientation": "v",
         "showlegend": true,
         "type": "funnel",
         "x": [
          2
         ],
         "xaxis": "x",
         "y": [
          null
         ],
         "yaxis": "y"
        },
        {
         "hovertemplate": "jobid=131016004451<br>min_experience=%{x}<br>min_pay=%{y}<extra></extra>",
         "legendgroup": "131016004451",
         "marker": {
          "color": "#FF6692"
         },
         "name": "131016004451",
         "orientation": "v",
         "showlegend": true,
         "type": "funnel",
         "x": [
          1
         ],
         "xaxis": "x",
         "y": [
          0
         ],
         "yaxis": "y"
        },
        {
         "hovertemplate": "jobid=121016002995<br>min_experience=%{x}<br>min_pay=%{y}<extra></extra>",
         "legendgroup": "121016002995",
         "marker": {
          "color": "#B6E880"
         },
         "name": "121016002995",
         "orientation": "v",
         "showlegend": true,
         "type": "funnel",
         "x": [
          2
         ],
         "xaxis": "x",
         "y": [
          null
         ],
         "yaxis": "y"
        },
        {
         "hovertemplate": "jobid=131016002120<br>min_experience=%{x}<br>min_pay=%{y}<extra></extra>",
         "legendgroup": "131016002120",
         "marker": {
          "color": "#FF97FF"
         },
         "name": "131016002120",
         "orientation": "v",
         "showlegend": true,
         "type": "funnel",
         "x": [
          1
         ],
         "xaxis": "x",
         "y": [
          0
         ],
         "yaxis": "y"
        },
        {
         "hovertemplate": "jobid=121016901354<br>min_experience=%{x}<br>min_pay=%{y}<extra></extra>",
         "legendgroup": "121016901354",
         "marker": {
          "color": "#FECB52"
         },
         "name": "121016901354",
         "orientation": "v",
         "showlegend": true,
         "type": "funnel",
         "x": [
          1
         ],
         "xaxis": "x",
         "y": [
          null
         ],
         "yaxis": "y"
        },
        {
         "hovertemplate": "jobid=101016001508<br>min_experience=%{x}<br>min_pay=%{y}<extra></extra>",
         "legendgroup": "101016001508",
         "marker": {
          "color": "#636efa"
         },
         "name": "101016001508",
         "orientation": "v",
         "showlegend": true,
         "type": "funnel",
         "x": [
          1
         ],
         "xaxis": "x",
         "y": [
          null
         ],
         "yaxis": "y"
        },
        {
         "hovertemplate": "jobid=61016003187<br>min_experience=%{x}<br>min_pay=%{y}<extra></extra>",
         "legendgroup": "61016003187",
         "marker": {
          "color": "#EF553B"
         },
         "name": "61016003187",
         "orientation": "v",
         "showlegend": true,
         "type": "funnel",
         "x": [
          4
         ],
         "xaxis": "x",
         "y": [
          null
         ],
         "yaxis": "y"
        },
        {
         "hovertemplate": "jobid=131016006001<br>min_experience=%{x}<br>min_pay=%{y}<extra></extra>",
         "legendgroup": "131016006001",
         "marker": {
          "color": "#00cc96"
         },
         "name": "131016006001",
         "orientation": "v",
         "showlegend": true,
         "type": "funnel",
         "x": [
          2
         ],
         "xaxis": "x",
         "y": [
          75000
         ],
         "yaxis": "y"
        },
        {
         "hovertemplate": "jobid=131016003744<br>min_experience=%{x}<br>min_pay=%{y}<extra></extra>",
         "legendgroup": "131016003744",
         "marker": {
          "color": "#ab63fa"
         },
         "name": "131016003744",
         "orientation": "v",
         "showlegend": true,
         "type": "funnel",
         "x": [
          3
         ],
         "xaxis": "x",
         "y": [
          null
         ],
         "yaxis": "y"
        },
        {
         "hovertemplate": "jobid=121016901343<br>min_experience=%{x}<br>min_pay=%{y}<extra></extra>",
         "legendgroup": "121016901343",
         "marker": {
          "color": "#FFA15A"
         },
         "name": "121016901343",
         "orientation": "v",
         "showlegend": true,
         "type": "funnel",
         "x": [
          1
         ],
         "xaxis": "x",
         "y": [
          null
         ],
         "yaxis": "y"
        },
        {
         "hovertemplate": "jobid=121016900092<br>min_experience=%{x}<br>min_pay=%{y}<extra></extra>",
         "legendgroup": "121016900092",
         "marker": {
          "color": "#19d3f3"
         },
         "name": "121016900092",
         "orientation": "v",
         "showlegend": true,
         "type": "funnel",
         "x": [
          5
         ],
         "xaxis": "x",
         "y": [
          null
         ],
         "yaxis": "y"
        },
        {
         "hovertemplate": "jobid=30916001587<br>min_experience=%{x}<br>min_pay=%{y}<extra></extra>",
         "legendgroup": "30916001587",
         "marker": {
          "color": "#FF6692"
         },
         "name": "30916001587",
         "orientation": "v",
         "showlegend": true,
         "type": "funnel",
         "x": [
          1
         ],
         "xaxis": "x",
         "y": [
          0
         ],
         "yaxis": "y"
        },
        {
         "hovertemplate": "jobid=131016002831<br>min_experience=%{x}<br>min_pay=%{y}<extra></extra>",
         "legendgroup": "131016002831",
         "marker": {
          "color": "#B6E880"
         },
         "name": "131016002831",
         "orientation": "v",
         "showlegend": true,
         "type": "funnel",
         "x": [
          2
         ],
         "xaxis": "x",
         "y": [
          0
         ],
         "yaxis": "y"
        },
        {
         "hovertemplate": "jobid=81016900140<br>min_experience=%{x}<br>min_pay=%{y}<extra></extra>",
         "legendgroup": "81016900140",
         "marker": {
          "color": "#FF97FF"
         },
         "name": "81016900140",
         "orientation": "v",
         "showlegend": true,
         "type": "funnel",
         "x": [
          5
         ],
         "xaxis": "x",
         "y": [
          null
         ],
         "yaxis": "y"
        },
        {
         "hovertemplate": "jobid=131016900573<br>min_experience=%{x}<br>min_pay=%{y}<extra></extra>",
         "legendgroup": "131016900573",
         "marker": {
          "color": "#FECB52"
         },
         "name": "131016900573",
         "orientation": "v",
         "showlegend": true,
         "type": "funnel",
         "x": [
          0
         ],
         "xaxis": "x",
         "y": [
          null
         ],
         "yaxis": "y"
        },
        {
         "hovertemplate": "jobid=121016901388<br>min_experience=%{x}<br>min_pay=%{y}<extra></extra>",
         "legendgroup": "121016901388",
         "marker": {
          "color": "#636efa"
         },
         "name": "121016901388",
         "orientation": "v",
         "showlegend": true,
         "type": "funnel",
         "x": [
          1
         ],
         "xaxis": "x",
         "y": [
          null
         ],
         "yaxis": "y"
        },
        {
         "hovertemplate": "jobid=160316902471<br>min_experience=%{x}<br>min_pay=%{y}<extra></extra>",
         "legendgroup": "160316902471",
         "marker": {
          "color": "#EF553B"
         },
         "name": "160316902471",
         "orientation": "v",
         "showlegend": true,
         "type": "funnel",
         "x": [
          5
         ],
         "xaxis": "x",
         "y": [
          null
         ],
         "yaxis": "y"
        },
        {
         "hovertemplate": "jobid=131016003382<br>min_experience=%{x}<br>min_pay=%{y}<extra></extra>",
         "legendgroup": "131016003382",
         "marker": {
          "color": "#00cc96"
         },
         "name": "131016003382",
         "orientation": "v",
         "showlegend": true,
         "type": "funnel",
         "x": [
          3
         ],
         "xaxis": "x",
         "y": [
          50000
         ],
         "yaxis": "y"
        },
        {
         "hovertemplate": "jobid=110116900920<br>min_experience=%{x}<br>min_pay=%{y}<extra></extra>",
         "legendgroup": "110116900920",
         "marker": {
          "color": "#ab63fa"
         },
         "name": "110116900920",
         "orientation": "v",
         "showlegend": true,
         "type": "funnel",
         "x": [
          6
         ],
         "xaxis": "x",
         "y": [
          null
         ],
         "yaxis": "y"
        },
        {
         "hovertemplate": "jobid=100816900876<br>min_experience=%{x}<br>min_pay=%{y}<extra></extra>",
         "legendgroup": "100816900876",
         "marker": {
          "color": "#FFA15A"
         },
         "name": "100816900876",
         "orientation": "v",
         "showlegend": true,
         "type": "funnel",
         "x": [
          10
         ],
         "xaxis": "x",
         "y": [
          null
         ],
         "yaxis": "y"
        },
        {
         "hovertemplate": "jobid=101016900097<br>min_experience=%{x}<br>min_pay=%{y}<extra></extra>",
         "legendgroup": "101016900097",
         "marker": {
          "color": "#19d3f3"
         },
         "name": "101016900097",
         "orientation": "v",
         "showlegend": true,
         "type": "funnel",
         "x": [
          4
         ],
         "xaxis": "x",
         "y": [
          null
         ],
         "yaxis": "y"
        },
        {
         "hovertemplate": "jobid=131016007060<br>min_experience=%{x}<br>min_pay=%{y}<extra></extra>",
         "legendgroup": "131016007060",
         "marker": {
          "color": "#FF6692"
         },
         "name": "131016007060",
         "orientation": "v",
         "showlegend": true,
         "type": "funnel",
         "x": [
          1
         ],
         "xaxis": "x",
         "y": [
          75000
         ],
         "yaxis": "y"
        },
        {
         "hovertemplate": "jobid=131016005890<br>min_experience=%{x}<br>min_pay=%{y}<extra></extra>",
         "legendgroup": "131016005890",
         "marker": {
          "color": "#B6E880"
         },
         "name": "131016005890",
         "orientation": "v",
         "showlegend": true,
         "type": "funnel",
         "x": [
          0
         ],
         "xaxis": "x",
         "y": [
          0
         ],
         "yaxis": "y"
        },
        {
         "hovertemplate": "jobid=121016004415<br>min_experience=%{x}<br>min_pay=%{y}<extra></extra>",
         "legendgroup": "121016004415",
         "marker": {
          "color": "#FF97FF"
         },
         "name": "121016004415",
         "orientation": "v",
         "showlegend": true,
         "type": "funnel",
         "x": [
          3
         ],
         "xaxis": "x",
         "y": [
          0
         ],
         "yaxis": "y"
        },
        {
         "hovertemplate": "jobid=30916004016<br>min_experience=%{x}<br>min_pay=%{y}<extra></extra>",
         "legendgroup": "30916004016",
         "marker": {
          "color": "#FECB52"
         },
         "name": "30916004016",
         "orientation": "v",
         "showlegend": true,
         "type": "funnel",
         "x": [
          4
         ],
         "xaxis": "x",
         "y": [
          null
         ],
         "yaxis": "y"
        },
        {
         "hovertemplate": "jobid=131016007104<br>min_experience=%{x}<br>min_pay=%{y}<extra></extra>",
         "legendgroup": "131016007104",
         "marker": {
          "color": "#636efa"
         },
         "name": "131016007104",
         "orientation": "v",
         "showlegend": true,
         "type": "funnel",
         "x": [
          3
         ],
         "xaxis": "x",
         "y": [
          null
         ],
         "yaxis": "y"
        },
        {
         "hovertemplate": "jobid=131016004798<br>min_experience=%{x}<br>min_pay=%{y}<extra></extra>",
         "legendgroup": "131016004798",
         "marker": {
          "color": "#EF553B"
         },
         "name": "131016004798",
         "orientation": "v",
         "showlegend": true,
         "type": "funnel",
         "x": [
          5
         ],
         "xaxis": "x",
         "y": [
          0
         ],
         "yaxis": "y"
        },
        {
         "hovertemplate": "jobid=70916003296<br>min_experience=%{x}<br>min_pay=%{y}<extra></extra>",
         "legendgroup": "70916003296",
         "marker": {
          "color": "#00cc96"
         },
         "name": "70916003296",
         "orientation": "v",
         "showlegend": true,
         "type": "funnel",
         "x": [
          5
         ],
         "xaxis": "x",
         "y": [
          null
         ],
         "yaxis": "y"
        },
        {
         "hovertemplate": "jobid=121016901250<br>min_experience=%{x}<br>min_pay=%{y}<extra></extra>",
         "legendgroup": "121016901250",
         "marker": {
          "color": "#ab63fa"
         },
         "name": "121016901250",
         "orientation": "v",
         "showlegend": true,
         "type": "funnel",
         "x": [
          1
         ],
         "xaxis": "x",
         "y": [
          null
         ],
         "yaxis": "y"
        },
        {
         "hovertemplate": "jobid=150916000405<br>min_experience=%{x}<br>min_pay=%{y}<extra></extra>",
         "legendgroup": "150916000405",
         "marker": {
          "color": "#FFA15A"
         },
         "name": "150916000405",
         "orientation": "v",
         "showlegend": true,
         "type": "funnel",
         "x": [
          5
         ],
         "xaxis": "x",
         "y": [
          0
         ],
         "yaxis": "y"
        },
        {
         "hovertemplate": "jobid=71016901832<br>min_experience=%{x}<br>min_pay=%{y}<extra></extra>",
         "legendgroup": "71016901832",
         "marker": {
          "color": "#19d3f3"
         },
         "name": "71016901832",
         "orientation": "v",
         "showlegend": true,
         "type": "funnel",
         "x": [
          4
         ],
         "xaxis": "x",
         "y": [
          null
         ],
         "yaxis": "y"
        },
        {
         "hovertemplate": "jobid=81016900152<br>min_experience=%{x}<br>min_pay=%{y}<extra></extra>",
         "legendgroup": "81016900152",
         "marker": {
          "color": "#FF6692"
         },
         "name": "81016900152",
         "orientation": "v",
         "showlegend": true,
         "type": "funnel",
         "x": [
          4
         ],
         "xaxis": "x",
         "y": [
          null
         ],
         "yaxis": "y"
        },
        {
         "hovertemplate": "jobid=121016901125<br>min_experience=%{x}<br>min_pay=%{y}<extra></extra>",
         "legendgroup": "121016901125",
         "marker": {
          "color": "#B6E880"
         },
         "name": "121016901125",
         "orientation": "v",
         "showlegend": true,
         "type": "funnel",
         "x": [
          3
         ],
         "xaxis": "x",
         "y": [
          null
         ],
         "yaxis": "y"
        },
        {
         "hovertemplate": "jobid=131016006427<br>min_experience=%{x}<br>min_pay=%{y}<extra></extra>",
         "legendgroup": "131016006427",
         "marker": {
          "color": "#FF97FF"
         },
         "name": "131016006427",
         "orientation": "v",
         "showlegend": true,
         "type": "funnel",
         "x": [
          0
         ],
         "xaxis": "x",
         "y": [
          0
         ],
         "yaxis": "y"
        },
        {
         "hovertemplate": "jobid=101016002851<br>min_experience=%{x}<br>min_pay=%{y}<extra></extra>",
         "legendgroup": "101016002851",
         "marker": {
          "color": "#FECB52"
         },
         "name": "101016002851",
         "orientation": "v",
         "showlegend": true,
         "type": "funnel",
         "x": [
          5
         ],
         "xaxis": "x",
         "y": [
          null
         ],
         "yaxis": "y"
        },
        {
         "hovertemplate": "jobid=10816900754<br>min_experience=%{x}<br>min_pay=%{y}<extra></extra>",
         "legendgroup": "10816900754",
         "marker": {
          "color": "#636efa"
         },
         "name": "10816900754",
         "orientation": "v",
         "showlegend": true,
         "type": "funnel",
         "x": [
          9
         ],
         "xaxis": "x",
         "y": [
          null
         ],
         "yaxis": "y"
        },
        {
         "hovertemplate": "jobid=131016006548<br>min_experience=%{x}<br>min_pay=%{y}<extra></extra>",
         "legendgroup": "131016006548",
         "marker": {
          "color": "#EF553B"
         },
         "name": "131016006548",
         "orientation": "v",
         "showlegend": true,
         "type": "funnel",
         "x": [
          5
         ],
         "xaxis": "x",
         "y": [
          null
         ],
         "yaxis": "y"
        },
        {
         "hovertemplate": "jobid=220116901982<br>min_experience=%{x}<br>min_pay=%{y}<extra></extra>",
         "legendgroup": "220116901982",
         "marker": {
          "color": "#00cc96"
         },
         "name": "220116901982",
         "orientation": "v",
         "showlegend": true,
         "type": "funnel",
         "x": [
          2
         ],
         "xaxis": "x",
         "y": [
          null
         ],
         "yaxis": "y"
        },
        {
         "hovertemplate": "jobid=81016900144<br>min_experience=%{x}<br>min_pay=%{y}<extra></extra>",
         "legendgroup": "81016900144",
         "marker": {
          "color": "#ab63fa"
         },
         "name": "81016900144",
         "orientation": "v",
         "showlegend": true,
         "type": "funnel",
         "x": [
          5
         ],
         "xaxis": "x",
         "y": [
          null
         ],
         "yaxis": "y"
        },
        {
         "hovertemplate": "jobid=91016000411<br>min_experience=%{x}<br>min_pay=%{y}<extra></extra>",
         "legendgroup": "91016000411",
         "marker": {
          "color": "#FFA15A"
         },
         "name": "91016000411",
         "orientation": "v",
         "showlegend": true,
         "type": "funnel",
         "x": [
          7
         ],
         "xaxis": "x",
         "y": [
          null
         ],
         "yaxis": "y"
        },
        {
         "hovertemplate": "jobid=131016002725<br>min_experience=%{x}<br>min_pay=%{y}<extra></extra>",
         "legendgroup": "131016002725",
         "marker": {
          "color": "#19d3f3"
         },
         "name": "131016002725",
         "orientation": "v",
         "showlegend": true,
         "type": "funnel",
         "x": [
          0
         ],
         "xaxis": "x",
         "y": [
          null
         ],
         "yaxis": "y"
        },
        {
         "hovertemplate": "jobid=131016900433<br>min_experience=%{x}<br>min_pay=%{y}<extra></extra>",
         "legendgroup": "131016900433",
         "marker": {
          "color": "#FF6692"
         },
         "name": "131016900433",
         "orientation": "v",
         "showlegend": true,
         "type": "funnel",
         "x": [
          6
         ],
         "xaxis": "x",
         "y": [
          null
         ],
         "yaxis": "y"
        },
        {
         "hovertemplate": "jobid=40416004276<br>min_experience=%{x}<br>min_pay=%{y}<extra></extra>",
         "legendgroup": "40416004276",
         "marker": {
          "color": "#B6E880"
         },
         "name": "40416004276",
         "orientation": "v",
         "showlegend": true,
         "type": "funnel",
         "x": [
          3
         ],
         "xaxis": "x",
         "y": [
          null
         ],
         "yaxis": "y"
        },
        {
         "hovertemplate": "jobid=160316902462<br>min_experience=%{x}<br>min_pay=%{y}<extra></extra>",
         "legendgroup": "160316902462",
         "marker": {
          "color": "#FF97FF"
         },
         "name": "160316902462",
         "orientation": "v",
         "showlegend": true,
         "type": "funnel",
         "x": [
          3
         ],
         "xaxis": "x",
         "y": [
          null
         ],
         "yaxis": "y"
        },
        {
         "hovertemplate": "jobid=131016007165<br>min_experience=%{x}<br>min_pay=%{y}<extra></extra>",
         "legendgroup": "131016007165",
         "marker": {
          "color": "#FECB52"
         },
         "name": "131016007165",
         "orientation": "v",
         "showlegend": true,
         "type": "funnel",
         "x": [
          3
         ],
         "xaxis": "x",
         "y": [
          null
         ],
         "yaxis": "y"
        },
        {
         "hovertemplate": "jobid=131016007105<br>min_experience=%{x}<br>min_pay=%{y}<extra></extra>",
         "legendgroup": "131016007105",
         "marker": {
          "color": "#636efa"
         },
         "name": "131016007105",
         "orientation": "v",
         "showlegend": true,
         "type": "funnel",
         "x": [
          2
         ],
         "xaxis": "x",
         "y": [
          null
         ],
         "yaxis": "y"
        },
        {
         "hovertemplate": "jobid=180516900531<br>min_experience=%{x}<br>min_pay=%{y}<extra></extra>",
         "legendgroup": "180516900531",
         "marker": {
          "color": "#EF553B"
         },
         "name": "180516900531",
         "orientation": "v",
         "showlegend": true,
         "type": "funnel",
         "x": [
          10
         ],
         "xaxis": "x",
         "y": [
          null
         ],
         "yaxis": "y"
        },
        {
         "hovertemplate": "jobid=131016002526<br>min_experience=%{x}<br>min_pay=%{y}<extra></extra>",
         "legendgroup": "131016002526",
         "marker": {
          "color": "#00cc96"
         },
         "name": "131016002526",
         "orientation": "v",
         "showlegend": true,
         "type": "funnel",
         "x": [
          4
         ],
         "xaxis": "x",
         "y": [
          null
         ],
         "yaxis": "y"
        },
        {
         "hovertemplate": "jobid=131016002465<br>min_experience=%{x}<br>min_pay=%{y}<extra></extra>",
         "legendgroup": "131016002465",
         "marker": {
          "color": "#ab63fa"
         },
         "name": "131016002465",
         "orientation": "v",
         "showlegend": true,
         "type": "funnel",
         "x": [
          2
         ],
         "xaxis": "x",
         "y": [
          null
         ],
         "yaxis": "y"
        },
        {
         "hovertemplate": "jobid=131016003406<br>min_experience=%{x}<br>min_pay=%{y}<extra></extra>",
         "legendgroup": "131016003406",
         "marker": {
          "color": "#FFA15A"
         },
         "name": "131016003406",
         "orientation": "v",
         "showlegend": true,
         "type": "funnel",
         "x": [
          2
         ],
         "xaxis": "x",
         "y": [
          0
         ],
         "yaxis": "y"
        },
        {
         "hovertemplate": "jobid=131016006852<br>min_experience=%{x}<br>min_pay=%{y}<extra></extra>",
         "legendgroup": "131016006852",
         "marker": {
          "color": "#19d3f3"
         },
         "name": "131016006852",
         "orientation": "v",
         "showlegend": true,
         "type": "funnel",
         "x": [
          1
         ],
         "xaxis": "x",
         "y": [
          50000
         ],
         "yaxis": "y"
        },
        {
         "hovertemplate": "jobid=51016900668<br>min_experience=%{x}<br>min_pay=%{y}<extra></extra>",
         "legendgroup": "51016900668",
         "marker": {
          "color": "#FF6692"
         },
         "name": "51016900668",
         "orientation": "v",
         "showlegend": true,
         "type": "funnel",
         "x": [
          6
         ],
         "xaxis": "x",
         "y": [
          null
         ],
         "yaxis": "y"
        },
        {
         "hovertemplate": "jobid=131016007194<br>min_experience=%{x}<br>min_pay=%{y}<extra></extra>",
         "legendgroup": "131016007194",
         "marker": {
          "color": "#B6E880"
         },
         "name": "131016007194",
         "orientation": "v",
         "showlegend": true,
         "type": "funnel",
         "x": [
          3
         ],
         "xaxis": "x",
         "y": [
          0
         ],
         "yaxis": "y"
        },
        {
         "hovertemplate": "jobid=160916000781<br>min_experience=%{x}<br>min_pay=%{y}<extra></extra>",
         "legendgroup": "160916000781",
         "marker": {
          "color": "#FF97FF"
         },
         "name": "160916000781",
         "orientation": "v",
         "showlegend": true,
         "type": "funnel",
         "x": [
          2
         ],
         "xaxis": "x",
         "y": [
          null
         ],
         "yaxis": "y"
        },
        {
         "hovertemplate": "jobid=131016900574<br>min_experience=%{x}<br>min_pay=%{y}<extra></extra>",
         "legendgroup": "131016900574",
         "marker": {
          "color": "#FECB52"
         },
         "name": "131016900574",
         "orientation": "v",
         "showlegend": true,
         "type": "funnel",
         "x": [
          0
         ],
         "xaxis": "x",
         "y": [
          null
         ],
         "yaxis": "y"
        },
        {
         "hovertemplate": "jobid=131016003995<br>min_experience=%{x}<br>min_pay=%{y}<extra></extra>",
         "legendgroup": "131016003995",
         "marker": {
          "color": "#636efa"
         },
         "name": "131016003995",
         "orientation": "v",
         "showlegend": true,
         "type": "funnel",
         "x": [
          8
         ],
         "xaxis": "x",
         "y": [
          null
         ],
         "yaxis": "y"
        },
        {
         "hovertemplate": "jobid=260816005929<br>min_experience=%{x}<br>min_pay=%{y}<extra></extra>",
         "legendgroup": "260816005929",
         "marker": {
          "color": "#EF553B"
         },
         "name": "260816005929",
         "orientation": "v",
         "showlegend": true,
         "type": "funnel",
         "x": [
          0
         ],
         "xaxis": "x",
         "y": [
          0
         ],
         "yaxis": "y"
        },
        {
         "hovertemplate": "jobid=101016900315<br>min_experience=%{x}<br>min_pay=%{y}<extra></extra>",
         "legendgroup": "101016900315",
         "marker": {
          "color": "#00cc96"
         },
         "name": "101016900315",
         "orientation": "v",
         "showlegend": true,
         "type": "funnel",
         "x": [
          3
         ],
         "xaxis": "x",
         "y": [
          null
         ],
         "yaxis": "y"
        },
        {
         "hovertemplate": "jobid=101016003243<br>min_experience=%{x}<br>min_pay=%{y}<extra></extra>",
         "legendgroup": "101016003243",
         "marker": {
          "color": "#ab63fa"
         },
         "name": "101016003243",
         "orientation": "v",
         "showlegend": true,
         "type": "funnel",
         "x": [
          10
         ],
         "xaxis": "x",
         "y": [
          0
         ],
         "yaxis": "y"
        },
        {
         "hovertemplate": "jobid=101016000572<br>min_experience=%{x}<br>min_pay=%{y}<extra></extra>",
         "legendgroup": "101016000572",
         "marker": {
          "color": "#FFA15A"
         },
         "name": "101016000572",
         "orientation": "v",
         "showlegend": true,
         "type": "funnel",
         "x": [
          4
         ],
         "xaxis": "x",
         "y": [
          null
         ],
         "yaxis": "y"
        },
        {
         "hovertemplate": "jobid=170816009314<br>min_experience=%{x}<br>min_pay=%{y}<extra></extra>",
         "legendgroup": "170816009314",
         "marker": {
          "color": "#19d3f3"
         },
         "name": "170816009314",
         "orientation": "v",
         "showlegend": true,
         "type": "funnel",
         "x": [
          5
         ],
         "xaxis": "x",
         "y": [
          0
         ],
         "yaxis": "y"
        },
        {
         "hovertemplate": "jobid=80616004724<br>min_experience=%{x}<br>min_pay=%{y}<extra></extra>",
         "legendgroup": "80616004724",
         "marker": {
          "color": "#FF6692"
         },
         "name": "80616004724",
         "orientation": "v",
         "showlegend": true,
         "type": "funnel",
         "x": [
          0
         ],
         "xaxis": "x",
         "y": [
          null
         ],
         "yaxis": "y"
        },
        {
         "hovertemplate": "jobid=111016002318<br>min_experience=%{x}<br>min_pay=%{y}<extra></extra>",
         "legendgroup": "111016002318",
         "marker": {
          "color": "#B6E880"
         },
         "name": "111016002318",
         "orientation": "v",
         "showlegend": true,
         "type": "funnel",
         "x": [
          3
         ],
         "xaxis": "x",
         "y": [
          null
         ],
         "yaxis": "y"
        },
        {
         "hovertemplate": "jobid=70916008227<br>min_experience=%{x}<br>min_pay=%{y}<extra></extra>",
         "legendgroup": "70916008227",
         "marker": {
          "color": "#FF97FF"
         },
         "name": "70916008227",
         "orientation": "v",
         "showlegend": true,
         "type": "funnel",
         "x": [
          2
         ],
         "xaxis": "x",
         "y": [
          null
         ],
         "yaxis": "y"
        },
        {
         "hovertemplate": "jobid=290616004145<br>min_experience=%{x}<br>min_pay=%{y}<extra></extra>",
         "legendgroup": "290616004145",
         "marker": {
          "color": "#FECB52"
         },
         "name": "290616004145",
         "orientation": "v",
         "showlegend": true,
         "type": "funnel",
         "x": [
          4
         ],
         "xaxis": "x",
         "y": [
          null
         ],
         "yaxis": "y"
        },
        {
         "hovertemplate": "jobid=100916005126<br>min_experience=%{x}<br>min_pay=%{y}<extra></extra>",
         "legendgroup": "100916005126",
         "marker": {
          "color": "#636efa"
         },
         "name": "100916005126",
         "orientation": "v",
         "showlegend": true,
         "type": "funnel",
         "x": [
          0
         ],
         "xaxis": "x",
         "y": [
          25000
         ],
         "yaxis": "y"
        },
        {
         "hovertemplate": "jobid=60916900046<br>min_experience=%{x}<br>min_pay=%{y}<extra></extra>",
         "legendgroup": "60916900046",
         "marker": {
          "color": "#EF553B"
         },
         "name": "60916900046",
         "orientation": "v",
         "showlegend": true,
         "type": "funnel",
         "x": [
          3
         ],
         "xaxis": "x",
         "y": [
          null
         ],
         "yaxis": "y"
        },
        {
         "hovertemplate": "jobid=121016000234<br>min_experience=%{x}<br>min_pay=%{y}<extra></extra>",
         "legendgroup": "121016000234",
         "marker": {
          "color": "#00cc96"
         },
         "name": "121016000234",
         "orientation": "v",
         "showlegend": true,
         "type": "funnel",
         "x": [
          0
         ],
         "xaxis": "x",
         "y": [
          null
         ],
         "yaxis": "y"
        },
        {
         "hovertemplate": "jobid=220916901106<br>min_experience=%{x}<br>min_pay=%{y}<extra></extra>",
         "legendgroup": "220916901106",
         "marker": {
          "color": "#ab63fa"
         },
         "name": "220916901106",
         "orientation": "v",
         "showlegend": true,
         "type": "funnel",
         "x": [
          5
         ],
         "xaxis": "x",
         "y": [
          null
         ],
         "yaxis": "y"
        },
        {
         "hovertemplate": "jobid=101016900060<br>min_experience=%{x}<br>min_pay=%{y}<extra></extra>",
         "legendgroup": "101016900060",
         "marker": {
          "color": "#FFA15A"
         },
         "name": "101016900060",
         "orientation": "v",
         "showlegend": true,
         "type": "funnel",
         "x": [
          3
         ],
         "xaxis": "x",
         "y": [
          null
         ],
         "yaxis": "y"
        },
        {
         "hovertemplate": "jobid=121016000233<br>min_experience=%{x}<br>min_pay=%{y}<extra></extra>",
         "legendgroup": "121016000233",
         "marker": {
          "color": "#19d3f3"
         },
         "name": "121016000233",
         "orientation": "v",
         "showlegend": true,
         "type": "funnel",
         "x": [
          0
         ],
         "xaxis": "x",
         "y": [
          null
         ],
         "yaxis": "y"
        },
        {
         "hovertemplate": "jobid=50916901117<br>min_experience=%{x}<br>min_pay=%{y}<extra></extra>",
         "legendgroup": "50916901117",
         "marker": {
          "color": "#FF6692"
         },
         "name": "50916901117",
         "orientation": "v",
         "showlegend": true,
         "type": "funnel",
         "x": [
          2
         ],
         "xaxis": "x",
         "y": [
          null
         ],
         "yaxis": "y"
        },
        {
         "hovertemplate": "jobid=150316900278<br>min_experience=%{x}<br>min_pay=%{y}<extra></extra>",
         "legendgroup": "150316900278",
         "marker": {
          "color": "#B6E880"
         },
         "name": "150316900278",
         "orientation": "v",
         "showlegend": true,
         "type": "funnel",
         "x": [
          1
         ],
         "xaxis": "x",
         "y": [
          null
         ],
         "yaxis": "y"
        },
        {
         "hovertemplate": "jobid=111016001036<br>min_experience=%{x}<br>min_pay=%{y}<extra></extra>",
         "legendgroup": "111016001036",
         "marker": {
          "color": "#FF97FF"
         },
         "name": "111016001036",
         "orientation": "v",
         "showlegend": true,
         "type": "funnel",
         "x": [
          0
         ],
         "xaxis": "x",
         "y": [
          50000
         ],
         "yaxis": "y"
        },
        {
         "hovertemplate": "jobid=220316005663<br>min_experience=%{x}<br>min_pay=%{y}<extra></extra>",
         "legendgroup": "220316005663",
         "marker": {
          "color": "#FECB52"
         },
         "name": "220316005663",
         "orientation": "v",
         "showlegend": true,
         "type": "funnel",
         "x": [
          4
         ],
         "xaxis": "x",
         "y": [
          null
         ],
         "yaxis": "y"
        },
        {
         "hovertemplate": "jobid=111016002035<br>min_experience=%{x}<br>min_pay=%{y}<extra></extra>",
         "legendgroup": "111016002035",
         "marker": {
          "color": "#636efa"
         },
         "name": "111016002035",
         "orientation": "v",
         "showlegend": true,
         "type": "funnel",
         "x": [
          3
         ],
         "xaxis": "x",
         "y": [
          null
         ],
         "yaxis": "y"
        },
        {
         "hovertemplate": "jobid=101016004613<br>min_experience=%{x}<br>min_pay=%{y}<extra></extra>",
         "legendgroup": "101016004613",
         "marker": {
          "color": "#EF553B"
         },
         "name": "101016004613",
         "orientation": "v",
         "showlegend": true,
         "type": "funnel",
         "x": [
          2
         ],
         "xaxis": "x",
         "y": [
          null
         ],
         "yaxis": "y"
        },
        {
         "hovertemplate": "jobid=230716000417<br>min_experience=%{x}<br>min_pay=%{y}<extra></extra>",
         "legendgroup": "230716000417",
         "marker": {
          "color": "#00cc96"
         },
         "name": "230716000417",
         "orientation": "v",
         "showlegend": true,
         "type": "funnel",
         "x": [
          0
         ],
         "xaxis": "x",
         "y": [
          0
         ],
         "yaxis": "y"
        },
        {
         "hovertemplate": "jobid=101016004059<br>min_experience=%{x}<br>min_pay=%{y}<extra></extra>",
         "legendgroup": "101016004059",
         "marker": {
          "color": "#ab63fa"
         },
         "name": "101016004059",
         "orientation": "v",
         "showlegend": true,
         "type": "funnel",
         "x": [
          9
         ],
         "xaxis": "x",
         "y": [
          null
         ],
         "yaxis": "y"
        },
        {
         "hovertemplate": "jobid=10716003976<br>min_experience=%{x}<br>min_pay=%{y}<extra></extra>",
         "legendgroup": "10716003976",
         "marker": {
          "color": "#FFA15A"
         },
         "name": "10716003976",
         "orientation": "v",
         "showlegend": true,
         "type": "funnel",
         "x": [
          0
         ],
         "xaxis": "x",
         "y": [
          50000
         ],
         "yaxis": "y"
        },
        {
         "hovertemplate": "jobid=80716900165<br>min_experience=%{x}<br>min_pay=%{y}<extra></extra>",
         "legendgroup": "80716900165",
         "marker": {
          "color": "#19d3f3"
         },
         "name": "80716900165",
         "orientation": "v",
         "showlegend": true,
         "type": "funnel",
         "x": [
          2
         ],
         "xaxis": "x",
         "y": [
          null
         ],
         "yaxis": "y"
        },
        {
         "hovertemplate": "jobid=150816000736<br>min_experience=%{x}<br>min_pay=%{y}<extra></extra>",
         "legendgroup": "150816000736",
         "marker": {
          "color": "#FF6692"
         },
         "name": "150816000736",
         "orientation": "v",
         "showlegend": true,
         "type": "funnel",
         "x": [
          2
         ],
         "xaxis": "x",
         "y": [
          0
         ],
         "yaxis": "y"
        },
        {
         "hovertemplate": "jobid=101016900713<br>min_experience=%{x}<br>min_pay=%{y}<extra></extra>",
         "legendgroup": "101016900713",
         "marker": {
          "color": "#B6E880"
         },
         "name": "101016900713",
         "orientation": "v",
         "showlegend": true,
         "type": "funnel",
         "x": [
          5
         ],
         "xaxis": "x",
         "y": [
          null
         ],
         "yaxis": "y"
        },
        {
         "hovertemplate": "jobid=101016001359<br>min_experience=%{x}<br>min_pay=%{y}<extra></extra>",
         "legendgroup": "101016001359",
         "marker": {
          "color": "#FF97FF"
         },
         "name": "101016001359",
         "orientation": "v",
         "showlegend": true,
         "type": "funnel",
         "x": [
          10
         ],
         "xaxis": "x",
         "y": [
          null
         ],
         "yaxis": "y"
        },
        {
         "hovertemplate": "jobid=101016900683<br>min_experience=%{x}<br>min_pay=%{y}<extra></extra>",
         "legendgroup": "101016900683",
         "marker": {
          "color": "#FECB52"
         },
         "name": "101016900683",
         "orientation": "v",
         "showlegend": true,
         "type": "funnel",
         "x": [
          3
         ],
         "xaxis": "x",
         "y": [
          null
         ],
         "yaxis": "y"
        },
        {
         "hovertemplate": "jobid=101016006219<br>min_experience=%{x}<br>min_pay=%{y}<extra></extra>",
         "legendgroup": "101016006219",
         "marker": {
          "color": "#636efa"
         },
         "name": "101016006219",
         "orientation": "v",
         "showlegend": true,
         "type": "funnel",
         "x": [
          0
         ],
         "xaxis": "x",
         "y": [
          null
         ],
         "yaxis": "y"
        },
        {
         "hovertemplate": "jobid=140316006277<br>min_experience=%{x}<br>min_pay=%{y}<extra></extra>",
         "legendgroup": "140316006277",
         "marker": {
          "color": "#EF553B"
         },
         "name": "140316006277",
         "orientation": "v",
         "showlegend": true,
         "type": "funnel",
         "x": [
          8
         ],
         "xaxis": "x",
         "y": [
          0
         ],
         "yaxis": "y"
        },
        {
         "hovertemplate": "jobid=121016001257<br>min_experience=%{x}<br>min_pay=%{y}<extra></extra>",
         "legendgroup": "121016001257",
         "marker": {
          "color": "#00cc96"
         },
         "name": "121016001257",
         "orientation": "v",
         "showlegend": true,
         "type": "funnel",
         "x": [
          0
         ],
         "xaxis": "x",
         "y": [
          25000
         ],
         "yaxis": "y"
        },
        {
         "hovertemplate": "jobid=71016902339<br>min_experience=%{x}<br>min_pay=%{y}<extra></extra>",
         "legendgroup": "71016902339",
         "marker": {
          "color": "#ab63fa"
         },
         "name": "71016902339",
         "orientation": "v",
         "showlegend": true,
         "type": "funnel",
         "x": [
          6
         ],
         "xaxis": "x",
         "y": [
          null
         ],
         "yaxis": "y"
        },
        {
         "hovertemplate": "jobid=101016003996<br>min_experience=%{x}<br>min_pay=%{y}<extra></extra>",
         "legendgroup": "101016003996",
         "marker": {
          "color": "#FFA15A"
         },
         "name": "101016003996",
         "orientation": "v",
         "showlegend": true,
         "type": "funnel",
         "x": [
          3
         ],
         "xaxis": "x",
         "y": [
          0
         ],
         "yaxis": "y"
        },
        {
         "hovertemplate": "jobid=61015005235<br>min_experience=%{x}<br>min_pay=%{y}<extra></extra>",
         "legendgroup": "61015005235",
         "marker": {
          "color": "#19d3f3"
         },
         "name": "61015005235",
         "orientation": "v",
         "showlegend": true,
         "type": "funnel",
         "x": [
          5
         ],
         "xaxis": "x",
         "y": [
          null
         ],
         "yaxis": "y"
        },
        {
         "hovertemplate": "jobid=220916004681<br>min_experience=%{x}<br>min_pay=%{y}<extra></extra>",
         "legendgroup": "220916004681",
         "marker": {
          "color": "#FF6692"
         },
         "name": "220916004681",
         "orientation": "v",
         "showlegend": true,
         "type": "funnel",
         "x": [
          3
         ],
         "xaxis": "x",
         "y": [
          null
         ],
         "yaxis": "y"
        },
        {
         "hovertemplate": "jobid=101016900706<br>min_experience=%{x}<br>min_pay=%{y}<extra></extra>",
         "legendgroup": "101016900706",
         "marker": {
          "color": "#B6E880"
         },
         "name": "101016900706",
         "orientation": "v",
         "showlegend": true,
         "type": "funnel",
         "x": [
          3
         ],
         "xaxis": "x",
         "y": [
          null
         ],
         "yaxis": "y"
        },
        {
         "hovertemplate": "jobid=220816000299<br>min_experience=%{x}<br>min_pay=%{y}<extra></extra>",
         "legendgroup": "220816000299",
         "marker": {
          "color": "#FF97FF"
         },
         "name": "220816000299",
         "orientation": "v",
         "showlegend": true,
         "type": "funnel",
         "x": [
          2
         ],
         "xaxis": "x",
         "y": [
          null
         ],
         "yaxis": "y"
        },
        {
         "hovertemplate": "jobid=160916008018<br>min_experience=%{x}<br>min_pay=%{y}<extra></extra>",
         "legendgroup": "160916008018",
         "marker": {
          "color": "#FECB52"
         },
         "name": "160916008018",
         "orientation": "v",
         "showlegend": true,
         "type": "funnel",
         "x": [
          3
         ],
         "xaxis": "x",
         "y": [
          null
         ],
         "yaxis": "y"
        },
        {
         "hovertemplate": "jobid=51016001393<br>min_experience=%{x}<br>min_pay=%{y}<extra></extra>",
         "legendgroup": "51016001393",
         "marker": {
          "color": "#636efa"
         },
         "name": "51016001393",
         "orientation": "v",
         "showlegend": true,
         "type": "funnel",
         "x": [
          3
         ],
         "xaxis": "x",
         "y": [
          0
         ],
         "yaxis": "y"
        },
        {
         "hovertemplate": "jobid=121016000868<br>min_experience=%{x}<br>min_pay=%{y}<extra></extra>",
         "legendgroup": "121016000868",
         "marker": {
          "color": "#EF553B"
         },
         "name": "121016000868",
         "orientation": "v",
         "showlegend": true,
         "type": "funnel",
         "x": [
          1
         ],
         "xaxis": "x",
         "y": [
          0
         ],
         "yaxis": "y"
        },
        {
         "hovertemplate": "jobid=260816003500<br>min_experience=%{x}<br>min_pay=%{y}<extra></extra>",
         "legendgroup": "260816003500",
         "marker": {
          "color": "#00cc96"
         },
         "name": "260816003500",
         "orientation": "v",
         "showlegend": true,
         "type": "funnel",
         "x": [
          5
         ],
         "xaxis": "x",
         "y": [
          null
         ],
         "yaxis": "y"
        },
        {
         "hovertemplate": "jobid=10916000104<br>min_experience=%{x}<br>min_pay=%{y}<extra></extra>",
         "legendgroup": "10916000104",
         "marker": {
          "color": "#ab63fa"
         },
         "name": "10916000104",
         "orientation": "v",
         "showlegend": true,
         "type": "funnel",
         "x": [
          3
         ],
         "xaxis": "x",
         "y": [
          null
         ],
         "yaxis": "y"
        },
        {
         "hovertemplate": "jobid=260515007582<br>min_experience=%{x}<br>min_pay=%{y}<extra></extra>",
         "legendgroup": "260515007582",
         "marker": {
          "color": "#FFA15A"
         },
         "name": "260515007582",
         "orientation": "v",
         "showlegend": true,
         "type": "funnel",
         "x": [
          0
         ],
         "xaxis": "x",
         "y": [
          0
         ],
         "yaxis": "y"
        },
        {
         "hovertemplate": "jobid=10316001892<br>min_experience=%{x}<br>min_pay=%{y}<extra></extra>",
         "legendgroup": "10316001892",
         "marker": {
          "color": "#19d3f3"
         },
         "name": "10316001892",
         "orientation": "v",
         "showlegend": true,
         "type": "funnel",
         "x": [
          0
         ],
         "xaxis": "x",
         "y": [
          null
         ],
         "yaxis": "y"
        },
        {
         "hovertemplate": "jobid=50416000190<br>min_experience=%{x}<br>min_pay=%{y}<extra></extra>",
         "legendgroup": "50416000190",
         "marker": {
          "color": "#FF6692"
         },
         "name": "50416000190",
         "orientation": "v",
         "showlegend": true,
         "type": "funnel",
         "x": [
          2
         ],
         "xaxis": "x",
         "y": [
          null
         ],
         "yaxis": "y"
        },
        {
         "hovertemplate": "jobid=300716000464<br>min_experience=%{x}<br>min_pay=%{y}<extra></extra>",
         "legendgroup": "300716000464",
         "marker": {
          "color": "#B6E880"
         },
         "name": "300716000464",
         "orientation": "v",
         "showlegend": true,
         "type": "funnel",
         "x": [
          0
         ],
         "xaxis": "x",
         "y": [
          0
         ],
         "yaxis": "y"
        },
        {
         "hovertemplate": "jobid=101016004607<br>min_experience=%{x}<br>min_pay=%{y}<extra></extra>",
         "legendgroup": "101016004607",
         "marker": {
          "color": "#FF97FF"
         },
         "name": "101016004607",
         "orientation": "v",
         "showlegend": true,
         "type": "funnel",
         "x": [
          10
         ],
         "xaxis": "x",
         "y": [
          null
         ],
         "yaxis": "y"
        },
        {
         "hovertemplate": "jobid=101016000855<br>min_experience=%{x}<br>min_pay=%{y}<extra></extra>",
         "legendgroup": "101016000855",
         "marker": {
          "color": "#FECB52"
         },
         "name": "101016000855",
         "orientation": "v",
         "showlegend": true,
         "type": "funnel",
         "x": [
          0
         ],
         "xaxis": "x",
         "y": [
          null
         ],
         "yaxis": "y"
        },
        {
         "hovertemplate": "jobid=121016000738<br>min_experience=%{x}<br>min_pay=%{y}<extra></extra>",
         "legendgroup": "121016000738",
         "marker": {
          "color": "#636efa"
         },
         "name": "121016000738",
         "orientation": "v",
         "showlegend": true,
         "type": "funnel",
         "x": [
          2
         ],
         "xaxis": "x",
         "y": [
          50000
         ],
         "yaxis": "y"
        },
        {
         "hovertemplate": "jobid=101016006372<br>min_experience=%{x}<br>min_pay=%{y}<extra></extra>",
         "legendgroup": "101016006372",
         "marker": {
          "color": "#EF553B"
         },
         "name": "101016006372",
         "orientation": "v",
         "showlegend": true,
         "type": "funnel",
         "x": [
          10
         ],
         "xaxis": "x",
         "y": [
          null
         ],
         "yaxis": "y"
        },
        {
         "hovertemplate": "jobid=40915900214<br>min_experience=%{x}<br>min_pay=%{y}<extra></extra>",
         "legendgroup": "40915900214",
         "marker": {
          "color": "#00cc96"
         },
         "name": "40915900214",
         "orientation": "v",
         "showlegend": true,
         "type": "funnel",
         "x": [
          0
         ],
         "xaxis": "x",
         "y": [
          null
         ],
         "yaxis": "y"
        },
        {
         "hovertemplate": "jobid=210116008813<br>min_experience=%{x}<br>min_pay=%{y}<extra></extra>",
         "legendgroup": "210116008813",
         "marker": {
          "color": "#ab63fa"
         },
         "name": "210116008813",
         "orientation": "v",
         "showlegend": true,
         "type": "funnel",
         "x": [
          0
         ],
         "xaxis": "x",
         "y": [
          0
         ],
         "yaxis": "y"
        },
        {
         "hovertemplate": "jobid=150316001716<br>min_experience=%{x}<br>min_pay=%{y}<extra></extra>",
         "legendgroup": "150316001716",
         "marker": {
          "color": "#FFA15A"
         },
         "name": "150316001716",
         "orientation": "v",
         "showlegend": true,
         "type": "funnel",
         "x": [
          3
         ],
         "xaxis": "x",
         "y": [
          null
         ],
         "yaxis": "y"
        },
        {
         "hovertemplate": "jobid=70916000382<br>min_experience=%{x}<br>min_pay=%{y}<extra></extra>",
         "legendgroup": "70916000382",
         "marker": {
          "color": "#19d3f3"
         },
         "name": "70916000382",
         "orientation": "v",
         "showlegend": true,
         "type": "funnel",
         "x": [
          0
         ],
         "xaxis": "x",
         "y": [
          0
         ],
         "yaxis": "y"
        },
        {
         "hovertemplate": "jobid=111016000657<br>min_experience=%{x}<br>min_pay=%{y}<extra></extra>",
         "legendgroup": "111016000657",
         "marker": {
          "color": "#FF6692"
         },
         "name": "111016000657",
         "orientation": "v",
         "showlegend": true,
         "type": "funnel",
         "x": [
          3
         ],
         "xaxis": "x",
         "y": [
          null
         ],
         "yaxis": "y"
        },
        {
         "hovertemplate": "jobid=101016002078<br>min_experience=%{x}<br>min_pay=%{y}<extra></extra>",
         "legendgroup": "101016002078",
         "marker": {
          "color": "#B6E880"
         },
         "name": "101016002078",
         "orientation": "v",
         "showlegend": true,
         "type": "funnel",
         "x": [
          6
         ],
         "xaxis": "x",
         "y": [
          null
         ],
         "yaxis": "y"
        },
        {
         "hovertemplate": "jobid=111016000792<br>min_experience=%{x}<br>min_pay=%{y}<extra></extra>",
         "legendgroup": "111016000792",
         "marker": {
          "color": "#FF97FF"
         },
         "name": "111016000792",
         "orientation": "v",
         "showlegend": true,
         "type": "funnel",
         "x": [
          0
         ],
         "xaxis": "x",
         "y": [
          50000
         ],
         "yaxis": "y"
        },
        {
         "hovertemplate": "jobid=10915007386<br>min_experience=%{x}<br>min_pay=%{y}<extra></extra>",
         "legendgroup": "10915007386",
         "marker": {
          "color": "#FECB52"
         },
         "name": "10915007386",
         "orientation": "v",
         "showlegend": true,
         "type": "funnel",
         "x": [
          3
         ],
         "xaxis": "x",
         "y": [
          null
         ],
         "yaxis": "y"
        },
        {
         "hovertemplate": "jobid=130916001619<br>min_experience=%{x}<br>min_pay=%{y}<extra></extra>",
         "legendgroup": "130916001619",
         "marker": {
          "color": "#636efa"
         },
         "name": "130916001619",
         "orientation": "v",
         "showlegend": true,
         "type": "funnel",
         "x": [
          1
         ],
         "xaxis": "x",
         "y": [
          200000
         ],
         "yaxis": "y"
        },
        {
         "hovertemplate": "jobid=101016002601<br>min_experience=%{x}<br>min_pay=%{y}<extra></extra>",
         "legendgroup": "101016002601",
         "marker": {
          "color": "#EF553B"
         },
         "name": "101016002601",
         "orientation": "v",
         "showlegend": true,
         "type": "funnel",
         "x": [
          1
         ],
         "xaxis": "x",
         "y": [
          0
         ],
         "yaxis": "y"
        },
        {
         "hovertemplate": "jobid=101016005378<br>min_experience=%{x}<br>min_pay=%{y}<extra></extra>",
         "legendgroup": "101016005378",
         "marker": {
          "color": "#00cc96"
         },
         "name": "101016005378",
         "orientation": "v",
         "showlegend": true,
         "type": "funnel",
         "x": [
          2
         ],
         "xaxis": "x",
         "y": [
          0
         ],
         "yaxis": "y"
        },
        {
         "hovertemplate": "jobid=260716009115<br>min_experience=%{x}<br>min_pay=%{y}<extra></extra>",
         "legendgroup": "260716009115",
         "marker": {
          "color": "#ab63fa"
         },
         "name": "260716009115",
         "orientation": "v",
         "showlegend": true,
         "type": "funnel",
         "x": [
          0
         ],
         "xaxis": "x",
         "y": [
          50000
         ],
         "yaxis": "y"
        },
        {
         "hovertemplate": "jobid=290716006387<br>min_experience=%{x}<br>min_pay=%{y}<extra></extra>",
         "legendgroup": "290716006387",
         "marker": {
          "color": "#FFA15A"
         },
         "name": "290716006387",
         "orientation": "v",
         "showlegend": true,
         "type": "funnel",
         "x": [
          4
         ],
         "xaxis": "x",
         "y": [
          null
         ],
         "yaxis": "y"
        },
        {
         "hovertemplate": "jobid=150716001591<br>min_experience=%{x}<br>min_pay=%{y}<extra></extra>",
         "legendgroup": "150716001591",
         "marker": {
          "color": "#19d3f3"
         },
         "name": "150716001591",
         "orientation": "v",
         "showlegend": true,
         "type": "funnel",
         "x": [
          0
         ],
         "xaxis": "x",
         "y": [
          0
         ],
         "yaxis": "y"
        },
        {
         "hovertemplate": "jobid=200416900077<br>min_experience=%{x}<br>min_pay=%{y}<extra></extra>",
         "legendgroup": "200416900077",
         "marker": {
          "color": "#FF6692"
         },
         "name": "200416900077",
         "orientation": "v",
         "showlegend": true,
         "type": "funnel",
         "x": [
          0
         ],
         "xaxis": "x",
         "y": [
          null
         ],
         "yaxis": "y"
        },
        {
         "hovertemplate": "jobid=200616004841<br>min_experience=%{x}<br>min_pay=%{y}<extra></extra>",
         "legendgroup": "200616004841",
         "marker": {
          "color": "#B6E880"
         },
         "name": "200616004841",
         "orientation": "v",
         "showlegend": true,
         "type": "funnel",
         "x": [
          5
         ],
         "xaxis": "x",
         "y": [
          0
         ],
         "yaxis": "y"
        },
        {
         "hovertemplate": "jobid=200716005217<br>min_experience=%{x}<br>min_pay=%{y}<extra></extra>",
         "legendgroup": "200716005217",
         "marker": {
          "color": "#FF97FF"
         },
         "name": "200716005217",
         "orientation": "v",
         "showlegend": true,
         "type": "funnel",
         "x": [
          2
         ],
         "xaxis": "x",
         "y": [
          50000
         ],
         "yaxis": "y"
        },
        {
         "hovertemplate": "jobid=10116001126<br>min_experience=%{x}<br>min_pay=%{y}<extra></extra>",
         "legendgroup": "10116001126",
         "marker": {
          "color": "#FECB52"
         },
         "name": "10116001126",
         "orientation": "v",
         "showlegend": true,
         "type": "funnel",
         "x": [
          1
         ],
         "xaxis": "x",
         "y": [
          null
         ],
         "yaxis": "y"
        },
        {
         "hovertemplate": "jobid=30816004361<br>min_experience=%{x}<br>min_pay=%{y}<extra></extra>",
         "legendgroup": "30816004361",
         "marker": {
          "color": "#636efa"
         },
         "name": "30816004361",
         "orientation": "v",
         "showlegend": true,
         "type": "funnel",
         "x": [
          7
         ],
         "xaxis": "x",
         "y": [
          25000
         ],
         "yaxis": "y"
        },
        {
         "hovertemplate": "jobid=100816007910<br>min_experience=%{x}<br>min_pay=%{y}<extra></extra>",
         "legendgroup": "100816007910",
         "marker": {
          "color": "#EF553B"
         },
         "name": "100816007910",
         "orientation": "v",
         "showlegend": true,
         "type": "funnel",
         "x": [
          6
         ],
         "xaxis": "x",
         "y": [
          null
         ],
         "yaxis": "y"
        },
        {
         "hovertemplate": "jobid=260216002548<br>min_experience=%{x}<br>min_pay=%{y}<extra></extra>",
         "legendgroup": "260216002548",
         "marker": {
          "color": "#00cc96"
         },
         "name": "260216002548",
         "orientation": "v",
         "showlegend": true,
         "type": "funnel",
         "x": [
          0
         ],
         "xaxis": "x",
         "y": [
          null
         ],
         "yaxis": "y"
        },
        {
         "hovertemplate": "jobid=101016900554<br>min_experience=%{x}<br>min_pay=%{y}<extra></extra>",
         "legendgroup": "101016900554",
         "marker": {
          "color": "#ab63fa"
         },
         "name": "101016900554",
         "orientation": "v",
         "showlegend": true,
         "type": "funnel",
         "x": [
          1
         ],
         "xaxis": "x",
         "y": [
          null
         ],
         "yaxis": "y"
        },
        {
         "hovertemplate": "jobid=101016000134<br>min_experience=%{x}<br>min_pay=%{y}<extra></extra>",
         "legendgroup": "101016000134",
         "marker": {
          "color": "#FFA15A"
         },
         "name": "101016000134",
         "orientation": "v",
         "showlegend": true,
         "type": "funnel",
         "x": [
          2
         ],
         "xaxis": "x",
         "y": [
          null
         ],
         "yaxis": "y"
        },
        {
         "hovertemplate": "jobid=230316006504<br>min_experience=%{x}<br>min_pay=%{y}<extra></extra>",
         "legendgroup": "230316006504",
         "marker": {
          "color": "#19d3f3"
         },
         "name": "230316006504",
         "orientation": "v",
         "showlegend": true,
         "type": "funnel",
         "x": [
          2
         ],
         "xaxis": "x",
         "y": [
          null
         ],
         "yaxis": "y"
        },
        {
         "hovertemplate": "jobid=111016002063<br>min_experience=%{x}<br>min_pay=%{y}<extra></extra>",
         "legendgroup": "111016002063",
         "marker": {
          "color": "#FF6692"
         },
         "name": "111016002063",
         "orientation": "v",
         "showlegend": true,
         "type": "funnel",
         "x": [
          0
         ],
         "xaxis": "x",
         "y": [
          null
         ],
         "yaxis": "y"
        },
        {
         "hovertemplate": "jobid=101016900546<br>min_experience=%{x}<br>min_pay=%{y}<extra></extra>",
         "legendgroup": "101016900546",
         "marker": {
          "color": "#B6E880"
         },
         "name": "101016900546",
         "orientation": "v",
         "showlegend": true,
         "type": "funnel",
         "x": [
          4
         ],
         "xaxis": "x",
         "y": [
          null
         ],
         "yaxis": "y"
        },
        {
         "hovertemplate": "jobid=71016006334<br>min_experience=%{x}<br>min_pay=%{y}<extra></extra>",
         "legendgroup": "71016006334",
         "marker": {
          "color": "#FF97FF"
         },
         "name": "71016006334",
         "orientation": "v",
         "showlegend": true,
         "type": "funnel",
         "x": [
          0
         ],
         "xaxis": "x",
         "y": [
          0
         ],
         "yaxis": "y"
        },
        {
         "hovertemplate": "jobid=121016000476<br>min_experience=%{x}<br>min_pay=%{y}<extra></extra>",
         "legendgroup": "121016000476",
         "marker": {
          "color": "#FECB52"
         },
         "name": "121016000476",
         "orientation": "v",
         "showlegend": true,
         "type": "funnel",
         "x": [
          0
         ],
         "xaxis": "x",
         "y": [
          null
         ],
         "yaxis": "y"
        },
        {
         "hovertemplate": "jobid=101016002107<br>min_experience=%{x}<br>min_pay=%{y}<extra></extra>",
         "legendgroup": "101016002107",
         "marker": {
          "color": "#636efa"
         },
         "name": "101016002107",
         "orientation": "v",
         "showlegend": true,
         "type": "funnel",
         "x": [
          4
         ],
         "xaxis": "x",
         "y": [
          0
         ],
         "yaxis": "y"
        },
        {
         "hovertemplate": "jobid=50916901040<br>min_experience=%{x}<br>min_pay=%{y}<extra></extra>",
         "legendgroup": "50916901040",
         "marker": {
          "color": "#EF553B"
         },
         "name": "50916901040",
         "orientation": "v",
         "showlegend": true,
         "type": "funnel",
         "x": [
          3
         ],
         "xaxis": "x",
         "y": [
          null
         ],
         "yaxis": "y"
        },
        {
         "hovertemplate": "jobid=111016000722<br>min_experience=%{x}<br>min_pay=%{y}<extra></extra>",
         "legendgroup": "111016000722",
         "marker": {
          "color": "#00cc96"
         },
         "name": "111016000722",
         "orientation": "v",
         "showlegend": true,
         "type": "funnel",
         "x": [
          3
         ],
         "xaxis": "x",
         "y": [
          0
         ],
         "yaxis": "y"
        },
        {
         "hovertemplate": "jobid=240216001003<br>min_experience=%{x}<br>min_pay=%{y}<extra></extra>",
         "legendgroup": "240216001003",
         "marker": {
          "color": "#ab63fa"
         },
         "name": "240216001003",
         "orientation": "v",
         "showlegend": true,
         "type": "funnel",
         "x": [
          1
         ],
         "xaxis": "x",
         "y": [
          null
         ],
         "yaxis": "y"
        },
        {
         "hovertemplate": "jobid=121016000716<br>min_experience=%{x}<br>min_pay=%{y}<extra></extra>",
         "legendgroup": "121016000716",
         "marker": {
          "color": "#FFA15A"
         },
         "name": "121016000716",
         "orientation": "v",
         "showlegend": true,
         "type": "funnel",
         "x": [
          0
         ],
         "xaxis": "x",
         "y": [
          50000
         ],
         "yaxis": "y"
        },
        {
         "hovertemplate": "jobid=111016001573<br>min_experience=%{x}<br>min_pay=%{y}<extra></extra>",
         "legendgroup": "111016001573",
         "marker": {
          "color": "#19d3f3"
         },
         "name": "111016001573",
         "orientation": "v",
         "showlegend": true,
         "type": "funnel",
         "x": [
          0
         ],
         "xaxis": "x",
         "y": [
          null
         ],
         "yaxis": "y"
        },
        {
         "hovertemplate": "jobid=101016900754<br>min_experience=%{x}<br>min_pay=%{y}<extra></extra>",
         "legendgroup": "101016900754",
         "marker": {
          "color": "#FF6692"
         },
         "name": "101016900754",
         "orientation": "v",
         "showlegend": true,
         "type": "funnel",
         "x": [
          7
         ],
         "xaxis": "x",
         "y": [
          null
         ],
         "yaxis": "y"
        },
        {
         "hovertemplate": "jobid=200916006861<br>min_experience=%{x}<br>min_pay=%{y}<extra></extra>",
         "legendgroup": "200916006861",
         "marker": {
          "color": "#B6E880"
         },
         "name": "200916006861",
         "orientation": "v",
         "showlegend": true,
         "type": "funnel",
         "x": [
          8
         ],
         "xaxis": "x",
         "y": [
          400000
         ],
         "yaxis": "y"
        },
        {
         "hovertemplate": "jobid=111016001528<br>min_experience=%{x}<br>min_pay=%{y}<extra></extra>",
         "legendgroup": "111016001528",
         "marker": {
          "color": "#FF97FF"
         },
         "name": "111016001528",
         "orientation": "v",
         "showlegend": true,
         "type": "funnel",
         "x": [
          1
         ],
         "xaxis": "x",
         "y": [
          0
         ],
         "yaxis": "y"
        },
        {
         "hovertemplate": "jobid=290916006144<br>min_experience=%{x}<br>min_pay=%{y}<extra></extra>",
         "legendgroup": "290916006144",
         "marker": {
          "color": "#FECB52"
         },
         "name": "290916006144",
         "orientation": "v",
         "showlegend": true,
         "type": "funnel",
         "x": [
          0
         ],
         "xaxis": "x",
         "y": [
          0
         ],
         "yaxis": "y"
        },
        {
         "hovertemplate": "jobid=101016004741<br>min_experience=%{x}<br>min_pay=%{y}<extra></extra>",
         "legendgroup": "101016004741",
         "marker": {
          "color": "#636efa"
         },
         "name": "101016004741",
         "orientation": "v",
         "showlegend": true,
         "type": "funnel",
         "x": [
          2
         ],
         "xaxis": "x",
         "y": [
          0
         ],
         "yaxis": "y"
        },
        {
         "hovertemplate": "jobid=101016004254<br>min_experience=%{x}<br>min_pay=%{y}<extra></extra>",
         "legendgroup": "101016004254",
         "marker": {
          "color": "#EF553B"
         },
         "name": "101016004254",
         "orientation": "v",
         "showlegend": true,
         "type": "funnel",
         "x": [
          4
         ],
         "xaxis": "x",
         "y": [
          null
         ],
         "yaxis": "y"
        },
        {
         "hovertemplate": "jobid=90816000620<br>min_experience=%{x}<br>min_pay=%{y}<extra></extra>",
         "legendgroup": "90816000620",
         "marker": {
          "color": "#00cc96"
         },
         "name": "90816000620",
         "orientation": "v",
         "showlegend": true,
         "type": "funnel",
         "x": [
          3
         ],
         "xaxis": "x",
         "y": [
          null
         ],
         "yaxis": "y"
        },
        {
         "hovertemplate": "jobid=101016003200<br>min_experience=%{x}<br>min_pay=%{y}<extra></extra>",
         "legendgroup": "101016003200",
         "marker": {
          "color": "#ab63fa"
         },
         "name": "101016003200",
         "orientation": "v",
         "showlegend": true,
         "type": "funnel",
         "x": [
          3
         ],
         "xaxis": "x",
         "y": [
          0
         ],
         "yaxis": "y"
        },
        {
         "hovertemplate": "jobid=71016001652<br>min_experience=%{x}<br>min_pay=%{y}<extra></extra>",
         "legendgroup": "71016001652",
         "marker": {
          "color": "#FFA15A"
         },
         "name": "71016001652",
         "orientation": "v",
         "showlegend": true,
         "type": "funnel",
         "x": [
          0
         ],
         "xaxis": "x",
         "y": [
          null
         ],
         "yaxis": "y"
        },
        {
         "hovertemplate": "jobid=90816007790<br>min_experience=%{x}<br>min_pay=%{y}<extra></extra>",
         "legendgroup": "90816007790",
         "marker": {
          "color": "#19d3f3"
         },
         "name": "90816007790",
         "orientation": "v",
         "showlegend": true,
         "type": "funnel",
         "x": [
          5
         ],
         "xaxis": "x",
         "y": [
          null
         ],
         "yaxis": "y"
        },
        {
         "hovertemplate": "jobid=101016900058<br>min_experience=%{x}<br>min_pay=%{y}<extra></extra>",
         "legendgroup": "101016900058",
         "marker": {
          "color": "#FF6692"
         },
         "name": "101016900058",
         "orientation": "v",
         "showlegend": true,
         "type": "funnel",
         "x": [
          3
         ],
         "xaxis": "x",
         "y": [
          null
         ],
         "yaxis": "y"
        },
        {
         "hovertemplate": "jobid=71016902342<br>min_experience=%{x}<br>min_pay=%{y}<extra></extra>",
         "legendgroup": "71016902342",
         "marker": {
          "color": "#B6E880"
         },
         "name": "71016902342",
         "orientation": "v",
         "showlegend": true,
         "type": "funnel",
         "x": [
          5
         ],
         "xaxis": "x",
         "y": [
          null
         ],
         "yaxis": "y"
        },
        {
         "hovertemplate": "jobid=21016001073<br>min_experience=%{x}<br>min_pay=%{y}<extra></extra>",
         "legendgroup": "21016001073",
         "marker": {
          "color": "#FF97FF"
         },
         "name": "21016001073",
         "orientation": "v",
         "showlegend": true,
         "type": "funnel",
         "x": [
          1
         ],
         "xaxis": "x",
         "y": [
          null
         ],
         "yaxis": "y"
        },
        {
         "hovertemplate": "jobid=290716006330<br>min_experience=%{x}<br>min_pay=%{y}<extra></extra>",
         "legendgroup": "290716006330",
         "marker": {
          "color": "#FECB52"
         },
         "name": "290716006330",
         "orientation": "v",
         "showlegend": true,
         "type": "funnel",
         "x": [
          7
         ],
         "xaxis": "x",
         "y": [
          null
         ],
         "yaxis": "y"
        },
        {
         "hovertemplate": "jobid=40613000071<br>min_experience=%{x}<br>min_pay=%{y}<extra></extra>",
         "legendgroup": "40613000071",
         "marker": {
          "color": "#636efa"
         },
         "name": "40613000071",
         "orientation": "v",
         "showlegend": true,
         "type": "funnel",
         "x": [
          0
         ],
         "xaxis": "x",
         "y": [
          null
         ],
         "yaxis": "y"
        },
        {
         "hovertemplate": "jobid=111016001196<br>min_experience=%{x}<br>min_pay=%{y}<extra></extra>",
         "legendgroup": "111016001196",
         "marker": {
          "color": "#EF553B"
         },
         "name": "111016001196",
         "orientation": "v",
         "showlegend": true,
         "type": "funnel",
         "x": [
          4
         ],
         "xaxis": "x",
         "y": [
          null
         ],
         "yaxis": "y"
        },
        {
         "hovertemplate": "jobid=101016000536<br>min_experience=%{x}<br>min_pay=%{y}<extra></extra>",
         "legendgroup": "101016000536",
         "marker": {
          "color": "#00cc96"
         },
         "name": "101016000536",
         "orientation": "v",
         "showlegend": true,
         "type": "funnel",
         "x": [
          1
         ],
         "xaxis": "x",
         "y": [
          50000
         ],
         "yaxis": "y"
        },
        {
         "hovertemplate": "jobid=121016001082<br>min_experience=%{x}<br>min_pay=%{y}<extra></extra>",
         "legendgroup": "121016001082",
         "marker": {
          "color": "#ab63fa"
         },
         "name": "121016001082",
         "orientation": "v",
         "showlegend": true,
         "type": "funnel",
         "x": [
          0
         ],
         "xaxis": "x",
         "y": [
          25000
         ],
         "yaxis": "y"
        },
        {
         "hovertemplate": "jobid=80616006302<br>min_experience=%{x}<br>min_pay=%{y}<extra></extra>",
         "legendgroup": "80616006302",
         "marker": {
          "color": "#FFA15A"
         },
         "name": "80616006302",
         "orientation": "v",
         "showlegend": true,
         "type": "funnel",
         "x": [
          6
         ],
         "xaxis": "x",
         "y": [
          0
         ],
         "yaxis": "y"
        },
        {
         "hovertemplate": "jobid=280716007188<br>min_experience=%{x}<br>min_pay=%{y}<extra></extra>",
         "legendgroup": "280716007188",
         "marker": {
          "color": "#19d3f3"
         },
         "name": "280716007188",
         "orientation": "v",
         "showlegend": true,
         "type": "funnel",
         "x": [
          1
         ],
         "xaxis": "x",
         "y": [
          null
         ],
         "yaxis": "y"
        },
        {
         "hovertemplate": "jobid=71016902349<br>min_experience=%{x}<br>min_pay=%{y}<extra></extra>",
         "legendgroup": "71016902349",
         "marker": {
          "color": "#FF6692"
         },
         "name": "71016902349",
         "orientation": "v",
         "showlegend": true,
         "type": "funnel",
         "x": [
          7
         ],
         "xaxis": "x",
         "y": [
          null
         ],
         "yaxis": "y"
        },
        {
         "hovertemplate": "jobid=101016002808<br>min_experience=%{x}<br>min_pay=%{y}<extra></extra>",
         "legendgroup": "101016002808",
         "marker": {
          "color": "#B6E880"
         },
         "name": "101016002808",
         "orientation": "v",
         "showlegend": true,
         "type": "funnel",
         "x": [
          0
         ],
         "xaxis": "x",
         "y": [
          0
         ],
         "yaxis": "y"
        },
        {
         "hovertemplate": "jobid=101016900758<br>min_experience=%{x}<br>min_pay=%{y}<extra></extra>",
         "legendgroup": "101016900758",
         "marker": {
          "color": "#FF97FF"
         },
         "name": "101016900758",
         "orientation": "v",
         "showlegend": true,
         "type": "funnel",
         "x": [
          6
         ],
         "xaxis": "x",
         "y": [
          null
         ],
         "yaxis": "y"
        },
        {
         "hovertemplate": "jobid=101016004429<br>min_experience=%{x}<br>min_pay=%{y}<extra></extra>",
         "legendgroup": "101016004429",
         "marker": {
          "color": "#FECB52"
         },
         "name": "101016004429",
         "orientation": "v",
         "showlegend": true,
         "type": "funnel",
         "x": [
          5
         ],
         "xaxis": "x",
         "y": [
          null
         ],
         "yaxis": "y"
        },
        {
         "hovertemplate": "jobid=220716000368<br>min_experience=%{x}<br>min_pay=%{y}<extra></extra>",
         "legendgroup": "220716000368",
         "marker": {
          "color": "#636efa"
         },
         "name": "220716000368",
         "orientation": "v",
         "showlegend": true,
         "type": "funnel",
         "x": [
          0
         ],
         "xaxis": "x",
         "y": [
          75000
         ],
         "yaxis": "y"
        },
        {
         "hovertemplate": "jobid=101016004397<br>min_experience=%{x}<br>min_pay=%{y}<extra></extra>",
         "legendgroup": "101016004397",
         "marker": {
          "color": "#EF553B"
         },
         "name": "101016004397",
         "orientation": "v",
         "showlegend": true,
         "type": "funnel",
         "x": [
          5
         ],
         "xaxis": "x",
         "y": [
          0
         ],
         "yaxis": "y"
        },
        {
         "hovertemplate": "jobid=71016001890<br>min_experience=%{x}<br>min_pay=%{y}<extra></extra>",
         "legendgroup": "71016001890",
         "marker": {
          "color": "#00cc96"
         },
         "name": "71016001890",
         "orientation": "v",
         "showlegend": true,
         "type": "funnel",
         "x": [
          2
         ],
         "xaxis": "x",
         "y": [
          0
         ],
         "yaxis": "y"
        },
        {
         "hovertemplate": "jobid=260916001533<br>min_experience=%{x}<br>min_pay=%{y}<extra></extra>",
         "legendgroup": "260916001533",
         "marker": {
          "color": "#ab63fa"
         },
         "name": "260916001533",
         "orientation": "v",
         "showlegend": true,
         "type": "funnel",
         "x": [
          0
         ],
         "xaxis": "x",
         "y": [
          0
         ],
         "yaxis": "y"
        },
        {
         "hovertemplate": "jobid=130716001688<br>min_experience=%{x}<br>min_pay=%{y}<extra></extra>",
         "legendgroup": "130716001688",
         "marker": {
          "color": "#FFA15A"
         },
         "name": "130716001688",
         "orientation": "v",
         "showlegend": true,
         "type": "funnel",
         "x": [
          10
         ],
         "xaxis": "x",
         "y": [
          null
         ],
         "yaxis": "y"
        },
        {
         "hovertemplate": "jobid=300916001123<br>min_experience=%{x}<br>min_pay=%{y}<extra></extra>",
         "legendgroup": "300916001123",
         "marker": {
          "color": "#19d3f3"
         },
         "name": "300916001123",
         "orientation": "v",
         "showlegend": true,
         "type": "funnel",
         "x": [
          3
         ],
         "xaxis": "x",
         "y": [
          0
         ],
         "yaxis": "y"
        },
        {
         "hovertemplate": "jobid=111016000139<br>min_experience=%{x}<br>min_pay=%{y}<extra></extra>",
         "legendgroup": "111016000139",
         "marker": {
          "color": "#FF6692"
         },
         "name": "111016000139",
         "orientation": "v",
         "showlegend": true,
         "type": "funnel",
         "x": [
          7
         ],
         "xaxis": "x",
         "y": [
          50000
         ],
         "yaxis": "y"
        },
        {
         "hovertemplate": "jobid=80716900276<br>min_experience=%{x}<br>min_pay=%{y}<extra></extra>",
         "legendgroup": "80716900276",
         "marker": {
          "color": "#B6E880"
         },
         "name": "80716900276",
         "orientation": "v",
         "showlegend": true,
         "type": "funnel",
         "x": [
          2
         ],
         "xaxis": "x",
         "y": [
          null
         ],
         "yaxis": "y"
        },
        {
         "hovertemplate": "jobid=101016900724<br>min_experience=%{x}<br>min_pay=%{y}<extra></extra>",
         "legendgroup": "101016900724",
         "marker": {
          "color": "#FF97FF"
         },
         "name": "101016900724",
         "orientation": "v",
         "showlegend": true,
         "type": "funnel",
         "x": [
          4
         ],
         "xaxis": "x",
         "y": [
          null
         ],
         "yaxis": "y"
        },
        {
         "hovertemplate": "jobid=101016001497<br>min_experience=%{x}<br>min_pay=%{y}<extra></extra>",
         "legendgroup": "101016001497",
         "marker": {
          "color": "#FECB52"
         },
         "name": "101016001497",
         "orientation": "v",
         "showlegend": true,
         "type": "funnel",
         "x": [
          5
         ],
         "xaxis": "x",
         "y": [
          0
         ],
         "yaxis": "y"
        },
        {
         "hovertemplate": "jobid=101016002310<br>min_experience=%{x}<br>min_pay=%{y}<extra></extra>",
         "legendgroup": "101016002310",
         "marker": {
          "color": "#636efa"
         },
         "name": "101016002310",
         "orientation": "v",
         "showlegend": true,
         "type": "funnel",
         "x": [
          5
         ],
         "xaxis": "x",
         "y": [
          null
         ],
         "yaxis": "y"
        },
        {
         "hovertemplate": "jobid=101016000560<br>min_experience=%{x}<br>min_pay=%{y}<extra></extra>",
         "legendgroup": "101016000560",
         "marker": {
          "color": "#EF553B"
         },
         "name": "101016000560",
         "orientation": "v",
         "showlegend": true,
         "type": "funnel",
         "x": [
          3
         ],
         "xaxis": "x",
         "y": [
          75000
         ],
         "yaxis": "y"
        },
        {
         "hovertemplate": "jobid=111016000770<br>min_experience=%{x}<br>min_pay=%{y}<extra></extra>",
         "legendgroup": "111016000770",
         "marker": {
          "color": "#00cc96"
         },
         "name": "111016000770",
         "orientation": "v",
         "showlegend": true,
         "type": "funnel",
         "x": [
          7
         ],
         "xaxis": "x",
         "y": [
          0
         ],
         "yaxis": "y"
        },
        {
         "hovertemplate": "jobid=240616002157<br>min_experience=%{x}<br>min_pay=%{y}<extra></extra>",
         "legendgroup": "240616002157",
         "marker": {
          "color": "#ab63fa"
         },
         "name": "240616002157",
         "orientation": "v",
         "showlegend": true,
         "type": "funnel",
         "x": [
          1
         ],
         "xaxis": "x",
         "y": [
          null
         ],
         "yaxis": "y"
        },
        {
         "hovertemplate": "jobid=31016006181<br>min_experience=%{x}<br>min_pay=%{y}<extra></extra>",
         "legendgroup": "31016006181",
         "marker": {
          "color": "#FFA15A"
         },
         "name": "31016006181",
         "orientation": "v",
         "showlegend": true,
         "type": "funnel",
         "x": [
          4
         ],
         "xaxis": "x",
         "y": [
          null
         ],
         "yaxis": "y"
        },
        {
         "hovertemplate": "jobid=170616006416<br>min_experience=%{x}<br>min_pay=%{y}<extra></extra>",
         "legendgroup": "170616006416",
         "marker": {
          "color": "#19d3f3"
         },
         "name": "170616006416",
         "orientation": "v",
         "showlegend": true,
         "type": "funnel",
         "x": [
          6
         ],
         "xaxis": "x",
         "y": [
          null
         ],
         "yaxis": "y"
        },
        {
         "hovertemplate": "jobid=200716005355<br>min_experience=%{x}<br>min_pay=%{y}<extra></extra>",
         "legendgroup": "200716005355",
         "marker": {
          "color": "#FF6692"
         },
         "name": "200716005355",
         "orientation": "v",
         "showlegend": true,
         "type": "funnel",
         "x": [
          1
         ],
         "xaxis": "x",
         "y": [
          75000
         ],
         "yaxis": "y"
        },
        {
         "hovertemplate": "jobid=200716005010<br>min_experience=%{x}<br>min_pay=%{y}<extra></extra>",
         "legendgroup": "200716005010",
         "marker": {
          "color": "#B6E880"
         },
         "name": "200716005010",
         "orientation": "v",
         "showlegend": true,
         "type": "funnel",
         "x": [
          0
         ],
         "xaxis": "x",
         "y": [
          0
         ],
         "yaxis": "y"
        },
        {
         "hovertemplate": "jobid=20116003344<br>min_experience=%{x}<br>min_pay=%{y}<extra></extra>",
         "legendgroup": "20116003344",
         "marker": {
          "color": "#FF97FF"
         },
         "name": "20116003344",
         "orientation": "v",
         "showlegend": true,
         "type": "funnel",
         "x": [
          0
         ],
         "xaxis": "x",
         "y": [
          0
         ],
         "yaxis": "y"
        },
        {
         "hovertemplate": "jobid=111016000369<br>min_experience=%{x}<br>min_pay=%{y}<extra></extra>",
         "legendgroup": "111016000369",
         "marker": {
          "color": "#FECB52"
         },
         "name": "111016000369",
         "orientation": "v",
         "showlegend": true,
         "type": "funnel",
         "x": [
          6
         ],
         "xaxis": "x",
         "y": [
          null
         ],
         "yaxis": "y"
        },
        {
         "hovertemplate": "jobid=121016000832<br>min_experience=%{x}<br>min_pay=%{y}<extra></extra>",
         "legendgroup": "121016000832",
         "marker": {
          "color": "#636efa"
         },
         "name": "121016000832",
         "orientation": "v",
         "showlegend": true,
         "type": "funnel",
         "x": [
          5
         ],
         "xaxis": "x",
         "y": [
          null
         ],
         "yaxis": "y"
        },
        {
         "hovertemplate": "jobid=111016000046<br>min_experience=%{x}<br>min_pay=%{y}<extra></extra>",
         "legendgroup": "111016000046",
         "marker": {
          "color": "#EF553B"
         },
         "name": "111016000046",
         "orientation": "v",
         "showlegend": true,
         "type": "funnel",
         "x": [
          5
         ],
         "xaxis": "x",
         "y": [
          0
         ],
         "yaxis": "y"
        },
        {
         "hovertemplate": "jobid=111016000647<br>min_experience=%{x}<br>min_pay=%{y}<extra></extra>",
         "legendgroup": "111016000647",
         "marker": {
          "color": "#00cc96"
         },
         "name": "111016000647",
         "orientation": "v",
         "showlegend": true,
         "type": "funnel",
         "x": [
          0
         ],
         "xaxis": "x",
         "y": [
          null
         ],
         "yaxis": "y"
        },
        {
         "hovertemplate": "jobid=70916000152<br>min_experience=%{x}<br>min_pay=%{y}<extra></extra>",
         "legendgroup": "70916000152",
         "marker": {
          "color": "#ab63fa"
         },
         "name": "70916000152",
         "orientation": "v",
         "showlegend": true,
         "type": "funnel",
         "x": [
          1
         ],
         "xaxis": "x",
         "y": [
          null
         ],
         "yaxis": "y"
        },
        {
         "hovertemplate": "jobid=121016000723<br>min_experience=%{x}<br>min_pay=%{y}<extra></extra>",
         "legendgroup": "121016000723",
         "marker": {
          "color": "#FFA15A"
         },
         "name": "121016000723",
         "orientation": "v",
         "showlegend": true,
         "type": "funnel",
         "x": [
          1
         ],
         "xaxis": "x",
         "y": [
          0
         ],
         "yaxis": "y"
        },
        {
         "hovertemplate": "jobid=90516900388<br>min_experience=%{x}<br>min_pay=%{y}<extra></extra>",
         "legendgroup": "90516900388",
         "marker": {
          "color": "#19d3f3"
         },
         "name": "90516900388",
         "orientation": "v",
         "showlegend": true,
         "type": "funnel",
         "x": [
          5
         ],
         "xaxis": "x",
         "y": [
          null
         ],
         "yaxis": "y"
        },
        {
         "hovertemplate": "jobid=111016001016<br>min_experience=%{x}<br>min_pay=%{y}<extra></extra>",
         "legendgroup": "111016001016",
         "marker": {
          "color": "#FF6692"
         },
         "name": "111016001016",
         "orientation": "v",
         "showlegend": true,
         "type": "funnel",
         "x": [
          6
         ],
         "xaxis": "x",
         "y": [
          null
         ],
         "yaxis": "y"
        },
        {
         "hovertemplate": "jobid=290316900910<br>min_experience=%{x}<br>min_pay=%{y}<extra></extra>",
         "legendgroup": "290316900910",
         "marker": {
          "color": "#B6E880"
         },
         "name": "290316900910",
         "orientation": "v",
         "showlegend": true,
         "type": "funnel",
         "x": [
          5
         ],
         "xaxis": "x",
         "y": [
          null
         ],
         "yaxis": "y"
        },
        {
         "hovertemplate": "jobid=20116003125<br>min_experience=%{x}<br>min_pay=%{y}<extra></extra>",
         "legendgroup": "20116003125",
         "marker": {
          "color": "#FF97FF"
         },
         "name": "20116003125",
         "orientation": "v",
         "showlegend": true,
         "type": "funnel",
         "x": [
          0
         ],
         "xaxis": "x",
         "y": [
          0
         ],
         "yaxis": "y"
        },
        {
         "hovertemplate": "jobid=160916008250<br>min_experience=%{x}<br>min_pay=%{y}<extra></extra>",
         "legendgroup": "160916008250",
         "marker": {
          "color": "#FECB52"
         },
         "name": "160916008250",
         "orientation": "v",
         "showlegend": true,
         "type": "funnel",
         "x": [
          1
         ],
         "xaxis": "x",
         "y": [
          50000
         ],
         "yaxis": "y"
        },
        {
         "hovertemplate": "jobid=101016001916<br>min_experience=%{x}<br>min_pay=%{y}<extra></extra>",
         "legendgroup": "101016001916",
         "marker": {
          "color": "#636efa"
         },
         "name": "101016001916",
         "orientation": "v",
         "showlegend": true,
         "type": "funnel",
         "x": [
          0
         ],
         "xaxis": "x",
         "y": [
          0
         ],
         "yaxis": "y"
        },
        {
         "hovertemplate": "jobid=50716005489<br>min_experience=%{x}<br>min_pay=%{y}<extra></extra>",
         "legendgroup": "50716005489",
         "marker": {
          "color": "#EF553B"
         },
         "name": "50716005489",
         "orientation": "v",
         "showlegend": true,
         "type": "funnel",
         "x": [
          2
         ],
         "xaxis": "x",
         "y": [
          null
         ],
         "yaxis": "y"
        },
        {
         "hovertemplate": "jobid=121016000751<br>min_experience=%{x}<br>min_pay=%{y}<extra></extra>",
         "legendgroup": "121016000751",
         "marker": {
          "color": "#00cc96"
         },
         "name": "121016000751",
         "orientation": "v",
         "showlegend": true,
         "type": "funnel",
         "x": [
          2
         ],
         "xaxis": "x",
         "y": [
          75000
         ],
         "yaxis": "y"
        },
        {
         "hovertemplate": "jobid=111016002203<br>min_experience=%{x}<br>min_pay=%{y}<extra></extra>",
         "legendgroup": "111016002203",
         "marker": {
          "color": "#ab63fa"
         },
         "name": "111016002203",
         "orientation": "v",
         "showlegend": true,
         "type": "funnel",
         "x": [
          5
         ],
         "xaxis": "x",
         "y": [
          0
         ],
         "yaxis": "y"
        },
        {
         "hovertemplate": "jobid=101016004120<br>min_experience=%{x}<br>min_pay=%{y}<extra></extra>",
         "legendgroup": "101016004120",
         "marker": {
          "color": "#FFA15A"
         },
         "name": "101016004120",
         "orientation": "v",
         "showlegend": true,
         "type": "funnel",
         "x": [
          3
         ],
         "xaxis": "x",
         "y": [
          0
         ],
         "yaxis": "y"
        },
        {
         "hovertemplate": "jobid=101016001375<br>min_experience=%{x}<br>min_pay=%{y}<extra></extra>",
         "legendgroup": "101016001375",
         "marker": {
          "color": "#19d3f3"
         },
         "name": "101016001375",
         "orientation": "v",
         "showlegend": true,
         "type": "funnel",
         "x": [
          5
         ],
         "xaxis": "x",
         "y": [
          0
         ],
         "yaxis": "y"
        },
        {
         "hovertemplate": "jobid=160716005921<br>min_experience=%{x}<br>min_pay=%{y}<extra></extra>",
         "legendgroup": "160716005921",
         "marker": {
          "color": "#FF6692"
         },
         "name": "160716005921",
         "orientation": "v",
         "showlegend": true,
         "type": "funnel",
         "x": [
          3
         ],
         "xaxis": "x",
         "y": [
          null
         ],
         "yaxis": "y"
        },
        {
         "hovertemplate": "jobid=80716900942<br>min_experience=%{x}<br>min_pay=%{y}<extra></extra>",
         "legendgroup": "80716900942",
         "marker": {
          "color": "#B6E880"
         },
         "name": "80716900942",
         "orientation": "v",
         "showlegend": true,
         "type": "funnel",
         "x": [
          5
         ],
         "xaxis": "x",
         "y": [
          null
         ],
         "yaxis": "y"
        },
        {
         "hovertemplate": "jobid=230716004373<br>min_experience=%{x}<br>min_pay=%{y}<extra></extra>",
         "legendgroup": "230716004373",
         "marker": {
          "color": "#FF97FF"
         },
         "name": "230716004373",
         "orientation": "v",
         "showlegend": true,
         "type": "funnel",
         "x": [
          1
         ],
         "xaxis": "x",
         "y": [
          0
         ],
         "yaxis": "y"
        },
        {
         "hovertemplate": "jobid=80716900262<br>min_experience=%{x}<br>min_pay=%{y}<extra></extra>",
         "legendgroup": "80716900262",
         "marker": {
          "color": "#FECB52"
         },
         "name": "80716900262",
         "orientation": "v",
         "showlegend": true,
         "type": "funnel",
         "x": [
          1
         ],
         "xaxis": "x",
         "y": [
          null
         ],
         "yaxis": "y"
        },
        {
         "hovertemplate": "jobid=80716900267<br>min_experience=%{x}<br>min_pay=%{y}<extra></extra>",
         "legendgroup": "80716900267",
         "marker": {
          "color": "#636efa"
         },
         "name": "80716900267",
         "orientation": "v",
         "showlegend": true,
         "type": "funnel",
         "x": [
          3
         ],
         "xaxis": "x",
         "y": [
          null
         ],
         "yaxis": "y"
        },
        {
         "hovertemplate": "jobid=101016005448<br>min_experience=%{x}<br>min_pay=%{y}<extra></extra>",
         "legendgroup": "101016005448",
         "marker": {
          "color": "#EF553B"
         },
         "name": "101016005448",
         "orientation": "v",
         "showlegend": true,
         "type": "funnel",
         "x": [
          0
         ],
         "xaxis": "x",
         "y": [
          null
         ],
         "yaxis": "y"
        },
        {
         "hovertemplate": "jobid=101016005496<br>min_experience=%{x}<br>min_pay=%{y}<extra></extra>",
         "legendgroup": "101016005496",
         "marker": {
          "color": "#00cc96"
         },
         "name": "101016005496",
         "orientation": "v",
         "showlegend": true,
         "type": "funnel",
         "x": [
          3
         ],
         "xaxis": "x",
         "y": [
          0
         ],
         "yaxis": "y"
        },
        {
         "hovertemplate": "jobid=91016000902<br>min_experience=%{x}<br>min_pay=%{y}<extra></extra>",
         "legendgroup": "91016000902",
         "marker": {
          "color": "#ab63fa"
         },
         "name": "91016000902",
         "orientation": "v",
         "showlegend": true,
         "type": "funnel",
         "x": [
          0
         ],
         "xaxis": "x",
         "y": [
          25000
         ],
         "yaxis": "y"
        },
        {
         "hovertemplate": "jobid=71016902346<br>min_experience=%{x}<br>min_pay=%{y}<extra></extra>",
         "legendgroup": "71016902346",
         "marker": {
          "color": "#FFA15A"
         },
         "name": "71016902346",
         "orientation": "v",
         "showlegend": true,
         "type": "funnel",
         "x": [
          10
         ],
         "xaxis": "x",
         "y": [
          null
         ],
         "yaxis": "y"
        },
        {
         "hovertemplate": "jobid=80716900274<br>min_experience=%{x}<br>min_pay=%{y}<extra></extra>",
         "legendgroup": "80716900274",
         "marker": {
          "color": "#19d3f3"
         },
         "name": "80716900274",
         "orientation": "v",
         "showlegend": true,
         "type": "funnel",
         "x": [
          8
         ],
         "xaxis": "x",
         "y": [
          null
         ],
         "yaxis": "y"
        },
        {
         "hovertemplate": "jobid=231115004567<br>min_experience=%{x}<br>min_pay=%{y}<extra></extra>",
         "legendgroup": "231115004567",
         "marker": {
          "color": "#FF6692"
         },
         "name": "231115004567",
         "orientation": "v",
         "showlegend": true,
         "type": "funnel",
         "x": [
          3
         ],
         "xaxis": "x",
         "y": [
          null
         ],
         "yaxis": "y"
        },
        {
         "hovertemplate": "jobid=121016001339<br>min_experience=%{x}<br>min_pay=%{y}<extra></extra>",
         "legendgroup": "121016001339",
         "marker": {
          "color": "#B6E880"
         },
         "name": "121016001339",
         "orientation": "v",
         "showlegend": true,
         "type": "funnel",
         "x": [
          3
         ],
         "xaxis": "x",
         "y": [
          null
         ],
         "yaxis": "y"
        },
        {
         "hovertemplate": "jobid=101016900744<br>min_experience=%{x}<br>min_pay=%{y}<extra></extra>",
         "legendgroup": "101016900744",
         "marker": {
          "color": "#FF97FF"
         },
         "name": "101016900744",
         "orientation": "v",
         "showlegend": true,
         "type": "funnel",
         "x": [
          1
         ],
         "xaxis": "x",
         "y": [
          null
         ],
         "yaxis": "y"
        },
        {
         "hovertemplate": "jobid=40416002442<br>min_experience=%{x}<br>min_pay=%{y}<extra></extra>",
         "legendgroup": "40416002442",
         "marker": {
          "color": "#FECB52"
         },
         "name": "40416002442",
         "orientation": "v",
         "showlegend": true,
         "type": "funnel",
         "x": [
          1
         ],
         "xaxis": "x",
         "y": [
          null
         ],
         "yaxis": "y"
        },
        {
         "hovertemplate": "jobid=100716000142<br>min_experience=%{x}<br>min_pay=%{y}<extra></extra>",
         "legendgroup": "100716000142",
         "marker": {
          "color": "#636efa"
         },
         "name": "100716000142",
         "orientation": "v",
         "showlegend": true,
         "type": "funnel",
         "x": [
          0
         ],
         "xaxis": "x",
         "y": [
          50000
         ],
         "yaxis": "y"
        },
        {
         "hovertemplate": "jobid=111016002098<br>min_experience=%{x}<br>min_pay=%{y}<extra></extra>",
         "legendgroup": "111016002098",
         "marker": {
          "color": "#EF553B"
         },
         "name": "111016002098",
         "orientation": "v",
         "showlegend": true,
         "type": "funnel",
         "x": [
          0
         ],
         "xaxis": "x",
         "y": [
          0
         ],
         "yaxis": "y"
        },
        {
         "hovertemplate": "jobid=101016001003<br>min_experience=%{x}<br>min_pay=%{y}<extra></extra>",
         "legendgroup": "101016001003",
         "marker": {
          "color": "#00cc96"
         },
         "name": "101016001003",
         "orientation": "v",
         "showlegend": true,
         "type": "funnel",
         "x": [
          11
         ],
         "xaxis": "x",
         "y": [
          null
         ],
         "yaxis": "y"
        },
        {
         "hovertemplate": "jobid=300816004970<br>min_experience=%{x}<br>min_pay=%{y}<extra></extra>",
         "legendgroup": "300816004970",
         "marker": {
          "color": "#ab63fa"
         },
         "name": "300816004970",
         "orientation": "v",
         "showlegend": true,
         "type": "funnel",
         "x": [
          4
         ],
         "xaxis": "x",
         "y": [
          null
         ],
         "yaxis": "y"
        },
        {
         "hovertemplate": "jobid=80716900941<br>min_experience=%{x}<br>min_pay=%{y}<extra></extra>",
         "legendgroup": "80716900941",
         "marker": {
          "color": "#FFA15A"
         },
         "name": "80716900941",
         "orientation": "v",
         "showlegend": true,
         "type": "funnel",
         "x": [
          2
         ],
         "xaxis": "x",
         "y": [
          null
         ],
         "yaxis": "y"
        },
        {
         "hovertemplate": "jobid=61115005970<br>min_experience=%{x}<br>min_pay=%{y}<extra></extra>",
         "legendgroup": "61115005970",
         "marker": {
          "color": "#19d3f3"
         },
         "name": "61115005970",
         "orientation": "v",
         "showlegend": true,
         "type": "funnel",
         "x": [
          3
         ],
         "xaxis": "x",
         "y": [
          null
         ],
         "yaxis": "y"
        },
        {
         "hovertemplate": "jobid=111016000101<br>min_experience=%{x}<br>min_pay=%{y}<extra></extra>",
         "legendgroup": "111016000101",
         "marker": {
          "color": "#FF6692"
         },
         "name": "111016000101",
         "orientation": "v",
         "showlegend": true,
         "type": "funnel",
         "x": [
          0
         ],
         "xaxis": "x",
         "y": [
          75000
         ],
         "yaxis": "y"
        },
        {
         "hovertemplate": "jobid=101016002697<br>min_experience=%{x}<br>min_pay=%{y}<extra></extra>",
         "legendgroup": "101016002697",
         "marker": {
          "color": "#B6E880"
         },
         "name": "101016002697",
         "orientation": "v",
         "showlegend": true,
         "type": "funnel",
         "x": [
          0
         ],
         "xaxis": "x",
         "y": [
          null
         ],
         "yaxis": "y"
        },
        {
         "hovertemplate": "jobid=111016002086<br>min_experience=%{x}<br>min_pay=%{y}<extra></extra>",
         "legendgroup": "111016002086",
         "marker": {
          "color": "#FF97FF"
         },
         "name": "111016002086",
         "orientation": "v",
         "showlegend": true,
         "type": "funnel",
         "x": [
          0
         ],
         "xaxis": "x",
         "y": [
          null
         ],
         "yaxis": "y"
        },
        {
         "hovertemplate": "jobid=50916901074<br>min_experience=%{x}<br>min_pay=%{y}<extra></extra>",
         "legendgroup": "50916901074",
         "marker": {
          "color": "#FECB52"
         },
         "name": "50916901074",
         "orientation": "v",
         "showlegend": true,
         "type": "funnel",
         "x": [
          3
         ],
         "xaxis": "x",
         "y": [
          null
         ],
         "yaxis": "y"
        },
        {
         "hovertemplate": "jobid=101016900756<br>min_experience=%{x}<br>min_pay=%{y}<extra></extra>",
         "legendgroup": "101016900756",
         "marker": {
          "color": "#636efa"
         },
         "name": "101016900756",
         "orientation": "v",
         "showlegend": true,
         "type": "funnel",
         "x": [
          8
         ],
         "xaxis": "x",
         "y": [
          null
         ],
         "yaxis": "y"
        },
        {
         "hovertemplate": "jobid=121016000544<br>min_experience=%{x}<br>min_pay=%{y}<extra></extra>",
         "legendgroup": "121016000544",
         "marker": {
          "color": "#EF553B"
         },
         "name": "121016000544",
         "orientation": "v",
         "showlegend": true,
         "type": "funnel",
         "x": [
          0
         ],
         "xaxis": "x",
         "y": [
          50000
         ],
         "yaxis": "y"
        },
        {
         "hovertemplate": "jobid=101016002103<br>min_experience=%{x}<br>min_pay=%{y}<extra></extra>",
         "legendgroup": "101016002103",
         "marker": {
          "color": "#00cc96"
         },
         "name": "101016002103",
         "orientation": "v",
         "showlegend": true,
         "type": "funnel",
         "x": [
          4
         ],
         "xaxis": "x",
         "y": [
          0
         ],
         "yaxis": "y"
        },
        {
         "hovertemplate": "jobid=111016001210<br>min_experience=%{x}<br>min_pay=%{y}<extra></extra>",
         "legendgroup": "111016001210",
         "marker": {
          "color": "#ab63fa"
         },
         "name": "111016001210",
         "orientation": "v",
         "showlegend": true,
         "type": "funnel",
         "x": [
          6
         ],
         "xaxis": "x",
         "y": [
          0
         ],
         "yaxis": "y"
        },
        {
         "hovertemplate": "jobid=160616001811<br>min_experience=%{x}<br>min_pay=%{y}<extra></extra>",
         "legendgroup": "160616001811",
         "marker": {
          "color": "#FFA15A"
         },
         "name": "160616001811",
         "orientation": "v",
         "showlegend": true,
         "type": "funnel",
         "x": [
          6
         ],
         "xaxis": "x",
         "y": [
          null
         ],
         "yaxis": "y"
        },
        {
         "hovertemplate": "jobid=61016005625<br>min_experience=%{x}<br>min_pay=%{y}<extra></extra>",
         "legendgroup": "61016005625",
         "marker": {
          "color": "#19d3f3"
         },
         "name": "61016005625",
         "orientation": "v",
         "showlegend": true,
         "type": "funnel",
         "x": [
          2
         ],
         "xaxis": "x",
         "y": [
          null
         ],
         "yaxis": "y"
        },
        {
         "hovertemplate": "jobid=41016000462<br>min_experience=%{x}<br>min_pay=%{y}<extra></extra>",
         "legendgroup": "41016000462",
         "marker": {
          "color": "#FF6692"
         },
         "name": "41016000462",
         "orientation": "v",
         "showlegend": true,
         "type": "funnel",
         "x": [
          3
         ],
         "xaxis": "x",
         "y": [
          null
         ],
         "yaxis": "y"
        },
        {
         "hovertemplate": "jobid=120516005891<br>min_experience=%{x}<br>min_pay=%{y}<extra></extra>",
         "legendgroup": "120516005891",
         "marker": {
          "color": "#B6E880"
         },
         "name": "120516005891",
         "orientation": "v",
         "showlegend": true,
         "type": "funnel",
         "x": [
          3
         ],
         "xaxis": "x",
         "y": [
          50000
         ],
         "yaxis": "y"
        },
        {
         "hovertemplate": "jobid=111016002142<br>min_experience=%{x}<br>min_pay=%{y}<extra></extra>",
         "legendgroup": "111016002142",
         "marker": {
          "color": "#FF97FF"
         },
         "name": "111016002142",
         "orientation": "v",
         "showlegend": true,
         "type": "funnel",
         "x": [
          10
         ],
         "xaxis": "x",
         "y": [
          0
         ],
         "yaxis": "y"
        },
        {
         "hovertemplate": "jobid=50916901028<br>min_experience=%{x}<br>min_pay=%{y}<extra></extra>",
         "legendgroup": "50916901028",
         "marker": {
          "color": "#FECB52"
         },
         "name": "50916901028",
         "orientation": "v",
         "showlegend": true,
         "type": "funnel",
         "x": [
          6
         ],
         "xaxis": "x",
         "y": [
          null
         ],
         "yaxis": "y"
        },
        {
         "hovertemplate": "jobid=70716002756<br>min_experience=%{x}<br>min_pay=%{y}<extra></extra>",
         "legendgroup": "70716002756",
         "marker": {
          "color": "#636efa"
         },
         "name": "70716002756",
         "orientation": "v",
         "showlegend": true,
         "type": "funnel",
         "x": [
          1
         ],
         "xaxis": "x",
         "y": [
          null
         ],
         "yaxis": "y"
        },
        {
         "hovertemplate": "jobid=101016001650<br>min_experience=%{x}<br>min_pay=%{y}<extra></extra>",
         "legendgroup": "101016001650",
         "marker": {
          "color": "#EF553B"
         },
         "name": "101016001650",
         "orientation": "v",
         "showlegend": true,
         "type": "funnel",
         "x": [
          5
         ],
         "xaxis": "x",
         "y": [
          0
         ],
         "yaxis": "y"
        },
        {
         "hovertemplate": "jobid=160616000378<br>min_experience=%{x}<br>min_pay=%{y}<extra></extra>",
         "legendgroup": "160616000378",
         "marker": {
          "color": "#00cc96"
         },
         "name": "160616000378",
         "orientation": "v",
         "showlegend": true,
         "type": "funnel",
         "x": [
          4
         ],
         "xaxis": "x",
         "y": [
          null
         ],
         "yaxis": "y"
        },
        {
         "hovertemplate": "jobid=121016001327<br>min_experience=%{x}<br>min_pay=%{y}<extra></extra>",
         "legendgroup": "121016001327",
         "marker": {
          "color": "#ab63fa"
         },
         "name": "121016001327",
         "orientation": "v",
         "showlegend": true,
         "type": "funnel",
         "x": [
          5
         ],
         "xaxis": "x",
         "y": [
          50000
         ],
         "yaxis": "y"
        },
        {
         "hovertemplate": "jobid=101016900291<br>min_experience=%{x}<br>min_pay=%{y}<extra></extra>",
         "legendgroup": "101016900291",
         "marker": {
          "color": "#FFA15A"
         },
         "name": "101016900291",
         "orientation": "v",
         "showlegend": true,
         "type": "funnel",
         "x": [
          2
         ],
         "xaxis": "x",
         "y": [
          null
         ],
         "yaxis": "y"
        },
        {
         "hovertemplate": "jobid=61016005283<br>min_experience=%{x}<br>min_pay=%{y}<extra></extra>",
         "legendgroup": "61016005283",
         "marker": {
          "color": "#19d3f3"
         },
         "name": "61016005283",
         "orientation": "v",
         "showlegend": true,
         "type": "funnel",
         "x": [
          3
         ],
         "xaxis": "x",
         "y": [
          null
         ],
         "yaxis": "y"
        },
        {
         "hovertemplate": "jobid=101016004722<br>min_experience=%{x}<br>min_pay=%{y}<extra></extra>",
         "legendgroup": "101016004722",
         "marker": {
          "color": "#FF6692"
         },
         "name": "101016004722",
         "orientation": "v",
         "showlegend": true,
         "type": "funnel",
         "x": [
          3
         ],
         "xaxis": "x",
         "y": [
          null
         ],
         "yaxis": "y"
        },
        {
         "hovertemplate": "jobid=51016007848<br>min_experience=%{x}<br>min_pay=%{y}<extra></extra>",
         "legendgroup": "51016007848",
         "marker": {
          "color": "#B6E880"
         },
         "name": "51016007848",
         "orientation": "v",
         "showlegend": true,
         "type": "funnel",
         "x": [
          3
         ],
         "xaxis": "x",
         "y": [
          null
         ],
         "yaxis": "y"
        },
        {
         "hovertemplate": "jobid=250116005458<br>min_experience=%{x}<br>min_pay=%{y}<extra></extra>",
         "legendgroup": "250116005458",
         "marker": {
          "color": "#FF97FF"
         },
         "name": "250116005458",
         "orientation": "v",
         "showlegend": true,
         "type": "funnel",
         "x": [
          3
         ],
         "xaxis": "x",
         "y": [
          null
         ],
         "yaxis": "y"
        },
        {
         "hovertemplate": "jobid=101016001053<br>min_experience=%{x}<br>min_pay=%{y}<extra></extra>",
         "legendgroup": "101016001053",
         "marker": {
          "color": "#FECB52"
         },
         "name": "101016001053",
         "orientation": "v",
         "showlegend": true,
         "type": "funnel",
         "x": [
          3
         ],
         "xaxis": "x",
         "y": [
          0
         ],
         "yaxis": "y"
        },
        {
         "hovertemplate": "jobid=101016005872<br>min_experience=%{x}<br>min_pay=%{y}<extra></extra>",
         "legendgroup": "101016005872",
         "marker": {
          "color": "#636efa"
         },
         "name": "101016005872",
         "orientation": "v",
         "showlegend": true,
         "type": "funnel",
         "x": [
          0
         ],
         "xaxis": "x",
         "y": [
          null
         ],
         "yaxis": "y"
        },
        {
         "hovertemplate": "jobid=190716008358<br>min_experience=%{x}<br>min_pay=%{y}<extra></extra>",
         "legendgroup": "190716008358",
         "marker": {
          "color": "#EF553B"
         },
         "name": "190716008358",
         "orientation": "v",
         "showlegend": true,
         "type": "funnel",
         "x": [
          5
         ],
         "xaxis": "x",
         "y": [
          0
         ],
         "yaxis": "y"
        },
        {
         "hovertemplate": "jobid=101016001560<br>min_experience=%{x}<br>min_pay=%{y}<extra></extra>",
         "legendgroup": "101016001560",
         "marker": {
          "color": "#00cc96"
         },
         "name": "101016001560",
         "orientation": "v",
         "showlegend": true,
         "type": "funnel",
         "x": [
          3
         ],
         "xaxis": "x",
         "y": [
          null
         ],
         "yaxis": "y"
        },
        {
         "hovertemplate": "jobid=111016000823<br>min_experience=%{x}<br>min_pay=%{y}<extra></extra>",
         "legendgroup": "111016000823",
         "marker": {
          "color": "#ab63fa"
         },
         "name": "111016000823",
         "orientation": "v",
         "showlegend": true,
         "type": "funnel",
         "x": [
          3
         ],
         "xaxis": "x",
         "y": [
          0
         ],
         "yaxis": "y"
        },
        {
         "hovertemplate": "jobid=101016900685<br>min_experience=%{x}<br>min_pay=%{y}<extra></extra>",
         "legendgroup": "101016900685",
         "marker": {
          "color": "#FFA15A"
         },
         "name": "101016900685",
         "orientation": "v",
         "showlegend": true,
         "type": "funnel",
         "x": [
          3
         ],
         "xaxis": "x",
         "y": [
          null
         ],
         "yaxis": "y"
        },
        {
         "hovertemplate": "jobid=121016000231<br>min_experience=%{x}<br>min_pay=%{y}<extra></extra>",
         "legendgroup": "121016000231",
         "marker": {
          "color": "#19d3f3"
         },
         "name": "121016000231",
         "orientation": "v",
         "showlegend": true,
         "type": "funnel",
         "x": [
          0
         ],
         "xaxis": "x",
         "y": [
          null
         ],
         "yaxis": "y"
        },
        {
         "hovertemplate": "jobid=311215002974<br>min_experience=%{x}<br>min_pay=%{y}<extra></extra>",
         "legendgroup": "311215002974",
         "marker": {
          "color": "#FF6692"
         },
         "name": "311215002974",
         "orientation": "v",
         "showlegend": true,
         "type": "funnel",
         "x": [
          3
         ],
         "xaxis": "x",
         "y": [
          null
         ],
         "yaxis": "y"
        },
        {
         "hovertemplate": "jobid=60916002412<br>min_experience=%{x}<br>min_pay=%{y}<extra></extra>",
         "legendgroup": "60916002412",
         "marker": {
          "color": "#B6E880"
         },
         "name": "60916002412",
         "orientation": "v",
         "showlegend": true,
         "type": "funnel",
         "x": [
          0
         ],
         "xaxis": "x",
         "y": [
          0
         ],
         "yaxis": "y"
        },
        {
         "hovertemplate": "jobid=21016001070<br>min_experience=%{x}<br>min_pay=%{y}<extra></extra>",
         "legendgroup": "21016001070",
         "marker": {
          "color": "#FF97FF"
         },
         "name": "21016001070",
         "orientation": "v",
         "showlegend": true,
         "type": "funnel",
         "x": [
          3
         ],
         "xaxis": "x",
         "y": [
          null
         ],
         "yaxis": "y"
        },
        {
         "hovertemplate": "jobid=61016003928<br>min_experience=%{x}<br>min_pay=%{y}<extra></extra>",
         "legendgroup": "61016003928",
         "marker": {
          "color": "#FECB52"
         },
         "name": "61016003928",
         "orientation": "v",
         "showlegend": true,
         "type": "funnel",
         "x": [
          8
         ],
         "xaxis": "x",
         "y": [
          null
         ],
         "yaxis": "y"
        },
        {
         "hovertemplate": "jobid=111016000021<br>min_experience=%{x}<br>min_pay=%{y}<extra></extra>",
         "legendgroup": "111016000021",
         "marker": {
          "color": "#636efa"
         },
         "name": "111016000021",
         "orientation": "v",
         "showlegend": true,
         "type": "funnel",
         "x": [
          0
         ],
         "xaxis": "x",
         "y": [
          0
         ],
         "yaxis": "y"
        },
        {
         "hovertemplate": "jobid=101016002569<br>min_experience=%{x}<br>min_pay=%{y}<extra></extra>",
         "legendgroup": "101016002569",
         "marker": {
          "color": "#EF553B"
         },
         "name": "101016002569",
         "orientation": "v",
         "showlegend": true,
         "type": "funnel",
         "x": [
          5
         ],
         "xaxis": "x",
         "y": [
          null
         ],
         "yaxis": "y"
        },
        {
         "hovertemplate": "jobid=280816001624<br>min_experience=%{x}<br>min_pay=%{y}<extra></extra>",
         "legendgroup": "280816001624",
         "marker": {
          "color": "#00cc96"
         },
         "name": "280816001624",
         "orientation": "v",
         "showlegend": true,
         "type": "funnel",
         "x": [
          0
         ],
         "xaxis": "x",
         "y": [
          75000
         ],
         "yaxis": "y"
        },
        {
         "hovertemplate": "jobid=50416002099<br>min_experience=%{x}<br>min_pay=%{y}<extra></extra>",
         "legendgroup": "50416002099",
         "marker": {
          "color": "#ab63fa"
         },
         "name": "50416002099",
         "orientation": "v",
         "showlegend": true,
         "type": "funnel",
         "x": [
          3
         ],
         "xaxis": "x",
         "y": [
          25000
         ],
         "yaxis": "y"
        },
        {
         "hovertemplate": "jobid=50916900991<br>min_experience=%{x}<br>min_pay=%{y}<extra></extra>",
         "legendgroup": "50916900991",
         "marker": {
          "color": "#FFA15A"
         },
         "name": "50916900991",
         "orientation": "v",
         "showlegend": true,
         "type": "funnel",
         "x": [
          3
         ],
         "xaxis": "x",
         "y": [
          null
         ],
         "yaxis": "y"
        },
        {
         "hovertemplate": "jobid=21016001041<br>min_experience=%{x}<br>min_pay=%{y}<extra></extra>",
         "legendgroup": "21016001041",
         "marker": {
          "color": "#19d3f3"
         },
         "name": "21016001041",
         "orientation": "v",
         "showlegend": true,
         "type": "funnel",
         "x": [
          1
         ],
         "xaxis": "x",
         "y": [
          null
         ],
         "yaxis": "y"
        },
        {
         "hovertemplate": "jobid=111016001463<br>min_experience=%{x}<br>min_pay=%{y}<extra></extra>",
         "legendgroup": "111016001463",
         "marker": {
          "color": "#FF6692"
         },
         "name": "111016001463",
         "orientation": "v",
         "showlegend": true,
         "type": "funnel",
         "x": [
          2
         ],
         "xaxis": "x",
         "y": [
          0
         ],
         "yaxis": "y"
        },
        {
         "hovertemplate": "jobid=240916003236<br>min_experience=%{x}<br>min_pay=%{y}<extra></extra>",
         "legendgroup": "240916003236",
         "marker": {
          "color": "#B6E880"
         },
         "name": "240916003236",
         "orientation": "v",
         "showlegend": true,
         "type": "funnel",
         "x": [
          4
         ],
         "xaxis": "x",
         "y": [
          null
         ],
         "yaxis": "y"
        },
        {
         "hovertemplate": "jobid=120615900673<br>min_experience=%{x}<br>min_pay=%{y}<extra></extra>",
         "legendgroup": "120615900673",
         "marker": {
          "color": "#FF97FF"
         },
         "name": "120615900673",
         "orientation": "v",
         "showlegend": true,
         "type": "funnel",
         "x": [
          8
         ],
         "xaxis": "x",
         "y": [
          null
         ],
         "yaxis": "y"
        },
        {
         "hovertemplate": "jobid=101016004912<br>min_experience=%{x}<br>min_pay=%{y}<extra></extra>",
         "legendgroup": "101016004912",
         "marker": {
          "color": "#FECB52"
         },
         "name": "101016004912",
         "orientation": "v",
         "showlegend": true,
         "type": "funnel",
         "x": [
          7
         ],
         "xaxis": "x",
         "y": [
          200000
         ],
         "yaxis": "y"
        },
        {
         "hovertemplate": "jobid=101016001231<br>min_experience=%{x}<br>min_pay=%{y}<extra></extra>",
         "legendgroup": "101016001231",
         "marker": {
          "color": "#636efa"
         },
         "name": "101016001231",
         "orientation": "v",
         "showlegend": true,
         "type": "funnel",
         "x": [
          15
         ],
         "xaxis": "x",
         "y": [
          null
         ],
         "yaxis": "y"
        },
        {
         "hovertemplate": "jobid=210616000980<br>min_experience=%{x}<br>min_pay=%{y}<extra></extra>",
         "legendgroup": "210616000980",
         "marker": {
          "color": "#EF553B"
         },
         "name": "210616000980",
         "orientation": "v",
         "showlegend": true,
         "type": "funnel",
         "x": [
          3
         ],
         "xaxis": "x",
         "y": [
          null
         ],
         "yaxis": "y"
        },
        {
         "hovertemplate": "jobid=81016003506<br>min_experience=%{x}<br>min_pay=%{y}<extra></extra>",
         "legendgroup": "81016003506",
         "marker": {
          "color": "#00cc96"
         },
         "name": "81016003506",
         "orientation": "v",
         "showlegend": true,
         "type": "funnel",
         "x": [
          6
         ],
         "xaxis": "x",
         "y": [
          null
         ],
         "yaxis": "y"
        },
        {
         "hovertemplate": "jobid=101016001695<br>min_experience=%{x}<br>min_pay=%{y}<extra></extra>",
         "legendgroup": "101016001695",
         "marker": {
          "color": "#ab63fa"
         },
         "name": "101016001695",
         "orientation": "v",
         "showlegend": true,
         "type": "funnel",
         "x": [
          3
         ],
         "xaxis": "x",
         "y": [
          null
         ],
         "yaxis": "y"
        },
        {
         "hovertemplate": "jobid=111016001914<br>min_experience=%{x}<br>min_pay=%{y}<extra></extra>",
         "legendgroup": "111016001914",
         "marker": {
          "color": "#FFA15A"
         },
         "name": "111016001914",
         "orientation": "v",
         "showlegend": true,
         "type": "funnel",
         "x": [
          0
         ],
         "xaxis": "x",
         "y": [
          null
         ],
         "yaxis": "y"
        },
        {
         "hovertemplate": "jobid=101016002133<br>min_experience=%{x}<br>min_pay=%{y}<extra></extra>",
         "legendgroup": "101016002133",
         "marker": {
          "color": "#19d3f3"
         },
         "name": "101016002133",
         "orientation": "v",
         "showlegend": true,
         "type": "funnel",
         "x": [
          1
         ],
         "xaxis": "x",
         "y": [
          25000
         ],
         "yaxis": "y"
        },
        {
         "hovertemplate": "jobid=130416003186<br>min_experience=%{x}<br>min_pay=%{y}<extra></extra>",
         "legendgroup": "130416003186",
         "marker": {
          "color": "#FF6692"
         },
         "name": "130416003186",
         "orientation": "v",
         "showlegend": true,
         "type": "funnel",
         "x": [
          3
         ],
         "xaxis": "x",
         "y": [
          null
         ],
         "yaxis": "y"
        },
        {
         "hovertemplate": "jobid=220416003539<br>min_experience=%{x}<br>min_pay=%{y}<extra></extra>",
         "legendgroup": "220416003539",
         "marker": {
          "color": "#B6E880"
         },
         "name": "220416003539",
         "orientation": "v",
         "showlegend": true,
         "type": "funnel",
         "x": [
          5
         ],
         "xaxis": "x",
         "y": [
          null
         ],
         "yaxis": "y"
        },
        {
         "hovertemplate": "jobid=101016006394<br>min_experience=%{x}<br>min_pay=%{y}<extra></extra>",
         "legendgroup": "101016006394",
         "marker": {
          "color": "#FF97FF"
         },
         "name": "101016006394",
         "orientation": "v",
         "showlegend": true,
         "type": "funnel",
         "x": [
          0
         ],
         "xaxis": "x",
         "y": [
          5000
         ],
         "yaxis": "y"
        },
        {
         "hovertemplate": "jobid=290816005257<br>min_experience=%{x}<br>min_pay=%{y}<extra></extra>",
         "legendgroup": "290816005257",
         "marker": {
          "color": "#FECB52"
         },
         "name": "290816005257",
         "orientation": "v",
         "showlegend": true,
         "type": "funnel",
         "x": [
          1
         ],
         "xaxis": "x",
         "y": [
          null
         ],
         "yaxis": "y"
        },
        {
         "hovertemplate": "jobid=190916005842<br>min_experience=%{x}<br>min_pay=%{y}<extra></extra>",
         "legendgroup": "190916005842",
         "marker": {
          "color": "#636efa"
         },
         "name": "190916005842",
         "orientation": "v",
         "showlegend": true,
         "type": "funnel",
         "x": [
          3
         ],
         "xaxis": "x",
         "y": [
          75000
         ],
         "yaxis": "y"
        },
        {
         "hovertemplate": "jobid=101016005604<br>min_experience=%{x}<br>min_pay=%{y}<extra></extra>",
         "legendgroup": "101016005604",
         "marker": {
          "color": "#EF553B"
         },
         "name": "101016005604",
         "orientation": "v",
         "showlegend": true,
         "type": "funnel",
         "x": [
          4
         ],
         "xaxis": "x",
         "y": [
          null
         ],
         "yaxis": "y"
        },
        {
         "hovertemplate": "jobid=101016900485<br>min_experience=%{x}<br>min_pay=%{y}<extra></extra>",
         "legendgroup": "101016900485",
         "marker": {
          "color": "#00cc96"
         },
         "name": "101016900485",
         "orientation": "v",
         "showlegend": true,
         "type": "funnel",
         "x": [
          3
         ],
         "xaxis": "x",
         "y": [
          null
         ],
         "yaxis": "y"
        },
        {
         "hovertemplate": "jobid=101016900557<br>min_experience=%{x}<br>min_pay=%{y}<extra></extra>",
         "legendgroup": "101016900557",
         "marker": {
          "color": "#ab63fa"
         },
         "name": "101016900557",
         "orientation": "v",
         "showlegend": true,
         "type": "funnel",
         "x": [
          1
         ],
         "xaxis": "x",
         "y": [
          null
         ],
         "yaxis": "y"
        },
        {
         "hovertemplate": "jobid=250916000586<br>min_experience=%{x}<br>min_pay=%{y}<extra></extra>",
         "legendgroup": "250916000586",
         "marker": {
          "color": "#FFA15A"
         },
         "name": "250916000586",
         "orientation": "v",
         "showlegend": true,
         "type": "funnel",
         "x": [
          0
         ],
         "xaxis": "x",
         "y": [
          0
         ],
         "yaxis": "y"
        },
        {
         "hovertemplate": "jobid=21016001032<br>min_experience=%{x}<br>min_pay=%{y}<extra></extra>",
         "legendgroup": "21016001032",
         "marker": {
          "color": "#19d3f3"
         },
         "name": "21016001032",
         "orientation": "v",
         "showlegend": true,
         "type": "funnel",
         "x": [
          3
         ],
         "xaxis": "x",
         "y": [
          null
         ],
         "yaxis": "y"
        },
        {
         "hovertemplate": "jobid=121016001197<br>min_experience=%{x}<br>min_pay=%{y}<extra></extra>",
         "legendgroup": "121016001197",
         "marker": {
          "color": "#FF6692"
         },
         "name": "121016001197",
         "orientation": "v",
         "showlegend": true,
         "type": "funnel",
         "x": [
          2
         ],
         "xaxis": "x",
         "y": [
          null
         ],
         "yaxis": "y"
        },
        {
         "hovertemplate": "jobid=101016005500<br>min_experience=%{x}<br>min_pay=%{y}<extra></extra>",
         "legendgroup": "101016005500",
         "marker": {
          "color": "#B6E880"
         },
         "name": "101016005500",
         "orientation": "v",
         "showlegend": true,
         "type": "funnel",
         "x": [
          8
         ],
         "xaxis": "x",
         "y": [
          null
         ],
         "yaxis": "y"
        },
        {
         "hovertemplate": "jobid=200416900056<br>min_experience=%{x}<br>min_pay=%{y}<extra></extra>",
         "legendgroup": "200416900056",
         "marker": {
          "color": "#FF97FF"
         },
         "name": "200416900056",
         "orientation": "v",
         "showlegend": true,
         "type": "funnel",
         "x": [
          2
         ],
         "xaxis": "x",
         "y": [
          null
         ],
         "yaxis": "y"
        },
        {
         "hovertemplate": "jobid=101016900074<br>min_experience=%{x}<br>min_pay=%{y}<extra></extra>",
         "legendgroup": "101016900074",
         "marker": {
          "color": "#FECB52"
         },
         "name": "101016900074",
         "orientation": "v",
         "showlegend": true,
         "type": "funnel",
         "x": [
          4
         ],
         "xaxis": "x",
         "y": [
          null
         ],
         "yaxis": "y"
        },
        {
         "hovertemplate": "jobid=101016004520<br>min_experience=%{x}<br>min_pay=%{y}<extra></extra>",
         "legendgroup": "101016004520",
         "marker": {
          "color": "#636efa"
         },
         "name": "101016004520",
         "orientation": "v",
         "showlegend": true,
         "type": "funnel",
         "x": [
          0
         ],
         "xaxis": "x",
         "y": [
          50000
         ],
         "yaxis": "y"
        },
        {
         "hovertemplate": "jobid=70916001822<br>min_experience=%{x}<br>min_pay=%{y}<extra></extra>",
         "legendgroup": "70916001822",
         "marker": {
          "color": "#EF553B"
         },
         "name": "70916001822",
         "orientation": "v",
         "showlegend": true,
         "type": "funnel",
         "x": [
          5
         ],
         "xaxis": "x",
         "y": [
          50000
         ],
         "yaxis": "y"
        },
        {
         "hovertemplate": "jobid=130716004925<br>min_experience=%{x}<br>min_pay=%{y}<extra></extra>",
         "legendgroup": "130716004925",
         "marker": {
          "color": "#00cc96"
         },
         "name": "130716004925",
         "orientation": "v",
         "showlegend": true,
         "type": "funnel",
         "x": [
          4
         ],
         "xaxis": "x",
         "y": [
          null
         ],
         "yaxis": "y"
        },
        {
         "hovertemplate": "jobid=190216001785<br>min_experience=%{x}<br>min_pay=%{y}<extra></extra>",
         "legendgroup": "190216001785",
         "marker": {
          "color": "#ab63fa"
         },
         "name": "190216001785",
         "orientation": "v",
         "showlegend": true,
         "type": "funnel",
         "x": [
          0
         ],
         "xaxis": "x",
         "y": [
          null
         ],
         "yaxis": "y"
        },
        {
         "hovertemplate": "jobid=50816005154<br>min_experience=%{x}<br>min_pay=%{y}<extra></extra>",
         "legendgroup": "50816005154",
         "marker": {
          "color": "#FFA15A"
         },
         "name": "50816005154",
         "orientation": "v",
         "showlegend": true,
         "type": "funnel",
         "x": [
          5
         ],
         "xaxis": "x",
         "y": [
          null
         ],
         "yaxis": "y"
        },
        {
         "hovertemplate": "jobid=101016001679<br>min_experience=%{x}<br>min_pay=%{y}<extra></extra>",
         "legendgroup": "101016001679",
         "marker": {
          "color": "#19d3f3"
         },
         "name": "101016001679",
         "orientation": "v",
         "showlegend": true,
         "type": "funnel",
         "x": [
          12
         ],
         "xaxis": "x",
         "y": [
          0
         ],
         "yaxis": "y"
        },
        {
         "hovertemplate": "jobid=101016000614<br>min_experience=%{x}<br>min_pay=%{y}<extra></extra>",
         "legendgroup": "101016000614",
         "marker": {
          "color": "#FF6692"
         },
         "name": "101016000614",
         "orientation": "v",
         "showlegend": true,
         "type": "funnel",
         "x": [
          1
         ],
         "xaxis": "x",
         "y": [
          null
         ],
         "yaxis": "y"
        },
        {
         "hovertemplate": "jobid=121016001100<br>min_experience=%{x}<br>min_pay=%{y}<extra></extra>",
         "legendgroup": "121016001100",
         "marker": {
          "color": "#B6E880"
         },
         "name": "121016001100",
         "orientation": "v",
         "showlegend": true,
         "type": "funnel",
         "x": [
          5
         ],
         "xaxis": "x",
         "y": [
          0
         ],
         "yaxis": "y"
        },
        {
         "hovertemplate": "jobid=111016000062<br>min_experience=%{x}<br>min_pay=%{y}<extra></extra>",
         "legendgroup": "111016000062",
         "marker": {
          "color": "#FF97FF"
         },
         "name": "111016000062",
         "orientation": "v",
         "showlegend": true,
         "type": "funnel",
         "x": [
          3
         ],
         "xaxis": "x",
         "y": [
          0
         ],
         "yaxis": "y"
        },
        {
         "hovertemplate": "jobid=101016002634<br>min_experience=%{x}<br>min_pay=%{y}<extra></extra>",
         "legendgroup": "101016002634",
         "marker": {
          "color": "#FECB52"
         },
         "name": "101016002634",
         "orientation": "v",
         "showlegend": true,
         "type": "funnel",
         "x": [
          6
         ],
         "xaxis": "x",
         "y": [
          null
         ],
         "yaxis": "y"
        },
        {
         "hovertemplate": "jobid=101016001175<br>min_experience=%{x}<br>min_pay=%{y}<extra></extra>",
         "legendgroup": "101016001175",
         "marker": {
          "color": "#636efa"
         },
         "name": "101016001175",
         "orientation": "v",
         "showlegend": true,
         "type": "funnel",
         "x": [
          4
         ],
         "xaxis": "x",
         "y": [
          null
         ],
         "yaxis": "y"
        },
        {
         "hovertemplate": "jobid=101016900590<br>min_experience=%{x}<br>min_pay=%{y}<extra></extra>",
         "legendgroup": "101016900590",
         "marker": {
          "color": "#EF553B"
         },
         "name": "101016900590",
         "orientation": "v",
         "showlegend": true,
         "type": "funnel",
         "x": [
          6
         ],
         "xaxis": "x",
         "y": [
          null
         ],
         "yaxis": "y"
        },
        {
         "hovertemplate": "jobid=101016900644<br>min_experience=%{x}<br>min_pay=%{y}<extra></extra>",
         "legendgroup": "101016900644",
         "marker": {
          "color": "#00cc96"
         },
         "name": "101016900644",
         "orientation": "v",
         "showlegend": true,
         "type": "funnel",
         "x": [
          3
         ],
         "xaxis": "x",
         "y": [
          null
         ],
         "yaxis": "y"
        },
        {
         "hovertemplate": "jobid=41016004831<br>min_experience=%{x}<br>min_pay=%{y}<extra></extra>",
         "legendgroup": "41016004831",
         "marker": {
          "color": "#ab63fa"
         },
         "name": "41016004831",
         "orientation": "v",
         "showlegend": true,
         "type": "funnel",
         "x": [
          4
         ],
         "xaxis": "x",
         "y": [
          0
         ],
         "yaxis": "y"
        },
        {
         "hovertemplate": "jobid=101016004032<br>min_experience=%{x}<br>min_pay=%{y}<extra></extra>",
         "legendgroup": "101016004032",
         "marker": {
          "color": "#FFA15A"
         },
         "name": "101016004032",
         "orientation": "v",
         "showlegend": true,
         "type": "funnel",
         "x": [
          3
         ],
         "xaxis": "x",
         "y": [
          null
         ],
         "yaxis": "y"
        },
        {
         "hovertemplate": "jobid=190216007402<br>min_experience=%{x}<br>min_pay=%{y}<extra></extra>",
         "legendgroup": "190216007402",
         "marker": {
          "color": "#19d3f3"
         },
         "name": "190216007402",
         "orientation": "v",
         "showlegend": true,
         "type": "funnel",
         "x": [
          0
         ],
         "xaxis": "x",
         "y": [
          null
         ],
         "yaxis": "y"
        },
        {
         "hovertemplate": "jobid=140716007925<br>min_experience=%{x}<br>min_pay=%{y}<extra></extra>",
         "legendgroup": "140716007925",
         "marker": {
          "color": "#FF6692"
         },
         "name": "140716007925",
         "orientation": "v",
         "showlegend": true,
         "type": "funnel",
         "x": [
          2
         ],
         "xaxis": "x",
         "y": [
          50000
         ],
         "yaxis": "y"
        },
        {
         "hovertemplate": "jobid=101016004122<br>min_experience=%{x}<br>min_pay=%{y}<extra></extra>",
         "legendgroup": "101016004122",
         "marker": {
          "color": "#B6E880"
         },
         "name": "101016004122",
         "orientation": "v",
         "showlegend": true,
         "type": "funnel",
         "x": [
          2
         ],
         "xaxis": "x",
         "y": [
          0
         ],
         "yaxis": "y"
        },
        {
         "hovertemplate": "jobid=240816008396<br>min_experience=%{x}<br>min_pay=%{y}<extra></extra>",
         "legendgroup": "240816008396",
         "marker": {
          "color": "#FF97FF"
         },
         "name": "240816008396",
         "orientation": "v",
         "showlegend": true,
         "type": "funnel",
         "x": [
          6
         ],
         "xaxis": "x",
         "y": [
          0
         ],
         "yaxis": "y"
        },
        {
         "hovertemplate": "jobid=160316001339<br>min_experience=%{x}<br>min_pay=%{y}<extra></extra>",
         "legendgroup": "160316001339",
         "marker": {
          "color": "#FECB52"
         },
         "name": "160316001339",
         "orientation": "v",
         "showlegend": true,
         "type": "funnel",
         "x": [
          3
         ],
         "xaxis": "x",
         "y": [
          0
         ],
         "yaxis": "y"
        },
        {
         "hovertemplate": "jobid=120916002906<br>min_experience=%{x}<br>min_pay=%{y}<extra></extra>",
         "legendgroup": "120916002906",
         "marker": {
          "color": "#636efa"
         },
         "name": "120916002906",
         "orientation": "v",
         "showlegend": true,
         "type": "funnel",
         "x": [
          4
         ],
         "xaxis": "x",
         "y": [
          50000
         ],
         "yaxis": "y"
        },
        {
         "hovertemplate": "jobid=270216002685<br>min_experience=%{x}<br>min_pay=%{y}<extra></extra>",
         "legendgroup": "270216002685",
         "marker": {
          "color": "#EF553B"
         },
         "name": "270216002685",
         "orientation": "v",
         "showlegend": true,
         "type": "funnel",
         "x": [
          2
         ],
         "xaxis": "x",
         "y": [
          null
         ],
         "yaxis": "y"
        },
        {
         "hovertemplate": "jobid=121016000776<br>min_experience=%{x}<br>min_pay=%{y}<extra></extra>",
         "legendgroup": "121016000776",
         "marker": {
          "color": "#00cc96"
         },
         "name": "121016000776",
         "orientation": "v",
         "showlegend": true,
         "type": "funnel",
         "x": [
          1
         ],
         "xaxis": "x",
         "y": [
          0
         ],
         "yaxis": "y"
        },
        {
         "hovertemplate": "jobid=111016001013<br>min_experience=%{x}<br>min_pay=%{y}<extra></extra>",
         "legendgroup": "111016001013",
         "marker": {
          "color": "#ab63fa"
         },
         "name": "111016001013",
         "orientation": "v",
         "showlegend": true,
         "type": "funnel",
         "x": [
          1
         ],
         "xaxis": "x",
         "y": [
          null
         ],
         "yaxis": "y"
        },
        {
         "hovertemplate": "jobid=101016000004<br>min_experience=%{x}<br>min_pay=%{y}<extra></extra>",
         "legendgroup": "101016000004",
         "marker": {
          "color": "#FFA15A"
         },
         "name": "101016000004",
         "orientation": "v",
         "showlegend": true,
         "type": "funnel",
         "x": [
          0
         ],
         "xaxis": "x",
         "y": [
          0
         ],
         "yaxis": "y"
        },
        {
         "hovertemplate": "jobid=111016000177<br>min_experience=%{x}<br>min_pay=%{y}<extra></extra>",
         "legendgroup": "111016000177",
         "marker": {
          "color": "#19d3f3"
         },
         "name": "111016000177",
         "orientation": "v",
         "showlegend": true,
         "type": "funnel",
         "x": [
          5
         ],
         "xaxis": "x",
         "y": [
          0
         ],
         "yaxis": "y"
        },
        {
         "hovertemplate": "jobid=300916005413<br>min_experience=%{x}<br>min_pay=%{y}<extra></extra>",
         "legendgroup": "300916005413",
         "marker": {
          "color": "#FF6692"
         },
         "name": "300916005413",
         "orientation": "v",
         "showlegend": true,
         "type": "funnel",
         "x": [
          7
         ],
         "xaxis": "x",
         "y": [
          null
         ],
         "yaxis": "y"
        },
        {
         "hovertemplate": "jobid=40816005829<br>min_experience=%{x}<br>min_pay=%{y}<extra></extra>",
         "legendgroup": "40816005829",
         "marker": {
          "color": "#B6E880"
         },
         "name": "40816005829",
         "orientation": "v",
         "showlegend": true,
         "type": "funnel",
         "x": [
          0
         ],
         "xaxis": "x",
         "y": [
          null
         ],
         "yaxis": "y"
        },
        {
         "hovertemplate": "jobid=230816009430<br>min_experience=%{x}<br>min_pay=%{y}<extra></extra>",
         "legendgroup": "230816009430",
         "marker": {
          "color": "#FF97FF"
         },
         "name": "230816009430",
         "orientation": "v",
         "showlegend": true,
         "type": "funnel",
         "x": [
          2
         ],
         "xaxis": "x",
         "y": [
          null
         ],
         "yaxis": "y"
        },
        {
         "hovertemplate": "jobid=101016000605<br>min_experience=%{x}<br>min_pay=%{y}<extra></extra>",
         "legendgroup": "101016000605",
         "marker": {
          "color": "#FECB52"
         },
         "name": "101016000605",
         "orientation": "v",
         "showlegend": true,
         "type": "funnel",
         "x": [
          1
         ],
         "xaxis": "x",
         "y": [
          0
         ],
         "yaxis": "y"
        },
        {
         "hovertemplate": "jobid=250616004407<br>min_experience=%{x}<br>min_pay=%{y}<extra></extra>",
         "legendgroup": "250616004407",
         "marker": {
          "color": "#636efa"
         },
         "name": "250616004407",
         "orientation": "v",
         "showlegend": true,
         "type": "funnel",
         "x": [
          1
         ],
         "xaxis": "x",
         "y": [
          null
         ],
         "yaxis": "y"
        },
        {
         "hovertemplate": "jobid=111016001203<br>min_experience=%{x}<br>min_pay=%{y}<extra></extra>",
         "legendgroup": "111016001203",
         "marker": {
          "color": "#EF553B"
         },
         "name": "111016001203",
         "orientation": "v",
         "showlegend": true,
         "type": "funnel",
         "x": [
          1
         ],
         "xaxis": "x",
         "y": [
          0
         ],
         "yaxis": "y"
        },
        {
         "hovertemplate": "jobid=101016000740<br>min_experience=%{x}<br>min_pay=%{y}<extra></extra>",
         "legendgroup": "101016000740",
         "marker": {
          "color": "#00cc96"
         },
         "name": "101016000740",
         "orientation": "v",
         "showlegend": true,
         "type": "funnel",
         "x": [
          0
         ],
         "xaxis": "x",
         "y": [
          0
         ],
         "yaxis": "y"
        },
        {
         "hovertemplate": "jobid=101016004018<br>min_experience=%{x}<br>min_pay=%{y}<extra></extra>",
         "legendgroup": "101016004018",
         "marker": {
          "color": "#ab63fa"
         },
         "name": "101016004018",
         "orientation": "v",
         "showlegend": true,
         "type": "funnel",
         "x": [
          1
         ],
         "xaxis": "x",
         "y": [
          75000
         ],
         "yaxis": "y"
        },
        {
         "hovertemplate": "jobid=101016004991<br>min_experience=%{x}<br>min_pay=%{y}<extra></extra>",
         "legendgroup": "101016004991",
         "marker": {
          "color": "#FFA15A"
         },
         "name": "101016004991",
         "orientation": "v",
         "showlegend": true,
         "type": "funnel",
         "x": [
          3
         ],
         "xaxis": "x",
         "y": [
          null
         ],
         "yaxis": "y"
        },
        {
         "hovertemplate": "jobid=131115000871<br>min_experience=%{x}<br>min_pay=%{y}<extra></extra>",
         "legendgroup": "131115000871",
         "marker": {
          "color": "#19d3f3"
         },
         "name": "131115000871",
         "orientation": "v",
         "showlegend": true,
         "type": "funnel",
         "x": [
          2
         ],
         "xaxis": "x",
         "y": [
          null
         ],
         "yaxis": "y"
        },
        {
         "hovertemplate": "jobid=30915900427<br>min_experience=%{x}<br>min_pay=%{y}<extra></extra>",
         "legendgroup": "30915900427",
         "marker": {
          "color": "#FF6692"
         },
         "name": "30915900427",
         "orientation": "v",
         "showlegend": true,
         "type": "funnel",
         "x": [
          1
         ],
         "xaxis": "x",
         "y": [
          null
         ],
         "yaxis": "y"
        },
        {
         "hovertemplate": "jobid=101016003221<br>min_experience=%{x}<br>min_pay=%{y}<extra></extra>",
         "legendgroup": "101016003221",
         "marker": {
          "color": "#B6E880"
         },
         "name": "101016003221",
         "orientation": "v",
         "showlegend": true,
         "type": "funnel",
         "x": [
          3
         ],
         "xaxis": "x",
         "y": [
          25000
         ],
         "yaxis": "y"
        },
        {
         "hovertemplate": "jobid=101016005052<br>min_experience=%{x}<br>min_pay=%{y}<extra></extra>",
         "legendgroup": "101016005052",
         "marker": {
          "color": "#FF97FF"
         },
         "name": "101016005052",
         "orientation": "v",
         "showlegend": true,
         "type": "funnel",
         "x": [
          4
         ],
         "xaxis": "x",
         "y": [
          null
         ],
         "yaxis": "y"
        },
        {
         "hovertemplate": "jobid=111016000760<br>min_experience=%{x}<br>min_pay=%{y}<extra></extra>",
         "legendgroup": "111016000760",
         "marker": {
          "color": "#FECB52"
         },
         "name": "111016000760",
         "orientation": "v",
         "showlegend": true,
         "type": "funnel",
         "x": [
          3
         ],
         "xaxis": "x",
         "y": [
          50000
         ],
         "yaxis": "y"
        },
        {
         "hovertemplate": "jobid=71016004488<br>min_experience=%{x}<br>min_pay=%{y}<extra></extra>",
         "legendgroup": "71016004488",
         "marker": {
          "color": "#636efa"
         },
         "name": "71016004488",
         "orientation": "v",
         "showlegend": true,
         "type": "funnel",
         "x": [
          3
         ],
         "xaxis": "x",
         "y": [
          null
         ],
         "yaxis": "y"
        },
        {
         "hovertemplate": "jobid=101016001561<br>min_experience=%{x}<br>min_pay=%{y}<extra></extra>",
         "legendgroup": "101016001561",
         "marker": {
          "color": "#EF553B"
         },
         "name": "101016001561",
         "orientation": "v",
         "showlegend": true,
         "type": "funnel",
         "x": [
          3
         ],
         "xaxis": "x",
         "y": [
          0
         ],
         "yaxis": "y"
        },
        {
         "hovertemplate": "jobid=50916901027<br>min_experience=%{x}<br>min_pay=%{y}<extra></extra>",
         "legendgroup": "50916901027",
         "marker": {
          "color": "#00cc96"
         },
         "name": "50916901027",
         "orientation": "v",
         "showlegend": true,
         "type": "funnel",
         "x": [
          3
         ],
         "xaxis": "x",
         "y": [
          null
         ],
         "yaxis": "y"
        },
        {
         "hovertemplate": "jobid=101016000071<br>min_experience=%{x}<br>min_pay=%{y}<extra></extra>",
         "legendgroup": "101016000071",
         "marker": {
          "color": "#ab63fa"
         },
         "name": "101016000071",
         "orientation": "v",
         "showlegend": true,
         "type": "funnel",
         "x": [
          0
         ],
         "xaxis": "x",
         "y": [
          null
         ],
         "yaxis": "y"
        },
        {
         "hovertemplate": "jobid=131015006078<br>min_experience=%{x}<br>min_pay=%{y}<extra></extra>",
         "legendgroup": "131015006078",
         "marker": {
          "color": "#FFA15A"
         },
         "name": "131015006078",
         "orientation": "v",
         "showlegend": true,
         "type": "funnel",
         "x": [
          10
         ],
         "xaxis": "x",
         "y": [
          null
         ],
         "yaxis": "y"
        },
        {
         "hovertemplate": "jobid=101016000699<br>min_experience=%{x}<br>min_pay=%{y}<extra></extra>",
         "legendgroup": "101016000699",
         "marker": {
          "color": "#19d3f3"
         },
         "name": "101016000699",
         "orientation": "v",
         "showlegend": true,
         "type": "funnel",
         "x": [
          0
         ],
         "xaxis": "x",
         "y": [
          0
         ],
         "yaxis": "y"
        },
        {
         "hovertemplate": "jobid=101016900628<br>min_experience=%{x}<br>min_pay=%{y}<extra></extra>",
         "legendgroup": "101016900628",
         "marker": {
          "color": "#FF6692"
         },
         "name": "101016900628",
         "orientation": "v",
         "showlegend": true,
         "type": "funnel",
         "x": [
          3
         ],
         "xaxis": "x",
         "y": [
          null
         ],
         "yaxis": "y"
        },
        {
         "hovertemplate": "jobid=101016005927<br>min_experience=%{x}<br>min_pay=%{y}<extra></extra>",
         "legendgroup": "101016005927",
         "marker": {
          "color": "#B6E880"
         },
         "name": "101016005927",
         "orientation": "v",
         "showlegend": true,
         "type": "funnel",
         "x": [
          0
         ],
         "xaxis": "x",
         "y": [
          null
         ],
         "yaxis": "y"
        },
        {
         "hovertemplate": "jobid=101016002543<br>min_experience=%{x}<br>min_pay=%{y}<extra></extra>",
         "legendgroup": "101016002543",
         "marker": {
          "color": "#FF97FF"
         },
         "name": "101016002543",
         "orientation": "v",
         "showlegend": true,
         "type": "funnel",
         "x": [
          3
         ],
         "xaxis": "x",
         "y": [
          50000
         ],
         "yaxis": "y"
        },
        {
         "hovertemplate": "jobid=121016000649<br>min_experience=%{x}<br>min_pay=%{y}<extra></extra>",
         "legendgroup": "121016000649",
         "marker": {
          "color": "#FECB52"
         },
         "name": "121016000649",
         "orientation": "v",
         "showlegend": true,
         "type": "funnel",
         "x": [
          0
         ],
         "xaxis": "x",
         "y": [
          75000
         ],
         "yaxis": "y"
        },
        {
         "hovertemplate": "jobid=71016902314<br>min_experience=%{x}<br>min_pay=%{y}<extra></extra>",
         "legendgroup": "71016902314",
         "marker": {
          "color": "#636efa"
         },
         "name": "71016902314",
         "orientation": "v",
         "showlegend": true,
         "type": "funnel",
         "x": [
          6
         ],
         "xaxis": "x",
         "y": [
          null
         ],
         "yaxis": "y"
        },
        {
         "hovertemplate": "jobid=240616005155<br>min_experience=%{x}<br>min_pay=%{y}<extra></extra>",
         "legendgroup": "240616005155",
         "marker": {
          "color": "#EF553B"
         },
         "name": "240616005155",
         "orientation": "v",
         "showlegend": true,
         "type": "funnel",
         "x": [
          6
         ],
         "xaxis": "x",
         "y": [
          null
         ],
         "yaxis": "y"
        },
        {
         "hovertemplate": "jobid=111016000183<br>min_experience=%{x}<br>min_pay=%{y}<extra></extra>",
         "legendgroup": "111016000183",
         "marker": {
          "color": "#00cc96"
         },
         "name": "111016000183",
         "orientation": "v",
         "showlegend": true,
         "type": "funnel",
         "x": [
          1
         ],
         "xaxis": "x",
         "y": [
          0
         ],
         "yaxis": "y"
        },
        {
         "hovertemplate": "jobid=170216004723<br>min_experience=%{x}<br>min_pay=%{y}<extra></extra>",
         "legendgroup": "170216004723",
         "marker": {
          "color": "#ab63fa"
         },
         "name": "170216004723",
         "orientation": "v",
         "showlegend": true,
         "type": "funnel",
         "x": [
          2
         ],
         "xaxis": "x",
         "y": [
          null
         ],
         "yaxis": "y"
        },
        {
         "hovertemplate": "jobid=121016000472<br>min_experience=%{x}<br>min_pay=%{y}<extra></extra>",
         "legendgroup": "121016000472",
         "marker": {
          "color": "#FFA15A"
         },
         "name": "121016000472",
         "orientation": "v",
         "showlegend": true,
         "type": "funnel",
         "x": [
          0
         ],
         "xaxis": "x",
         "y": [
          0
         ],
         "yaxis": "y"
        },
        {
         "hovertemplate": "jobid=101016001400<br>min_experience=%{x}<br>min_pay=%{y}<extra></extra>",
         "legendgroup": "101016001400",
         "marker": {
          "color": "#19d3f3"
         },
         "name": "101016001400",
         "orientation": "v",
         "showlegend": true,
         "type": "funnel",
         "x": [
          17
         ],
         "xaxis": "x",
         "y": [
          0
         ],
         "yaxis": "y"
        },
        {
         "hovertemplate": "jobid=101016900759<br>min_experience=%{x}<br>min_pay=%{y}<extra></extra>",
         "legendgroup": "101016900759",
         "marker": {
          "color": "#FF6692"
         },
         "name": "101016900759",
         "orientation": "v",
         "showlegend": true,
         "type": "funnel",
         "x": [
          1
         ],
         "xaxis": "x",
         "y": [
          null
         ],
         "yaxis": "y"
        },
        {
         "hovertemplate": "jobid=90915007163<br>min_experience=%{x}<br>min_pay=%{y}<extra></extra>",
         "legendgroup": "90915007163",
         "marker": {
          "color": "#B6E880"
         },
         "name": "90915007163",
         "orientation": "v",
         "showlegend": true,
         "type": "funnel",
         "x": [
          1
         ],
         "xaxis": "x",
         "y": [
          null
         ],
         "yaxis": "y"
        },
        {
         "hovertemplate": "jobid=101016000595<br>min_experience=%{x}<br>min_pay=%{y}<extra></extra>",
         "legendgroup": "101016000595",
         "marker": {
          "color": "#FF97FF"
         },
         "name": "101016000595",
         "orientation": "v",
         "showlegend": true,
         "type": "funnel",
         "x": [
          10
         ],
         "xaxis": "x",
         "y": [
          null
         ],
         "yaxis": "y"
        },
        {
         "hovertemplate": "jobid=121016001701<br>min_experience=%{x}<br>min_pay=%{y}<extra></extra>",
         "legendgroup": "121016001701",
         "marker": {
          "color": "#FECB52"
         },
         "name": "121016001701",
         "orientation": "v",
         "showlegend": true,
         "type": "funnel",
         "x": [
          3
         ],
         "xaxis": "x",
         "y": [
          null
         ],
         "yaxis": "y"
        },
        {
         "hovertemplate": "jobid=101016900741<br>min_experience=%{x}<br>min_pay=%{y}<extra></extra>",
         "legendgroup": "101016900741",
         "marker": {
          "color": "#636efa"
         },
         "name": "101016900741",
         "orientation": "v",
         "showlegend": true,
         "type": "funnel",
         "x": [
          2
         ],
         "xaxis": "x",
         "y": [
          null
         ],
         "yaxis": "y"
        },
        {
         "hovertemplate": "jobid=121016000852<br>min_experience=%{x}<br>min_pay=%{y}<extra></extra>",
         "legendgroup": "121016000852",
         "marker": {
          "color": "#EF553B"
         },
         "name": "121016000852",
         "orientation": "v",
         "showlegend": true,
         "type": "funnel",
         "x": [
          4
         ],
         "xaxis": "x",
         "y": [
          null
         ],
         "yaxis": "y"
        },
        {
         "hovertemplate": "jobid=101016900461<br>min_experience=%{x}<br>min_pay=%{y}<extra></extra>",
         "legendgroup": "101016900461",
         "marker": {
          "color": "#00cc96"
         },
         "name": "101016900461",
         "orientation": "v",
         "showlegend": true,
         "type": "funnel",
         "x": [
          4
         ],
         "xaxis": "x",
         "y": [
          null
         ],
         "yaxis": "y"
        },
        {
         "hovertemplate": "jobid=50916901032<br>min_experience=%{x}<br>min_pay=%{y}<extra></extra>",
         "legendgroup": "50916901032",
         "marker": {
          "color": "#ab63fa"
         },
         "name": "50916901032",
         "orientation": "v",
         "showlegend": true,
         "type": "funnel",
         "x": [
          1
         ],
         "xaxis": "x",
         "y": [
          null
         ],
         "yaxis": "y"
        },
        {
         "hovertemplate": "jobid=50916901050<br>min_experience=%{x}<br>min_pay=%{y}<extra></extra>",
         "legendgroup": "50916901050",
         "marker": {
          "color": "#FFA15A"
         },
         "name": "50916901050",
         "orientation": "v",
         "showlegend": true,
         "type": "funnel",
         "x": [
          5
         ],
         "xaxis": "x",
         "y": [
          null
         ],
         "yaxis": "y"
        },
        {
         "hovertemplate": "jobid=230516003155<br>min_experience=%{x}<br>min_pay=%{y}<extra></extra>",
         "legendgroup": "230516003155",
         "marker": {
          "color": "#19d3f3"
         },
         "name": "230516003155",
         "orientation": "v",
         "showlegend": true,
         "type": "funnel",
         "x": [
          6
         ],
         "xaxis": "x",
         "y": [
          null
         ],
         "yaxis": "y"
        },
        {
         "hovertemplate": "jobid=80716900410<br>min_experience=%{x}<br>min_pay=%{y}<extra></extra>",
         "legendgroup": "80716900410",
         "marker": {
          "color": "#FF6692"
         },
         "name": "80716900410",
         "orientation": "v",
         "showlegend": true,
         "type": "funnel",
         "x": [
          4
         ],
         "xaxis": "x",
         "y": [
          null
         ],
         "yaxis": "y"
        },
        {
         "hovertemplate": "jobid=150316900112<br>min_experience=%{x}<br>min_pay=%{y}<extra></extra>",
         "legendgroup": "150316900112",
         "marker": {
          "color": "#B6E880"
         },
         "name": "150316900112",
         "orientation": "v",
         "showlegend": true,
         "type": "funnel",
         "x": [
          5
         ],
         "xaxis": "x",
         "y": [
          null
         ],
         "yaxis": "y"
        },
        {
         "hovertemplate": "jobid=71016006391<br>min_experience=%{x}<br>min_pay=%{y}<extra></extra>",
         "legendgroup": "71016006391",
         "marker": {
          "color": "#FF97FF"
         },
         "name": "71016006391",
         "orientation": "v",
         "showlegend": true,
         "type": "funnel",
         "x": [
          0
         ],
         "xaxis": "x",
         "y": [
          0
         ],
         "yaxis": "y"
        },
        {
         "hovertemplate": "jobid=10916007288<br>min_experience=%{x}<br>min_pay=%{y}<extra></extra>",
         "legendgroup": "10916007288",
         "marker": {
          "color": "#FECB52"
         },
         "name": "10916007288",
         "orientation": "v",
         "showlegend": true,
         "type": "funnel",
         "x": [
          1
         ],
         "xaxis": "x",
         "y": [
          null
         ],
         "yaxis": "y"
        },
        {
         "hovertemplate": "jobid=71016902338<br>min_experience=%{x}<br>min_pay=%{y}<extra></extra>",
         "legendgroup": "71016902338",
         "marker": {
          "color": "#636efa"
         },
         "name": "71016902338",
         "orientation": "v",
         "showlegend": true,
         "type": "funnel",
         "x": [
          7
         ],
         "xaxis": "x",
         "y": [
          null
         ],
         "yaxis": "y"
        },
        {
         "hovertemplate": "jobid=101016900682<br>min_experience=%{x}<br>min_pay=%{y}<extra></extra>",
         "legendgroup": "101016900682",
         "marker": {
          "color": "#EF553B"
         },
         "name": "101016900682",
         "orientation": "v",
         "showlegend": true,
         "type": "funnel",
         "x": [
          5
         ],
         "xaxis": "x",
         "y": [
          null
         ],
         "yaxis": "y"
        },
        {
         "hovertemplate": "jobid=220916005730<br>min_experience=%{x}<br>min_pay=%{y}<extra></extra>",
         "legendgroup": "220916005730",
         "marker": {
          "color": "#00cc96"
         },
         "name": "220916005730",
         "orientation": "v",
         "showlegend": true,
         "type": "funnel",
         "x": [
          7
         ],
         "xaxis": "x",
         "y": [
          50000
         ],
         "yaxis": "y"
        },
        {
         "hovertemplate": "jobid=121016000679<br>min_experience=%{x}<br>min_pay=%{y}<extra></extra>",
         "legendgroup": "121016000679",
         "marker": {
          "color": "#ab63fa"
         },
         "name": "121016000679",
         "orientation": "v",
         "showlegend": true,
         "type": "funnel",
         "x": [
          0
         ],
         "xaxis": "x",
         "y": [
          75000
         ],
         "yaxis": "y"
        },
        {
         "hovertemplate": "jobid=111016000579<br>min_experience=%{x}<br>min_pay=%{y}<extra></extra>",
         "legendgroup": "111016000579",
         "marker": {
          "color": "#FFA15A"
         },
         "name": "111016000579",
         "orientation": "v",
         "showlegend": true,
         "type": "funnel",
         "x": [
          0
         ],
         "xaxis": "x",
         "y": [
          null
         ],
         "yaxis": "y"
        },
        {
         "hovertemplate": "jobid=101016004995<br>min_experience=%{x}<br>min_pay=%{y}<extra></extra>",
         "legendgroup": "101016004995",
         "marker": {
          "color": "#19d3f3"
         },
         "name": "101016004995",
         "orientation": "v",
         "showlegend": true,
         "type": "funnel",
         "x": [
          5
         ],
         "xaxis": "x",
         "y": [
          null
         ],
         "yaxis": "y"
        },
        {
         "hovertemplate": "jobid=290716006455<br>min_experience=%{x}<br>min_pay=%{y}<extra></extra>",
         "legendgroup": "290716006455",
         "marker": {
          "color": "#FF6692"
         },
         "name": "290716006455",
         "orientation": "v",
         "showlegend": true,
         "type": "funnel",
         "x": [
          9
         ],
         "xaxis": "x",
         "y": [
          null
         ],
         "yaxis": "y"
        },
        {
         "hovertemplate": "jobid=111016000417<br>min_experience=%{x}<br>min_pay=%{y}<extra></extra>",
         "legendgroup": "111016000417",
         "marker": {
          "color": "#B6E880"
         },
         "name": "111016000417",
         "orientation": "v",
         "showlegend": true,
         "type": "funnel",
         "x": [
          3
         ],
         "xaxis": "x",
         "y": [
          null
         ],
         "yaxis": "y"
        },
        {
         "hovertemplate": "jobid=240916005059<br>min_experience=%{x}<br>min_pay=%{y}<extra></extra>",
         "legendgroup": "240916005059",
         "marker": {
          "color": "#FF97FF"
         },
         "name": "240916005059",
         "orientation": "v",
         "showlegend": true,
         "type": "funnel",
         "x": [
          1
         ],
         "xaxis": "x",
         "y": [
          0
         ],
         "yaxis": "y"
        },
        {
         "hovertemplate": "jobid=111016001502<br>min_experience=%{x}<br>min_pay=%{y}<extra></extra>",
         "legendgroup": "111016001502",
         "marker": {
          "color": "#FECB52"
         },
         "name": "111016001502",
         "orientation": "v",
         "showlegend": true,
         "type": "funnel",
         "x": [
          4
         ],
         "xaxis": "x",
         "y": [
          0
         ],
         "yaxis": "y"
        },
        {
         "hovertemplate": "jobid=121016000985<br>min_experience=%{x}<br>min_pay=%{y}<extra></extra>",
         "legendgroup": "121016000985",
         "marker": {
          "color": "#636efa"
         },
         "name": "121016000985",
         "orientation": "v",
         "showlegend": true,
         "type": "funnel",
         "x": [
          1
         ],
         "xaxis": "x",
         "y": [
          null
         ],
         "yaxis": "y"
        },
        {
         "hovertemplate": "jobid=101016004089<br>min_experience=%{x}<br>min_pay=%{y}<extra></extra>",
         "legendgroup": "101016004089",
         "marker": {
          "color": "#EF553B"
         },
         "name": "101016004089",
         "orientation": "v",
         "showlegend": true,
         "type": "funnel",
         "x": [
          4
         ],
         "xaxis": "x",
         "y": [
          0
         ],
         "yaxis": "y"
        },
        {
         "hovertemplate": "jobid=61016004930<br>min_experience=%{x}<br>min_pay=%{y}<extra></extra>",
         "legendgroup": "61016004930",
         "marker": {
          "color": "#00cc96"
         },
         "name": "61016004930",
         "orientation": "v",
         "showlegend": true,
         "type": "funnel",
         "x": [
          6
         ],
         "xaxis": "x",
         "y": [
          50000
         ],
         "yaxis": "y"
        },
        {
         "hovertemplate": "jobid=10416005657<br>min_experience=%{x}<br>min_pay=%{y}<extra></extra>",
         "legendgroup": "10416005657",
         "marker": {
          "color": "#ab63fa"
         },
         "name": "10416005657",
         "orientation": "v",
         "showlegend": true,
         "type": "funnel",
         "x": [
          2
         ],
         "xaxis": "x",
         "y": [
          null
         ],
         "yaxis": "y"
        },
        {
         "hovertemplate": "jobid=60616007082<br>min_experience=%{x}<br>min_pay=%{y}<extra></extra>",
         "legendgroup": "60616007082",
         "marker": {
          "color": "#FFA15A"
         },
         "name": "60616007082",
         "orientation": "v",
         "showlegend": true,
         "type": "funnel",
         "x": [
          1
         ],
         "xaxis": "x",
         "y": [
          null
         ],
         "yaxis": "y"
        },
        {
         "hovertemplate": "jobid=111016002106<br>min_experience=%{x}<br>min_pay=%{y}<extra></extra>",
         "legendgroup": "111016002106",
         "marker": {
          "color": "#19d3f3"
         },
         "name": "111016002106",
         "orientation": "v",
         "showlegend": true,
         "type": "funnel",
         "x": [
          2
         ],
         "xaxis": "x",
         "y": [
          0
         ],
         "yaxis": "y"
        },
        {
         "hovertemplate": "jobid=41016001181<br>min_experience=%{x}<br>min_pay=%{y}<extra></extra>",
         "legendgroup": "41016001181",
         "marker": {
          "color": "#FF6692"
         },
         "name": "41016001181",
         "orientation": "v",
         "showlegend": true,
         "type": "funnel",
         "x": [
          2
         ],
         "xaxis": "x",
         "y": [
          0
         ],
         "yaxis": "y"
        },
        {
         "hovertemplate": "jobid=101016001465<br>min_experience=%{x}<br>min_pay=%{y}<extra></extra>",
         "legendgroup": "101016001465",
         "marker": {
          "color": "#B6E880"
         },
         "name": "101016001465",
         "orientation": "v",
         "showlegend": true,
         "type": "funnel",
         "x": [
          5
         ],
         "xaxis": "x",
         "y": [
          null
         ],
         "yaxis": "y"
        },
        {
         "hovertemplate": "jobid=80716900949<br>min_experience=%{x}<br>min_pay=%{y}<extra></extra>",
         "legendgroup": "80716900949",
         "marker": {
          "color": "#FF97FF"
         },
         "name": "80716900949",
         "orientation": "v",
         "showlegend": true,
         "type": "funnel",
         "x": [
          7
         ],
         "xaxis": "x",
         "y": [
          null
         ],
         "yaxis": "y"
        },
        {
         "hovertemplate": "jobid=80916003774<br>min_experience=%{x}<br>min_pay=%{y}<extra></extra>",
         "legendgroup": "80916003774",
         "marker": {
          "color": "#FECB52"
         },
         "name": "80916003774",
         "orientation": "v",
         "showlegend": true,
         "type": "funnel",
         "x": [
          3
         ],
         "xaxis": "x",
         "y": [
          null
         ],
         "yaxis": "y"
        },
        {
         "hovertemplate": "jobid=101016004466<br>min_experience=%{x}<br>min_pay=%{y}<extra></extra>",
         "legendgroup": "101016004466",
         "marker": {
          "color": "#636efa"
         },
         "name": "101016004466",
         "orientation": "v",
         "showlegend": true,
         "type": "funnel",
         "x": [
          0
         ],
         "xaxis": "x",
         "y": [
          25000
         ],
         "yaxis": "y"
        },
        {
         "hovertemplate": "jobid=101016002445<br>min_experience=%{x}<br>min_pay=%{y}<extra></extra>",
         "legendgroup": "101016002445",
         "marker": {
          "color": "#EF553B"
         },
         "name": "101016002445",
         "orientation": "v",
         "showlegend": true,
         "type": "funnel",
         "x": [
          3
         ],
         "xaxis": "x",
         "y": [
          25000
         ],
         "yaxis": "y"
        },
        {
         "hovertemplate": "jobid=101016001821<br>min_experience=%{x}<br>min_pay=%{y}<extra></extra>",
         "legendgroup": "101016001821",
         "marker": {
          "color": "#00cc96"
         },
         "name": "101016001821",
         "orientation": "v",
         "showlegend": true,
         "type": "funnel",
         "x": [
          1
         ],
         "xaxis": "x",
         "y": [
          null
         ],
         "yaxis": "y"
        },
        {
         "hovertemplate": "jobid=101016005688<br>min_experience=%{x}<br>min_pay=%{y}<extra></extra>",
         "legendgroup": "101016005688",
         "marker": {
          "color": "#ab63fa"
         },
         "name": "101016005688",
         "orientation": "v",
         "showlegend": true,
         "type": "funnel",
         "x": [
          0
         ],
         "xaxis": "x",
         "y": [
          null
         ],
         "yaxis": "y"
        },
        {
         "hovertemplate": "jobid=111016002293<br>min_experience=%{x}<br>min_pay=%{y}<extra></extra>",
         "legendgroup": "111016002293",
         "marker": {
          "color": "#FFA15A"
         },
         "name": "111016002293",
         "orientation": "v",
         "showlegend": true,
         "type": "funnel",
         "x": [
          0
         ],
         "xaxis": "x",
         "y": [
          50000
         ],
         "yaxis": "y"
        },
        {
         "hovertemplate": "jobid=101016003378<br>min_experience=%{x}<br>min_pay=%{y}<extra></extra>",
         "legendgroup": "101016003378",
         "marker": {
          "color": "#19d3f3"
         },
         "name": "101016003378",
         "orientation": "v",
         "showlegend": true,
         "type": "funnel",
         "x": [
          5
         ],
         "xaxis": "x",
         "y": [
          0
         ],
         "yaxis": "y"
        },
        {
         "hovertemplate": "jobid=11016000340<br>min_experience=%{x}<br>min_pay=%{y}<extra></extra>",
         "legendgroup": "11016000340",
         "marker": {
          "color": "#FF6692"
         },
         "name": "11016000340",
         "orientation": "v",
         "showlegend": true,
         "type": "funnel",
         "x": [
          10
         ],
         "xaxis": "x",
         "y": [
          null
         ],
         "yaxis": "y"
        },
        {
         "hovertemplate": "jobid=121016000232<br>min_experience=%{x}<br>min_pay=%{y}<extra></extra>",
         "legendgroup": "121016000232",
         "marker": {
          "color": "#B6E880"
         },
         "name": "121016000232",
         "orientation": "v",
         "showlegend": true,
         "type": "funnel",
         "x": [
          0
         ],
         "xaxis": "x",
         "y": [
          null
         ],
         "yaxis": "y"
        },
        {
         "hovertemplate": "jobid=20416001743<br>min_experience=%{x}<br>min_pay=%{y}<extra></extra>",
         "legendgroup": "20416001743",
         "marker": {
          "color": "#FF97FF"
         },
         "name": "20416001743",
         "orientation": "v",
         "showlegend": true,
         "type": "funnel",
         "x": [
          2
         ],
         "xaxis": "x",
         "y": [
          null
         ],
         "yaxis": "y"
        },
        {
         "hovertemplate": "jobid=150216002187<br>min_experience=%{x}<br>min_pay=%{y}<extra></extra>",
         "legendgroup": "150216002187",
         "marker": {
          "color": "#FECB52"
         },
         "name": "150216002187",
         "orientation": "v",
         "showlegend": true,
         "type": "funnel",
         "x": [
          13
         ],
         "xaxis": "x",
         "y": [
          500000
         ],
         "yaxis": "y"
        },
        {
         "hovertemplate": "jobid=111016001761<br>min_experience=%{x}<br>min_pay=%{y}<extra></extra>",
         "legendgroup": "111016001761",
         "marker": {
          "color": "#636efa"
         },
         "name": "111016001761",
         "orientation": "v",
         "showlegend": true,
         "type": "funnel",
         "x": [
          5
         ],
         "xaxis": "x",
         "y": [
          null
         ],
         "yaxis": "y"
        },
        {
         "hovertemplate": "jobid=111016001846<br>min_experience=%{x}<br>min_pay=%{y}<extra></extra>",
         "legendgroup": "111016001846",
         "marker": {
          "color": "#EF553B"
         },
         "name": "111016001846",
         "orientation": "v",
         "showlegend": true,
         "type": "funnel",
         "x": [
          0
         ],
         "xaxis": "x",
         "y": [
          0
         ],
         "yaxis": "y"
        },
        {
         "hovertemplate": "jobid=101016003305<br>min_experience=%{x}<br>min_pay=%{y}<extra></extra>",
         "legendgroup": "101016003305",
         "marker": {
          "color": "#00cc96"
         },
         "name": "101016003305",
         "orientation": "v",
         "showlegend": true,
         "type": "funnel",
         "x": [
          2
         ],
         "xaxis": "x",
         "y": [
          null
         ],
         "yaxis": "y"
        },
        {
         "hovertemplate": "jobid=101016001684<br>min_experience=%{x}<br>min_pay=%{y}<extra></extra>",
         "legendgroup": "101016001684",
         "marker": {
          "color": "#ab63fa"
         },
         "name": "101016001684",
         "orientation": "v",
         "showlegend": true,
         "type": "funnel",
         "x": [
          17
         ],
         "xaxis": "x",
         "y": [
          0
         ],
         "yaxis": "y"
        },
        {
         "hovertemplate": "jobid=250616900059<br>min_experience=%{x}<br>min_pay=%{y}<extra></extra>",
         "legendgroup": "250616900059",
         "marker": {
          "color": "#FFA15A"
         },
         "name": "250616900059",
         "orientation": "v",
         "showlegend": true,
         "type": "funnel",
         "x": [
          6
         ],
         "xaxis": "x",
         "y": [
          null
         ],
         "yaxis": "y"
        },
        {
         "hovertemplate": "jobid=240916003879<br>min_experience=%{x}<br>min_pay=%{y}<extra></extra>",
         "legendgroup": "240916003879",
         "marker": {
          "color": "#19d3f3"
         },
         "name": "240916003879",
         "orientation": "v",
         "showlegend": true,
         "type": "funnel",
         "x": [
          10
         ],
         "xaxis": "x",
         "y": [
          null
         ],
         "yaxis": "y"
        },
        {
         "hovertemplate": "jobid=190916000905<br>min_experience=%{x}<br>min_pay=%{y}<extra></extra>",
         "legendgroup": "190916000905",
         "marker": {
          "color": "#FF6692"
         },
         "name": "190916000905",
         "orientation": "v",
         "showlegend": true,
         "type": "funnel",
         "x": [
          5
         ],
         "xaxis": "x",
         "y": [
          null
         ],
         "yaxis": "y"
        },
        {
         "hovertemplate": "jobid=20916004568<br>min_experience=%{x}<br>min_pay=%{y}<extra></extra>",
         "legendgroup": "20916004568",
         "marker": {
          "color": "#B6E880"
         },
         "name": "20916004568",
         "orientation": "v",
         "showlegend": true,
         "type": "funnel",
         "x": [
          1
         ],
         "xaxis": "x",
         "y": [
          null
         ],
         "yaxis": "y"
        },
        {
         "hovertemplate": "jobid=101016002016<br>min_experience=%{x}<br>min_pay=%{y}<extra></extra>",
         "legendgroup": "101016002016",
         "marker": {
          "color": "#FF97FF"
         },
         "name": "101016002016",
         "orientation": "v",
         "showlegend": true,
         "type": "funnel",
         "x": [
          8
         ],
         "xaxis": "x",
         "y": [
          null
         ],
         "yaxis": "y"
        },
        {
         "hovertemplate": "jobid=121016001700<br>min_experience=%{x}<br>min_pay=%{y}<extra></extra>",
         "legendgroup": "121016001700",
         "marker": {
          "color": "#FECB52"
         },
         "name": "121016001700",
         "orientation": "v",
         "showlegend": true,
         "type": "funnel",
         "x": [
          15
         ],
         "xaxis": "x",
         "y": [
          200000
         ],
         "yaxis": "y"
        },
        {
         "hovertemplate": "jobid=111016001359<br>min_experience=%{x}<br>min_pay=%{y}<extra></extra>",
         "legendgroup": "111016001359",
         "marker": {
          "color": "#636efa"
         },
         "name": "111016001359",
         "orientation": "v",
         "showlegend": true,
         "type": "funnel",
         "x": [
          1
         ],
         "xaxis": "x",
         "y": [
          null
         ],
         "yaxis": "y"
        },
        {
         "hovertemplate": "jobid=71016902343<br>min_experience=%{x}<br>min_pay=%{y}<extra></extra>",
         "legendgroup": "71016902343",
         "marker": {
          "color": "#EF553B"
         },
         "name": "71016902343",
         "orientation": "v",
         "showlegend": true,
         "type": "funnel",
         "x": [
          10
         ],
         "xaxis": "x",
         "y": [
          null
         ],
         "yaxis": "y"
        },
        {
         "hovertemplate": "jobid=121016001596<br>min_experience=%{x}<br>min_pay=%{y}<extra></extra>",
         "legendgroup": "121016001596",
         "marker": {
          "color": "#00cc96"
         },
         "name": "121016001596",
         "orientation": "v",
         "showlegend": true,
         "type": "funnel",
         "x": [
          0
         ],
         "xaxis": "x",
         "y": [
          25000
         ],
         "yaxis": "y"
        },
        {
         "hovertemplate": "jobid=101016900603<br>min_experience=%{x}<br>min_pay=%{y}<extra></extra>",
         "legendgroup": "101016900603",
         "marker": {
          "color": "#ab63fa"
         },
         "name": "101016900603",
         "orientation": "v",
         "showlegend": true,
         "type": "funnel",
         "x": [
          7
         ],
         "xaxis": "x",
         "y": [
          null
         ],
         "yaxis": "y"
        },
        {
         "hovertemplate": "jobid=101016004731<br>min_experience=%{x}<br>min_pay=%{y}<extra></extra>",
         "legendgroup": "101016004731",
         "marker": {
          "color": "#FFA15A"
         },
         "name": "101016004731",
         "orientation": "v",
         "showlegend": true,
         "type": "funnel",
         "x": [
          0
         ],
         "xaxis": "x",
         "y": [
          75000
         ],
         "yaxis": "y"
        },
        {
         "hovertemplate": "jobid=101016000640<br>min_experience=%{x}<br>min_pay=%{y}<extra></extra>",
         "legendgroup": "101016000640",
         "marker": {
          "color": "#19d3f3"
         },
         "name": "101016000640",
         "orientation": "v",
         "showlegend": true,
         "type": "funnel",
         "x": [
          4
         ],
         "xaxis": "x",
         "y": [
          null
         ],
         "yaxis": "y"
        },
        {
         "hovertemplate": "jobid=121016000328<br>min_experience=%{x}<br>min_pay=%{y}<extra></extra>",
         "legendgroup": "121016000328",
         "marker": {
          "color": "#FF6692"
         },
         "name": "121016000328",
         "orientation": "v",
         "showlegend": true,
         "type": "funnel",
         "x": [
          0
         ],
         "xaxis": "x",
         "y": [
          50000
         ],
         "yaxis": "y"
        },
        {
         "hovertemplate": "jobid=101016004294<br>min_experience=%{x}<br>min_pay=%{y}<extra></extra>",
         "legendgroup": "101016004294",
         "marker": {
          "color": "#B6E880"
         },
         "name": "101016004294",
         "orientation": "v",
         "showlegend": true,
         "type": "funnel",
         "x": [
          4
         ],
         "xaxis": "x",
         "y": [
          0
         ],
         "yaxis": "y"
        },
        {
         "hovertemplate": "jobid=101016900532<br>min_experience=%{x}<br>min_pay=%{y}<extra></extra>",
         "legendgroup": "101016900532",
         "marker": {
          "color": "#FF97FF"
         },
         "name": "101016900532",
         "orientation": "v",
         "showlegend": true,
         "type": "funnel",
         "x": [
          5
         ],
         "xaxis": "x",
         "y": [
          null
         ],
         "yaxis": "y"
        },
        {
         "hovertemplate": "jobid=51016007486<br>min_experience=%{x}<br>min_pay=%{y}<extra></extra>",
         "legendgroup": "51016007486",
         "marker": {
          "color": "#FECB52"
         },
         "name": "51016007486",
         "orientation": "v",
         "showlegend": true,
         "type": "funnel",
         "x": [
          0
         ],
         "xaxis": "x",
         "y": [
          0
         ],
         "yaxis": "y"
        },
        {
         "hovertemplate": "jobid=180916000631<br>min_experience=%{x}<br>min_pay=%{y}<extra></extra>",
         "legendgroup": "180916000631",
         "marker": {
          "color": "#636efa"
         },
         "name": "180916000631",
         "orientation": "v",
         "showlegend": true,
         "type": "funnel",
         "x": [
          10
         ],
         "xaxis": "x",
         "y": [
          0
         ],
         "yaxis": "y"
        },
        {
         "hovertemplate": "jobid=250616900058<br>min_experience=%{x}<br>min_pay=%{y}<extra></extra>",
         "legendgroup": "250616900058",
         "marker": {
          "color": "#EF553B"
         },
         "name": "250616900058",
         "orientation": "v",
         "showlegend": true,
         "type": "funnel",
         "x": [
          1
         ],
         "xaxis": "x",
         "y": [
          null
         ],
         "yaxis": "y"
        },
        {
         "hovertemplate": "jobid=101016003524<br>min_experience=%{x}<br>min_pay=%{y}<extra></extra>",
         "legendgroup": "101016003524",
         "marker": {
          "color": "#00cc96"
         },
         "name": "101016003524",
         "orientation": "v",
         "showlegend": true,
         "type": "funnel",
         "x": [
          2
         ],
         "xaxis": "x",
         "y": [
          50000
         ],
         "yaxis": "y"
        },
        {
         "hovertemplate": "jobid=101016900626<br>min_experience=%{x}<br>min_pay=%{y}<extra></extra>",
         "legendgroup": "101016900626",
         "marker": {
          "color": "#ab63fa"
         },
         "name": "101016900626",
         "orientation": "v",
         "showlegend": true,
         "type": "funnel",
         "x": [
          2
         ],
         "xaxis": "x",
         "y": [
          null
         ],
         "yaxis": "y"
        },
        {
         "hovertemplate": "jobid=10916006684<br>min_experience=%{x}<br>min_pay=%{y}<extra></extra>",
         "legendgroup": "10916006684",
         "marker": {
          "color": "#FFA15A"
         },
         "name": "10916006684",
         "orientation": "v",
         "showlegend": true,
         "type": "funnel",
         "x": [
          10
         ],
         "xaxis": "x",
         "y": [
          null
         ],
         "yaxis": "y"
        },
        {
         "hovertemplate": "jobid=190416900213<br>min_experience=%{x}<br>min_pay=%{y}<extra></extra>",
         "legendgroup": "190416900213",
         "marker": {
          "color": "#19d3f3"
         },
         "name": "190416900213",
         "orientation": "v",
         "showlegend": true,
         "type": "funnel",
         "x": [
          1
         ],
         "xaxis": "x",
         "y": [
          null
         ],
         "yaxis": "y"
        },
        {
         "hovertemplate": "jobid=60916900054<br>min_experience=%{x}<br>min_pay=%{y}<extra></extra>",
         "legendgroup": "60916900054",
         "marker": {
          "color": "#FF6692"
         },
         "name": "60916900054",
         "orientation": "v",
         "showlegend": true,
         "type": "funnel",
         "x": [
          4
         ],
         "xaxis": "x",
         "y": [
          null
         ],
         "yaxis": "y"
        },
        {
         "hovertemplate": "jobid=300916000511<br>min_experience=%{x}<br>min_pay=%{y}<extra></extra>",
         "legendgroup": "300916000511",
         "marker": {
          "color": "#B6E880"
         },
         "name": "300916000511",
         "orientation": "v",
         "showlegend": true,
         "type": "funnel",
         "x": [
          1
         ],
         "xaxis": "x",
         "y": [
          null
         ],
         "yaxis": "y"
        },
        {
         "hovertemplate": "jobid=111016000914<br>min_experience=%{x}<br>min_pay=%{y}<extra></extra>",
         "legendgroup": "111016000914",
         "marker": {
          "color": "#FF97FF"
         },
         "name": "111016000914",
         "orientation": "v",
         "showlegend": true,
         "type": "funnel",
         "x": [
          5
         ],
         "xaxis": "x",
         "y": [
          null
         ],
         "yaxis": "y"
        },
        {
         "hovertemplate": "jobid=21016001063<br>min_experience=%{x}<br>min_pay=%{y}<extra></extra>",
         "legendgroup": "21016001063",
         "marker": {
          "color": "#FECB52"
         },
         "name": "21016001063",
         "orientation": "v",
         "showlegend": true,
         "type": "funnel",
         "x": [
          1
         ],
         "xaxis": "x",
         "y": [
          null
         ],
         "yaxis": "y"
        },
        {
         "hovertemplate": "jobid=111016000075<br>min_experience=%{x}<br>min_pay=%{y}<extra></extra>",
         "legendgroup": "111016000075",
         "marker": {
          "color": "#636efa"
         },
         "name": "111016000075",
         "orientation": "v",
         "showlegend": true,
         "type": "funnel",
         "x": [
          0
         ],
         "xaxis": "x",
         "y": [
          null
         ],
         "yaxis": "y"
        },
        {
         "hovertemplate": "jobid=260916001361<br>min_experience=%{x}<br>min_pay=%{y}<extra></extra>",
         "legendgroup": "260916001361",
         "marker": {
          "color": "#EF553B"
         },
         "name": "260916001361",
         "orientation": "v",
         "showlegend": true,
         "type": "funnel",
         "x": [
          0
         ],
         "xaxis": "x",
         "y": [
          0
         ],
         "yaxis": "y"
        },
        {
         "hovertemplate": "jobid=121016001094<br>min_experience=%{x}<br>min_pay=%{y}<extra></extra>",
         "legendgroup": "121016001094",
         "marker": {
          "color": "#00cc96"
         },
         "name": "121016001094",
         "orientation": "v",
         "showlegend": true,
         "type": "funnel",
         "x": [
          0
         ],
         "xaxis": "x",
         "y": [
          25000
         ],
         "yaxis": "y"
        },
        {
         "hovertemplate": "jobid=20416000836<br>min_experience=%{x}<br>min_pay=%{y}<extra></extra>",
         "legendgroup": "20416000836",
         "marker": {
          "color": "#ab63fa"
         },
         "name": "20416000836",
         "orientation": "v",
         "showlegend": true,
         "type": "funnel",
         "x": [
          0
         ],
         "xaxis": "x",
         "y": [
          0
         ],
         "yaxis": "y"
        },
        {
         "hovertemplate": "jobid=80716900264<br>min_experience=%{x}<br>min_pay=%{y}<extra></extra>",
         "legendgroup": "80716900264",
         "marker": {
          "color": "#FFA15A"
         },
         "name": "80716900264",
         "orientation": "v",
         "showlegend": true,
         "type": "funnel",
         "x": [
          1
         ],
         "xaxis": "x",
         "y": [
          null
         ],
         "yaxis": "y"
        },
        {
         "hovertemplate": "jobid=160516004326<br>min_experience=%{x}<br>min_pay=%{y}<extra></extra>",
         "legendgroup": "160516004326",
         "marker": {
          "color": "#19d3f3"
         },
         "name": "160516004326",
         "orientation": "v",
         "showlegend": true,
         "type": "funnel",
         "x": [
          1
         ],
         "xaxis": "x",
         "y": [
          25000
         ],
         "yaxis": "y"
        },
        {
         "hovertemplate": "jobid=160816003782<br>min_experience=%{x}<br>min_pay=%{y}<extra></extra>",
         "legendgroup": "160816003782",
         "marker": {
          "color": "#FF6692"
         },
         "name": "160816003782",
         "orientation": "v",
         "showlegend": true,
         "type": "funnel",
         "x": [
          0
         ],
         "xaxis": "x",
         "y": [
          50000
         ],
         "yaxis": "y"
        },
        {
         "hovertemplate": "jobid=101016900630<br>min_experience=%{x}<br>min_pay=%{y}<extra></extra>",
         "legendgroup": "101016900630",
         "marker": {
          "color": "#B6E880"
         },
         "name": "101016900630",
         "orientation": "v",
         "showlegend": true,
         "type": "funnel",
         "x": [
          2
         ],
         "xaxis": "x",
         "y": [
          null
         ],
         "yaxis": "y"
        },
        {
         "hovertemplate": "jobid=250716002646<br>min_experience=%{x}<br>min_pay=%{y}<extra></extra>",
         "legendgroup": "250716002646",
         "marker": {
          "color": "#FF97FF"
         },
         "name": "250716002646",
         "orientation": "v",
         "showlegend": true,
         "type": "funnel",
         "x": [
          0
         ],
         "xaxis": "x",
         "y": [
          75000
         ],
         "yaxis": "y"
        },
        {
         "hovertemplate": "jobid=101016002951<br>min_experience=%{x}<br>min_pay=%{y}<extra></extra>",
         "legendgroup": "101016002951",
         "marker": {
          "color": "#FECB52"
         },
         "name": "101016002951",
         "orientation": "v",
         "showlegend": true,
         "type": "funnel",
         "x": [
          3
         ],
         "xaxis": "x",
         "y": [
          50000
         ],
         "yaxis": "y"
        },
        {
         "hovertemplate": "jobid=130716002823<br>min_experience=%{x}<br>min_pay=%{y}<extra></extra>",
         "legendgroup": "130716002823",
         "marker": {
          "color": "#636efa"
         },
         "name": "130716002823",
         "orientation": "v",
         "showlegend": true,
         "type": "funnel",
         "x": [
          4
         ],
         "xaxis": "x",
         "y": [
          null
         ],
         "yaxis": "y"
        },
        {
         "hovertemplate": "jobid=101016001438<br>min_experience=%{x}<br>min_pay=%{y}<extra></extra>",
         "legendgroup": "101016001438",
         "marker": {
          "color": "#EF553B"
         },
         "name": "101016001438",
         "orientation": "v",
         "showlegend": true,
         "type": "funnel",
         "x": [
          2
         ],
         "xaxis": "x",
         "y": [
          0
         ],
         "yaxis": "y"
        },
        {
         "hovertemplate": "jobid=111016000122<br>min_experience=%{x}<br>min_pay=%{y}<extra></extra>",
         "legendgroup": "111016000122",
         "marker": {
          "color": "#00cc96"
         },
         "name": "111016000122",
         "orientation": "v",
         "showlegend": true,
         "type": "funnel",
         "x": [
          1
         ],
         "xaxis": "x",
         "y": [
          75000
         ],
         "yaxis": "y"
        },
        {
         "hovertemplate": "jobid=20816001696<br>min_experience=%{x}<br>min_pay=%{y}<extra></extra>",
         "legendgroup": "20816001696",
         "marker": {
          "color": "#ab63fa"
         },
         "name": "20816001696",
         "orientation": "v",
         "showlegend": true,
         "type": "funnel",
         "x": [
          6
         ],
         "xaxis": "x",
         "y": [
          50000
         ],
         "yaxis": "y"
        },
        {
         "hovertemplate": "jobid=111016002300<br>min_experience=%{x}<br>min_pay=%{y}<extra></extra>",
         "legendgroup": "111016002300",
         "marker": {
          "color": "#FFA15A"
         },
         "name": "111016002300",
         "orientation": "v",
         "showlegend": true,
         "type": "funnel",
         "x": [
          3
         ],
         "xaxis": "x",
         "y": [
          null
         ],
         "yaxis": "y"
        },
        {
         "hovertemplate": "jobid=80716900946<br>min_experience=%{x}<br>min_pay=%{y}<extra></extra>",
         "legendgroup": "80716900946",
         "marker": {
          "color": "#19d3f3"
         },
         "name": "80716900946",
         "orientation": "v",
         "showlegend": true,
         "type": "funnel",
         "x": [
          5
         ],
         "xaxis": "x",
         "y": [
          null
         ],
         "yaxis": "y"
        },
        {
         "hovertemplate": "jobid=121016001581<br>min_experience=%{x}<br>min_pay=%{y}<extra></extra>",
         "legendgroup": "121016001581",
         "marker": {
          "color": "#FF6692"
         },
         "name": "121016001581",
         "orientation": "v",
         "showlegend": true,
         "type": "funnel",
         "x": [
          0
         ],
         "xaxis": "x",
         "y": [
          25000
         ],
         "yaxis": "y"
        },
        {
         "hovertemplate": "jobid=90816004904<br>min_experience=%{x}<br>min_pay=%{y}<extra></extra>",
         "legendgroup": "90816004904",
         "marker": {
          "color": "#B6E880"
         },
         "name": "90816004904",
         "orientation": "v",
         "showlegend": true,
         "type": "funnel",
         "x": [
          15
         ],
         "xaxis": "x",
         "y": [
          null
         ],
         "yaxis": "y"
        },
        {
         "hovertemplate": "jobid=101016001733<br>min_experience=%{x}<br>min_pay=%{y}<extra></extra>",
         "legendgroup": "101016001733",
         "marker": {
          "color": "#FF97FF"
         },
         "name": "101016001733",
         "orientation": "v",
         "showlegend": true,
         "type": "funnel",
         "x": [
          6
         ],
         "xaxis": "x",
         "y": [
          null
         ],
         "yaxis": "y"
        },
        {
         "hovertemplate": "jobid=200616004910<br>min_experience=%{x}<br>min_pay=%{y}<extra></extra>",
         "legendgroup": "200616004910",
         "marker": {
          "color": "#FECB52"
         },
         "name": "200616004910",
         "orientation": "v",
         "showlegend": true,
         "type": "funnel",
         "x": [
          5
         ],
         "xaxis": "x",
         "y": [
          null
         ],
         "yaxis": "y"
        },
        {
         "hovertemplate": "jobid=290916005494<br>min_experience=%{x}<br>min_pay=%{y}<extra></extra>",
         "legendgroup": "290916005494",
         "marker": {
          "color": "#636efa"
         },
         "name": "290916005494",
         "orientation": "v",
         "showlegend": true,
         "type": "funnel",
         "x": [
          7
         ],
         "xaxis": "x",
         "y": [
          0
         ],
         "yaxis": "y"
        },
        {
         "hovertemplate": "jobid=90216000720<br>min_experience=%{x}<br>min_pay=%{y}<extra></extra>",
         "legendgroup": "90216000720",
         "marker": {
          "color": "#EF553B"
         },
         "name": "90216000720",
         "orientation": "v",
         "showlegend": true,
         "type": "funnel",
         "x": [
          2
         ],
         "xaxis": "x",
         "y": [
          null
         ],
         "yaxis": "y"
        },
        {
         "hovertemplate": "jobid=101016005310<br>min_experience=%{x}<br>min_pay=%{y}<extra></extra>",
         "legendgroup": "101016005310",
         "marker": {
          "color": "#00cc96"
         },
         "name": "101016005310",
         "orientation": "v",
         "showlegend": true,
         "type": "funnel",
         "x": [
          4
         ],
         "xaxis": "x",
         "y": [
          0
         ],
         "yaxis": "y"
        },
        {
         "hovertemplate": "jobid=121016000500<br>min_experience=%{x}<br>min_pay=%{y}<extra></extra>",
         "legendgroup": "121016000500",
         "marker": {
          "color": "#ab63fa"
         },
         "name": "121016000500",
         "orientation": "v",
         "showlegend": true,
         "type": "funnel",
         "x": [
          0
         ],
         "xaxis": "x",
         "y": [
          null
         ],
         "yaxis": "y"
        },
        {
         "hovertemplate": "jobid=60916004943<br>min_experience=%{x}<br>min_pay=%{y}<extra></extra>",
         "legendgroup": "60916004943",
         "marker": {
          "color": "#FFA15A"
         },
         "name": "60916004943",
         "orientation": "v",
         "showlegend": true,
         "type": "funnel",
         "x": [
          2
         ],
         "xaxis": "x",
         "y": [
          25000
         ],
         "yaxis": "y"
        },
        {
         "hovertemplate": "jobid=71016002556<br>min_experience=%{x}<br>min_pay=%{y}<extra></extra>",
         "legendgroup": "71016002556",
         "marker": {
          "color": "#19d3f3"
         },
         "name": "71016002556",
         "orientation": "v",
         "showlegend": true,
         "type": "funnel",
         "x": [
          5
         ],
         "xaxis": "x",
         "y": [
          null
         ],
         "yaxis": "y"
        },
        {
         "hovertemplate": "jobid=101016000067<br>min_experience=%{x}<br>min_pay=%{y}<extra></extra>",
         "legendgroup": "101016000067",
         "marker": {
          "color": "#FF6692"
         },
         "name": "101016000067",
         "orientation": "v",
         "showlegend": true,
         "type": "funnel",
         "x": [
          0
         ],
         "xaxis": "x",
         "y": [
          null
         ],
         "yaxis": "y"
        },
        {
         "hovertemplate": "jobid=101016900750<br>min_experience=%{x}<br>min_pay=%{y}<extra></extra>",
         "legendgroup": "101016900750",
         "marker": {
          "color": "#B6E880"
         },
         "name": "101016900750",
         "orientation": "v",
         "showlegend": true,
         "type": "funnel",
         "x": [
          3
         ],
         "xaxis": "x",
         "y": [
          null
         ],
         "yaxis": "y"
        },
        {
         "hovertemplate": "jobid=101016001180<br>min_experience=%{x}<br>min_pay=%{y}<extra></extra>",
         "legendgroup": "101016001180",
         "marker": {
          "color": "#FF97FF"
         },
         "name": "101016001180",
         "orientation": "v",
         "showlegend": true,
         "type": "funnel",
         "x": [
          2
         ],
         "xaxis": "x",
         "y": [
          0
         ],
         "yaxis": "y"
        },
        {
         "hovertemplate": "jobid=60916002194<br>min_experience=%{x}<br>min_pay=%{y}<extra></extra>",
         "legendgroup": "60916002194",
         "marker": {
          "color": "#FECB52"
         },
         "name": "60916002194",
         "orientation": "v",
         "showlegend": true,
         "type": "funnel",
         "x": [
          3
         ],
         "xaxis": "x",
         "y": [
          0
         ],
         "yaxis": "y"
        },
        {
         "hovertemplate": "jobid=190416900265<br>min_experience=%{x}<br>min_pay=%{y}<extra></extra>",
         "legendgroup": "190416900265",
         "marker": {
          "color": "#636efa"
         },
         "name": "190416900265",
         "orientation": "v",
         "showlegend": true,
         "type": "funnel",
         "x": [
          0
         ],
         "xaxis": "x",
         "y": [
          null
         ],
         "yaxis": "y"
        },
        {
         "hovertemplate": "jobid=101016900747<br>min_experience=%{x}<br>min_pay=%{y}<extra></extra>",
         "legendgroup": "101016900747",
         "marker": {
          "color": "#EF553B"
         },
         "name": "101016900747",
         "orientation": "v",
         "showlegend": true,
         "type": "funnel",
         "x": [
          8
         ],
         "xaxis": "x",
         "y": [
          null
         ],
         "yaxis": "y"
        },
        {
         "hovertemplate": "jobid=101016005045<br>min_experience=%{x}<br>min_pay=%{y}<extra></extra>",
         "legendgroup": "101016005045",
         "marker": {
          "color": "#00cc96"
         },
         "name": "101016005045",
         "orientation": "v",
         "showlegend": true,
         "type": "funnel",
         "x": [
          7
         ],
         "xaxis": "x",
         "y": [
          null
         ],
         "yaxis": "y"
        },
        {
         "hovertemplate": "jobid=111016000109<br>min_experience=%{x}<br>min_pay=%{y}<extra></extra>",
         "legendgroup": "111016000109",
         "marker": {
          "color": "#ab63fa"
         },
         "name": "111016000109",
         "orientation": "v",
         "showlegend": true,
         "type": "funnel",
         "x": [
          0
         ],
         "xaxis": "x",
         "y": [
          50000
         ],
         "yaxis": "y"
        },
        {
         "hovertemplate": "jobid=101016001044<br>min_experience=%{x}<br>min_pay=%{y}<extra></extra>",
         "legendgroup": "101016001044",
         "marker": {
          "color": "#FFA15A"
         },
         "name": "101016001044",
         "orientation": "v",
         "showlegend": true,
         "type": "funnel",
         "x": [
          3
         ],
         "xaxis": "x",
         "y": [
          25000
         ],
         "yaxis": "y"
        },
        {
         "hovertemplate": "jobid=101016005630<br>min_experience=%{x}<br>min_pay=%{y}<extra></extra>",
         "legendgroup": "101016005630",
         "marker": {
          "color": "#19d3f3"
         },
         "name": "101016005630",
         "orientation": "v",
         "showlegend": true,
         "type": "funnel",
         "x": [
          5
         ],
         "xaxis": "x",
         "y": [
          null
         ],
         "yaxis": "y"
        },
        {
         "hovertemplate": "jobid=61015001510<br>min_experience=%{x}<br>min_pay=%{y}<extra></extra>",
         "legendgroup": "61015001510",
         "marker": {
          "color": "#FF6692"
         },
         "name": "61015001510",
         "orientation": "v",
         "showlegend": true,
         "type": "funnel",
         "x": [
          3
         ],
         "xaxis": "x",
         "y": [
          null
         ],
         "yaxis": "y"
        },
        {
         "hovertemplate": "jobid=190416900256<br>min_experience=%{x}<br>min_pay=%{y}<extra></extra>",
         "legendgroup": "190416900256",
         "marker": {
          "color": "#B6E880"
         },
         "name": "190416900256",
         "orientation": "v",
         "showlegend": true,
         "type": "funnel",
         "x": [
          3
         ],
         "xaxis": "x",
         "y": [
          null
         ],
         "yaxis": "y"
        },
        {
         "hovertemplate": "jobid=101016005110<br>min_experience=%{x}<br>min_pay=%{y}<extra></extra>",
         "legendgroup": "101016005110",
         "marker": {
          "color": "#FF97FF"
         },
         "name": "101016005110",
         "orientation": "v",
         "showlegend": true,
         "type": "funnel",
         "x": [
          14
         ],
         "xaxis": "x",
         "y": [
          null
         ],
         "yaxis": "y"
        },
        {
         "hovertemplate": "jobid=101016000874<br>min_experience=%{x}<br>min_pay=%{y}<extra></extra>",
         "legendgroup": "101016000874",
         "marker": {
          "color": "#FECB52"
         },
         "name": "101016000874",
         "orientation": "v",
         "showlegend": true,
         "type": "funnel",
         "x": [
          15
         ],
         "xaxis": "x",
         "y": [
          0
         ],
         "yaxis": "y"
        },
        {
         "hovertemplate": "jobid=121016001360<br>min_experience=%{x}<br>min_pay=%{y}<extra></extra>",
         "legendgroup": "121016001360",
         "marker": {
          "color": "#636efa"
         },
         "name": "121016001360",
         "orientation": "v",
         "showlegend": true,
         "type": "funnel",
         "x": [
          3
         ],
         "xaxis": "x",
         "y": [
          0
         ],
         "yaxis": "y"
        },
        {
         "hovertemplate": "jobid=101016001121<br>min_experience=%{x}<br>min_pay=%{y}<extra></extra>",
         "legendgroup": "101016001121",
         "marker": {
          "color": "#EF553B"
         },
         "name": "101016001121",
         "orientation": "v",
         "showlegend": true,
         "type": "funnel",
         "x": [
          1
         ],
         "xaxis": "x",
         "y": [
          null
         ],
         "yaxis": "y"
        },
        {
         "hovertemplate": "jobid=60916002602<br>min_experience=%{x}<br>min_pay=%{y}<extra></extra>",
         "legendgroup": "60916002602",
         "marker": {
          "color": "#00cc96"
         },
         "name": "60916002602",
         "orientation": "v",
         "showlegend": true,
         "type": "funnel",
         "x": [
          1
         ],
         "xaxis": "x",
         "y": [
          0
         ],
         "yaxis": "y"
        },
        {
         "hovertemplate": "jobid=280916006264<br>min_experience=%{x}<br>min_pay=%{y}<extra></extra>",
         "legendgroup": "280916006264",
         "marker": {
          "color": "#ab63fa"
         },
         "name": "280916006264",
         "orientation": "v",
         "showlegend": true,
         "type": "funnel",
         "x": [
          10
         ],
         "xaxis": "x",
         "y": [
          500000
         ],
         "yaxis": "y"
        },
        {
         "hovertemplate": "jobid=50916003969<br>min_experience=%{x}<br>min_pay=%{y}<extra></extra>",
         "legendgroup": "50916003969",
         "marker": {
          "color": "#FFA15A"
         },
         "name": "50916003969",
         "orientation": "v",
         "showlegend": true,
         "type": "funnel",
         "x": [
          0
         ],
         "xaxis": "x",
         "y": [
          0
         ],
         "yaxis": "y"
        },
        {
         "hovertemplate": "jobid=101016004070<br>min_experience=%{x}<br>min_pay=%{y}<extra></extra>",
         "legendgroup": "101016004070",
         "marker": {
          "color": "#19d3f3"
         },
         "name": "101016004070",
         "orientation": "v",
         "showlegend": true,
         "type": "funnel",
         "x": [
          2
         ],
         "xaxis": "x",
         "y": [
          0
         ],
         "yaxis": "y"
        },
        {
         "hovertemplate": "jobid=101016005088<br>min_experience=%{x}<br>min_pay=%{y}<extra></extra>",
         "legendgroup": "101016005088",
         "marker": {
          "color": "#FF6692"
         },
         "name": "101016005088",
         "orientation": "v",
         "showlegend": true,
         "type": "funnel",
         "x": [
          4
         ],
         "xaxis": "x",
         "y": [
          null
         ],
         "yaxis": "y"
        },
        {
         "hovertemplate": "jobid=41016004520<br>min_experience=%{x}<br>min_pay=%{y}<extra></extra>",
         "legendgroup": "41016004520",
         "marker": {
          "color": "#B6E880"
         },
         "name": "41016004520",
         "orientation": "v",
         "showlegend": true,
         "type": "funnel",
         "x": [
          7
         ],
         "xaxis": "x",
         "y": [
          0
         ],
         "yaxis": "y"
        },
        {
         "hovertemplate": "jobid=290416002809<br>min_experience=%{x}<br>min_pay=%{y}<extra></extra>",
         "legendgroup": "290416002809",
         "marker": {
          "color": "#FF97FF"
         },
         "name": "290416002809",
         "orientation": "v",
         "showlegend": true,
         "type": "funnel",
         "x": [
          3
         ],
         "xaxis": "x",
         "y": [
          null
         ],
         "yaxis": "y"
        },
        {
         "hovertemplate": "jobid=60716003500<br>min_experience=%{x}<br>min_pay=%{y}<extra></extra>",
         "legendgroup": "60716003500",
         "marker": {
          "color": "#FECB52"
         },
         "name": "60716003500",
         "orientation": "v",
         "showlegend": true,
         "type": "funnel",
         "x": [
          1
         ],
         "xaxis": "x",
         "y": [
          null
         ],
         "yaxis": "y"
        },
        {
         "hovertemplate": "jobid=111016000307<br>min_experience=%{x}<br>min_pay=%{y}<extra></extra>",
         "legendgroup": "111016000307",
         "marker": {
          "color": "#636efa"
         },
         "name": "111016000307",
         "orientation": "v",
         "showlegend": true,
         "type": "funnel",
         "x": [
          0
         ],
         "xaxis": "x",
         "y": [
          0
         ],
         "yaxis": "y"
        },
        {
         "hovertemplate": "jobid=111016000128<br>min_experience=%{x}<br>min_pay=%{y}<extra></extra>",
         "legendgroup": "111016000128",
         "marker": {
          "color": "#EF553B"
         },
         "name": "111016000128",
         "orientation": "v",
         "showlegend": true,
         "type": "funnel",
         "x": [
          4
         ],
         "xaxis": "x",
         "y": [
          0
         ],
         "yaxis": "y"
        },
        {
         "hovertemplate": "jobid=71016001271<br>min_experience=%{x}<br>min_pay=%{y}<extra></extra>",
         "legendgroup": "71016001271",
         "marker": {
          "color": "#00cc96"
         },
         "name": "71016001271",
         "orientation": "v",
         "showlegend": true,
         "type": "funnel",
         "x": [
          10
         ],
         "xaxis": "x",
         "y": [
          null
         ],
         "yaxis": "y"
        },
        {
         "hovertemplate": "jobid=121016001123<br>min_experience=%{x}<br>min_pay=%{y}<extra></extra>",
         "legendgroup": "121016001123",
         "marker": {
          "color": "#ab63fa"
         },
         "name": "121016001123",
         "orientation": "v",
         "showlegend": true,
         "type": "funnel",
         "x": [
          4
         ],
         "xaxis": "x",
         "y": [
          0
         ],
         "yaxis": "y"
        },
        {
         "hovertemplate": "jobid=101016001818<br>min_experience=%{x}<br>min_pay=%{y}<extra></extra>",
         "legendgroup": "101016001818",
         "marker": {
          "color": "#FFA15A"
         },
         "name": "101016001818",
         "orientation": "v",
         "showlegend": true,
         "type": "funnel",
         "x": [
          1
         ],
         "xaxis": "x",
         "y": [
          null
         ],
         "yaxis": "y"
        },
        {
         "hovertemplate": "jobid=121016000215<br>min_experience=%{x}<br>min_pay=%{y}<extra></extra>",
         "legendgroup": "121016000215",
         "marker": {
          "color": "#19d3f3"
         },
         "name": "121016000215",
         "orientation": "v",
         "showlegend": true,
         "type": "funnel",
         "x": [
          0
         ],
         "xaxis": "x",
         "y": [
          null
         ],
         "yaxis": "y"
        },
        {
         "hovertemplate": "jobid=101016000477<br>min_experience=%{x}<br>min_pay=%{y}<extra></extra>",
         "legendgroup": "101016000477",
         "marker": {
          "color": "#FF6692"
         },
         "name": "101016000477",
         "orientation": "v",
         "showlegend": true,
         "type": "funnel",
         "x": [
          5
         ],
         "xaxis": "x",
         "y": [
          null
         ],
         "yaxis": "y"
        },
        {
         "hovertemplate": "jobid=121016000555<br>min_experience=%{x}<br>min_pay=%{y}<extra></extra>",
         "legendgroup": "121016000555",
         "marker": {
          "color": "#B6E880"
         },
         "name": "121016000555",
         "orientation": "v",
         "showlegend": true,
         "type": "funnel",
         "x": [
          4
         ],
         "xaxis": "x",
         "y": [
          0
         ],
         "yaxis": "y"
        },
        {
         "hovertemplate": "jobid=130616006793<br>min_experience=%{x}<br>min_pay=%{y}<extra></extra>",
         "legendgroup": "130616006793",
         "marker": {
          "color": "#FF97FF"
         },
         "name": "130616006793",
         "orientation": "v",
         "showlegend": true,
         "type": "funnel",
         "x": [
          0
         ],
         "xaxis": "x",
         "y": [
          null
         ],
         "yaxis": "y"
        },
        {
         "hovertemplate": "jobid=101016001813<br>min_experience=%{x}<br>min_pay=%{y}<extra></extra>",
         "legendgroup": "101016001813",
         "marker": {
          "color": "#FECB52"
         },
         "name": "101016001813",
         "orientation": "v",
         "showlegend": true,
         "type": "funnel",
         "x": [
          5
         ],
         "xaxis": "x",
         "y": [
          0
         ],
         "yaxis": "y"
        },
        {
         "hovertemplate": "jobid=81016001677<br>min_experience=%{x}<br>min_pay=%{y}<extra></extra>",
         "legendgroup": "81016001677",
         "marker": {
          "color": "#636efa"
         },
         "name": "81016001677",
         "orientation": "v",
         "showlegend": true,
         "type": "funnel",
         "x": [
          2
         ],
         "xaxis": "x",
         "y": [
          50000
         ],
         "yaxis": "y"
        },
        {
         "hovertemplate": "jobid=190716008051<br>min_experience=%{x}<br>min_pay=%{y}<extra></extra>",
         "legendgroup": "190716008051",
         "marker": {
          "color": "#EF553B"
         },
         "name": "190716008051",
         "orientation": "v",
         "showlegend": true,
         "type": "funnel",
         "x": [
          5
         ],
         "xaxis": "x",
         "y": [
          null
         ],
         "yaxis": "y"
        },
        {
         "hovertemplate": "jobid=80716900171<br>min_experience=%{x}<br>min_pay=%{y}<extra></extra>",
         "legendgroup": "80716900171",
         "marker": {
          "color": "#00cc96"
         },
         "name": "80716900171",
         "orientation": "v",
         "showlegend": true,
         "type": "funnel",
         "x": [
          6
         ],
         "xaxis": "x",
         "y": [
          null
         ],
         "yaxis": "y"
        },
        {
         "hovertemplate": "jobid=121016000764<br>min_experience=%{x}<br>min_pay=%{y}<extra></extra>",
         "legendgroup": "121016000764",
         "marker": {
          "color": "#ab63fa"
         },
         "name": "121016000764",
         "orientation": "v",
         "showlegend": true,
         "type": "funnel",
         "x": [
          1
         ],
         "xaxis": "x",
         "y": [
          0
         ],
         "yaxis": "y"
        },
        {
         "hovertemplate": "jobid=91016000836<br>min_experience=%{x}<br>min_pay=%{y}<extra></extra>",
         "legendgroup": "91016000836",
         "marker": {
          "color": "#FFA15A"
         },
         "name": "91016000836",
         "orientation": "v",
         "showlegend": true,
         "type": "funnel",
         "x": [
          3
         ],
         "xaxis": "x",
         "y": [
          null
         ],
         "yaxis": "y"
        },
        {
         "hovertemplate": "jobid=140616009433<br>min_experience=%{x}<br>min_pay=%{y}<extra></extra>",
         "legendgroup": "140616009433",
         "marker": {
          "color": "#19d3f3"
         },
         "name": "140616009433",
         "orientation": "v",
         "showlegend": true,
         "type": "funnel",
         "x": [
          1
         ],
         "xaxis": "x",
         "y": [
          null
         ],
         "yaxis": "y"
        },
        {
         "hovertemplate": "jobid=101016000948<br>min_experience=%{x}<br>min_pay=%{y}<extra></extra>",
         "legendgroup": "101016000948",
         "marker": {
          "color": "#FF6692"
         },
         "name": "101016000948",
         "orientation": "v",
         "showlegend": true,
         "type": "funnel",
         "x": [
          8
         ],
         "xaxis": "x",
         "y": [
          0
         ],
         "yaxis": "y"
        },
        {
         "hovertemplate": "jobid=80716900163<br>min_experience=%{x}<br>min_pay=%{y}<extra></extra>",
         "legendgroup": "80716900163",
         "marker": {
          "color": "#B6E880"
         },
         "name": "80716900163",
         "orientation": "v",
         "showlegend": true,
         "type": "funnel",
         "x": [
          3
         ],
         "xaxis": "x",
         "y": [
          null
         ],
         "yaxis": "y"
        },
        {
         "hovertemplate": "jobid=111016001314<br>min_experience=%{x}<br>min_pay=%{y}<extra></extra>",
         "legendgroup": "111016001314",
         "marker": {
          "color": "#FF97FF"
         },
         "name": "111016001314",
         "orientation": "v",
         "showlegend": true,
         "type": "funnel",
         "x": [
          0
         ],
         "xaxis": "x",
         "y": [
          null
         ],
         "yaxis": "y"
        },
        {
         "hovertemplate": "jobid=111016000748<br>min_experience=%{x}<br>min_pay=%{y}<extra></extra>",
         "legendgroup": "111016000748",
         "marker": {
          "color": "#FECB52"
         },
         "name": "111016000748",
         "orientation": "v",
         "showlegend": true,
         "type": "funnel",
         "x": [
          3
         ],
         "xaxis": "x",
         "y": [
          0
         ],
         "yaxis": "y"
        },
        {
         "hovertemplate": "jobid=101016001283<br>min_experience=%{x}<br>min_pay=%{y}<extra></extra>",
         "legendgroup": "101016001283",
         "marker": {
          "color": "#636efa"
         },
         "name": "101016001283",
         "orientation": "v",
         "showlegend": true,
         "type": "funnel",
         "x": [
          0
         ],
         "xaxis": "x",
         "y": [
          null
         ],
         "yaxis": "y"
        },
        {
         "hovertemplate": "jobid=101016002865<br>min_experience=%{x}<br>min_pay=%{y}<extra></extra>",
         "legendgroup": "101016002865",
         "marker": {
          "color": "#EF553B"
         },
         "name": "101016002865",
         "orientation": "v",
         "showlegend": true,
         "type": "funnel",
         "x": [
          0
         ],
         "xaxis": "x",
         "y": [
          0
         ],
         "yaxis": "y"
        },
        {
         "hovertemplate": "jobid=101016900807<br>min_experience=%{x}<br>min_pay=%{y}<extra></extra>",
         "legendgroup": "101016900807",
         "marker": {
          "color": "#00cc96"
         },
         "name": "101016900807",
         "orientation": "v",
         "showlegend": true,
         "type": "funnel",
         "x": [
          10
         ],
         "xaxis": "x",
         "y": [
          null
         ],
         "yaxis": "y"
        },
        {
         "hovertemplate": "jobid=101016900533<br>min_experience=%{x}<br>min_pay=%{y}<extra></extra>",
         "legendgroup": "101016900533",
         "marker": {
          "color": "#ab63fa"
         },
         "name": "101016900533",
         "orientation": "v",
         "showlegend": true,
         "type": "funnel",
         "x": [
          4
         ],
         "xaxis": "x",
         "y": [
          null
         ],
         "yaxis": "y"
        },
        {
         "hovertemplate": "jobid=80716900263<br>min_experience=%{x}<br>min_pay=%{y}<extra></extra>",
         "legendgroup": "80716900263",
         "marker": {
          "color": "#FFA15A"
         },
         "name": "80716900263",
         "orientation": "v",
         "showlegend": true,
         "type": "funnel",
         "x": [
          3
         ],
         "xaxis": "x",
         "y": [
          null
         ],
         "yaxis": "y"
        },
        {
         "hovertemplate": "jobid=51015003094<br>min_experience=%{x}<br>min_pay=%{y}<extra></extra>",
         "legendgroup": "51015003094",
         "marker": {
          "color": "#19d3f3"
         },
         "name": "51015003094",
         "orientation": "v",
         "showlegend": true,
         "type": "funnel",
         "x": [
          3
         ],
         "xaxis": "x",
         "y": [
          null
         ],
         "yaxis": "y"
        },
        {
         "hovertemplate": "jobid=101016003895<br>min_experience=%{x}<br>min_pay=%{y}<extra></extra>",
         "legendgroup": "101016003895",
         "marker": {
          "color": "#FF6692"
         },
         "name": "101016003895",
         "orientation": "v",
         "showlegend": true,
         "type": "funnel",
         "x": [
          4
         ],
         "xaxis": "x",
         "y": [
          null
         ],
         "yaxis": "y"
        },
        {
         "hovertemplate": "jobid=101016004453<br>min_experience=%{x}<br>min_pay=%{y}<extra></extra>",
         "legendgroup": "101016004453",
         "marker": {
          "color": "#B6E880"
         },
         "name": "101016004453",
         "orientation": "v",
         "showlegend": true,
         "type": "funnel",
         "x": [
          4
         ],
         "xaxis": "x",
         "y": [
          null
         ],
         "yaxis": "y"
        },
        {
         "hovertemplate": "jobid=120816000584<br>min_experience=%{x}<br>min_pay=%{y}<extra></extra>",
         "legendgroup": "120816000584",
         "marker": {
          "color": "#FF97FF"
         },
         "name": "120816000584",
         "orientation": "v",
         "showlegend": true,
         "type": "funnel",
         "x": [
          2
         ],
         "xaxis": "x",
         "y": [
          0
         ],
         "yaxis": "y"
        },
        {
         "hovertemplate": "jobid=101016000469<br>min_experience=%{x}<br>min_pay=%{y}<extra></extra>",
         "legendgroup": "101016000469",
         "marker": {
          "color": "#FECB52"
         },
         "name": "101016000469",
         "orientation": "v",
         "showlegend": true,
         "type": "funnel",
         "x": [
          1
         ],
         "xaxis": "x",
         "y": [
          0
         ],
         "yaxis": "y"
        }
       ],
       "layout": {
        "legend": {
         "title": {
          "text": "jobid"
         },
         "tracegroupgap": 0
        },
        "margin": {
         "t": 60
        },
        "template": {
         "data": {
          "bar": [
           {
            "error_x": {
             "color": "#2a3f5f"
            },
            "error_y": {
             "color": "#2a3f5f"
            },
            "marker": {
             "line": {
              "color": "#E5ECF6",
              "width": 0.5
             },
             "pattern": {
              "fillmode": "overlay",
              "size": 10,
              "solidity": 0.2
             }
            },
            "type": "bar"
           }
          ],
          "barpolar": [
           {
            "marker": {
             "line": {
              "color": "#E5ECF6",
              "width": 0.5
             },
             "pattern": {
              "fillmode": "overlay",
              "size": 10,
              "solidity": 0.2
             }
            },
            "type": "barpolar"
           }
          ],
          "carpet": [
           {
            "aaxis": {
             "endlinecolor": "#2a3f5f",
             "gridcolor": "white",
             "linecolor": "white",
             "minorgridcolor": "white",
             "startlinecolor": "#2a3f5f"
            },
            "baxis": {
             "endlinecolor": "#2a3f5f",
             "gridcolor": "white",
             "linecolor": "white",
             "minorgridcolor": "white",
             "startlinecolor": "#2a3f5f"
            },
            "type": "carpet"
           }
          ],
          "choropleth": [
           {
            "colorbar": {
             "outlinewidth": 0,
             "ticks": ""
            },
            "type": "choropleth"
           }
          ],
          "contour": [
           {
            "colorbar": {
             "outlinewidth": 0,
             "ticks": ""
            },
            "colorscale": [
             [
              0,
              "#0d0887"
             ],
             [
              0.1111111111111111,
              "#46039f"
             ],
             [
              0.2222222222222222,
              "#7201a8"
             ],
             [
              0.3333333333333333,
              "#9c179e"
             ],
             [
              0.4444444444444444,
              "#bd3786"
             ],
             [
              0.5555555555555556,
              "#d8576b"
             ],
             [
              0.6666666666666666,
              "#ed7953"
             ],
             [
              0.7777777777777778,
              "#fb9f3a"
             ],
             [
              0.8888888888888888,
              "#fdca26"
             ],
             [
              1,
              "#f0f921"
             ]
            ],
            "type": "contour"
           }
          ],
          "contourcarpet": [
           {
            "colorbar": {
             "outlinewidth": 0,
             "ticks": ""
            },
            "type": "contourcarpet"
           }
          ],
          "heatmap": [
           {
            "colorbar": {
             "outlinewidth": 0,
             "ticks": ""
            },
            "colorscale": [
             [
              0,
              "#0d0887"
             ],
             [
              0.1111111111111111,
              "#46039f"
             ],
             [
              0.2222222222222222,
              "#7201a8"
             ],
             [
              0.3333333333333333,
              "#9c179e"
             ],
             [
              0.4444444444444444,
              "#bd3786"
             ],
             [
              0.5555555555555556,
              "#d8576b"
             ],
             [
              0.6666666666666666,
              "#ed7953"
             ],
             [
              0.7777777777777778,
              "#fb9f3a"
             ],
             [
              0.8888888888888888,
              "#fdca26"
             ],
             [
              1,
              "#f0f921"
             ]
            ],
            "type": "heatmap"
           }
          ],
          "heatmapgl": [
           {
            "colorbar": {
             "outlinewidth": 0,
             "ticks": ""
            },
            "colorscale": [
             [
              0,
              "#0d0887"
             ],
             [
              0.1111111111111111,
              "#46039f"
             ],
             [
              0.2222222222222222,
              "#7201a8"
             ],
             [
              0.3333333333333333,
              "#9c179e"
             ],
             [
              0.4444444444444444,
              "#bd3786"
             ],
             [
              0.5555555555555556,
              "#d8576b"
             ],
             [
              0.6666666666666666,
              "#ed7953"
             ],
             [
              0.7777777777777778,
              "#fb9f3a"
             ],
             [
              0.8888888888888888,
              "#fdca26"
             ],
             [
              1,
              "#f0f921"
             ]
            ],
            "type": "heatmapgl"
           }
          ],
          "histogram": [
           {
            "marker": {
             "pattern": {
              "fillmode": "overlay",
              "size": 10,
              "solidity": 0.2
             }
            },
            "type": "histogram"
           }
          ],
          "histogram2d": [
           {
            "colorbar": {
             "outlinewidth": 0,
             "ticks": ""
            },
            "colorscale": [
             [
              0,
              "#0d0887"
             ],
             [
              0.1111111111111111,
              "#46039f"
             ],
             [
              0.2222222222222222,
              "#7201a8"
             ],
             [
              0.3333333333333333,
              "#9c179e"
             ],
             [
              0.4444444444444444,
              "#bd3786"
             ],
             [
              0.5555555555555556,
              "#d8576b"
             ],
             [
              0.6666666666666666,
              "#ed7953"
             ],
             [
              0.7777777777777778,
              "#fb9f3a"
             ],
             [
              0.8888888888888888,
              "#fdca26"
             ],
             [
              1,
              "#f0f921"
             ]
            ],
            "type": "histogram2d"
           }
          ],
          "histogram2dcontour": [
           {
            "colorbar": {
             "outlinewidth": 0,
             "ticks": ""
            },
            "colorscale": [
             [
              0,
              "#0d0887"
             ],
             [
              0.1111111111111111,
              "#46039f"
             ],
             [
              0.2222222222222222,
              "#7201a8"
             ],
             [
              0.3333333333333333,
              "#9c179e"
             ],
             [
              0.4444444444444444,
              "#bd3786"
             ],
             [
              0.5555555555555556,
              "#d8576b"
             ],
             [
              0.6666666666666666,
              "#ed7953"
             ],
             [
              0.7777777777777778,
              "#fb9f3a"
             ],
             [
              0.8888888888888888,
              "#fdca26"
             ],
             [
              1,
              "#f0f921"
             ]
            ],
            "type": "histogram2dcontour"
           }
          ],
          "mesh3d": [
           {
            "colorbar": {
             "outlinewidth": 0,
             "ticks": ""
            },
            "type": "mesh3d"
           }
          ],
          "parcoords": [
           {
            "line": {
             "colorbar": {
              "outlinewidth": 0,
              "ticks": ""
             }
            },
            "type": "parcoords"
           }
          ],
          "pie": [
           {
            "automargin": true,
            "type": "pie"
           }
          ],
          "scatter": [
           {
            "fillpattern": {
             "fillmode": "overlay",
             "size": 10,
             "solidity": 0.2
            },
            "type": "scatter"
           }
          ],
          "scatter3d": [
           {
            "line": {
             "colorbar": {
              "outlinewidth": 0,
              "ticks": ""
             }
            },
            "marker": {
             "colorbar": {
              "outlinewidth": 0,
              "ticks": ""
             }
            },
            "type": "scatter3d"
           }
          ],
          "scattercarpet": [
           {
            "marker": {
             "colorbar": {
              "outlinewidth": 0,
              "ticks": ""
             }
            },
            "type": "scattercarpet"
           }
          ],
          "scattergeo": [
           {
            "marker": {
             "colorbar": {
              "outlinewidth": 0,
              "ticks": ""
             }
            },
            "type": "scattergeo"
           }
          ],
          "scattergl": [
           {
            "marker": {
             "colorbar": {
              "outlinewidth": 0,
              "ticks": ""
             }
            },
            "type": "scattergl"
           }
          ],
          "scattermapbox": [
           {
            "marker": {
             "colorbar": {
              "outlinewidth": 0,
              "ticks": ""
             }
            },
            "type": "scattermapbox"
           }
          ],
          "scatterpolar": [
           {
            "marker": {
             "colorbar": {
              "outlinewidth": 0,
              "ticks": ""
             }
            },
            "type": "scatterpolar"
           }
          ],
          "scatterpolargl": [
           {
            "marker": {
             "colorbar": {
              "outlinewidth": 0,
              "ticks": ""
             }
            },
            "type": "scatterpolargl"
           }
          ],
          "scatterternary": [
           {
            "marker": {
             "colorbar": {
              "outlinewidth": 0,
              "ticks": ""
             }
            },
            "type": "scatterternary"
           }
          ],
          "surface": [
           {
            "colorbar": {
             "outlinewidth": 0,
             "ticks": ""
            },
            "colorscale": [
             [
              0,
              "#0d0887"
             ],
             [
              0.1111111111111111,
              "#46039f"
             ],
             [
              0.2222222222222222,
              "#7201a8"
             ],
             [
              0.3333333333333333,
              "#9c179e"
             ],
             [
              0.4444444444444444,
              "#bd3786"
             ],
             [
              0.5555555555555556,
              "#d8576b"
             ],
             [
              0.6666666666666666,
              "#ed7953"
             ],
             [
              0.7777777777777778,
              "#fb9f3a"
             ],
             [
              0.8888888888888888,
              "#fdca26"
             ],
             [
              1,
              "#f0f921"
             ]
            ],
            "type": "surface"
           }
          ],
          "table": [
           {
            "cells": {
             "fill": {
              "color": "#EBF0F8"
             },
             "line": {
              "color": "white"
             }
            },
            "header": {
             "fill": {
              "color": "#C8D4E3"
             },
             "line": {
              "color": "white"
             }
            },
            "type": "table"
           }
          ]
         },
         "layout": {
          "annotationdefaults": {
           "arrowcolor": "#2a3f5f",
           "arrowhead": 0,
           "arrowwidth": 1
          },
          "autotypenumbers": "strict",
          "coloraxis": {
           "colorbar": {
            "outlinewidth": 0,
            "ticks": ""
           }
          },
          "colorscale": {
           "diverging": [
            [
             0,
             "#8e0152"
            ],
            [
             0.1,
             "#c51b7d"
            ],
            [
             0.2,
             "#de77ae"
            ],
            [
             0.3,
             "#f1b6da"
            ],
            [
             0.4,
             "#fde0ef"
            ],
            [
             0.5,
             "#f7f7f7"
            ],
            [
             0.6,
             "#e6f5d0"
            ],
            [
             0.7,
             "#b8e186"
            ],
            [
             0.8,
             "#7fbc41"
            ],
            [
             0.9,
             "#4d9221"
            ],
            [
             1,
             "#276419"
            ]
           ],
           "sequential": [
            [
             0,
             "#0d0887"
            ],
            [
             0.1111111111111111,
             "#46039f"
            ],
            [
             0.2222222222222222,
             "#7201a8"
            ],
            [
             0.3333333333333333,
             "#9c179e"
            ],
            [
             0.4444444444444444,
             "#bd3786"
            ],
            [
             0.5555555555555556,
             "#d8576b"
            ],
            [
             0.6666666666666666,
             "#ed7953"
            ],
            [
             0.7777777777777778,
             "#fb9f3a"
            ],
            [
             0.8888888888888888,
             "#fdca26"
            ],
            [
             1,
             "#f0f921"
            ]
           ],
           "sequentialminus": [
            [
             0,
             "#0d0887"
            ],
            [
             0.1111111111111111,
             "#46039f"
            ],
            [
             0.2222222222222222,
             "#7201a8"
            ],
            [
             0.3333333333333333,
             "#9c179e"
            ],
            [
             0.4444444444444444,
             "#bd3786"
            ],
            [
             0.5555555555555556,
             "#d8576b"
            ],
            [
             0.6666666666666666,
             "#ed7953"
            ],
            [
             0.7777777777777778,
             "#fb9f3a"
            ],
            [
             0.8888888888888888,
             "#fdca26"
            ],
            [
             1,
             "#f0f921"
            ]
           ]
          },
          "colorway": [
           "#636efa",
           "#EF553B",
           "#00cc96",
           "#ab63fa",
           "#FFA15A",
           "#19d3f3",
           "#FF6692",
           "#B6E880",
           "#FF97FF",
           "#FECB52"
          ],
          "font": {
           "color": "#2a3f5f"
          },
          "geo": {
           "bgcolor": "white",
           "lakecolor": "white",
           "landcolor": "#E5ECF6",
           "showlakes": true,
           "showland": true,
           "subunitcolor": "white"
          },
          "hoverlabel": {
           "align": "left"
          },
          "hovermode": "closest",
          "mapbox": {
           "style": "light"
          },
          "paper_bgcolor": "white",
          "plot_bgcolor": "#E5ECF6",
          "polar": {
           "angularaxis": {
            "gridcolor": "white",
            "linecolor": "white",
            "ticks": ""
           },
           "bgcolor": "#E5ECF6",
           "radialaxis": {
            "gridcolor": "white",
            "linecolor": "white",
            "ticks": ""
           }
          },
          "scene": {
           "xaxis": {
            "backgroundcolor": "#E5ECF6",
            "gridcolor": "white",
            "gridwidth": 2,
            "linecolor": "white",
            "showbackground": true,
            "ticks": "",
            "zerolinecolor": "white"
           },
           "yaxis": {
            "backgroundcolor": "#E5ECF6",
            "gridcolor": "white",
            "gridwidth": 2,
            "linecolor": "white",
            "showbackground": true,
            "ticks": "",
            "zerolinecolor": "white"
           },
           "zaxis": {
            "backgroundcolor": "#E5ECF6",
            "gridcolor": "white",
            "gridwidth": 2,
            "linecolor": "white",
            "showbackground": true,
            "ticks": "",
            "zerolinecolor": "white"
           }
          },
          "shapedefaults": {
           "line": {
            "color": "#2a3f5f"
           }
          },
          "ternary": {
           "aaxis": {
            "gridcolor": "white",
            "linecolor": "white",
            "ticks": ""
           },
           "baxis": {
            "gridcolor": "white",
            "linecolor": "white",
            "ticks": ""
           },
           "bgcolor": "#E5ECF6",
           "caxis": {
            "gridcolor": "white",
            "linecolor": "white",
            "ticks": ""
           }
          },
          "title": {
           "x": 0.05
          },
          "xaxis": {
           "automargin": true,
           "gridcolor": "white",
           "linecolor": "white",
           "ticks": "",
           "title": {
            "standoff": 15
           },
           "zerolinecolor": "white",
           "zerolinewidth": 2
          },
          "yaxis": {
           "automargin": true,
           "gridcolor": "white",
           "linecolor": "white",
           "ticks": "",
           "title": {
            "standoff": 15
           },
           "zerolinecolor": "white",
           "zerolinewidth": 2
          }
         }
        },
        "xaxis": {
         "anchor": "y",
         "domain": [
          0,
          1
         ],
         "title": {
          "text": "min_experience"
         }
        },
        "yaxis": {
         "anchor": "x",
         "domain": [
          0,
          1
         ],
         "title": {
          "text": "min_pay"
         }
        }
       }
      }
     },
     "metadata": {},
     "output_type": "display_data"
    }
   ],
   "source": [
    "px.funnel(df,x='min_experience',y='min_pay',color='jobid')\n"
   ]
  },
  {
   "cell_type": "code",
   "execution_count": 33,
   "metadata": {},
   "outputs": [
    {
     "data": {
      "text/plain": [
       "<AxesSubplot:xlabel='max_experience', ylabel='max_pay'>"
      ]
     },
     "execution_count": 33,
     "metadata": {},
     "output_type": "execute_result"
    },
    {
     "data": {
      "image/png": "[encoded data removed]",
      "text/plain": [
       "<Figure size 1080x360 with 1 Axes>"
      ]
     },
     "metadata": {
      "needs_background": "light"
     },
     "output_type": "display_data"
    }
   ],
   "source": [
    "f,ax=plt.subplots(figsize=(15,5))\n",
    "sns.stripplot(x='max_experience', y='max_pay', data=df, jitter=True)"
   ]
  },
  {
   "cell_type": "code",
   "execution_count": 34,
   "metadata": {},
   "outputs": [
    {
     "name": "stderr",
     "output_type": "stream",
     "text": [
      "c:\\Users\\LENOVO\\miniconda3\\lib\\site-packages\\seaborn\\algorithms.py:98: RuntimeWarning:\n",
      "\n",
      "Mean of empty slice\n",
      "\n",
      "c:\\Users\\LENOVO\\miniconda3\\lib\\site-packages\\seaborn\\algorithms.py:98: RuntimeWarning:\n",
      "\n",
      "Mean of empty slice\n",
      "\n",
      "c:\\Users\\LENOVO\\miniconda3\\lib\\site-packages\\seaborn\\algorithms.py:98: RuntimeWarning:\n",
      "\n",
      "Mean of empty slice\n",
      "\n",
      "c:\\Users\\LENOVO\\miniconda3\\lib\\site-packages\\seaborn\\algorithms.py:98: RuntimeWarning:\n",
      "\n",
      "Mean of empty slice\n",
      "\n",
      "c:\\Users\\LENOVO\\miniconda3\\lib\\site-packages\\seaborn\\algorithms.py:98: RuntimeWarning:\n",
      "\n",
      "Mean of empty slice\n",
      "\n",
      "c:\\Users\\LENOVO\\miniconda3\\lib\\site-packages\\seaborn\\algorithms.py:98: RuntimeWarning:\n",
      "\n",
      "Mean of empty slice\n",
      "\n"
     ]
    },
    {
     "data": {
      "text/plain": [
       "<AxesSubplot:xlabel='max_experience', ylabel='max_pay'>"
      ]
     },
     "execution_count": 34,
     "metadata": {},
     "output_type": "execute_result"
    },
    {
     "data": {
      "image/png": "[encoded data removed]",
      "text/plain": [
       "<Figure size 1080x360 with 1 Axes>"
      ]
     },
     "metadata": {
      "needs_background": "light"
     },
     "output_type": "display_data"
    }
   ],
   "source": [
    "f,ax=plt.subplots(figsize=(15,5))\n",
    "sns.pointplot(x='max_experience', y='max_pay', data=df)"
   ]
  },
  {
   "cell_type": "code",
   "execution_count": 35,
   "metadata": {},
   "outputs": [
    {
     "ename": "ValueError",
     "evalue": "The following variable cannot be assigned with wide-form data: `hue`",
     "output_type": "error",
     "traceback": [
      "\u001b[1;31m---------------------------------------------------------------------------\u001b[0m",
      "\u001b[1;31mValueError\u001b[0m                                Traceback (most recent call last)",
      "\u001b[1;32mc:\\Users\\LENOVO\\Documents\\prachi\\visualisation.ipynb Cell 43\u001b[0m in \u001b[0;36m<cell line: 1>\u001b[1;34m()\u001b[0m\n\u001b[1;32m----> <a href='vscode-notebook-cell:/c%3A/Users/LENOVO/Documents/prachi/visualisation.ipynb#X60sZmlsZQ%3D%3D?line=0'>1</a>\u001b[0m sns\u001b[39m.\u001b[39;49mcatplot(df, \n\u001b[0;32m      <a href='vscode-notebook-cell:/c%3A/Users/LENOVO/Documents/prachi/visualisation.ipynb#X60sZmlsZQ%3D%3D?line=1'>2</a>\u001b[0m             x_vars\u001b[39m=\u001b[39;49m[\u001b[39m\"\u001b[39;49m\u001b[39mmin_experience\u001b[39;49m\u001b[39m\"\u001b[39;49m,\u001b[39m\"\u001b[39;49m\u001b[39mmax_experience\u001b[39;49m\u001b[39m\"\u001b[39;49m],\n\u001b[0;32m      <a href='vscode-notebook-cell:/c%3A/Users/LENOVO/Documents/prachi/visualisation.ipynb#X60sZmlsZQ%3D%3D?line=2'>3</a>\u001b[0m             y_vars\u001b[39m=\u001b[39;49m[\u001b[39m\"\u001b[39;49m\u001b[39mmin_pay\u001b[39;49m\u001b[39m\"\u001b[39;49m],\n\u001b[0;32m      <a href='vscode-notebook-cell:/c%3A/Users/LENOVO/Documents/prachi/visualisation.ipynb#X60sZmlsZQ%3D%3D?line=3'>4</a>\u001b[0m             hue\u001b[39m=\u001b[39;49m\u001b[39m\"\u001b[39;49m\u001b[39mindustry\u001b[39;49m\u001b[39m\"\u001b[39;49m,\n\u001b[0;32m      <a href='vscode-notebook-cell:/c%3A/Users/LENOVO/Documents/prachi/visualisation.ipynb#X60sZmlsZQ%3D%3D?line=4'>5</a>\u001b[0m             kind\u001b[39m=\u001b[39;49m\u001b[39m\"\u001b[39;49m\u001b[39mswarm\u001b[39;49m\u001b[39m\"\u001b[39;49m,  \n\u001b[0;32m      <a href='vscode-notebook-cell:/c%3A/Users/LENOVO/Documents/prachi/visualisation.ipynb#X60sZmlsZQ%3D%3D?line=5'>6</a>\u001b[0m             size\u001b[39m=\u001b[39;49m\u001b[39m5\u001b[39;49m,\n\u001b[0;32m      <a href='vscode-notebook-cell:/c%3A/Users/LENOVO/Documents/prachi/visualisation.ipynb#X60sZmlsZQ%3D%3D?line=6'>7</a>\u001b[0m             aspect\u001b[39m=\u001b[39;49m\u001b[39m0.9\u001b[39;49m,\n\u001b[0;32m      <a href='vscode-notebook-cell:/c%3A/Users/LENOVO/Documents/prachi/visualisation.ipynb#X60sZmlsZQ%3D%3D?line=7'>8</a>\u001b[0m )\n",
      "File \u001b[1;32mc:\\Users\\LENOVO\\miniconda3\\lib\\site-packages\\seaborn\\categorical.py:3031\u001b[0m, in \u001b[0;36mcatplot\u001b[1;34m(data, x, y, hue, row, col, col_wrap, estimator, errorbar, n_boot, units, seed, order, hue_order, row_order, col_order, height, aspect, kind, native_scale, formatter, orient, color, palette, hue_norm, legend, legend_out, sharex, sharey, margin_titles, facet_kws, ci, **kwargs)\u001b[0m\n\u001b[0;32m   3028\u001b[0m refactored_kinds \u001b[39m=\u001b[39m [\u001b[39m\"\u001b[39m\u001b[39mstrip\u001b[39m\u001b[39m\"\u001b[39m, \u001b[39m\"\u001b[39m\u001b[39mswarm\u001b[39m\u001b[39m\"\u001b[39m]\n\u001b[0;32m   3029\u001b[0m \u001b[39mif\u001b[39;00m kind \u001b[39min\u001b[39;00m refactored_kinds:\n\u001b[1;32m-> 3031\u001b[0m     p \u001b[39m=\u001b[39m _CategoricalFacetPlotter(\n\u001b[0;32m   3032\u001b[0m         data\u001b[39m=\u001b[39;49mdata,\n\u001b[0;32m   3033\u001b[0m         variables\u001b[39m=\u001b[39;49m_CategoricalFacetPlotter\u001b[39m.\u001b[39;49mget_semantics(\u001b[39mlocals\u001b[39;49m()),\n\u001b[0;32m   3034\u001b[0m         order\u001b[39m=\u001b[39;49morder,\n\u001b[0;32m   3035\u001b[0m         orient\u001b[39m=\u001b[39;49morient,\n\u001b[0;32m   3036\u001b[0m         require_numeric\u001b[39m=\u001b[39;49m\u001b[39mFalse\u001b[39;49;00m,\n\u001b[0;32m   3037\u001b[0m         legend\u001b[39m=\u001b[39;49mlegend,\n\u001b[0;32m   3038\u001b[0m     )\n\u001b[0;32m   3040\u001b[0m     \u001b[39m# XXX Copying a fair amount from displot, which is not ideal\u001b[39;00m\n\u001b[0;32m   3042\u001b[0m     \u001b[39mfor\u001b[39;00m var \u001b[39min\u001b[39;00m [\u001b[39m\"\u001b[39m\u001b[39mrow\u001b[39m\u001b[39m\"\u001b[39m, \u001b[39m\"\u001b[39m\u001b[39mcol\u001b[39m\u001b[39m\"\u001b[39m]:\n\u001b[0;32m   3043\u001b[0m         \u001b[39m# Handle faceting variables that lack name information\u001b[39;00m\n",
      "File \u001b[1;32mc:\\Users\\LENOVO\\miniconda3\\lib\\site-packages\\seaborn\\categorical.py:66\u001b[0m, in \u001b[0;36m_CategoricalPlotterNew.__init__\u001b[1;34m(self, data, variables, order, orient, require_numeric, legend)\u001b[0m\n\u001b[0;32m     56\u001b[0m \u001b[39mdef\u001b[39;00m \u001b[39m__init__\u001b[39m(\n\u001b[0;32m     57\u001b[0m     \u001b[39mself\u001b[39m,\n\u001b[0;32m     58\u001b[0m     data\u001b[39m=\u001b[39m\u001b[39mNone\u001b[39;00m,\n\u001b[1;32m   (...)\u001b[0m\n\u001b[0;32m     63\u001b[0m     legend\u001b[39m=\u001b[39m\u001b[39m\"\u001b[39m\u001b[39mauto\u001b[39m\u001b[39m\"\u001b[39m,\n\u001b[0;32m     64\u001b[0m ):\n\u001b[1;32m---> 66\u001b[0m     \u001b[39msuper\u001b[39;49m()\u001b[39m.\u001b[39;49m\u001b[39m__init__\u001b[39;49m(data\u001b[39m=\u001b[39;49mdata, variables\u001b[39m=\u001b[39;49mvariables)\n\u001b[0;32m     68\u001b[0m     \u001b[39m# This method takes care of some bookkeeping that is necessary because the\u001b[39;00m\n\u001b[0;32m     69\u001b[0m     \u001b[39m# original categorical plots (prior to the 2021 refactor) had some rules that\u001b[39;00m\n\u001b[0;32m     70\u001b[0m     \u001b[39m# don't fit exactly into the logic of _core. It may be wise to have a second\u001b[39;00m\n\u001b[1;32m   (...)\u001b[0m\n\u001b[0;32m     75\u001b[0m     \u001b[39m# wide_structure rules in _core. If we do decide to make orient part of the\u001b[39;00m\n\u001b[0;32m     76\u001b[0m     \u001b[39m# _core variable assignment, we'll want to figure out how to express that.\u001b[39;00m\n\u001b[0;32m     77\u001b[0m     \u001b[39mif\u001b[39;00m \u001b[39mself\u001b[39m\u001b[39m.\u001b[39minput_format \u001b[39m==\u001b[39m \u001b[39m\"\u001b[39m\u001b[39mwide\u001b[39m\u001b[39m\"\u001b[39m \u001b[39mand\u001b[39;00m orient \u001b[39m==\u001b[39m \u001b[39m\"\u001b[39m\u001b[39mh\u001b[39m\u001b[39m\"\u001b[39m:\n",
      "File \u001b[1;32mc:\\Users\\LENOVO\\miniconda3\\lib\\site-packages\\seaborn\\_oldcore.py:640\u001b[0m, in \u001b[0;36mVectorPlotter.__init__\u001b[1;34m(self, data, variables)\u001b[0m\n\u001b[0;32m    635\u001b[0m \u001b[39m# var_ordered is relevant only for categorical axis variables, and may\u001b[39;00m\n\u001b[0;32m    636\u001b[0m \u001b[39m# be better handled by an internal axis information object that tracks\u001b[39;00m\n\u001b[0;32m    637\u001b[0m \u001b[39m# such information and is set up by the scale_* methods. The analogous\u001b[39;00m\n\u001b[0;32m    638\u001b[0m \u001b[39m# information for numeric axes would be information about log scales.\u001b[39;00m\n\u001b[0;32m    639\u001b[0m \u001b[39mself\u001b[39m\u001b[39m.\u001b[39m_var_ordered \u001b[39m=\u001b[39m {\u001b[39m\"\u001b[39m\u001b[39mx\u001b[39m\u001b[39m\"\u001b[39m: \u001b[39mFalse\u001b[39;00m, \u001b[39m\"\u001b[39m\u001b[39my\u001b[39m\u001b[39m\"\u001b[39m: \u001b[39mFalse\u001b[39;00m}  \u001b[39m# alt., used DefaultDict\u001b[39;00m\n\u001b[1;32m--> 640\u001b[0m \u001b[39mself\u001b[39;49m\u001b[39m.\u001b[39;49massign_variables(data, variables)\n\u001b[0;32m    642\u001b[0m \u001b[39mfor\u001b[39;00m var, \u001b[39mcls\u001b[39m \u001b[39min\u001b[39;00m \u001b[39mself\u001b[39m\u001b[39m.\u001b[39m_semantic_mappings\u001b[39m.\u001b[39mitems():\n\u001b[0;32m    643\u001b[0m \n\u001b[0;32m    644\u001b[0m     \u001b[39m# Create the mapping function\u001b[39;00m\n\u001b[0;32m    645\u001b[0m     map_func \u001b[39m=\u001b[39m partial(\u001b[39mcls\u001b[39m\u001b[39m.\u001b[39mmap, plotter\u001b[39m=\u001b[39m\u001b[39mself\u001b[39m)\n",
      "File \u001b[1;32mc:\\Users\\LENOVO\\miniconda3\\lib\\site-packages\\seaborn\\_oldcore.py:696\u001b[0m, in \u001b[0;36mVectorPlotter.assign_variables\u001b[1;34m(self, data, variables)\u001b[0m\n\u001b[0;32m    694\u001b[0m \u001b[39mif\u001b[39;00m x \u001b[39mis\u001b[39;00m \u001b[39mNone\u001b[39;00m \u001b[39mand\u001b[39;00m y \u001b[39mis\u001b[39;00m \u001b[39mNone\u001b[39;00m:\n\u001b[0;32m    695\u001b[0m     \u001b[39mself\u001b[39m\u001b[39m.\u001b[39minput_format \u001b[39m=\u001b[39m \u001b[39m\"\u001b[39m\u001b[39mwide\u001b[39m\u001b[39m\"\u001b[39m\n\u001b[1;32m--> 696\u001b[0m     plot_data, variables \u001b[39m=\u001b[39m \u001b[39mself\u001b[39m\u001b[39m.\u001b[39m_assign_variables_wideform(\n\u001b[0;32m    697\u001b[0m         data, \u001b[39m*\u001b[39m\u001b[39m*\u001b[39mvariables,\n\u001b[0;32m    698\u001b[0m     )\n\u001b[0;32m    699\u001b[0m \u001b[39melse\u001b[39;00m:\n\u001b[0;32m    700\u001b[0m     \u001b[39mself\u001b[39m\u001b[39m.\u001b[39minput_format \u001b[39m=\u001b[39m \u001b[39m\"\u001b[39m\u001b[39mlong\u001b[39m\u001b[39m\"\u001b[39m\n",
      "File \u001b[1;32mc:\\Users\\LENOVO\\miniconda3\\lib\\site-packages\\seaborn\\_oldcore.py:745\u001b[0m, in \u001b[0;36mVectorPlotter._assign_variables_wideform\u001b[1;34m(self, data, **kwargs)\u001b[0m\n\u001b[0;32m    743\u001b[0m     err \u001b[39m=\u001b[39m \u001b[39mf\u001b[39m\u001b[39m\"\u001b[39m\u001b[39mThe following variable\u001b[39m\u001b[39m{\u001b[39;00ms\u001b[39m}\u001b[39;00m\u001b[39m cannot be assigned with wide-form data: \u001b[39m\u001b[39m\"\u001b[39m\n\u001b[0;32m    744\u001b[0m     err \u001b[39m+\u001b[39m\u001b[39m=\u001b[39m \u001b[39m\"\u001b[39m\u001b[39m, \u001b[39m\u001b[39m\"\u001b[39m\u001b[39m.\u001b[39mjoin(\u001b[39mf\u001b[39m\u001b[39m\"\u001b[39m\u001b[39m`\u001b[39m\u001b[39m{\u001b[39;00mv\u001b[39m}\u001b[39;00m\u001b[39m`\u001b[39m\u001b[39m\"\u001b[39m \u001b[39mfor\u001b[39;00m v \u001b[39min\u001b[39;00m assigned)\n\u001b[1;32m--> 745\u001b[0m     \u001b[39mraise\u001b[39;00m \u001b[39mValueError\u001b[39;00m(err)\n\u001b[0;32m    747\u001b[0m \u001b[39m# Determine if the data object actually has any data in it\u001b[39;00m\n\u001b[0;32m    748\u001b[0m empty \u001b[39m=\u001b[39m data \u001b[39mis\u001b[39;00m \u001b[39mNone\u001b[39;00m \u001b[39mor\u001b[39;00m \u001b[39mnot\u001b[39;00m \u001b[39mlen\u001b[39m(data)\n",
      "\u001b[1;31mValueError\u001b[0m: The following variable cannot be assigned with wide-form data: `hue`"
     ]
    }
   ],
   "source": [
    "sns.catplot(df, \n",
    "            x_vars=[\"min_experience\",\"max_experience\"],\n",
    "            y_vars=[\"min_pay\"],\n",
    "            hue=\"industry\",\n",
    "            kind=\"swarm\",  \n",
    "            size=5,\n",
    "            aspect=0.9,\n",
    ")"
   ]
  },
  {
   "cell_type": "code",
   "execution_count": null,
   "metadata": {},
   "outputs": [
    {
     "data": {
      "text/plain": [
       "<seaborn.axisgrid.PairGrid at 0x1f1f1acb250>"
      ]
     },
     "execution_count": 35,
     "metadata": {},
     "output_type": "execute_result"
    },
    {
     "data": {
      "image/png": "[encoded data removed]",
      "text/plain": [
       "<Figure size 648x360 with 2 Axes>"
      ]
     },
     "metadata": {
      "needs_background": "light"
     },
     "output_type": "display_data"
    }
   ],
   "source": [
    "sns.pairplot(df, \n",
    "             size=5, aspect=0.9, \n",
    "             x_vars=[\"min_experience\",\"max_experience\"],\n",
    "             y_vars=[\"max_pay\"],\n",
    "             kind=\"reg\")"
   ]
  },
  {
   "cell_type": "code",
   "execution_count": null,
   "metadata": {},
   "outputs": [
    {
     "data": {
      "text/plain": [
       "<seaborn.axisgrid.JointGrid at 0x1f1f1cd8c70>"
      ]
     },
     "execution_count": 36,
     "metadata": {},
     "output_type": "execute_result"
    },
    {
     "data": {
      "image/png": "[encoded data removed]",
      "text/plain": [
       "<Figure size 432x432 with 3 Axes>"
      ]
     },
     "metadata": {
      "needs_background": "light"
     },
     "output_type": "display_data"
    }
   ],
   "source": [
    "sns.jointplot(x='avg_experience', y='avg_pay', data=df, \n",
    "              kind=\"kde\",xlim={0,15}, ylim={0,1000000})"
   ]
  },
  {
   "cell_type": "code",
   "execution_count": null,
   "metadata": {},
   "outputs": [
    {
     "data": {
      "text/plain": [
       "<AxesSubplot:xlabel='avg_experience', ylabel='avg_pay'>"
      ]
     },
     "execution_count": 37,
     "metadata": {},
     "output_type": "execute_result"
    },
    {
     "data": {
      "image/png": "[encoded data removed]",
      "text/plain": [
       "<Figure size 1080x360 with 1 Axes>"
      ]
     },
     "metadata": {
      "needs_background": "light"
     },
     "output_type": "display_data"
    }
   ],
   "source": [
    "f,ax=plt.subplots(figsize=(15,5))\n",
    "sns.stripplot(x='avg_experience', y='avg_pay', data=df, jitter=True)"
   ]
  },
  {
   "cell_type": "code",
   "execution_count": null,
   "metadata": {},
   "outputs": [
    {
     "data": {
      "text/plain": [
       "<AxesSubplot:xlabel='avg_experience', ylabel='avg_pay'>"
      ]
     },
     "execution_count": 38,
     "metadata": {},
     "output_type": "execute_result"
    },
    {
     "data": {
      "image/png": "[encoded data removed]",
      "text/plain": [
       "<Figure size 1080x360 with 1 Axes>"
      ]
     },
     "metadata": {
      "needs_background": "light"
     },
     "output_type": "display_data"
    }
   ],
   "source": [
    "f,ax=plt.subplots(figsize=(15,5))\n",
    "sns.pointplot(x='avg_experience', y='avg_pay', data=df)"
   ]
  },
  {
   "cell_type": "code",
   "execution_count": null,
   "metadata": {},
   "outputs": [
    {
     "data": {
      "text/plain": [
       "<AxesSubplot:xlabel='industry'>"
      ]
     },
     "execution_count": 39,
     "metadata": {},
     "output_type": "execute_result"
    },
    {
     "data": {
      "image/png": "[encoded data removed]",
      "text/plain": [
       "<Figure size 432x288 with 1 Axes>"
      ]
     },
     "metadata": {
      "needs_background": "light"
     },
     "output_type": "display_data"
    }
   ],
   "source": [
    "df[['min_pay','industry']].groupby([\"industry\"]).median().sort_values(by='min_pay',ascending=False).head(10).plot.bar(color='lightgreen')"
   ]
  },
  {
   "cell_type": "code",
   "execution_count": null,
   "metadata": {},
   "outputs": [
    {
     "data": {
      "text/plain": [
       "<AxesSubplot:xlabel='industry'>"
      ]
     },
     "execution_count": 40,
     "metadata": {},
     "output_type": "execute_result"
    },
    {
     "data": {
      "image/png": "[encoded data removed]",
      "text/plain": [
       "<Figure size 432x288 with 1 Axes>"
      ]
     },
     "metadata": {
      "needs_background": "light"
     },
     "output_type": "display_data"
    }
   ],
   "source": [
    "df[['max_pay','industry']].groupby([\"industry\"]).median().sort_values(by='max_pay',ascending=False).head(10).plot.bar(color='lightblue')"
   ]
  },
  {
   "cell_type": "code",
   "execution_count": null,
   "metadata": {},
   "outputs": [
    {
     "ename": "AttributeError",
     "evalue": "module 'plotly.express.data' has no attribute 'naukri_com'",
     "output_type": "error",
     "traceback": [
      "\u001b[1;31m---------------------------------------------------------------------------\u001b[0m",
      "\u001b[1;31mAttributeError\u001b[0m                            Traceback (most recent call last)",
      "\u001b[1;32mc:\\Users\\LENOVO\\Documents\\prachi\\visualisation.ipynb Cell 51\u001b[0m in \u001b[0;36m<cell line: 1>\u001b[1;34m()\u001b[0m\n\u001b[1;32m----> <a href='vscode-notebook-cell:/c%3A/Users/LENOVO/Documents/prachi/visualisation.ipynb#Y101sZmlsZQ%3D%3D?line=0'>1</a>\u001b[0m sar\u001b[39m=\u001b[39mpx\u001b[39m.\u001b[39;49mdata\u001b[39m.\u001b[39;49mnaukri_com\u001b[39m-\u001b[39mjob_sample\u001b[39m.\u001b[39mcsv()\n\u001b[0;32m      <a href='vscode-notebook-cell:/c%3A/Users/LENOVO/Documents/prachi/visualisation.ipynb#Y101sZmlsZQ%3D%3D?line=1'>2</a>\u001b[0m px\u001b[39m.\u001b[39mscatter_3d(df[[\u001b[39m'\u001b[39m\u001b[39mavg_pay\u001b[39m\u001b[39m'\u001b[39m,\u001b[39m'\u001b[39m\u001b[39mskills\u001b[39m\u001b[39m'\u001b[39m]]\u001b[39m.\u001b[39mgroupby([\u001b[39m\"\u001b[39m\u001b[39mskills\u001b[39m\u001b[39m\"\u001b[39m])\u001b[39m.\u001b[39mmedian()\u001b[39m.\u001b[39msort_values(by\u001b[39m=\u001b[39m\u001b[39m'\u001b[39m\u001b[39mavg_pay\u001b[39m\u001b[39m'\u001b[39m,ascending\u001b[39m=\u001b[39m\u001b[39mFalse\u001b[39;00m)\u001b[39m.\u001b[39mhead(\u001b[39m10\u001b[39m)\u001b[39m.\u001b[39mplot\u001b[39m.\u001b[39mbar(color\u001b[39m=\u001b[39m\u001b[39m'\u001b[39m\u001b[39mlightgreen\u001b[39m\u001b[39m'\u001b[39m))\n",
      "\u001b[1;31mAttributeError\u001b[0m: module 'plotly.express.data' has no attribute 'naukri_com'"
     ]
    }
   ],
   "source": [
    "sar=px.data.\n",
    "px.scatter_3d(df[['avg_pay','skills']].groupby([\"skills\"]).median().sort_values(by='avg_pay',ascending=False).head(10).plot.bar(color='lightgreen'))"
   ]
  },
  {
   "cell_type": "code",
   "execution_count": null,
   "metadata": {},
   "outputs": [
    {
     "data": {
      "text/plain": [
       "<AxesSubplot:xlabel='jobtitle'>"
      ]
     },
     "execution_count": 42,
     "metadata": {},
     "output_type": "execute_result"
    },
    {
     "data": {
      "image/png": "[encoded data removed]",
      "text/plain": [
       "<Figure size 432x288 with 1 Axes>"
      ]
     },
     "metadata": {
      "needs_background": "light"
     },
     "output_type": "display_data"
    }
   ],
   "source": [
    "df[['avg_pay','jobtitle']].groupby([\"jobtitle\"]).median().sort_values(by='avg_pay',ascending=False).head(10).plot.bar(color='y')"
   ]
  }
 ],
 "metadata": {
  "kernelspec": {
   "display_name": "py310",
   "language": "python",
   "name": "python3"
  },
  "language_info": {
   "codemirror_mode": {
    "name": "ipython",
    "version": 3
   },
   "file_extension": ".py",
   "mimetype": "text/x-python",
   "name": "python",
   "nbconvert_exporter": "python",
   "pygments_lexer": "ipython3",
   "version": "3.9.12"
  },
  "orig_nbformat": 4
 },
 "nbformat": 4,
 "nbformat_minor": 2
}
